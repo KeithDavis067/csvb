{
 "cells": [
  {
   "cell_type": "code",
   "execution_count": 1,
   "id": "fd0ecc0c-3472-47cb-bb01-f11f1bf6bf90",
   "metadata": {},
   "outputs": [],
   "source": [
    "import pandas as pd\n",
    "import numpy as np\n",
    "import pathlib\n",
    "import datetime\n",
    "from datetime import datetime, timedelta, date\n",
    "from rich import print\n",
    "from collections import namedtuple\n",
    "from dataclasses import dataclass, asdict\n",
    "import operator\n",
    "import tomllib\n",
    "import tomlkit as tml\n",
    "import json\n",
    "import xarray as xr\n",
    "from csvb.ingest import apply_rule, sel_factory, ApplyOp, SelectOp, AOP, SOP, Rule, to_transactions, strip_currency\n",
    "import plotly.express as px\n",
    "import plotly.graph_objects as go\n",
    "#from decimal import Decimal, getcontext\n",
    "\n",
    "#getcontext().prec = 2\n",
    "pd.options.mode.copy_on_write = True"
   ]
  },
  {
   "cell_type": "code",
   "execution_count": 2,
   "id": "92fa11fa-43b3-44ec-8d9b-9117199c0494",
   "metadata": {},
   "outputs": [],
   "source": [
    "def accounts(trans):\n",
    "    return set(trans[\"From\"]).union(set(trans[\"To\"]))\n",
    "\n",
    "def read_and_apply(df, rulepth, debug=False):\n",
    "    with open(rulepth) as f:\n",
    "        for rule in tml.load(f)[\"rules\"]:\n",
    "            if debug:\n",
    "                print(rule)\n",
    "            apply_rule(Rule(**rule), df)\n",
    "    return df\n",
    "    "
   ]
  },
  {
   "cell_type": "code",
   "execution_count": 3,
   "id": "d841b9f8-b688-4ecb-9838-786d86523b1d",
   "metadata": {},
   "outputs": [
    {
     "data": {
      "text/plain": [
       "{'title': 'csvb config',\n",
       " 'paths': {'path': 'als/csvbdata/',\n",
       "  'bank': 'als/csvbdata/bank',\n",
       "  'products': 'als/csvbdata/products/',\n",
       "  'rules': 'als/csvbdata/rules/'}}"
      ]
     },
     "execution_count": 3,
     "metadata": {},
     "output_type": "execute_result"
    }
   ],
   "source": [
    "home = pathlib.Path.home()\n",
    "cfgpth = home / \".config\" / \"csvb\" / \"config.toml\"\n",
    "with open(cfgpth, 'rb') as f:\n",
    "    cfg = tomllib.load(f)\n",
    "cfg"
   ]
  },
  {
   "cell_type": "code",
   "execution_count": 4,
   "id": "2c8f945d-6eb5-4fda-9882-e59e05f3b858",
   "metadata": {},
   "outputs": [
    {
     "name": "stdout",
     "output_type": "stream",
     "text": [
      "Rule(select=[SelectOp(op='contains', column='Merchant', a='None', b='Banana Republic')], apply=[ApplyOp(op='assign', column='From', b='Expenses:Clothing')])\n",
      "Rule(select=[SelectOp(op='contains', column='Merchant', a='None', b='Apple Services')], apply=[ApplyOp(op='assign', column='From', b='Expenses:Subscription')])\n",
      "Rule(select=[SelectOp(op='contains', column='Merchant', a='None', b='Phillips 66')], apply=[ApplyOp(op='assign', column='From', b='Expenses:Auto:Gas')])\n",
      "Rule(select=[SelectOp(op='contains', column='Merchant', a='None', b='Ridge Wallet')], apply=[ApplyOp(op='assign', column='From', b='Expenses:Gear')])\n",
      "Rule(select=[SelectOp(op='contains', column='Merchant', a='None', b=\"Martin's Supermarket\")], apply=[ApplyOp(op='assign', column='From', b='Expenses:Groceries')])\n",
      "Rule(select=[SelectOp(op='contains', column='Merchant', a='None', b='Apple Cash Payment')], apply=[ApplyOp(op='assign', column='From', b='Income:Apple Cash')])\n",
      "Rule(select=[SelectOp(op='contains', column='Merchant', a='None', b='Hulu')], apply=[ApplyOp(op='assign', column='From', b='Expenses:Entertainment')])\n",
      "Rule(select=[SelectOp(op='contains', column='Merchant', a='None', b='Trade Coffee CO')], apply=[ApplyOp(op='assign', column='From', b='Expenses:Groceries')])\n",
      "Rule(select=[SelectOp(op='contains', column='Merchant', a='None', b='Beacon Med')], apply=[ApplyOp(op='assign', column='From', b='Expenses:Medical:Body')])\n",
      "Rule(select=[SelectOp(op='contains', column='Merchant', a='None', b='South Bend Clinic')], apply=[ApplyOp(op='assign', column='From', b='Expenses:Medical:Body')])\n",
      "Rule(select=[SelectOp(op='contains', column='Merchant', a='None', b='WMMH')], apply=[ApplyOp(op='assign', column='From', b='Expenses:Entertainment:Self')])\n",
      "Rule(select=[SelectOp(op='contains', column='Merchant', a='None', b='Account Ending In 8785')], apply=[ApplyOp(op='assign', column='From', b='Assets:1st Source:Checking')])\n",
      "Rule(select=[SelectOp(op='contains', column='Merchant', a='None', b='bookshop.org')], apply=[ApplyOp(op='assign', column='From', b='Expenses:Study')])\n",
      "Rule(select=[SelectOp(op='contains', column='Merchant', a='None', b='Patreon')], apply=[ApplyOp(op='assign', column='From', b='Expenses:Entertainment')])\n",
      "Rule(select=[SelectOp(op='contains', column='Merchant', a='None', b='Monthly Installments')], apply=[ApplyOp(op='assign', column='From', b='Liabilities:Apple:Installments')])\n",
      "Rule(select=[SelectOp(op='contains', column='Category', a='None', b='Tolls')], apply=[ApplyOp(op='assign', column='From', b='Expenses:Auto:Tolls')])\n",
      "Rule(select=[SelectOp(op='contains', column='Merchant', a='None', b='Kobo')], apply=[ApplyOp(op='assign', column='From', b='Expenses:Entertainment:Reading')])\n",
      "Rule(select=[SelectOp(op='contains', column='Merchant', a='None', b='Vtsup.com')], apply=[ApplyOp(op='assign', column='From', b='Expenses:Entertainment:Self')])\n",
      "Rule(select=[SelectOp(op='contains', column='Merchant', a='None', b='City Of South Bend')], apply=[ApplyOp(op='assign', column='From', b='Expenses:Utilities')])\n",
      "Rule(select=[SelectOp(op='contains', column='Merchant', a='None', b='Andrasi')], apply=[ApplyOp(op='assign', column='From', b='Expenses:Home:Cleaning')])\n",
      "Rule(select=[SelectOp(op='contains', column='Merchant', a='None', b='Parlevel Texas')], apply=[ApplyOp(op='assign', column='From', b='Expenses:Restaurants')])\n",
      "Rule(select=[SelectOp(op='contains', column='Merchant', a='None', b='Gannett Newsprpr')], apply=[ApplyOp(op='assign', column='From', b='Expenses:Utilities')])\n",
      "Rule(select=[SelectOp(op='contains', column='Description', a='None', b='ABEBOOKS')], apply=[ApplyOp(op='assign', column='From', b='Expenses:Study')])\n"
     ]
    }
   ],
   "source": [
    "try:\n",
    "    del apl\n",
    "except NameError:\n",
    "    pass\n",
    "\n",
    "apl = pd.read_csv(home / pathlib.Path(cfg[\"paths\"][\"bank\"]) / \"Jan-2024_Apple_CC.csv\",\n",
    "                    header=0, parse_dates=[\"Transaction Date\", \"Clearing Date\"])\n",
    "\n",
    "apl = apl.rename(columns={\"Amount (USD)\": \"Amount\"})\n",
    "apl[\"Amount\"] = -1 * apl[\"Amount\"]\n",
    "apl[\"From\"] = \"\"\n",
    "\n",
    "apl = read_and_apply(apl, home / cfg[\"paths\"][\"rules\"] / \"aplrules.toml\")\n",
    "#apl"
   ]
  },
  {
   "cell_type": "code",
   "execution_count": 5,
   "id": "85e2e6e2-33d9-44e5-9330-0cc3fd7c488c",
   "metadata": {},
   "outputs": [
    {
     "name": "stdout",
     "output_type": "stream",
     "text": [
      "Rule(select=[SelectOp(op='contains', column='Description', a='None', b='crossfit south'), SelectOp(op=<built-in function ne>, column='Amount', a='None', b=-225.0)], apply=[ApplyOp(op='assign', column='From', b='Expenses:Groceries')])\n",
      "Rule(select=[SelectOp(op='contains', column='Description', a='None', b='APPLE STOR'), SelectOp(op=<built-in function eq>, column='Amount', a='None', b=481.4)], apply=[ApplyOp(op='assign', column='From', b='Transfer:Apple:Installments')])\n",
      "Rule(select=[SelectOp(op='contains', column='Description', a='None', b='crossfit south'), SelectOp(op=<built-in function eq>, column='Amount', a='None', b=-225.0)], apply=[ApplyOp(op='assign', column='From', b='Expenses:Fitness:ID')])\n",
      "Rule(select=[SelectOp(op='contains', column='Description', a='None', b='INDIGO GARDENS')], apply=[ApplyOp(op='assign', column='From', b='Expenses:Home:Maintenance')])\n",
      "Rule(select=[SelectOp(op='contains', column='Description', a='None', b='ND PAYROLL')], apply=[ApplyOp(op='assign', column='From', b='Income:Notre Dame:Regular')])\n",
      "Rule(select=[SelectOp(op='contains', column='Description', a='None', b='INTEREST PAYMENT')], apply=[ApplyOp(op='assign', column='From', b='Income:Interest')])\n",
      "Rule(select=[SelectOp(op='contains', column='Description', a='None', b='NIPSCO')], apply=[ApplyOp(op='assign', column='From', b='Expenses:Utilities')])\n",
      "Rule(select=[SelectOp(op='contains', column='Description', a='None', b='AEP')], apply=[ApplyOp(op='assign', column='From', b='Expenses:Utilities')])\n",
      "Rule(select=[SelectOp(op='contains', column='Description', a='None', b='ALLY BANK \\\\$TRANSFER')], apply=[ApplyOp(op='assign', column='From', b='Transfer:Ally:Savings')])\n",
      "Rule(select=[SelectOp(op='contains', column='Description', a='None', b='VERIZON')], apply=[ApplyOp(op='assign', column='From', b='Expenses:Utilities')])\n",
      "Rule(select=[SelectOp(op='contains', column='Description', a='None', b='VENMO PAYMENT'), SelectOp(op=<built-in function eq>, column='Date', a='None', b=DateTime(2023, 12, 19, 0, 0))], apply=[ApplyOp(op='assign', column='From', b='Expenses:Pet:Care')])\n",
      "Rule(select=[SelectOp(op='contains', column='Description', a='None', b='KEITH W DAVIS P2P')], apply=[ApplyOp(op='assign', column='From', b='Transfer:Ally:Savings')])\n",
      "Rule(select=[SelectOp(op='contains', column='Description', a='None', b='DOVENMUEHLE MTG MORTG PYMT')], apply=[ApplyOp(op='assign', column='From', b='Expenses:Home:Mortgage')])\n",
      "Rule(select=[SelectOp(op='contains', column='Description', a='None', b='STATE FARM')], apply=[ApplyOp(op='assign', column='From', b='Expenses:Auto:Insurance')])\n",
      "Rule(select=[SelectOp(op='contains', column='Description', a=None, b='APPLECARD GSBANK PAYMENT')], apply=[ApplyOp(op='assign', column='From', b='Transfer:Apple:Credit Card')])\n",
      "Rule(select=[SelectOp(op='contains', column='Description', a=None, b='Notre Dame FCU - TRANSFER')], apply=[ApplyOp(op='assign', column='From', b='Transfer:NDFCU:Credit Card')])\n",
      "Rule(select=[SelectOp(op='contains', column='Description', a=None, b='UNIV ND DU LAC PAYROLL')], apply=[ApplyOp(op='assign', column='From', b='Income:Notre Dame:Regular')])\n",
      "Rule(select=[SelectOp(op='contains', column='Description', a='None', b='VENMO PAYMENT'), SelectOp(op=<built-in function eq>, column='Date', a='None', b=DateTime(2024, 1, 3, 0, 0))], apply=[ApplyOp(op='assign', column='From', b='Expenses:Gifts')])\n",
      "Rule(select=[SelectOp(op='contains', column='Description', a='None', b='VENMO PAYMENT'), SelectOp(op=<built-in function eq>, column='Date', a='None', b=DateTime(2022, 10, 25, 0, 0))], apply=[ApplyOp(op='assign', column='From', b='Expenses:Pet:Care')])\n",
      "Rule(select=[SelectOp(op='contains', column='Description', a='None', b='VENMO PAYMENT'), SelectOp(op=<built-in function eq>, column='Date', a='None', b=DateTime(2022, 12, 22, 0, 0))], apply=[ApplyOp(op='assign', column='From', b='Expenses:Pet:Care')])\n",
      "Rule(select=[SelectOp(op='contains', column='Description', a='None', b='VENMO PAYMENT'), SelectOp(op=<built-in function eq>, column='Date', a='None', b=DateTime(2023, 6, 13, 0, 0))], apply=[ApplyOp(op='assign', column='From', b='Expenses:Pet:Care')])\n",
      "Rule(select=[SelectOp(op='contains', column='Description', a='None', b='VENMO PAYMENT'), SelectOp(op=<built-in function eq>, column='Date', a='None', b=DateTime(2023, 6, 28, 0, 0))], apply=[ApplyOp(op='assign', column='From', b='Expenses:Pet:Care')])\n",
      "Rule(select=[SelectOp(op='contains', column='Description', a='None', b='VENMO PAYMENT'), SelectOp(op=<built-in function eq>, column='Date', a='None', b=DateTime(2023, 11, 29, 0, 0))], apply=[ApplyOp(op='assign', column='From', b='Expenses:Pet:Care')])\n",
      "Rule(select=[SelectOp(op='contains', column='Description', a='None', b='VENMO PAYMENT'), SelectOp(op=<built-in function eq>, column='Date', a='None', b=DateTime(2023, 9, 7, 0, 0))], apply=[ApplyOp(op='assign', column='From', b='Expenses:Groceries')])\n",
      "Rule(select=[SelectOp(op='contains', column='Description', a='None', b='CONSUMERRE')], apply=[ApplyOp(op='assign', column='From', b='Expenses:Utilities')])\n",
      "Rule(select=[SelectOp(op='contains', column='Description', a='None', b='ATM')], apply=[ApplyOp(op='assign', column='From', b='Expenses:Cash')])\n",
      "Rule(select=[SelectOp(op='contains', column='Description', a='None', b='MOBILE DEPOSIT')], apply=[ApplyOp(op='assign', column='From', b='Expenses:Reimbursable')])\n",
      "Rule(select=[SelectOp(op='contains', column='Description', a='None', b='INDIANA BMV')], apply=[ApplyOp(op='assign', column='From', b='Expenses:Auto:Registration')])\n",
      "Rule(select=[SelectOp(op='contains', column='Description', a='None', b='TAX REF')], apply=[ApplyOp(op='assign', column='From', b='Income:Taxes')])\n",
      "Rule(select=[SelectOp(op='contains', column='Description', a='None', b='ND ACCTS PAYABLE TE REIM')], apply=[ApplyOp(op='assign', column='From', b='Expenses:Reimbursable')])\n",
      "Rule(select=[SelectOp(op=<built-in function eq>, column='Date', a='None', b=DateTime(2023, 1, 20, 0, 0)), SelectOp(op='contains', column='Description', a='None', b='DEPOSIT')], apply=[ApplyOp(op='assign', column='From', b='Expenses:Reimbursable')])\n",
      "Rule(select=[SelectOp(op=<built-in function eq>, column='Date', a='None', b=DateTime(2023, 1, 4, 0, 0)), SelectOp(op='contains', column='Description', a='None', b='CHECK')], apply=[ApplyOp(op='assign', column='From', b='Expenses:Home:Maintenance')])\n",
      "Rule(select=[SelectOp(op=<built-in function eq>, column='Date', a='None', b=DateTime(2022, 12, 14, 0, 0)), SelectOp(op='contains', column='Description', a='None', b='CHECK')], apply=[ApplyOp(op='assign', column='From', b='Expenses:Home:Maintenance')])\n",
      "Rule(select=[SelectOp(op=<built-in function eq>, column='Date', a='None', b=DateTime(2023, 3, 22, 0, 0)), SelectOp(op='contains', column='Description', a='None', b='DEPOSIT')], apply=[ApplyOp(op='assign', column='From', b='Expenses:Reimbursable')])\n",
      "Rule(select=[SelectOp(op='contains', column='Description', a='None', b='AUDI FINCL')], apply=[ApplyOp(op='assign', column='From', b='Transfer:Auto:Loan')])\n",
      "Rule(select=[SelectOp(op='contains', column='Description', a='None', b='TAXPAYER REFUND')], apply=[ApplyOp(op='assign', column='From', b='Income:Taxes')])\n",
      "Rule(select=[SelectOp(op='contains', column='Memo', a='None', b='New AC')], apply=[ApplyOp(op='assign', column='From', b='Expenses:Home:Repairs')])\n",
      "Rule(select=[SelectOp(op='contains', column='Description', a='None', b='VENMO PAYMENT'), SelectOp(op=<built-in function eq>, column='Date', a='None', b=DateTime(2022, 2, 11, 0, 0))], apply=[ApplyOp(op='assign', column='From', b='Expenses:Pet:Care')])\n",
      "Rule(select=[SelectOp(op=<built-in function eq>, column='Date', a='None', b=DateTime(2022, 5, 16, 0, 0)), SelectOp(op='contains', column='Description', a='None', b='VENMO PAYMENT')], apply=[ApplyOp(op='assign', column='From', b='Expenses:Fitness:Equipment')])\n"
     ]
    },
    {
     "data": {
      "text/html": [
       "<div>\n",
       "<style scoped>\n",
       "    .dataframe tbody tr th:only-of-type {\n",
       "        vertical-align: middle;\n",
       "    }\n",
       "\n",
       "    .dataframe tbody tr th {\n",
       "        vertical-align: top;\n",
       "    }\n",
       "\n",
       "    .dataframe thead th {\n",
       "        text-align: right;\n",
       "    }\n",
       "</style>\n",
       "<table border=\"1\" class=\"dataframe\">\n",
       "  <thead>\n",
       "    <tr style=\"text-align: right;\">\n",
       "      <th></th>\n",
       "      <th>Transaction Number</th>\n",
       "      <th>Date</th>\n",
       "      <th>Description</th>\n",
       "      <th>Memo</th>\n",
       "      <th>Amount Debit</th>\n",
       "      <th>Amount Credit</th>\n",
       "      <th>Balance</th>\n",
       "      <th>Check Number</th>\n",
       "      <th>Fees</th>\n",
       "      <th>Amount</th>\n",
       "      <th>From</th>\n",
       "    </tr>\n",
       "  </thead>\n",
       "  <tbody>\n",
       "    <tr>\n",
       "      <th>0</th>\n",
       "      <td>NaN</td>\n",
       "      <td>2021-12-31</td>\n",
       "      <td>Initial Balance</td>\n",
       "      <td>Manual KWD</td>\n",
       "      <td>NaN</td>\n",
       "      <td>5067.54</td>\n",
       "      <td>5067.54</td>\n",
       "      <td>NaN</td>\n",
       "      <td>NaN</td>\n",
       "      <td>5067.54</td>\n",
       "      <td></td>\n",
       "    </tr>\n",
       "    <tr>\n",
       "      <th>56</th>\n",
       "      <td>20220520000000[-5:EST]*481.50*542**DDA RTN APP...</td>\n",
       "      <td>2022-05-20</td>\n",
       "      <td>DDA RTN APPLE STOR</td>\n",
       "      <td>6501 N. GRAPE ROAD MISHAWAKA IN 214015264080</td>\n",
       "      <td>NaN</td>\n",
       "      <td>481.50</td>\n",
       "      <td>2136.48</td>\n",
       "      <td>NaN</td>\n",
       "      <td>NaN</td>\n",
       "      <td>481.50</td>\n",
       "      <td></td>\n",
       "    </tr>\n",
       "  </tbody>\n",
       "</table>\n",
       "</div>"
      ],
      "text/plain": [
       "                                   Transaction Number       Date  \\\n",
       "0                                                 NaN 2021-12-31   \n",
       "56  20220520000000[-5:EST]*481.50*542**DDA RTN APP... 2022-05-20   \n",
       "\n",
       "           Description                                          Memo  \\\n",
       "0      Initial Balance                                    Manual KWD   \n",
       "56  DDA RTN APPLE STOR  6501 N. GRAPE ROAD MISHAWAKA IN 214015264080   \n",
       "\n",
       "    Amount Debit  Amount Credit  Balance  Check Number  Fees     Amount From  \n",
       "0            NaN        5067.54  5067.54           NaN     NaN  5067.54       \n",
       "56           NaN         481.50  2136.48           NaN     NaN   481.50       "
      ]
     },
     "execution_count": 5,
     "metadata": {},
     "output_type": "execute_result"
    }
   ],
   "source": [
    "try:\n",
    "    del fst\n",
    "except NameError:\n",
    "    pass\n",
    "\n",
    "fst = pd.read_csv(home / pathlib.Path(cfg[\"paths\"][\"bank\"]) / \"Jan-2024_1st.csv\",\n",
    "                    header=3, parse_dates=[\"Date\"])\n",
    "\n",
    "fst_old = pd.read_csv(home / pathlib.Path(cfg[\"paths\"][\"bank\"]) / \"2021-2023_1st_source.csv\",\n",
    "                    header=3, parse_dates=[\"Date\"])\n",
    "\n",
    "fst_older = pd.read_csv(home / pathlib.Path(cfg[\"paths\"][\"bank\"]) / \"2021-2022_1st_source.csv\",\n",
    "                    header=3, parse_dates=[\"Date\"])\n",
    "\n",
    "fst = pd.concat([fst, fst_old, fst_older])\n",
    "\n",
    "fst[\"Amount\"] = np.nansum([fst[\"Amount Credit\"],fst[\"Amount Debit\"]], axis=0)\n",
    "fst[\"From\"] = \"\"\n",
    "\n",
    "fst = read_and_apply(fst, home / cfg[\"paths\"][\"rules\"] / \"fstrules.toml\")\n",
    "fst[fst[\"From\"] == \"\"]"
   ]
  },
  {
   "cell_type": "code",
   "execution_count": 6,
   "id": "360545a8-66f7-43c5-a112-25fb1d421c5a",
   "metadata": {},
   "outputs": [],
   "source": [
    "try:\n",
    "    del ally\n",
    "except NameError:\n",
    "    pass\n",
    ":q\n",
    "ally = pd.read_csv(home / pathlib.Path(cfg[\"paths\"][\"bank\"]) / \"Jan-2024_Ally.csv\",\n",
    "                    header=0, parse_dates=[\"Date\"])\n",
    "\n",
    "ally[\"From\"] = \"\"\n",
    "ally = ally.rename(columns=dict(zip(ally.columns, [c.strip() for c in ally.columns])))\n",
    "\n",
    "ally = read_and_apply(ally, home / cfg[\"paths\"][\"rules\"] / \"allyrules.toml\")\n",
    "#ally"
   ]
  },
  {
   "cell_type": "code",
   "execution_count": 7,
   "id": "cd41b554-4193-4511-8330-29a92c0b6d00",
   "metadata": {},
   "outputs": [],
   "source": [
    "try:\n",
    "    del ndfcu\n",
    "except NameError:\n",
    "    pass\n",
    "\n",
    "ndfcu = pd.read_csv(home / pathlib.Path(cfg[\"paths\"][\"bank\"]) / \"Jan-2024_NDFCU_CC.csv\",\n",
    "                    header=0, names=[\"Date\", \"Note\", \"Description\", \"Amount\", \"Balance\"],\n",
    "                    parse_dates=[\"Date\"])\n",
    "\n",
    "ndfcu[\"From\"] = \"\"\n",
    "ndfcu[\"Amount\"] = ndfcu[\"Amount\"].apply(strip_currency).astype(float)\n",
    "#ndfcu = ally.rename(columns=dict(zip(ally.columns, [c.strip() for c in ally.columns])))\n",
    "ndfcu = read_and_apply(ndfcu, home / cfg[\"paths\"][\"rules\"] / \"ndfcurules.toml\")\n",
    "#ndfcu"
   ]
  },
  {
   "cell_type": "code",
   "execution_count": 10,
   "id": "acc38ffd-2633-426f-a8b6-90c5662555c1",
   "metadata": {},
   "outputs": [
    {
     "data": {
      "text/html": [
       "<div>\n",
       "<style scoped>\n",
       "    .dataframe tbody tr th:only-of-type {\n",
       "        vertical-align: middle;\n",
       "    }\n",
       "\n",
       "    .dataframe tbody tr th {\n",
       "        vertical-align: top;\n",
       "    }\n",
       "\n",
       "    .dataframe thead th {\n",
       "        text-align: right;\n",
       "    }\n",
       "</style>\n",
       "<table border=\"1\" class=\"dataframe\">\n",
       "  <thead>\n",
       "    <tr style=\"text-align: right;\">\n",
       "      <th></th>\n",
       "      <th>Date</th>\n",
       "      <th>Description</th>\n",
       "      <th>Amount</th>\n",
       "      <th>From</th>\n",
       "      <th>To</th>\n",
       "    </tr>\n",
       "  </thead>\n",
       "  <tbody>\n",
       "    <tr>\n",
       "      <th>0</th>\n",
       "      <td>2022-09-26</td>\n",
       "      <td>ATM W/D 1ST SOURCE</td>\n",
       "      <td>-100.00</td>\n",
       "      <td>Expenses:Cash</td>\n",
       "      <td>Assets:1st Source:Checking</td>\n",
       "    </tr>\n",
       "    <tr>\n",
       "      <th>1</th>\n",
       "      <td>2022-09-26</td>\n",
       "      <td>crossfit south b crossfit s</td>\n",
       "      <td>-225.00</td>\n",
       "      <td>Expenses:Groceries</td>\n",
       "      <td>Assets:1st Source:Checking</td>\n",
       "    </tr>\n",
       "    <tr>\n",
       "      <th>2</th>\n",
       "      <td>2022-09-30</td>\n",
       "      <td>ND PAYROLL PAYROLL</td>\n",
       "      <td>5160.66</td>\n",
       "      <td>Income:Notre Dame:Regular</td>\n",
       "      <td>Assets:1st Source:Checking</td>\n",
       "    </tr>\n",
       "    <tr>\n",
       "      <th>3</th>\n",
       "      <td>2022-09-30</td>\n",
       "      <td>APPLECARD GSBANK PAYMENT</td>\n",
       "      <td>-4397.88</td>\n",
       "      <td>Transfer:Apple:Credit Card</td>\n",
       "      <td>Assets:1st Source:Checking</td>\n",
       "    </tr>\n",
       "    <tr>\n",
       "      <th>4</th>\n",
       "      <td>2022-10-03</td>\n",
       "      <td>DOVENMUEHLE MTG MORTG PYMT</td>\n",
       "      <td>-702.96</td>\n",
       "      <td>Expenses:Home:Mortgage</td>\n",
       "      <td>Assets:1st Source:Checking</td>\n",
       "    </tr>\n",
       "    <tr>\n",
       "      <th>...</th>\n",
       "      <td>...</td>\n",
       "      <td>...</td>\n",
       "      <td>...</td>\n",
       "      <td>...</td>\n",
       "      <td>...</td>\n",
       "    </tr>\n",
       "    <tr>\n",
       "      <th>300</th>\n",
       "      <td>2024-01-31</td>\n",
       "      <td>MONTHLY INSTALLMENTS (21 OF 24)</td>\n",
       "      <td>-54.12</td>\n",
       "      <td>Liabilities:Apple:Installments</td>\n",
       "      <td>Liabilities:Apple:Credit Card</td>\n",
       "    </tr>\n",
       "    <tr>\n",
       "      <th>301</th>\n",
       "      <td>2024-01-31</td>\n",
       "      <td>MONTHLY INSTALLMENTS (21 OF 24)</td>\n",
       "      <td>-8.29</td>\n",
       "      <td>Liabilities:Apple:Installments</td>\n",
       "      <td>Liabilities:Apple:Credit Card</td>\n",
       "    </tr>\n",
       "    <tr>\n",
       "      <th>302</th>\n",
       "      <td>2024-01-31</td>\n",
       "      <td>APPLE CASH PAYMENT</td>\n",
       "      <td>40.45</td>\n",
       "      <td>Income:Apple Cash</td>\n",
       "      <td>Liabilities:Apple:Credit Card</td>\n",
       "    </tr>\n",
       "    <tr>\n",
       "      <th>303</th>\n",
       "      <td>2024-01-31</td>\n",
       "      <td>ND PAYROLL PAYROLL</td>\n",
       "      <td>5335.70</td>\n",
       "      <td>Income:Notre Dame:Regular</td>\n",
       "      <td>Assets:1st Source:Checking</td>\n",
       "    </tr>\n",
       "    <tr>\n",
       "      <th>305</th>\n",
       "      <td>2024-02-09</td>\n",
       "      <td>Requested transfer from KEITH W DAVIS Ally Ban...</td>\n",
       "      <td>600.00</td>\n",
       "      <td>Transfer:Ally:Savings</td>\n",
       "      <td>Assets:Ally:Savings</td>\n",
       "    </tr>\n",
       "  </tbody>\n",
       "</table>\n",
       "<p>306 rows × 5 columns</p>\n",
       "</div>"
      ],
      "text/plain": [
       "          Date                                        Description   Amount  \\\n",
       "0   2022-09-26                                 ATM W/D 1ST SOURCE  -100.00   \n",
       "1   2022-09-26                        crossfit south b crossfit s  -225.00   \n",
       "2   2022-09-30                                 ND PAYROLL PAYROLL  5160.66   \n",
       "3   2022-09-30                           APPLECARD GSBANK PAYMENT -4397.88   \n",
       "4   2022-10-03                         DOVENMUEHLE MTG MORTG PYMT  -702.96   \n",
       "..         ...                                                ...      ...   \n",
       "300 2024-01-31                    MONTHLY INSTALLMENTS (21 OF 24)   -54.12   \n",
       "301 2024-01-31                    MONTHLY INSTALLMENTS (21 OF 24)    -8.29   \n",
       "302 2024-01-31                                 APPLE CASH PAYMENT    40.45   \n",
       "303 2024-01-31                                 ND PAYROLL PAYROLL  5335.70   \n",
       "305 2024-02-09  Requested transfer from KEITH W DAVIS Ally Ban...   600.00   \n",
       "\n",
       "                               From                             To  \n",
       "0                     Expenses:Cash     Assets:1st Source:Checking  \n",
       "1                Expenses:Groceries     Assets:1st Source:Checking  \n",
       "2         Income:Notre Dame:Regular     Assets:1st Source:Checking  \n",
       "3        Transfer:Apple:Credit Card     Assets:1st Source:Checking  \n",
       "4            Expenses:Home:Mortgage     Assets:1st Source:Checking  \n",
       "..                              ...                            ...  \n",
       "300  Liabilities:Apple:Installments  Liabilities:Apple:Credit Card  \n",
       "301  Liabilities:Apple:Installments  Liabilities:Apple:Credit Card  \n",
       "302               Income:Apple Cash  Liabilities:Apple:Credit Card  \n",
       "303       Income:Notre Dame:Regular     Assets:1st Source:Checking  \n",
       "305           Transfer:Ally:Savings            Assets:Ally:Savings  \n",
       "\n",
       "[306 rows x 5 columns]"
      ]
     },
     "execution_count": 10,
     "metadata": {},
     "output_type": "execute_result"
    }
   ],
   "source": [
    "bank_tables = {\"Assets:1st Source:Checking\": fst,\n",
    "               \"Liabilities:Apple:Credit Card\": apl.rename(columns={\"Transaction Date\": \"Date\"}),\n",
    "              \"Assets:Ally:Savings\": ally,\n",
    "              \"Liabilities:NDFCU:Credit Card\": ndfcu}\n",
    "\n",
    "\n",
    "trans = to_transactions(bank_tables)\n",
    "trans.sort_values(\"Date\")"
   ]
  },
  {
   "cell_type": "code",
   "execution_count": 30,
   "id": "c5829955-a10a-432a-9827-efd804ebbbc2",
   "metadata": {},
   "outputs": [
    {
     "data": {
      "text/html": [
       "<div>\n",
       "<style scoped>\n",
       "    .dataframe tbody tr th:only-of-type {\n",
       "        vertical-align: middle;\n",
       "    }\n",
       "\n",
       "    .dataframe tbody tr th {\n",
       "        vertical-align: top;\n",
       "    }\n",
       "\n",
       "    .dataframe thead th {\n",
       "        text-align: right;\n",
       "    }\n",
       "</style>\n",
       "<table border=\"1\" class=\"dataframe\">\n",
       "  <thead>\n",
       "    <tr style=\"text-align: right;\">\n",
       "      <th></th>\n",
       "      <th>Date</th>\n",
       "      <th>Account</th>\n",
       "      <th>Statement Balance</th>\n",
       "    </tr>\n",
       "  </thead>\n",
       "  <tbody>\n",
       "    <tr>\n",
       "      <th>0</th>\n",
       "      <td>2022-12-31</td>\n",
       "      <td>Liabilities:NDFCU:Credit Card</td>\n",
       "      <td>-76.69</td>\n",
       "    </tr>\n",
       "    <tr>\n",
       "      <th>1</th>\n",
       "      <td>2023-11-30</td>\n",
       "      <td>Liabilities:NDFCU:Credit Card</td>\n",
       "      <td>-2085.08</td>\n",
       "    </tr>\n",
       "    <tr>\n",
       "      <th>2</th>\n",
       "      <td>2023-10-31</td>\n",
       "      <td>Liabilities:NDFCU:Credit Card</td>\n",
       "      <td>-2492.89</td>\n",
       "    </tr>\n",
       "    <tr>\n",
       "      <th>3</th>\n",
       "      <td>2023-09-30</td>\n",
       "      <td>Liabilities:NDFCU:Credit Card</td>\n",
       "      <td>-1581.47</td>\n",
       "    </tr>\n",
       "    <tr>\n",
       "      <th>4</th>\n",
       "      <td>2023-08-31</td>\n",
       "      <td>Liabilities:NDFCU:Credit Card</td>\n",
       "      <td>-69.79</td>\n",
       "    </tr>\n",
       "    <tr>\n",
       "      <th>5</th>\n",
       "      <td>2023-07-31</td>\n",
       "      <td>Liabilities:NDFCU:Credit Card</td>\n",
       "      <td>-3172.26</td>\n",
       "    </tr>\n",
       "    <tr>\n",
       "      <th>6</th>\n",
       "      <td>2023-06-30</td>\n",
       "      <td>Liabilities:NDFCU:Credit Card</td>\n",
       "      <td>-1409.14</td>\n",
       "    </tr>\n",
       "    <tr>\n",
       "      <th>7</th>\n",
       "      <td>2023-05-31</td>\n",
       "      <td>Liabilities:NDFCU:Credit Card</td>\n",
       "      <td>-351.48</td>\n",
       "    </tr>\n",
       "    <tr>\n",
       "      <th>8</th>\n",
       "      <td>2023-04-30</td>\n",
       "      <td>Liabilities:NDFCU:Credit Card</td>\n",
       "      <td>-3924.01</td>\n",
       "    </tr>\n",
       "    <tr>\n",
       "      <th>9</th>\n",
       "      <td>2023-03-31</td>\n",
       "      <td>Liabilities:NDFCU:Credit Card</td>\n",
       "      <td>-2519.52</td>\n",
       "    </tr>\n",
       "    <tr>\n",
       "      <th>10</th>\n",
       "      <td>2023-02-28</td>\n",
       "      <td>Liabilities:NDFCU:Credit Card</td>\n",
       "      <td>-885.51</td>\n",
       "    </tr>\n",
       "    <tr>\n",
       "      <th>11</th>\n",
       "      <td>2023-01-31</td>\n",
       "      <td>Liabilities:NDFCU:Credit Card</td>\n",
       "      <td>-1376.20</td>\n",
       "    </tr>\n",
       "    <tr>\n",
       "      <th>12</th>\n",
       "      <td>2023-11-30</td>\n",
       "      <td>Liabilities:Apple:Credit Card</td>\n",
       "      <td>-201.50</td>\n",
       "    </tr>\n",
       "    <tr>\n",
       "      <th>13</th>\n",
       "      <td>2023-11-30</td>\n",
       "      <td>Liabilities:Apple:Installments</td>\n",
       "      <td>-374.62</td>\n",
       "    </tr>\n",
       "    <tr>\n",
       "      <th>14</th>\n",
       "      <td>2023-10-31</td>\n",
       "      <td>Liabilities:Apple:Credit Card</td>\n",
       "      <td>-151.48</td>\n",
       "    </tr>\n",
       "    <tr>\n",
       "      <th>15</th>\n",
       "      <td>2023-10-31</td>\n",
       "      <td>Liabilities:Apple:Installments</td>\n",
       "      <td>-437.03</td>\n",
       "    </tr>\n",
       "    <tr>\n",
       "      <th>16</th>\n",
       "      <td>2024-01-30</td>\n",
       "      <td>Assets:1st Source:Checking</td>\n",
       "      <td>1297.66</td>\n",
       "    </tr>\n",
       "    <tr>\n",
       "      <th>17</th>\n",
       "      <td>2024-02-18</td>\n",
       "      <td>Assets:Ally:Savings</td>\n",
       "      <td>10330.00</td>\n",
       "    </tr>\n",
       "    <tr>\n",
       "      <th>18</th>\n",
       "      <td>2023-10-18</td>\n",
       "      <td>Assets:Ally:Savings</td>\n",
       "      <td>8793.47</td>\n",
       "    </tr>\n",
       "    <tr>\n",
       "      <th>19</th>\n",
       "      <td>2023-11-18</td>\n",
       "      <td>Assets:Ally:Savings</td>\n",
       "      <td>9425.23</td>\n",
       "    </tr>\n",
       "    <tr>\n",
       "      <th>20</th>\n",
       "      <td>2024-01-31</td>\n",
       "      <td>Assets:Fidelity:HSA</td>\n",
       "      <td>3956.09</td>\n",
       "    </tr>\n",
       "    <tr>\n",
       "      <th>21</th>\n",
       "      <td>2024-01-31</td>\n",
       "      <td>Liabilities:NDFCU:Credit Card</td>\n",
       "      <td>-1565.79</td>\n",
       "    </tr>\n",
       "    <tr>\n",
       "      <th>22</th>\n",
       "      <td>2023-11-30</td>\n",
       "      <td>Liabilities:NDFCU:Credit Card</td>\n",
       "      <td>-2085.08</td>\n",
       "    </tr>\n",
       "    <tr>\n",
       "      <th>23</th>\n",
       "      <td>2023-12-31</td>\n",
       "      <td>Liabilities:NDFCU:Credit Card</td>\n",
       "      <td>-99.77</td>\n",
       "    </tr>\n",
       "    <tr>\n",
       "      <th>24</th>\n",
       "      <td>2023-12-18</td>\n",
       "      <td>Assets:Ally:Savings</td>\n",
       "      <td>10058.08</td>\n",
       "    </tr>\n",
       "    <tr>\n",
       "      <th>25</th>\n",
       "      <td>2023-12-31</td>\n",
       "      <td>Assets:1st Source:Checking</td>\n",
       "      <td>2320.59</td>\n",
       "    </tr>\n",
       "    <tr>\n",
       "      <th>26</th>\n",
       "      <td>2024-01-18</td>\n",
       "      <td>Assets:Ally:Savings</td>\n",
       "      <td>9694.18</td>\n",
       "    </tr>\n",
       "    <tr>\n",
       "      <th>27</th>\n",
       "      <td>2024-01-18</td>\n",
       "      <td>Assets:Ally:Savings</td>\n",
       "      <td>9694.18</td>\n",
       "    </tr>\n",
       "    <tr>\n",
       "      <th>28</th>\n",
       "      <td>2023-12-31</td>\n",
       "      <td>Assets:Fidelity:HSA</td>\n",
       "      <td>3939.33</td>\n",
       "    </tr>\n",
       "    <tr>\n",
       "      <th>29</th>\n",
       "      <td>2023-12-31</td>\n",
       "      <td>Liabilities:Apple:Credit Card</td>\n",
       "      <td>-284.77</td>\n",
       "    </tr>\n",
       "    <tr>\n",
       "      <th>30</th>\n",
       "      <td>2023-12-31</td>\n",
       "      <td>Liabilities:Apple:Installments</td>\n",
       "      <td>-312.21</td>\n",
       "    </tr>\n",
       "  </tbody>\n",
       "</table>\n",
       "</div>"
      ],
      "text/plain": [
       "         Date                         Account  Statement Balance\n",
       "0  2022-12-31   Liabilities:NDFCU:Credit Card             -76.69\n",
       "1  2023-11-30   Liabilities:NDFCU:Credit Card           -2085.08\n",
       "2  2023-10-31   Liabilities:NDFCU:Credit Card           -2492.89\n",
       "3  2023-09-30   Liabilities:NDFCU:Credit Card           -1581.47\n",
       "4  2023-08-31   Liabilities:NDFCU:Credit Card             -69.79\n",
       "5  2023-07-31   Liabilities:NDFCU:Credit Card           -3172.26\n",
       "6  2023-06-30   Liabilities:NDFCU:Credit Card           -1409.14\n",
       "7  2023-05-31   Liabilities:NDFCU:Credit Card            -351.48\n",
       "8  2023-04-30   Liabilities:NDFCU:Credit Card           -3924.01\n",
       "9  2023-03-31   Liabilities:NDFCU:Credit Card           -2519.52\n",
       "10 2023-02-28   Liabilities:NDFCU:Credit Card            -885.51\n",
       "11 2023-01-31   Liabilities:NDFCU:Credit Card           -1376.20\n",
       "12 2023-11-30   Liabilities:Apple:Credit Card            -201.50\n",
       "13 2023-11-30  Liabilities:Apple:Installments            -374.62\n",
       "14 2023-10-31   Liabilities:Apple:Credit Card            -151.48\n",
       "15 2023-10-31  Liabilities:Apple:Installments            -437.03\n",
       "16 2024-01-30      Assets:1st Source:Checking            1297.66\n",
       "17 2024-02-18             Assets:Ally:Savings           10330.00\n",
       "18 2023-10-18             Assets:Ally:Savings            8793.47\n",
       "19 2023-11-18             Assets:Ally:Savings            9425.23\n",
       "20 2024-01-31             Assets:Fidelity:HSA            3956.09\n",
       "21 2024-01-31   Liabilities:NDFCU:Credit Card           -1565.79\n",
       "22 2023-11-30   Liabilities:NDFCU:Credit Card           -2085.08\n",
       "23 2023-12-31   Liabilities:NDFCU:Credit Card             -99.77\n",
       "24 2023-12-18             Assets:Ally:Savings           10058.08\n",
       "25 2023-12-31      Assets:1st Source:Checking            2320.59\n",
       "26 2024-01-18             Assets:Ally:Savings            9694.18\n",
       "27 2024-01-18             Assets:Ally:Savings            9694.18\n",
       "28 2023-12-31             Assets:Fidelity:HSA            3939.33\n",
       "29 2023-12-31   Liabilities:Apple:Credit Card            -284.77\n",
       "30 2023-12-31  Liabilities:Apple:Installments            -312.21"
      ]
     },
     "execution_count": 30,
     "metadata": {},
     "output_type": "execute_result"
    }
   ],
   "source": [
    "try:\n",
    "    del bal_decl\n",
    "except NameError:\n",
    "    pass\n",
    "\n",
    "bal_decl = pd.read_csv(home / pathlib.Path(cfg[\"paths\"][\"bank\"]) / \"balances.csv\",\n",
    "                  header=0,\n",
    "                  parse_dates=[\"Date\"])\n",
    "\n",
    "#bal_decl[\"From\"] = \"\"\n",
    "#bal[\"Amount\"] = bal[\"Amount\"].apply(strip_currency).astype(float)\n",
    "#ndfcu = ally.rename(columns=dict(zip(ally.columns, [c.strip() for c in ally.columns])))\n",
    "#bal_decl = bal_decl.sort_values(\"Date\")\n",
    "#bal_decl\n",
    "#jan_bal = bal_decl.loc[(bal_decl[\"Date\"] >= pd.Timestamp(2023, 12, 31)) &\n",
    "#                       (bal_decl[\"Date\"] <= pd.Timestamp(2024, 1, 1))\n",
    "#trans = pd.concat([trans, bal_decl])\n",
    "bal_decl"
   ]
  },
  {
   "cell_type": "code",
   "execution_count": 31,
   "id": "4b41fe1b-1737-4816-bd4c-3cfe4f6d48d5",
   "metadata": {},
   "outputs": [],
   "source": [
    "def create_ledgers(trans):\n",
    "    \"\"\" Create a ledger for each account of all from / to transactions and create balance / time column.\n",
    "    'Transaction Pair' is a terrible name, but it reminds that this is 1 half of a known transation for use\n",
    "    as a ledger of an account and running balance calculation.\n",
    "    All values appended from the \"From\" side of a transaction are reversed here, because a positive value\n",
    "    \"From\" this account subtracts from it's balance.\n",
    "    \n",
    "    \"\"\"\n",
    "    # TODO: Add an option of a start of / end of period dates. Automatically calculate balance at\n",
    "    # beginning of period.\n",
    "    # TODO: Add processing of balance assertions to allow checks and reconciliation.\n",
    "    \n",
    "    fl = trans.groupby(\"From\")\n",
    "    tl = trans.groupby(\"To\")\n",
    "    ledgers = {}\n",
    "    for acct in accounts(trans):\n",
    "        # From accounts, note the negative applied to Amount.\n",
    "        try:\n",
    "            df = pd.DataFrame(trans.loc[fl.groups[acct], [\"Date\", \"Description\", \"To\"]]).rename(columns={\"To\": \"Transaction Pair\"})\n",
    "            df[\"Incoming Amount\"] = -1 * trans.loc[fl.groups[acct], \"Amount\"]\n",
    "            ledgers[acct] = df\n",
    "        # If account is not in From group, skip.\n",
    "        except KeyError:\n",
    "            pass\n",
    "\n",
    "        # To accounts.\n",
    "\n",
    "        try:\n",
    "            df = pd.DataFrame(trans.loc[tl.groups[acct], [\"Date\", \"Description\", \"From\"]]).rename(columns={\"From\": \"Transaction Pair\"})\n",
    "            df[\"Incoming Amount\"] = trans.loc[tl.groups[acct], \"Amount\"]\n",
    "            try:\n",
    "                ledgers[acct] = pd.concat([ledgers[acct], df])\n",
    "            # If account was not also in From accounts list, don't concat.\n",
    "            except KeyError:\n",
    "                ledgers[acct] = df\n",
    "        # If account is not in list To accounts, skip.\n",
    "        except KeyError:\n",
    "            pass\n",
    "            \n",
    "        # Sort and apply cumulative sum.\n",
    "        ledgers[acct] = ledgers[acct].sort_values(\"Date\")\n",
    "        ledgers[acct][\"Balance\"] = ledgers[acct][\"Incoming Amount\"].cumsum()\n",
    "\n",
    "    return ledgers\n",
    "\n",
    "def trans_to_ledger(trans, acct, bal_decl = None, clean=False, leq=True):\n",
    "    \"\"\" Craete a single ledger. This is a step to using ledgers as a view on the transactions rather than\n",
    "    a precalcualted object.\n",
    "    \n",
    "    \"\"\"   \n",
    "    fl = trans.groupby(\"From\")\n",
    "    tl = trans.groupby(\"To\")\n",
    "    #ledgers = {}\n",
    "    #for acct in accounts(trans):\n",
    "    # From accounts, note the negative applied to Amount.\n",
    "    try:\n",
    "        df = pd.DataFrame(trans.loc[fl.groups[acct], [\"Date\", \"Description\", \"To\"]]).rename(columns={\"To\": \"Transaction Pair\"})\n",
    "        df[\"Incoming Amount\"] = -1 * trans.loc[fl.groups[acct], \"Amount\"]\n",
    "        ledger = df\n",
    "        # If account is not in From group, skip.\n",
    "    except KeyError:\n",
    "        pass\n",
    "\n",
    "    # To accounts.\n",
    "\n",
    "    try:\n",
    "        df = pd.DataFrame(trans.loc[tl.groups[acct], [\"Date\", \"Description\", \"From\"]]).rename(columns={\"From\": \"Transaction Pair\"})\n",
    "        df[\"Incoming Amount\"] = trans.loc[tl.groups[acct], \"Amount\"]\n",
    "        try:\n",
    "            ledger = pd.concat([ledger, df])\n",
    "        # If account was not also in From accounts list, don't concat.\n",
    "        except (NameError, UnboundLocalError):\n",
    "            ledger = df\n",
    "    # If account is not in list To accounts, skip.\n",
    "    except KeyError:\n",
    "        pass\n",
    "    if clean:\n",
    "        ledger = clean_ledger(ledger)        \n",
    "    # Sort and apply cumulative sum.\n",
    "    \n",
    "    if bal_decl is not None:\n",
    "        ledger = append_init_row(ledger, acct, bal_decl, leq=leq)\n",
    "    ledger = ledger.sort_values(\"Date\")\n",
    "    ledger[\"Balance\"] = ledger[\"Incoming Amount\"].cumsum()\n",
    "\n",
    "    return ledger\n",
    "\n",
    "def clean_ledger(ledger):\n",
    "    \"\"\"Remove transactions occurring before the last transaction with all accounts assigned.\n",
    "    Intended to catch incomplete data and return a useful ledger set on a per account basis.\n",
    "    \"\"\"\n",
    "    #clean = {}\n",
    "    #for acct in ledgers:\n",
    "    try:\n",
    "        clean = ledger.loc[[ledger[\"From\"] == \"\"]:,:]\n",
    "    except KeyError:\n",
    "        clean = ledger\n",
    "        \n",
    "    return clean\n",
    "\n",
    "def init_balance(bal_decl, acct, first_date, leq=False):\n",
    "    #first_date = min(ledger[\"Date\"])\n",
    "    if leq:\n",
    "        acct_balances = bal_decl.loc[(bal_decl[\"Account\"] == acct) & (bal_decl[\"Date\"] <= first_date)]\n",
    "    else:\n",
    "        acct_balances = bal_decl.loc[(bal_decl[\"Account\"] == acct) & (bal_decl[\"Date\"] < first_date)]\n",
    "    \n",
    "    # Catch indexerror if no balance found.\n",
    "    try:\n",
    "        return acct_balances.sort_values(\"Date\").iloc[-1]\n",
    "    except IndexError:\n",
    "        return None\n",
    "\n",
    "def append_init_row(ledger, acct, bal_decl, leq=False):\n",
    "    #print(acct)\n",
    "    #print(ledger)\n",
    "    # Find proper initial balance.\n",
    "    init = init_balance(bal_decl, acct, min(ledger[\"Date\"]), leq=leq)\n",
    "\n",
    "    # Skip if no appropriate balance was found.\n",
    "    if init is not None:\n",
    "        \n",
    "        # Create df of initial balance row.\n",
    "        decl_to_ledg_col = {\"Statement Balance\": \"Incoming Amount\", \"Account\": \"Transaction Pair\"}\n",
    "        init_df = pd.DataFrame(init).T.rename(columns=decl_to_ledg_col)\n",
    "        init_df[\"Description\"] = \"Initial Balance\"\n",
    "\n",
    "        # Add to first row, make sure we are sorted before recalculating balance column.\n",
    "        ledger = pd.concat([init_df, ledger]).sort_values(\"Date\")\n",
    "        ledger[\"Balance\"] = ledger[\"Incoming Amount\"].cumsum()\n",
    "    return ledger  \n",
    "        \n",
    "\n",
    "#ledgers = create_ledgers(trans)\n",
    "ledgers = {}\n",
    "for acct in accounts(trans):\n",
    "    ledgers[acct] = trans_to_ledger(trans, acct, bal_decl=bal_decl, clean=True)"
   ]
  },
  {
   "cell_type": "code",
   "execution_count": 32,
   "id": "f81b8ddf-6422-488e-beda-a0b56b85a64b",
   "metadata": {},
   "outputs": [],
   "source": [
    "bals = []\n",
    "firstds = []\n",
    "lastds = []\n",
    "initbals = []\n",
    "\n",
    "for acct in ledgers:\n",
    "    bals.append(ledgers[acct][\"Incoming Amount\"].sum())\n",
    "    firstds.append(ledgers[acct][\"Date\"].iloc[0])\n",
    "    lastds.append(ledgers[acct][\"Date\"].iloc[-1])\n",
    "    initial = ledgers[acct].loc[ledgers[acct][\"Description\"] == \"Initial Balance\"]\n",
    "    if len(initial) != 0:\n",
    "        initbals.append(initial[\"Balance\"].iloc[0])\n",
    "    else:\n",
    "        initbals.append(0)\n",
    "    #initbals.append(ledgers[acct][\"Balance\"].iloc[0])\n",
    "    \n",
    "acct_bals = pd.DataFrame({\"Period Start\": firstds,\n",
    "                          \"Initial Balance\": initbals,\n",
    "                          \"Period End\": lastds,\n",
    "                          \"Ending Balance\": bals},\n",
    "                         index = ledgers.keys())\n",
    "acct_bals.index.name = \"Account\"\n"
   ]
  },
  {
   "cell_type": "code",
   "execution_count": 33,
   "id": "f055fb78-8f17-4297-9505-b6aa5c02c0a7",
   "metadata": {},
   "outputs": [
    {
     "data": {
      "text/html": [
       "<div>\n",
       "<style scoped>\n",
       "    .dataframe tbody tr th:only-of-type {\n",
       "        vertical-align: middle;\n",
       "    }\n",
       "\n",
       "    .dataframe tbody tr th {\n",
       "        vertical-align: top;\n",
       "    }\n",
       "\n",
       "    .dataframe thead th {\n",
       "        text-align: right;\n",
       "    }\n",
       "</style>\n",
       "<table border=\"1\" class=\"dataframe\">\n",
       "  <thead>\n",
       "    <tr style=\"text-align: right;\">\n",
       "      <th></th>\n",
       "      <th>Period Start</th>\n",
       "      <th>Initial Balance</th>\n",
       "      <th>Period End</th>\n",
       "      <th>Ending Balance</th>\n",
       "      <th>Difference</th>\n",
       "    </tr>\n",
       "    <tr>\n",
       "      <th>Account</th>\n",
       "      <th></th>\n",
       "      <th></th>\n",
       "      <th></th>\n",
       "      <th></th>\n",
       "      <th></th>\n",
       "    </tr>\n",
       "  </thead>\n",
       "  <tbody>\n",
       "    <tr>\n",
       "      <th></th>\n",
       "      <td>2022-09-26</td>\n",
       "      <td>0.00</td>\n",
       "      <td>2023-10-24</td>\n",
       "      <td>-1037.39</td>\n",
       "      <td>-1037.39</td>\n",
       "    </tr>\n",
       "    <tr>\n",
       "      <th>Income:Notre Dame:Regular</th>\n",
       "      <td>2022-09-30</td>\n",
       "      <td>0.00</td>\n",
       "      <td>2024-01-31</td>\n",
       "      <td>-92390.59</td>\n",
       "      <td>-92390.59</td>\n",
       "    </tr>\n",
       "    <tr>\n",
       "      <th>Expenses:Home:Mortgage</th>\n",
       "      <td>2022-10-03</td>\n",
       "      <td>0.00</td>\n",
       "      <td>2024-01-02</td>\n",
       "      <td>11552.70</td>\n",
       "      <td>11552.70</td>\n",
       "    </tr>\n",
       "    <tr>\n",
       "      <th>Income:Interest</th>\n",
       "      <td>2022-10-24</td>\n",
       "      <td>0.00</td>\n",
       "      <td>2024-01-30</td>\n",
       "      <td>-72.87</td>\n",
       "      <td>-72.87</td>\n",
       "    </tr>\n",
       "    <tr>\n",
       "      <th>Expenses:Home:Cleaning</th>\n",
       "      <td>2024-01-17</td>\n",
       "      <td>0.00</td>\n",
       "      <td>2024-01-17</td>\n",
       "      <td>278.00</td>\n",
       "      <td>278.00</td>\n",
       "    </tr>\n",
       "    <tr>\n",
       "      <th>Expenses:Subscriptions</th>\n",
       "      <td>2023-12-31</td>\n",
       "      <td>0.00</td>\n",
       "      <td>2024-01-30</td>\n",
       "      <td>55.97</td>\n",
       "      <td>55.97</td>\n",
       "    </tr>\n",
       "    <tr>\n",
       "      <th>Liabilities:Apple:Installments</th>\n",
       "      <td>2023-12-31</td>\n",
       "      <td>-312.21</td>\n",
       "      <td>2024-01-31</td>\n",
       "      <td>-249.80</td>\n",
       "      <td>62.41</td>\n",
       "    </tr>\n",
       "    <tr>\n",
       "      <th>Expenses:Subscription</th>\n",
       "      <td>2024-01-01</td>\n",
       "      <td>0.00</td>\n",
       "      <td>2024-01-29</td>\n",
       "      <td>114.83</td>\n",
       "      <td>114.83</td>\n",
       "    </tr>\n",
       "    <tr>\n",
       "      <th>Expenses:Gear</th>\n",
       "      <td>2024-01-24</td>\n",
       "      <td>0.00</td>\n",
       "      <td>2024-01-24</td>\n",
       "      <td>101.65</td>\n",
       "      <td>101.65</td>\n",
       "    </tr>\n",
       "    <tr>\n",
       "      <th>Expenses:Auto:Insurance</th>\n",
       "      <td>2022-12-28</td>\n",
       "      <td>0.00</td>\n",
       "      <td>2023-12-27</td>\n",
       "      <td>1597.15</td>\n",
       "      <td>1597.15</td>\n",
       "    </tr>\n",
       "    <tr>\n",
       "      <th>Expenses:Restaurants</th>\n",
       "      <td>2024-01-09</td>\n",
       "      <td>0.00</td>\n",
       "      <td>2024-01-28</td>\n",
       "      <td>148.08</td>\n",
       "      <td>148.08</td>\n",
       "    </tr>\n",
       "    <tr>\n",
       "      <th>Transfer:Apple:Credit Card</th>\n",
       "      <td>2022-09-30</td>\n",
       "      <td>0.00</td>\n",
       "      <td>2023-12-27</td>\n",
       "      <td>32866.90</td>\n",
       "      <td>32866.90</td>\n",
       "    </tr>\n",
       "    <tr>\n",
       "      <th>Expenses:Auto:Gas</th>\n",
       "      <td>2024-01-26</td>\n",
       "      <td>0.00</td>\n",
       "      <td>2024-01-26</td>\n",
       "      <td>8.43</td>\n",
       "      <td>8.43</td>\n",
       "    </tr>\n",
       "    <tr>\n",
       "      <th>Income:Apple Cash</th>\n",
       "      <td>2024-01-31</td>\n",
       "      <td>0.00</td>\n",
       "      <td>2024-01-31</td>\n",
       "      <td>-40.45</td>\n",
       "      <td>-40.45</td>\n",
       "    </tr>\n",
       "    <tr>\n",
       "      <th>Expenses:Medical:Therapy</th>\n",
       "      <td>2024-01-14</td>\n",
       "      <td>0.00</td>\n",
       "      <td>2024-01-14</td>\n",
       "      <td>132.46</td>\n",
       "      <td>132.46</td>\n",
       "    </tr>\n",
       "    <tr>\n",
       "      <th>Expenses:Gifts</th>\n",
       "      <td>2024-01-03</td>\n",
       "      <td>0.00</td>\n",
       "      <td>2024-01-03</td>\n",
       "      <td>125.00</td>\n",
       "      <td>125.00</td>\n",
       "    </tr>\n",
       "    <tr>\n",
       "      <th>Expenses:Entertainment</th>\n",
       "      <td>2024-01-01</td>\n",
       "      <td>0.00</td>\n",
       "      <td>2024-01-19</td>\n",
       "      <td>56.18</td>\n",
       "      <td>56.18</td>\n",
       "    </tr>\n",
       "    <tr>\n",
       "      <th>Expenses:Auto:Tolls</th>\n",
       "      <td>2024-01-22</td>\n",
       "      <td>0.00</td>\n",
       "      <td>2024-01-22</td>\n",
       "      <td>127.50</td>\n",
       "      <td>127.50</td>\n",
       "    </tr>\n",
       "    <tr>\n",
       "      <th>Expenses:Home</th>\n",
       "      <td>2024-01-02</td>\n",
       "      <td>0.00</td>\n",
       "      <td>2024-01-30</td>\n",
       "      <td>237.35</td>\n",
       "      <td>237.35</td>\n",
       "    </tr>\n",
       "    <tr>\n",
       "      <th>Liabilities:NDFCU:Credit Card</th>\n",
       "      <td>2023-12-31</td>\n",
       "      <td>-99.77</td>\n",
       "      <td>2024-01-30</td>\n",
       "      <td>-1572.44</td>\n",
       "      <td>-1472.67</td>\n",
       "    </tr>\n",
       "    <tr>\n",
       "      <th>Expenses:Utilities</th>\n",
       "      <td>2022-10-06</td>\n",
       "      <td>0.00</td>\n",
       "      <td>2024-01-19</td>\n",
       "      <td>4532.22</td>\n",
       "      <td>4532.22</td>\n",
       "    </tr>\n",
       "    <tr>\n",
       "      <th>Expenses:Entertainment:Reading</th>\n",
       "      <td>2024-01-02</td>\n",
       "      <td>0.00</td>\n",
       "      <td>2024-01-02</td>\n",
       "      <td>12.99</td>\n",
       "      <td>12.99</td>\n",
       "    </tr>\n",
       "    <tr>\n",
       "      <th>Transfer:NDFCU:Credit Card</th>\n",
       "      <td>2022-10-06</td>\n",
       "      <td>0.00</td>\n",
       "      <td>2023-12-27</td>\n",
       "      <td>33507.17</td>\n",
       "      <td>33507.17</td>\n",
       "    </tr>\n",
       "    <tr>\n",
       "      <th>Expenses:Groceries</th>\n",
       "      <td>2022-09-26</td>\n",
       "      <td>0.00</td>\n",
       "      <td>2024-01-31</td>\n",
       "      <td>5229.84</td>\n",
       "      <td>5229.84</td>\n",
       "    </tr>\n",
       "    <tr>\n",
       "      <th>Liabilities:Apple:Credit Card</th>\n",
       "      <td>2023-12-31</td>\n",
       "      <td>-284.77</td>\n",
       "      <td>2024-01-31</td>\n",
       "      <td>-62.41</td>\n",
       "      <td>222.36</td>\n",
       "    </tr>\n",
       "    <tr>\n",
       "      <th>Expenses:Study</th>\n",
       "      <td>2024-01-01</td>\n",
       "      <td>0.00</td>\n",
       "      <td>2024-01-01</td>\n",
       "      <td>77.92</td>\n",
       "      <td>77.92</td>\n",
       "    </tr>\n",
       "    <tr>\n",
       "      <th>Expenses:Pet:Care</th>\n",
       "      <td>2022-10-25</td>\n",
       "      <td>0.00</td>\n",
       "      <td>2023-12-19</td>\n",
       "      <td>720.00</td>\n",
       "      <td>720.00</td>\n",
       "    </tr>\n",
       "    <tr>\n",
       "      <th>Expenses:Medical:Body</th>\n",
       "      <td>2024-01-03</td>\n",
       "      <td>0.00</td>\n",
       "      <td>2024-01-30</td>\n",
       "      <td>30.85</td>\n",
       "      <td>30.85</td>\n",
       "    </tr>\n",
       "    <tr>\n",
       "      <th>Assets:Ally:Savings</th>\n",
       "      <td>2023-12-18</td>\n",
       "      <td>10058.08</td>\n",
       "      <td>2024-02-09</td>\n",
       "      <td>10327.03</td>\n",
       "      <td>268.95</td>\n",
       "    </tr>\n",
       "    <tr>\n",
       "      <th>Expenses:Auto:Fuel</th>\n",
       "      <td>2024-01-12</td>\n",
       "      <td>0.00</td>\n",
       "      <td>2024-01-12</td>\n",
       "      <td>31.94</td>\n",
       "      <td>31.94</td>\n",
       "    </tr>\n",
       "    <tr>\n",
       "      <th>Expenses:Clothing</th>\n",
       "      <td>2024-01-24</td>\n",
       "      <td>0.00</td>\n",
       "      <td>2024-01-24</td>\n",
       "      <td>481.50</td>\n",
       "      <td>481.50</td>\n",
       "    </tr>\n",
       "    <tr>\n",
       "      <th>Expenses:Pet</th>\n",
       "      <td>2024-01-05</td>\n",
       "      <td>0.00</td>\n",
       "      <td>2024-01-30</td>\n",
       "      <td>542.78</td>\n",
       "      <td>542.78</td>\n",
       "    </tr>\n",
       "    <tr>\n",
       "      <th>Assets:1st Source:Checking</th>\n",
       "      <td>2022-09-26</td>\n",
       "      <td>0.00</td>\n",
       "      <td>2024-01-31</td>\n",
       "      <td>-4651.70</td>\n",
       "      <td>-4651.70</td>\n",
       "    </tr>\n",
       "    <tr>\n",
       "      <th>Expenses:Entertainment:Self</th>\n",
       "      <td>2024-01-01</td>\n",
       "      <td>0.00</td>\n",
       "      <td>2024-01-18</td>\n",
       "      <td>142.54</td>\n",
       "      <td>142.54</td>\n",
       "    </tr>\n",
       "    <tr>\n",
       "      <th>Transfer:Ally:Savings</th>\n",
       "      <td>2022-10-06</td>\n",
       "      <td>0.00</td>\n",
       "      <td>2024-02-09</td>\n",
       "      <td>6400.00</td>\n",
       "      <td>6400.00</td>\n",
       "    </tr>\n",
       "  </tbody>\n",
       "</table>\n",
       "</div>"
      ],
      "text/plain": [
       "                               Period Start  Initial Balance Period End  \\\n",
       "Account                                                                   \n",
       "                                 2022-09-26             0.00 2023-10-24   \n",
       "Income:Notre Dame:Regular        2022-09-30             0.00 2024-01-31   \n",
       "Expenses:Home:Mortgage           2022-10-03             0.00 2024-01-02   \n",
       "Income:Interest                  2022-10-24             0.00 2024-01-30   \n",
       "Expenses:Home:Cleaning           2024-01-17             0.00 2024-01-17   \n",
       "Expenses:Subscriptions           2023-12-31             0.00 2024-01-30   \n",
       "Liabilities:Apple:Installments   2023-12-31          -312.21 2024-01-31   \n",
       "Expenses:Subscription            2024-01-01             0.00 2024-01-29   \n",
       "Expenses:Gear                    2024-01-24             0.00 2024-01-24   \n",
       "Expenses:Auto:Insurance          2022-12-28             0.00 2023-12-27   \n",
       "Expenses:Restaurants             2024-01-09             0.00 2024-01-28   \n",
       "Transfer:Apple:Credit Card       2022-09-30             0.00 2023-12-27   \n",
       "Expenses:Auto:Gas                2024-01-26             0.00 2024-01-26   \n",
       "Income:Apple Cash                2024-01-31             0.00 2024-01-31   \n",
       "Expenses:Medical:Therapy         2024-01-14             0.00 2024-01-14   \n",
       "Expenses:Gifts                   2024-01-03             0.00 2024-01-03   \n",
       "Expenses:Entertainment           2024-01-01             0.00 2024-01-19   \n",
       "Expenses:Auto:Tolls              2024-01-22             0.00 2024-01-22   \n",
       "Expenses:Home                    2024-01-02             0.00 2024-01-30   \n",
       "Liabilities:NDFCU:Credit Card    2023-12-31           -99.77 2024-01-30   \n",
       "Expenses:Utilities               2022-10-06             0.00 2024-01-19   \n",
       "Expenses:Entertainment:Reading   2024-01-02             0.00 2024-01-02   \n",
       "Transfer:NDFCU:Credit Card       2022-10-06             0.00 2023-12-27   \n",
       "Expenses:Groceries               2022-09-26             0.00 2024-01-31   \n",
       "Liabilities:Apple:Credit Card    2023-12-31          -284.77 2024-01-31   \n",
       "Expenses:Study                   2024-01-01             0.00 2024-01-01   \n",
       "Expenses:Pet:Care                2022-10-25             0.00 2023-12-19   \n",
       "Expenses:Medical:Body            2024-01-03             0.00 2024-01-30   \n",
       "Assets:Ally:Savings              2023-12-18         10058.08 2024-02-09   \n",
       "Expenses:Auto:Fuel               2024-01-12             0.00 2024-01-12   \n",
       "Expenses:Clothing                2024-01-24             0.00 2024-01-24   \n",
       "Expenses:Pet                     2024-01-05             0.00 2024-01-30   \n",
       "Assets:1st Source:Checking       2022-09-26             0.00 2024-01-31   \n",
       "Expenses:Entertainment:Self      2024-01-01             0.00 2024-01-18   \n",
       "Transfer:Ally:Savings            2022-10-06             0.00 2024-02-09   \n",
       "\n",
       "                                Ending Balance  Difference  \n",
       "Account                                                     \n",
       "                                      -1037.39    -1037.39  \n",
       "Income:Notre Dame:Regular            -92390.59   -92390.59  \n",
       "Expenses:Home:Mortgage                11552.70    11552.70  \n",
       "Income:Interest                         -72.87      -72.87  \n",
       "Expenses:Home:Cleaning                  278.00      278.00  \n",
       "Expenses:Subscriptions                   55.97       55.97  \n",
       "Liabilities:Apple:Installments         -249.80       62.41  \n",
       "Expenses:Subscription                   114.83      114.83  \n",
       "Expenses:Gear                           101.65      101.65  \n",
       "Expenses:Auto:Insurance                1597.15     1597.15  \n",
       "Expenses:Restaurants                    148.08      148.08  \n",
       "Transfer:Apple:Credit Card            32866.90    32866.90  \n",
       "Expenses:Auto:Gas                         8.43        8.43  \n",
       "Income:Apple Cash                       -40.45      -40.45  \n",
       "Expenses:Medical:Therapy                132.46      132.46  \n",
       "Expenses:Gifts                          125.00      125.00  \n",
       "Expenses:Entertainment                   56.18       56.18  \n",
       "Expenses:Auto:Tolls                     127.50      127.50  \n",
       "Expenses:Home                           237.35      237.35  \n",
       "Liabilities:NDFCU:Credit Card         -1572.44    -1472.67  \n",
       "Expenses:Utilities                     4532.22     4532.22  \n",
       "Expenses:Entertainment:Reading           12.99       12.99  \n",
       "Transfer:NDFCU:Credit Card            33507.17    33507.17  \n",
       "Expenses:Groceries                     5229.84     5229.84  \n",
       "Liabilities:Apple:Credit Card           -62.41      222.36  \n",
       "Expenses:Study                           77.92       77.92  \n",
       "Expenses:Pet:Care                       720.00      720.00  \n",
       "Expenses:Medical:Body                    30.85       30.85  \n",
       "Assets:Ally:Savings                   10327.03      268.95  \n",
       "Expenses:Auto:Fuel                       31.94       31.94  \n",
       "Expenses:Clothing                       481.50      481.50  \n",
       "Expenses:Pet                            542.78      542.78  \n",
       "Assets:1st Source:Checking            -4651.70    -4651.70  \n",
       "Expenses:Entertainment:Self             142.54      142.54  \n",
       "Transfer:Ally:Savings                  6400.00     6400.00  "
      ]
     },
     "execution_count": 33,
     "metadata": {},
     "output_type": "execute_result"
    }
   ],
   "source": [
    "acct_bals[\"Difference\"] = acct_bals[\"Ending Balance\"] - acct_bals[\"Initial Balance\"]\n",
    "acct_bals"
   ]
  },
  {
   "cell_type": "code",
   "execution_count": 34,
   "id": "e511d26b-13ef-40d1-bf7a-0545723f4375",
   "metadata": {},
   "outputs": [
    {
     "data": {
      "application/vnd.plotly.v1+json": {
       "config": {
        "plotlyServerURL": "https://plot.ly"
       },
       "data": [
        {
         "alignmentgroup": "True",
         "hovertemplate": "Account=%{x}<br>Ending Balance=%{y}<extra></extra>",
         "legendgroup": "",
         "marker": {
          "color": "#636efa",
          "pattern": {
           "shape": ""
          }
         },
         "name": "",
         "offsetgroup": "",
         "orientation": "v",
         "showlegend": false,
         "textposition": "auto",
         "type": "bar",
         "x": [
          "",
          "Income:Notre Dame:Regular",
          "Expenses:Home:Mortgage",
          "Income:Interest",
          "Expenses:Home:Cleaning",
          "Expenses:Subscriptions",
          "Liabilities:Apple:Installments",
          "Expenses:Subscription",
          "Expenses:Gear",
          "Expenses:Auto:Insurance",
          "Expenses:Restaurants",
          "Transfer:Apple:Credit Card",
          "Expenses:Auto:Gas",
          "Income:Apple Cash",
          "Expenses:Medical:Therapy",
          "Expenses:Gifts",
          "Expenses:Entertainment",
          "Expenses:Auto:Tolls",
          "Expenses:Home",
          "Liabilities:NDFCU:Credit Card",
          "Expenses:Utilities",
          "Expenses:Entertainment:Reading",
          "Transfer:NDFCU:Credit Card",
          "Expenses:Groceries",
          "Liabilities:Apple:Credit Card",
          "Expenses:Study",
          "Expenses:Pet:Care",
          "Expenses:Medical:Body",
          "Assets:Ally:Savings",
          "Expenses:Auto:Fuel",
          "Expenses:Clothing",
          "Expenses:Pet",
          "Assets:1st Source:Checking",
          "Expenses:Entertainment:Self",
          "Transfer:Ally:Savings"
         ],
         "xaxis": "x",
         "y": [
          -1037.3900000000003,
          -92390.58999999998,
          11552.7,
          -72.87,
          278,
          55.970000000000006,
          -249.79999999999998,
          114.82999999999998,
          101.65,
          1597.15,
          148.08,
          32866.9,
          8.43,
          -40.45,
          132.46,
          125,
          56.18,
          127.5,
          237.35000000000002,
          -1572.44,
          4532.22,
          12.99,
          33507.17,
          5229.839999999999,
          -62.409999999999215,
          77.92,
          720,
          30.849999999999994,
          10327.03,
          31.94,
          481.5,
          542.78,
          -4651.699999999993,
          142.54,
          6400
         ],
         "yaxis": "y"
        }
       ],
       "layout": {
        "autosize": true,
        "barmode": "relative",
        "legend": {
         "tracegroupgap": 0
        },
        "margin": {
         "t": 60
        },
        "template": {
         "data": {
          "bar": [
           {
            "error_x": {
             "color": "#2a3f5f"
            },
            "error_y": {
             "color": "#2a3f5f"
            },
            "marker": {
             "line": {
              "color": "#E5ECF6",
              "width": 0.5
             },
             "pattern": {
              "fillmode": "overlay",
              "size": 10,
              "solidity": 0.2
             }
            },
            "type": "bar"
           }
          ],
          "barpolar": [
           {
            "marker": {
             "line": {
              "color": "#E5ECF6",
              "width": 0.5
             },
             "pattern": {
              "fillmode": "overlay",
              "size": 10,
              "solidity": 0.2
             }
            },
            "type": "barpolar"
           }
          ],
          "carpet": [
           {
            "aaxis": {
             "endlinecolor": "#2a3f5f",
             "gridcolor": "white",
             "linecolor": "white",
             "minorgridcolor": "white",
             "startlinecolor": "#2a3f5f"
            },
            "baxis": {
             "endlinecolor": "#2a3f5f",
             "gridcolor": "white",
             "linecolor": "white",
             "minorgridcolor": "white",
             "startlinecolor": "#2a3f5f"
            },
            "type": "carpet"
           }
          ],
          "choropleth": [
           {
            "colorbar": {
             "outlinewidth": 0,
             "ticks": ""
            },
            "type": "choropleth"
           }
          ],
          "contour": [
           {
            "colorbar": {
             "outlinewidth": 0,
             "ticks": ""
            },
            "colorscale": [
             [
              0,
              "#0d0887"
             ],
             [
              0.1111111111111111,
              "#46039f"
             ],
             [
              0.2222222222222222,
              "#7201a8"
             ],
             [
              0.3333333333333333,
              "#9c179e"
             ],
             [
              0.4444444444444444,
              "#bd3786"
             ],
             [
              0.5555555555555556,
              "#d8576b"
             ],
             [
              0.6666666666666666,
              "#ed7953"
             ],
             [
              0.7777777777777778,
              "#fb9f3a"
             ],
             [
              0.8888888888888888,
              "#fdca26"
             ],
             [
              1,
              "#f0f921"
             ]
            ],
            "type": "contour"
           }
          ],
          "contourcarpet": [
           {
            "colorbar": {
             "outlinewidth": 0,
             "ticks": ""
            },
            "type": "contourcarpet"
           }
          ],
          "heatmap": [
           {
            "colorbar": {
             "outlinewidth": 0,
             "ticks": ""
            },
            "colorscale": [
             [
              0,
              "#0d0887"
             ],
             [
              0.1111111111111111,
              "#46039f"
             ],
             [
              0.2222222222222222,
              "#7201a8"
             ],
             [
              0.3333333333333333,
              "#9c179e"
             ],
             [
              0.4444444444444444,
              "#bd3786"
             ],
             [
              0.5555555555555556,
              "#d8576b"
             ],
             [
              0.6666666666666666,
              "#ed7953"
             ],
             [
              0.7777777777777778,
              "#fb9f3a"
             ],
             [
              0.8888888888888888,
              "#fdca26"
             ],
             [
              1,
              "#f0f921"
             ]
            ],
            "type": "heatmap"
           }
          ],
          "heatmapgl": [
           {
            "colorbar": {
             "outlinewidth": 0,
             "ticks": ""
            },
            "colorscale": [
             [
              0,
              "#0d0887"
             ],
             [
              0.1111111111111111,
              "#46039f"
             ],
             [
              0.2222222222222222,
              "#7201a8"
             ],
             [
              0.3333333333333333,
              "#9c179e"
             ],
             [
              0.4444444444444444,
              "#bd3786"
             ],
             [
              0.5555555555555556,
              "#d8576b"
             ],
             [
              0.6666666666666666,
              "#ed7953"
             ],
             [
              0.7777777777777778,
              "#fb9f3a"
             ],
             [
              0.8888888888888888,
              "#fdca26"
             ],
             [
              1,
              "#f0f921"
             ]
            ],
            "type": "heatmapgl"
           }
          ],
          "histogram": [
           {
            "marker": {
             "pattern": {
              "fillmode": "overlay",
              "size": 10,
              "solidity": 0.2
             }
            },
            "type": "histogram"
           }
          ],
          "histogram2d": [
           {
            "colorbar": {
             "outlinewidth": 0,
             "ticks": ""
            },
            "colorscale": [
             [
              0,
              "#0d0887"
             ],
             [
              0.1111111111111111,
              "#46039f"
             ],
             [
              0.2222222222222222,
              "#7201a8"
             ],
             [
              0.3333333333333333,
              "#9c179e"
             ],
             [
              0.4444444444444444,
              "#bd3786"
             ],
             [
              0.5555555555555556,
              "#d8576b"
             ],
             [
              0.6666666666666666,
              "#ed7953"
             ],
             [
              0.7777777777777778,
              "#fb9f3a"
             ],
             [
              0.8888888888888888,
              "#fdca26"
             ],
             [
              1,
              "#f0f921"
             ]
            ],
            "type": "histogram2d"
           }
          ],
          "histogram2dcontour": [
           {
            "colorbar": {
             "outlinewidth": 0,
             "ticks": ""
            },
            "colorscale": [
             [
              0,
              "#0d0887"
             ],
             [
              0.1111111111111111,
              "#46039f"
             ],
             [
              0.2222222222222222,
              "#7201a8"
             ],
             [
              0.3333333333333333,
              "#9c179e"
             ],
             [
              0.4444444444444444,
              "#bd3786"
             ],
             [
              0.5555555555555556,
              "#d8576b"
             ],
             [
              0.6666666666666666,
              "#ed7953"
             ],
             [
              0.7777777777777778,
              "#fb9f3a"
             ],
             [
              0.8888888888888888,
              "#fdca26"
             ],
             [
              1,
              "#f0f921"
             ]
            ],
            "type": "histogram2dcontour"
           }
          ],
          "mesh3d": [
           {
            "colorbar": {
             "outlinewidth": 0,
             "ticks": ""
            },
            "type": "mesh3d"
           }
          ],
          "parcoords": [
           {
            "line": {
             "colorbar": {
              "outlinewidth": 0,
              "ticks": ""
             }
            },
            "type": "parcoords"
           }
          ],
          "pie": [
           {
            "automargin": true,
            "type": "pie"
           }
          ],
          "scatter": [
           {
            "fillpattern": {
             "fillmode": "overlay",
             "size": 10,
             "solidity": 0.2
            },
            "type": "scatter"
           }
          ],
          "scatter3d": [
           {
            "line": {
             "colorbar": {
              "outlinewidth": 0,
              "ticks": ""
             }
            },
            "marker": {
             "colorbar": {
              "outlinewidth": 0,
              "ticks": ""
             }
            },
            "type": "scatter3d"
           }
          ],
          "scattercarpet": [
           {
            "marker": {
             "colorbar": {
              "outlinewidth": 0,
              "ticks": ""
             }
            },
            "type": "scattercarpet"
           }
          ],
          "scattergeo": [
           {
            "marker": {
             "colorbar": {
              "outlinewidth": 0,
              "ticks": ""
             }
            },
            "type": "scattergeo"
           }
          ],
          "scattergl": [
           {
            "marker": {
             "colorbar": {
              "outlinewidth": 0,
              "ticks": ""
             }
            },
            "type": "scattergl"
           }
          ],
          "scattermapbox": [
           {
            "marker": {
             "colorbar": {
              "outlinewidth": 0,
              "ticks": ""
             }
            },
            "type": "scattermapbox"
           }
          ],
          "scatterpolar": [
           {
            "marker": {
             "colorbar": {
              "outlinewidth": 0,
              "ticks": ""
             }
            },
            "type": "scatterpolar"
           }
          ],
          "scatterpolargl": [
           {
            "marker": {
             "colorbar": {
              "outlinewidth": 0,
              "ticks": ""
             }
            },
            "type": "scatterpolargl"
           }
          ],
          "scatterternary": [
           {
            "marker": {
             "colorbar": {
              "outlinewidth": 0,
              "ticks": ""
             }
            },
            "type": "scatterternary"
           }
          ],
          "surface": [
           {
            "colorbar": {
             "outlinewidth": 0,
             "ticks": ""
            },
            "colorscale": [
             [
              0,
              "#0d0887"
             ],
             [
              0.1111111111111111,
              "#46039f"
             ],
             [
              0.2222222222222222,
              "#7201a8"
             ],
             [
              0.3333333333333333,
              "#9c179e"
             ],
             [
              0.4444444444444444,
              "#bd3786"
             ],
             [
              0.5555555555555556,
              "#d8576b"
             ],
             [
              0.6666666666666666,
              "#ed7953"
             ],
             [
              0.7777777777777778,
              "#fb9f3a"
             ],
             [
              0.8888888888888888,
              "#fdca26"
             ],
             [
              1,
              "#f0f921"
             ]
            ],
            "type": "surface"
           }
          ],
          "table": [
           {
            "cells": {
             "fill": {
              "color": "#EBF0F8"
             },
             "line": {
              "color": "white"
             }
            },
            "header": {
             "fill": {
              "color": "#C8D4E3"
             },
             "line": {
              "color": "white"
             }
            },
            "type": "table"
           }
          ]
         },
         "layout": {
          "annotationdefaults": {
           "arrowcolor": "#2a3f5f",
           "arrowhead": 0,
           "arrowwidth": 1
          },
          "autotypenumbers": "strict",
          "coloraxis": {
           "colorbar": {
            "outlinewidth": 0,
            "ticks": ""
           }
          },
          "colorscale": {
           "diverging": [
            [
             0,
             "#8e0152"
            ],
            [
             0.1,
             "#c51b7d"
            ],
            [
             0.2,
             "#de77ae"
            ],
            [
             0.3,
             "#f1b6da"
            ],
            [
             0.4,
             "#fde0ef"
            ],
            [
             0.5,
             "#f7f7f7"
            ],
            [
             0.6,
             "#e6f5d0"
            ],
            [
             0.7,
             "#b8e186"
            ],
            [
             0.8,
             "#7fbc41"
            ],
            [
             0.9,
             "#4d9221"
            ],
            [
             1,
             "#276419"
            ]
           ],
           "sequential": [
            [
             0,
             "#0d0887"
            ],
            [
             0.1111111111111111,
             "#46039f"
            ],
            [
             0.2222222222222222,
             "#7201a8"
            ],
            [
             0.3333333333333333,
             "#9c179e"
            ],
            [
             0.4444444444444444,
             "#bd3786"
            ],
            [
             0.5555555555555556,
             "#d8576b"
            ],
            [
             0.6666666666666666,
             "#ed7953"
            ],
            [
             0.7777777777777778,
             "#fb9f3a"
            ],
            [
             0.8888888888888888,
             "#fdca26"
            ],
            [
             1,
             "#f0f921"
            ]
           ],
           "sequentialminus": [
            [
             0,
             "#0d0887"
            ],
            [
             0.1111111111111111,
             "#46039f"
            ],
            [
             0.2222222222222222,
             "#7201a8"
            ],
            [
             0.3333333333333333,
             "#9c179e"
            ],
            [
             0.4444444444444444,
             "#bd3786"
            ],
            [
             0.5555555555555556,
             "#d8576b"
            ],
            [
             0.6666666666666666,
             "#ed7953"
            ],
            [
             0.7777777777777778,
             "#fb9f3a"
            ],
            [
             0.8888888888888888,
             "#fdca26"
            ],
            [
             1,
             "#f0f921"
            ]
           ]
          },
          "colorway": [
           "#636efa",
           "#EF553B",
           "#00cc96",
           "#ab63fa",
           "#FFA15A",
           "#19d3f3",
           "#FF6692",
           "#B6E880",
           "#FF97FF",
           "#FECB52"
          ],
          "font": {
           "color": "#2a3f5f"
          },
          "geo": {
           "bgcolor": "white",
           "lakecolor": "white",
           "landcolor": "#E5ECF6",
           "showlakes": true,
           "showland": true,
           "subunitcolor": "white"
          },
          "hoverlabel": {
           "align": "left"
          },
          "hovermode": "closest",
          "mapbox": {
           "style": "light"
          },
          "paper_bgcolor": "white",
          "plot_bgcolor": "#E5ECF6",
          "polar": {
           "angularaxis": {
            "gridcolor": "white",
            "linecolor": "white",
            "ticks": ""
           },
           "bgcolor": "#E5ECF6",
           "radialaxis": {
            "gridcolor": "white",
            "linecolor": "white",
            "ticks": ""
           }
          },
          "scene": {
           "xaxis": {
            "backgroundcolor": "#E5ECF6",
            "gridcolor": "white",
            "gridwidth": 2,
            "linecolor": "white",
            "showbackground": true,
            "ticks": "",
            "zerolinecolor": "white"
           },
           "yaxis": {
            "backgroundcolor": "#E5ECF6",
            "gridcolor": "white",
            "gridwidth": 2,
            "linecolor": "white",
            "showbackground": true,
            "ticks": "",
            "zerolinecolor": "white"
           },
           "zaxis": {
            "backgroundcolor": "#E5ECF6",
            "gridcolor": "white",
            "gridwidth": 2,
            "linecolor": "white",
            "showbackground": true,
            "ticks": "",
            "zerolinecolor": "white"
           }
          },
          "shapedefaults": {
           "line": {
            "color": "#2a3f5f"
           }
          },
          "ternary": {
           "aaxis": {
            "gridcolor": "white",
            "linecolor": "white",
            "ticks": ""
           },
           "baxis": {
            "gridcolor": "white",
            "linecolor": "white",
            "ticks": ""
           },
           "bgcolor": "#E5ECF6",
           "caxis": {
            "gridcolor": "white",
            "linecolor": "white",
            "ticks": ""
           }
          },
          "title": {
           "x": 0.05
          },
          "xaxis": {
           "automargin": true,
           "gridcolor": "white",
           "linecolor": "white",
           "ticks": "",
           "title": {
            "standoff": 15
           },
           "zerolinecolor": "white",
           "zerolinewidth": 2
          },
          "yaxis": {
           "automargin": true,
           "gridcolor": "white",
           "linecolor": "white",
           "ticks": "",
           "title": {
            "standoff": 15
           },
           "zerolinecolor": "white",
           "zerolinewidth": 2
          }
         }
        },
        "xaxis": {
         "anchor": "y",
         "autorange": true,
         "domain": [
          0,
          1
         ],
         "range": [
          -0.5,
          34.5
         ],
         "title": {
          "text": "Account"
         },
         "type": "category"
        },
        "yaxis": {
         "anchor": "x",
         "autorange": true,
         "domain": [
          0,
          1
         ],
         "range": [
          -99384.90999999997,
          40501.49
         ],
         "title": {
          "text": "Ending Balance"
         },
         "type": "linear"
        }
       }
      },
      "image/png": "[encoded data removed]",
      "text/html": [
       "<div>                            <div id=\"cec75ad3-57b3-4044-828f-cc10f0d8c052\" class=\"plotly-graph-div\" style=\"height:525px; width:100%;\"></div>            <script type=\"text/javascript\">                require([\"plotly\"], function(Plotly) {                    window.PLOTLYENV=window.PLOTLYENV || {};                                    if (document.getElementById(\"cec75ad3-57b3-4044-828f-cc10f0d8c052\")) {                    Plotly.newPlot(                        \"cec75ad3-57b3-4044-828f-cc10f0d8c052\",                        [{\"alignmentgroup\":\"True\",\"hovertemplate\":\"Account=%{x}\\u003cbr\\u003eEnding Balance=%{y}\\u003cextra\\u003e\\u003c\\u002fextra\\u003e\",\"legendgroup\":\"\",\"marker\":{\"color\":\"#636efa\",\"pattern\":{\"shape\":\"\"}},\"name\":\"\",\"offsetgroup\":\"\",\"orientation\":\"v\",\"showlegend\":false,\"textposition\":\"auto\",\"x\":[\"\",\"Income:Notre Dame:Regular\",\"Expenses:Home:Mortgage\",\"Income:Interest\",\"Expenses:Home:Cleaning\",\"Expenses:Subscriptions\",\"Liabilities:Apple:Installments\",\"Expenses:Subscription\",\"Expenses:Gear\",\"Expenses:Auto:Insurance\",\"Expenses:Restaurants\",\"Transfer:Apple:Credit Card\",\"Expenses:Auto:Gas\",\"Income:Apple Cash\",\"Expenses:Medical:Therapy\",\"Expenses:Gifts\",\"Expenses:Entertainment\",\"Expenses:Auto:Tolls\",\"Expenses:Home\",\"Liabilities:NDFCU:Credit Card\",\"Expenses:Utilities\",\"Expenses:Entertainment:Reading\",\"Transfer:NDFCU:Credit Card\",\"Expenses:Groceries\",\"Liabilities:Apple:Credit Card\",\"Expenses:Study\",\"Expenses:Pet:Care\",\"Expenses:Medical:Body\",\"Assets:Ally:Savings\",\"Expenses:Auto:Fuel\",\"Expenses:Clothing\",\"Expenses:Pet\",\"Assets:1st Source:Checking\",\"Expenses:Entertainment:Self\",\"Transfer:Ally:Savings\"],\"xaxis\":\"x\",\"y\":[-1037.3900000000003,-92390.58999999998,11552.7,-72.87,278.0,55.970000000000006,-249.79999999999998,114.82999999999998,101.65,1597.15,148.08,32866.9,8.43,-40.45,132.46,125.0,56.18,127.5,237.35000000000002,-1572.44,4532.22,12.99,33507.17,5229.839999999999,-62.409999999999215,77.92,720.0,30.849999999999994,10327.03,31.94,481.5,542.78,-4651.699999999993,142.54,6400.0],\"yaxis\":\"y\",\"type\":\"bar\"}],                        {\"template\":{\"data\":{\"histogram2dcontour\":[{\"type\":\"histogram2dcontour\",\"colorbar\":{\"outlinewidth\":0,\"ticks\":\"\"},\"colorscale\":[[0.0,\"#0d0887\"],[0.1111111111111111,\"#46039f\"],[0.2222222222222222,\"#7201a8\"],[0.3333333333333333,\"#9c179e\"],[0.4444444444444444,\"#bd3786\"],[0.5555555555555556,\"#d8576b\"],[0.6666666666666666,\"#ed7953\"],[0.7777777777777778,\"#fb9f3a\"],[0.8888888888888888,\"#fdca26\"],[1.0,\"#f0f921\"]]}],\"choropleth\":[{\"type\":\"choropleth\",\"colorbar\":{\"outlinewidth\":0,\"ticks\":\"\"}}],\"histogram2d\":[{\"type\":\"histogram2d\",\"colorbar\":{\"outlinewidth\":0,\"ticks\":\"\"},\"colorscale\":[[0.0,\"#0d0887\"],[0.1111111111111111,\"#46039f\"],[0.2222222222222222,\"#7201a8\"],[0.3333333333333333,\"#9c179e\"],[0.4444444444444444,\"#bd3786\"],[0.5555555555555556,\"#d8576b\"],[0.6666666666666666,\"#ed7953\"],[0.7777777777777778,\"#fb9f3a\"],[0.8888888888888888,\"#fdca26\"],[1.0,\"#f0f921\"]]}],\"heatmap\":[{\"type\":\"heatmap\",\"colorbar\":{\"outlinewidth\":0,\"ticks\":\"\"},\"colorscale\":[[0.0,\"#0d0887\"],[0.1111111111111111,\"#46039f\"],[0.2222222222222222,\"#7201a8\"],[0.3333333333333333,\"#9c179e\"],[0.4444444444444444,\"#bd3786\"],[0.5555555555555556,\"#d8576b\"],[0.6666666666666666,\"#ed7953\"],[0.7777777777777778,\"#fb9f3a\"],[0.8888888888888888,\"#fdca26\"],[1.0,\"#f0f921\"]]}],\"heatmapgl\":[{\"type\":\"heatmapgl\",\"colorbar\":{\"outlinewidth\":0,\"ticks\":\"\"},\"colorscale\":[[0.0,\"#0d0887\"],[0.1111111111111111,\"#46039f\"],[0.2222222222222222,\"#7201a8\"],[0.3333333333333333,\"#9c179e\"],[0.4444444444444444,\"#bd3786\"],[0.5555555555555556,\"#d8576b\"],[0.6666666666666666,\"#ed7953\"],[0.7777777777777778,\"#fb9f3a\"],[0.8888888888888888,\"#fdca26\"],[1.0,\"#f0f921\"]]}],\"contourcarpet\":[{\"type\":\"contourcarpet\",\"colorbar\":{\"outlinewidth\":0,\"ticks\":\"\"}}],\"contour\":[{\"type\":\"contour\",\"colorbar\":{\"outlinewidth\":0,\"ticks\":\"\"},\"colorscale\":[[0.0,\"#0d0887\"],[0.1111111111111111,\"#46039f\"],[0.2222222222222222,\"#7201a8\"],[0.3333333333333333,\"#9c179e\"],[0.4444444444444444,\"#bd3786\"],[0.5555555555555556,\"#d8576b\"],[0.6666666666666666,\"#ed7953\"],[0.7777777777777778,\"#fb9f3a\"],[0.8888888888888888,\"#fdca26\"],[1.0,\"#f0f921\"]]}],\"surface\":[{\"type\":\"surface\",\"colorbar\":{\"outlinewidth\":0,\"ticks\":\"\"},\"colorscale\":[[0.0,\"#0d0887\"],[0.1111111111111111,\"#46039f\"],[0.2222222222222222,\"#7201a8\"],[0.3333333333333333,\"#9c179e\"],[0.4444444444444444,\"#bd3786\"],[0.5555555555555556,\"#d8576b\"],[0.6666666666666666,\"#ed7953\"],[0.7777777777777778,\"#fb9f3a\"],[0.8888888888888888,\"#fdca26\"],[1.0,\"#f0f921\"]]}],\"mesh3d\":[{\"type\":\"mesh3d\",\"colorbar\":{\"outlinewidth\":0,\"ticks\":\"\"}}],\"scatter\":[{\"fillpattern\":{\"fillmode\":\"overlay\",\"size\":10,\"solidity\":0.2},\"type\":\"scatter\"}],\"parcoords\":[{\"type\":\"parcoords\",\"line\":{\"colorbar\":{\"outlinewidth\":0,\"ticks\":\"\"}}}],\"scatterpolargl\":[{\"type\":\"scatterpolargl\",\"marker\":{\"colorbar\":{\"outlinewidth\":0,\"ticks\":\"\"}}}],\"bar\":[{\"error_x\":{\"color\":\"#2a3f5f\"},\"error_y\":{\"color\":\"#2a3f5f\"},\"marker\":{\"line\":{\"color\":\"#E5ECF6\",\"width\":0.5},\"pattern\":{\"fillmode\":\"overlay\",\"size\":10,\"solidity\":0.2}},\"type\":\"bar\"}],\"scattergeo\":[{\"type\":\"scattergeo\",\"marker\":{\"colorbar\":{\"outlinewidth\":0,\"ticks\":\"\"}}}],\"scatterpolar\":[{\"type\":\"scatterpolar\",\"marker\":{\"colorbar\":{\"outlinewidth\":0,\"ticks\":\"\"}}}],\"histogram\":[{\"marker\":{\"pattern\":{\"fillmode\":\"overlay\",\"size\":10,\"solidity\":0.2}},\"type\":\"histogram\"}],\"scattergl\":[{\"type\":\"scattergl\",\"marker\":{\"colorbar\":{\"outlinewidth\":0,\"ticks\":\"\"}}}],\"scatter3d\":[{\"type\":\"scatter3d\",\"line\":{\"colorbar\":{\"outlinewidth\":0,\"ticks\":\"\"}},\"marker\":{\"colorbar\":{\"outlinewidth\":0,\"ticks\":\"\"}}}],\"scattermapbox\":[{\"type\":\"scattermapbox\",\"marker\":{\"colorbar\":{\"outlinewidth\":0,\"ticks\":\"\"}}}],\"scatterternary\":[{\"type\":\"scatterternary\",\"marker\":{\"colorbar\":{\"outlinewidth\":0,\"ticks\":\"\"}}}],\"scattercarpet\":[{\"type\":\"scattercarpet\",\"marker\":{\"colorbar\":{\"outlinewidth\":0,\"ticks\":\"\"}}}],\"carpet\":[{\"aaxis\":{\"endlinecolor\":\"#2a3f5f\",\"gridcolor\":\"white\",\"linecolor\":\"white\",\"minorgridcolor\":\"white\",\"startlinecolor\":\"#2a3f5f\"},\"baxis\":{\"endlinecolor\":\"#2a3f5f\",\"gridcolor\":\"white\",\"linecolor\":\"white\",\"minorgridcolor\":\"white\",\"startlinecolor\":\"#2a3f5f\"},\"type\":\"carpet\"}],\"table\":[{\"cells\":{\"fill\":{\"color\":\"#EBF0F8\"},\"line\":{\"color\":\"white\"}},\"header\":{\"fill\":{\"color\":\"#C8D4E3\"},\"line\":{\"color\":\"white\"}},\"type\":\"table\"}],\"barpolar\":[{\"marker\":{\"line\":{\"color\":\"#E5ECF6\",\"width\":0.5},\"pattern\":{\"fillmode\":\"overlay\",\"size\":10,\"solidity\":0.2}},\"type\":\"barpolar\"}],\"pie\":[{\"automargin\":true,\"type\":\"pie\"}]},\"layout\":{\"autotypenumbers\":\"strict\",\"colorway\":[\"#636efa\",\"#EF553B\",\"#00cc96\",\"#ab63fa\",\"#FFA15A\",\"#19d3f3\",\"#FF6692\",\"#B6E880\",\"#FF97FF\",\"#FECB52\"],\"font\":{\"color\":\"#2a3f5f\"},\"hovermode\":\"closest\",\"hoverlabel\":{\"align\":\"left\"},\"paper_bgcolor\":\"white\",\"plot_bgcolor\":\"#E5ECF6\",\"polar\":{\"bgcolor\":\"#E5ECF6\",\"angularaxis\":{\"gridcolor\":\"white\",\"linecolor\":\"white\",\"ticks\":\"\"},\"radialaxis\":{\"gridcolor\":\"white\",\"linecolor\":\"white\",\"ticks\":\"\"}},\"ternary\":{\"bgcolor\":\"#E5ECF6\",\"aaxis\":{\"gridcolor\":\"white\",\"linecolor\":\"white\",\"ticks\":\"\"},\"baxis\":{\"gridcolor\":\"white\",\"linecolor\":\"white\",\"ticks\":\"\"},\"caxis\":{\"gridcolor\":\"white\",\"linecolor\":\"white\",\"ticks\":\"\"}},\"coloraxis\":{\"colorbar\":{\"outlinewidth\":0,\"ticks\":\"\"}},\"colorscale\":{\"sequential\":[[0.0,\"#0d0887\"],[0.1111111111111111,\"#46039f\"],[0.2222222222222222,\"#7201a8\"],[0.3333333333333333,\"#9c179e\"],[0.4444444444444444,\"#bd3786\"],[0.5555555555555556,\"#d8576b\"],[0.6666666666666666,\"#ed7953\"],[0.7777777777777778,\"#fb9f3a\"],[0.8888888888888888,\"#fdca26\"],[1.0,\"#f0f921\"]],\"sequentialminus\":[[0.0,\"#0d0887\"],[0.1111111111111111,\"#46039f\"],[0.2222222222222222,\"#7201a8\"],[0.3333333333333333,\"#9c179e\"],[0.4444444444444444,\"#bd3786\"],[0.5555555555555556,\"#d8576b\"],[0.6666666666666666,\"#ed7953\"],[0.7777777777777778,\"#fb9f3a\"],[0.8888888888888888,\"#fdca26\"],[1.0,\"#f0f921\"]],\"diverging\":[[0,\"#8e0152\"],[0.1,\"#c51b7d\"],[0.2,\"#de77ae\"],[0.3,\"#f1b6da\"],[0.4,\"#fde0ef\"],[0.5,\"#f7f7f7\"],[0.6,\"#e6f5d0\"],[0.7,\"#b8e186\"],[0.8,\"#7fbc41\"],[0.9,\"#4d9221\"],[1,\"#276419\"]]},\"xaxis\":{\"gridcolor\":\"white\",\"linecolor\":\"white\",\"ticks\":\"\",\"title\":{\"standoff\":15},\"zerolinecolor\":\"white\",\"automargin\":true,\"zerolinewidth\":2},\"yaxis\":{\"gridcolor\":\"white\",\"linecolor\":\"white\",\"ticks\":\"\",\"title\":{\"standoff\":15},\"zerolinecolor\":\"white\",\"automargin\":true,\"zerolinewidth\":2},\"scene\":{\"xaxis\":{\"backgroundcolor\":\"#E5ECF6\",\"gridcolor\":\"white\",\"linecolor\":\"white\",\"showbackground\":true,\"ticks\":\"\",\"zerolinecolor\":\"white\",\"gridwidth\":2},\"yaxis\":{\"backgroundcolor\":\"#E5ECF6\",\"gridcolor\":\"white\",\"linecolor\":\"white\",\"showbackground\":true,\"ticks\":\"\",\"zerolinecolor\":\"white\",\"gridwidth\":2},\"zaxis\":{\"backgroundcolor\":\"#E5ECF6\",\"gridcolor\":\"white\",\"linecolor\":\"white\",\"showbackground\":true,\"ticks\":\"\",\"zerolinecolor\":\"white\",\"gridwidth\":2}},\"shapedefaults\":{\"line\":{\"color\":\"#2a3f5f\"}},\"annotationdefaults\":{\"arrowcolor\":\"#2a3f5f\",\"arrowhead\":0,\"arrowwidth\":1},\"geo\":{\"bgcolor\":\"white\",\"landcolor\":\"#E5ECF6\",\"subunitcolor\":\"white\",\"showland\":true,\"showlakes\":true,\"lakecolor\":\"white\"},\"title\":{\"x\":0.05},\"mapbox\":{\"style\":\"light\"}}},\"xaxis\":{\"anchor\":\"y\",\"domain\":[0.0,1.0],\"title\":{\"text\":\"Account\"}},\"yaxis\":{\"anchor\":\"x\",\"domain\":[0.0,1.0],\"title\":{\"text\":\"Ending Balance\"}},\"legend\":{\"tracegroupgap\":0},\"margin\":{\"t\":60},\"barmode\":\"relative\"},                        {\"responsive\": true}                    ).then(function(){\n",
       "                            \n",
       "var gd = document.getElementById('cec75ad3-57b3-4044-828f-cc10f0d8c052');\n",
       "var x = new MutationObserver(function (mutations, observer) {{\n",
       "        var display = window.getComputedStyle(gd).display;\n",
       "        if (!display || display === 'none') {{\n",
       "            console.log([gd, 'removed!']);\n",
       "            Plotly.purge(gd);\n",
       "            observer.disconnect();\n",
       "        }}\n",
       "}});\n",
       "\n",
       "// Listen for the removal of the full notebook cells\n",
       "var notebookContainer = gd.closest('#notebook-container');\n",
       "if (notebookContainer) {{\n",
       "    x.observe(notebookContainer, {childList: true});\n",
       "}}\n",
       "\n",
       "// Listen for the clearing of the current output cell\n",
       "var outputEl = gd.closest('.output');\n",
       "if (outputEl) {{\n",
       "    x.observe(outputEl, {childList: true});\n",
       "}}\n",
       "\n",
       "                        })                };                });            </script>        </div>"
      ]
     },
     "metadata": {},
     "output_type": "display_data"
    }
   ],
   "source": [
    "fig = px.bar(acct_bals, x=acct_bals.index, y=\"Ending Balance\")\n",
    "fig.show()"
   ]
  },
  {
   "cell_type": "code",
   "execution_count": 35,
   "id": "a48c5121-5eae-4aeb-822d-6e151839bd48",
   "metadata": {},
   "outputs": [],
   "source": [
    "#flow = trans.groupby([\"From\", \"To\"])\n",
    "pt = trans.copy()\n",
    "pt.loc[trans[\"Amount\"] < 0, \"To\"] = trans.loc[trans[\"Amount\"] < 0, \"From\"]\n",
    "pt.loc[trans[\"Amount\"] < 0, \"From\"] = trans.loc[trans[\"Amount\"] < 0, \"To\"]\n",
    "pt.loc[trans[\"Amount\"] < 0, \"Amount\"] = -1 * trans.loc[trans[\"Amount\"] < 0, \"Amount\"]\n",
    "flow = pt.groupby([\"From\", \"To\"])"
   ]
  },
  {
   "cell_type": "code",
   "execution_count": 36,
   "id": "5766ecbf-4826-4ab2-b119-f8a993ac6c5e",
   "metadata": {},
   "outputs": [
    {
     "data": {
      "text/html": [
       "<div>\n",
       "<style scoped>\n",
       "    .dataframe tbody tr th:only-of-type {\n",
       "        vertical-align: middle;\n",
       "    }\n",
       "\n",
       "    .dataframe tbody tr th {\n",
       "        vertical-align: top;\n",
       "    }\n",
       "\n",
       "    .dataframe thead th {\n",
       "        text-align: right;\n",
       "    }\n",
       "</style>\n",
       "<table border=\"1\" class=\"dataframe\">\n",
       "  <thead>\n",
       "    <tr style=\"text-align: right;\">\n",
       "      <th></th>\n",
       "      <th></th>\n",
       "      <th>Amount</th>\n",
       "    </tr>\n",
       "    <tr>\n",
       "      <th>From</th>\n",
       "      <th>To</th>\n",
       "      <th></th>\n",
       "    </tr>\n",
       "  </thead>\n",
       "  <tbody>\n",
       "    <tr>\n",
       "      <th></th>\n",
       "      <th>Assets:1st Source:Checking</th>\n",
       "      <td>5344.99</td>\n",
       "    </tr>\n",
       "    <tr>\n",
       "      <th rowspan=\"11\" valign=\"top\">Assets:1st Source:Checking</th>\n",
       "      <th></th>\n",
       "      <td>4307.60</td>\n",
       "    </tr>\n",
       "    <tr>\n",
       "      <th>Expenses:Auto:Insurance</th>\n",
       "      <td>1597.15</td>\n",
       "    </tr>\n",
       "    <tr>\n",
       "      <th>Expenses:Gifts</th>\n",
       "      <td>125.00</td>\n",
       "    </tr>\n",
       "    <tr>\n",
       "      <th>Expenses:Groceries</th>\n",
       "      <td>4887.00</td>\n",
       "    </tr>\n",
       "    <tr>\n",
       "      <th>Expenses:Home:Mortgage</th>\n",
       "      <td>11552.70</td>\n",
       "    </tr>\n",
       "    <tr>\n",
       "      <th>Expenses:Pet:Care</th>\n",
       "      <td>720.00</td>\n",
       "    </tr>\n",
       "    <tr>\n",
       "      <th>Expenses:Utilities</th>\n",
       "      <td>4250.05</td>\n",
       "    </tr>\n",
       "    <tr>\n",
       "      <th>Liabilities:Apple:Credit Card</th>\n",
       "      <td>2315.13</td>\n",
       "    </tr>\n",
       "    <tr>\n",
       "      <th>Transfer:Ally:Savings</th>\n",
       "      <td>9600.00</td>\n",
       "    </tr>\n",
       "    <tr>\n",
       "      <th>Transfer:Apple:Credit Card</th>\n",
       "      <td>32866.90</td>\n",
       "    </tr>\n",
       "    <tr>\n",
       "      <th>Transfer:NDFCU:Credit Card</th>\n",
       "      <td>33507.17</td>\n",
       "    </tr>\n",
       "    <tr>\n",
       "      <th>Assets:Ally:Savings</th>\n",
       "      <th>Transfer:Ally:Savings</th>\n",
       "      <td>1000.00</td>\n",
       "    </tr>\n",
       "    <tr>\n",
       "      <th>Expenses:Groceries</th>\n",
       "      <th>Assets:1st Source:Checking</th>\n",
       "      <td>337.50</td>\n",
       "    </tr>\n",
       "    <tr>\n",
       "      <th>Expenses:Medical:Body</th>\n",
       "      <th>Liabilities:NDFCU:Credit Card</th>\n",
       "      <td>76.50</td>\n",
       "    </tr>\n",
       "    <tr>\n",
       "      <th>Income:Apple Cash</th>\n",
       "      <th>Liabilities:Apple:Credit Card</th>\n",
       "      <td>40.45</td>\n",
       "    </tr>\n",
       "    <tr>\n",
       "      <th rowspan=\"2\" valign=\"top\">Income:Interest</th>\n",
       "      <th>Assets:1st Source:Checking</th>\n",
       "      <td>3.92</td>\n",
       "    </tr>\n",
       "    <tr>\n",
       "      <th>Assets:Ally:Savings</th>\n",
       "      <td>68.95</td>\n",
       "    </tr>\n",
       "    <tr>\n",
       "      <th>Income:Notre Dame:Regular</th>\n",
       "      <th>Assets:1st Source:Checking</th>\n",
       "      <td>92390.59</td>\n",
       "    </tr>\n",
       "    <tr>\n",
       "      <th rowspan=\"15\" valign=\"top\">Liabilities:Apple:Credit Card</th>\n",
       "      <th>Expenses:Auto:Gas</th>\n",
       "      <td>8.43</td>\n",
       "    </tr>\n",
       "    <tr>\n",
       "      <th>Expenses:Auto:Tolls</th>\n",
       "      <td>127.50</td>\n",
       "    </tr>\n",
       "    <tr>\n",
       "      <th>Expenses:Clothing</th>\n",
       "      <td>481.50</td>\n",
       "    </tr>\n",
       "    <tr>\n",
       "      <th>Expenses:Entertainment</th>\n",
       "      <td>56.18</td>\n",
       "    </tr>\n",
       "    <tr>\n",
       "      <th>Expenses:Entertainment:Reading</th>\n",
       "      <td>12.99</td>\n",
       "    </tr>\n",
       "    <tr>\n",
       "      <th>Expenses:Entertainment:Self</th>\n",
       "      <td>142.54</td>\n",
       "    </tr>\n",
       "    <tr>\n",
       "      <th>Expenses:Gear</th>\n",
       "      <td>101.65</td>\n",
       "    </tr>\n",
       "    <tr>\n",
       "      <th>Expenses:Groceries</th>\n",
       "      <td>453.69</td>\n",
       "    </tr>\n",
       "    <tr>\n",
       "      <th>Expenses:Home:Cleaning</th>\n",
       "      <td>278.00</td>\n",
       "    </tr>\n",
       "    <tr>\n",
       "      <th>Expenses:Medical:Body</th>\n",
       "      <td>38.96</td>\n",
       "    </tr>\n",
       "    <tr>\n",
       "      <th>Expenses:Restaurants</th>\n",
       "      <td>1.50</td>\n",
       "    </tr>\n",
       "    <tr>\n",
       "      <th>Expenses:Study</th>\n",
       "      <td>77.92</td>\n",
       "    </tr>\n",
       "    <tr>\n",
       "      <th>Expenses:Subscription</th>\n",
       "      <td>114.83</td>\n",
       "    </tr>\n",
       "    <tr>\n",
       "      <th>Expenses:Utilities</th>\n",
       "      <td>175.12</td>\n",
       "    </tr>\n",
       "    <tr>\n",
       "      <th>Liabilities:Apple:Installments</th>\n",
       "      <td>62.41</td>\n",
       "    </tr>\n",
       "    <tr>\n",
       "      <th rowspan=\"9\" valign=\"top\">Liabilities:NDFCU:Credit Card</th>\n",
       "      <th>Expenses:Auto:Fuel</th>\n",
       "      <td>31.94</td>\n",
       "    </tr>\n",
       "    <tr>\n",
       "      <th>Expenses:Groceries</th>\n",
       "      <td>226.65</td>\n",
       "    </tr>\n",
       "    <tr>\n",
       "      <th>Expenses:Home</th>\n",
       "      <td>237.35</td>\n",
       "    </tr>\n",
       "    <tr>\n",
       "      <th>Expenses:Medical:Body</th>\n",
       "      <td>68.39</td>\n",
       "    </tr>\n",
       "    <tr>\n",
       "      <th>Expenses:Medical:Therapy</th>\n",
       "      <td>132.46</td>\n",
       "    </tr>\n",
       "    <tr>\n",
       "      <th>Expenses:Pet</th>\n",
       "      <td>542.78</td>\n",
       "    </tr>\n",
       "    <tr>\n",
       "      <th>Expenses:Restaurants</th>\n",
       "      <td>146.58</td>\n",
       "    </tr>\n",
       "    <tr>\n",
       "      <th>Expenses:Subscriptions</th>\n",
       "      <td>55.97</td>\n",
       "    </tr>\n",
       "    <tr>\n",
       "      <th>Expenses:Utilities</th>\n",
       "      <td>107.05</td>\n",
       "    </tr>\n",
       "    <tr>\n",
       "      <th rowspan=\"2\" valign=\"top\">Transfer:Ally:Savings</th>\n",
       "      <th>Assets:1st Source:Checking</th>\n",
       "      <td>3000.00</td>\n",
       "    </tr>\n",
       "    <tr>\n",
       "      <th>Assets:Ally:Savings</th>\n",
       "      <td>1200.00</td>\n",
       "    </tr>\n",
       "  </tbody>\n",
       "</table>\n",
       "</div>"
      ],
      "text/plain": [
       "                                                                Amount\n",
       "From                          To                                      \n",
       "                              Assets:1st Source:Checking       5344.99\n",
       "Assets:1st Source:Checking                                     4307.60\n",
       "                              Expenses:Auto:Insurance          1597.15\n",
       "                              Expenses:Gifts                    125.00\n",
       "                              Expenses:Groceries               4887.00\n",
       "                              Expenses:Home:Mortgage          11552.70\n",
       "                              Expenses:Pet:Care                 720.00\n",
       "                              Expenses:Utilities               4250.05\n",
       "                              Liabilities:Apple:Credit Card    2315.13\n",
       "                              Transfer:Ally:Savings            9600.00\n",
       "                              Transfer:Apple:Credit Card      32866.90\n",
       "                              Transfer:NDFCU:Credit Card      33507.17\n",
       "Assets:Ally:Savings           Transfer:Ally:Savings            1000.00\n",
       "Expenses:Groceries            Assets:1st Source:Checking        337.50\n",
       "Expenses:Medical:Body         Liabilities:NDFCU:Credit Card      76.50\n",
       "Income:Apple Cash             Liabilities:Apple:Credit Card      40.45\n",
       "Income:Interest               Assets:1st Source:Checking          3.92\n",
       "                              Assets:Ally:Savings                68.95\n",
       "Income:Notre Dame:Regular     Assets:1st Source:Checking      92390.59\n",
       "Liabilities:Apple:Credit Card Expenses:Auto:Gas                   8.43\n",
       "                              Expenses:Auto:Tolls               127.50\n",
       "                              Expenses:Clothing                 481.50\n",
       "                              Expenses:Entertainment             56.18\n",
       "                              Expenses:Entertainment:Reading     12.99\n",
       "                              Expenses:Entertainment:Self       142.54\n",
       "                              Expenses:Gear                     101.65\n",
       "                              Expenses:Groceries                453.69\n",
       "                              Expenses:Home:Cleaning            278.00\n",
       "                              Expenses:Medical:Body              38.96\n",
       "                              Expenses:Restaurants                1.50\n",
       "                              Expenses:Study                     77.92\n",
       "                              Expenses:Subscription             114.83\n",
       "                              Expenses:Utilities                175.12\n",
       "                              Liabilities:Apple:Installments     62.41\n",
       "Liabilities:NDFCU:Credit Card Expenses:Auto:Fuel                 31.94\n",
       "                              Expenses:Groceries                226.65\n",
       "                              Expenses:Home                     237.35\n",
       "                              Expenses:Medical:Body              68.39\n",
       "                              Expenses:Medical:Therapy          132.46\n",
       "                              Expenses:Pet                      542.78\n",
       "                              Expenses:Restaurants              146.58\n",
       "                              Expenses:Subscriptions             55.97\n",
       "                              Expenses:Utilities                107.05\n",
       "Transfer:Ally:Savings         Assets:1st Source:Checking       3000.00\n",
       "                              Assets:Ally:Savings              1200.00"
      ]
     },
     "execution_count": 36,
     "metadata": {},
     "output_type": "execute_result"
    }
   ],
   "source": [
    "flow_df = pd.DataFrame(flow.Amount.aggregate(\"sum\"))\n",
    "flow_df"
   ]
  },
  {
   "cell_type": "code",
   "execution_count": 37,
   "id": "c496c154-c196-468d-ae60-bb43395e68b4",
   "metadata": {
    "scrolled": true
   },
   "outputs": [
    {
     "data": {
      "text/plain": [
       "['',\n",
       " 'Income:Notre Dame:Regular',\n",
       " 'Expenses:Home:Mortgage',\n",
       " 'Income:Interest',\n",
       " 'Expenses:Home:Cleaning',\n",
       " 'Expenses:Subscriptions',\n",
       " 'Liabilities:Apple:Installments',\n",
       " 'Expenses:Subscription',\n",
       " 'Expenses:Gear',\n",
       " 'Expenses:Auto:Insurance',\n",
       " 'Expenses:Restaurants',\n",
       " 'Transfer:Apple:Credit Card',\n",
       " 'Expenses:Auto:Gas',\n",
       " 'Income:Apple Cash',\n",
       " 'Expenses:Medical:Therapy',\n",
       " 'Expenses:Gifts',\n",
       " 'Expenses:Entertainment',\n",
       " 'Expenses:Auto:Tolls',\n",
       " 'Expenses:Home',\n",
       " 'Liabilities:NDFCU:Credit Card',\n",
       " 'Expenses:Entertainment:Reading',\n",
       " 'Liabilities:Apple:Credit Card',\n",
       " 'Transfer:NDFCU:Credit Card',\n",
       " 'Expenses:Groceries',\n",
       " 'Expenses:Utilities',\n",
       " 'Expenses:Study',\n",
       " 'Assets:Ally:Savings',\n",
       " 'Expenses:Medical:Body',\n",
       " 'Expenses:Pet:Care',\n",
       " 'Expenses:Auto:Fuel',\n",
       " 'Expenses:Clothing',\n",
       " 'Expenses:Pet',\n",
       " 'Assets:1st Source:Checking',\n",
       " 'Expenses:Entertainment:Self',\n",
       " 'Transfer:Ally:Savings']"
      ]
     },
     "execution_count": 37,
     "metadata": {},
     "output_type": "execute_result"
    }
   ],
   "source": [
    "accts = list(accounts(flow_df.index.to_frame()))\n",
    "\n",
    "labels = accts\n",
    "sources = [accts.index(a) for a in flow_df.index.to_frame()[\"From\"].values]\n",
    "targets = [accts.index(a) for a in flow_df.index.to_frame()[\"To\"].values]\n",
    "values = flow_df[\"Amount\"]\n",
    "\n",
    "f = go.Figure(data=[go.Sankey(\n",
    "    node = dict(\n",
    "        pad=15,\n",
    "        thickness = 5,\n",
    "        line=dict(color = \"black\", width = 0.5),\n",
    "        label = labels\n",
    "    ),\n",
    "    link = dict(\n",
    "        source = sources,\n",
    "        target = targets,\n",
    "        value = values.values,\n",
    "    )\n",
    ")\n",
    "                   ]\n",
    "             )\n",
    "\n",
    "labels"
   ]
  },
  {
   "cell_type": "code",
   "execution_count": 38,
   "id": "52583531-ba4f-4158-861d-afe71b91bb3e",
   "metadata": {},
   "outputs": [
    {
     "data": {
      "application/vnd.plotly.v1+json": {
       "config": {
        "plotlyServerURL": "https://plot.ly"
       },
       "data": [
        {
         "link": {
          "source": [
           0,
           32,
           32,
           32,
           32,
           32,
           32,
           32,
           32,
           32,
           32,
           32,
           26,
           23,
           27,
           13,
           3,
           3,
           1,
           21,
           21,
           21,
           21,
           21,
           21,
           21,
           21,
           21,
           21,
           21,
           21,
           21,
           21,
           21,
           19,
           19,
           19,
           19,
           19,
           19,
           19,
           19,
           19,
           34,
           34
          ],
          "target": [
           32,
           0,
           9,
           15,
           23,
           2,
           28,
           24,
           21,
           34,
           11,
           22,
           34,
           32,
           19,
           21,
           32,
           26,
           32,
           12,
           17,
           30,
           16,
           20,
           33,
           8,
           23,
           4,
           27,
           10,
           25,
           7,
           24,
           6,
           29,
           23,
           18,
           27,
           14,
           31,
           10,
           5,
           24,
           32,
           26
          ],
          "value": [
           5344.99,
           4307.6,
           1597.1499999999999,
           125,
           4887,
           11552.7,
           720,
           4250.05,
           2315.13,
           9600,
           32866.9,
           33507.17,
           1000,
           337.5,
           76.5,
           40.45,
           3.92,
           68.95,
           92390.59,
           8.43,
           127.5,
           481.5,
           56.18,
           12.99,
           142.54,
           101.65,
           453.69,
           278,
           38.96,
           1.5,
           77.92,
           114.83,
           175.12,
           62.41,
           31.94,
           226.64999999999998,
           237.35000000000002,
           68.39,
           132.46,
           542.78,
           146.57999999999998,
           55.97,
           107.05,
           3000,
           1200
          ]
         },
         "node": {
          "label": [
           "",
           "Income:Notre Dame:Regular",
           "Expenses:Home:Mortgage",
           "Income:Interest",
           "Expenses:Home:Cleaning",
           "Expenses:Subscriptions",
           "Liabilities:Apple:Installments",
           "Expenses:Subscription",
           "Expenses:Gear",
           "Expenses:Auto:Insurance",
           "Expenses:Restaurants",
           "Transfer:Apple:Credit Card",
           "Expenses:Auto:Gas",
           "Income:Apple Cash",
           "Expenses:Medical:Therapy",
           "Expenses:Gifts",
           "Expenses:Entertainment",
           "Expenses:Auto:Tolls",
           "Expenses:Home",
           "Liabilities:NDFCU:Credit Card",
           "Expenses:Entertainment:Reading",
           "Liabilities:Apple:Credit Card",
           "Transfer:NDFCU:Credit Card",
           "Expenses:Groceries",
           "Expenses:Utilities",
           "Expenses:Study",
           "Assets:Ally:Savings",
           "Expenses:Medical:Body",
           "Expenses:Pet:Care",
           "Expenses:Auto:Fuel",
           "Expenses:Clothing",
           "Expenses:Pet",
           "Assets:1st Source:Checking",
           "Expenses:Entertainment:Self",
           "Transfer:Ally:Savings"
          ],
          "line": {
           "color": "black",
           "width": 0.5
          },
          "pad": 15,
          "thickness": 5
         },
         "type": "sankey"
        }
       ],
       "layout": {
        "autosize": true,
        "template": {
         "data": {
          "bar": [
           {
            "error_x": {
             "color": "#2a3f5f"
            },
            "error_y": {
             "color": "#2a3f5f"
            },
            "marker": {
             "line": {
              "color": "#E5ECF6",
              "width": 0.5
             },
             "pattern": {
              "fillmode": "overlay",
              "size": 10,
              "solidity": 0.2
             }
            },
            "type": "bar"
           }
          ],
          "barpolar": [
           {
            "marker": {
             "line": {
              "color": "#E5ECF6",
              "width": 0.5
             },
             "pattern": {
              "fillmode": "overlay",
              "size": 10,
              "solidity": 0.2
             }
            },
            "type": "barpolar"
           }
          ],
          "carpet": [
           {
            "aaxis": {
             "endlinecolor": "#2a3f5f",
             "gridcolor": "white",
             "linecolor": "white",
             "minorgridcolor": "white",
             "startlinecolor": "#2a3f5f"
            },
            "baxis": {
             "endlinecolor": "#2a3f5f",
             "gridcolor": "white",
             "linecolor": "white",
             "minorgridcolor": "white",
             "startlinecolor": "#2a3f5f"
            },
            "type": "carpet"
           }
          ],
          "choropleth": [
           {
            "colorbar": {
             "outlinewidth": 0,
             "ticks": ""
            },
            "type": "choropleth"
           }
          ],
          "contour": [
           {
            "colorbar": {
             "outlinewidth": 0,
             "ticks": ""
            },
            "colorscale": [
             [
              0,
              "#0d0887"
             ],
             [
              0.1111111111111111,
              "#46039f"
             ],
             [
              0.2222222222222222,
              "#7201a8"
             ],
             [
              0.3333333333333333,
              "#9c179e"
             ],
             [
              0.4444444444444444,
              "#bd3786"
             ],
             [
              0.5555555555555556,
              "#d8576b"
             ],
             [
              0.6666666666666666,
              "#ed7953"
             ],
             [
              0.7777777777777778,
              "#fb9f3a"
             ],
             [
              0.8888888888888888,
              "#fdca26"
             ],
             [
              1,
              "#f0f921"
             ]
            ],
            "type": "contour"
           }
          ],
          "contourcarpet": [
           {
            "colorbar": {
             "outlinewidth": 0,
             "ticks": ""
            },
            "type": "contourcarpet"
           }
          ],
          "heatmap": [
           {
            "colorbar": {
             "outlinewidth": 0,
             "ticks": ""
            },
            "colorscale": [
             [
              0,
              "#0d0887"
             ],
             [
              0.1111111111111111,
              "#46039f"
             ],
             [
              0.2222222222222222,
              "#7201a8"
             ],
             [
              0.3333333333333333,
              "#9c179e"
             ],
             [
              0.4444444444444444,
              "#bd3786"
             ],
             [
              0.5555555555555556,
              "#d8576b"
             ],
             [
              0.6666666666666666,
              "#ed7953"
             ],
             [
              0.7777777777777778,
              "#fb9f3a"
             ],
             [
              0.8888888888888888,
              "#fdca26"
             ],
             [
              1,
              "#f0f921"
             ]
            ],
            "type": "heatmap"
           }
          ],
          "heatmapgl": [
           {
            "colorbar": {
             "outlinewidth": 0,
             "ticks": ""
            },
            "colorscale": [
             [
              0,
              "#0d0887"
             ],
             [
              0.1111111111111111,
              "#46039f"
             ],
             [
              0.2222222222222222,
              "#7201a8"
             ],
             [
              0.3333333333333333,
              "#9c179e"
             ],
             [
              0.4444444444444444,
              "#bd3786"
             ],
             [
              0.5555555555555556,
              "#d8576b"
             ],
             [
              0.6666666666666666,
              "#ed7953"
             ],
             [
              0.7777777777777778,
              "#fb9f3a"
             ],
             [
              0.8888888888888888,
              "#fdca26"
             ],
             [
              1,
              "#f0f921"
             ]
            ],
            "type": "heatmapgl"
           }
          ],
          "histogram": [
           {
            "marker": {
             "pattern": {
              "fillmode": "overlay",
              "size": 10,
              "solidity": 0.2
             }
            },
            "type": "histogram"
           }
          ],
          "histogram2d": [
           {
            "colorbar": {
             "outlinewidth": 0,
             "ticks": ""
            },
            "colorscale": [
             [
              0,
              "#0d0887"
             ],
             [
              0.1111111111111111,
              "#46039f"
             ],
             [
              0.2222222222222222,
              "#7201a8"
             ],
             [
              0.3333333333333333,
              "#9c179e"
             ],
             [
              0.4444444444444444,
              "#bd3786"
             ],
             [
              0.5555555555555556,
              "#d8576b"
             ],
             [
              0.6666666666666666,
              "#ed7953"
             ],
             [
              0.7777777777777778,
              "#fb9f3a"
             ],
             [
              0.8888888888888888,
              "#fdca26"
             ],
             [
              1,
              "#f0f921"
             ]
            ],
            "type": "histogram2d"
           }
          ],
          "histogram2dcontour": [
           {
            "colorbar": {
             "outlinewidth": 0,
             "ticks": ""
            },
            "colorscale": [
             [
              0,
              "#0d0887"
             ],
             [
              0.1111111111111111,
              "#46039f"
             ],
             [
              0.2222222222222222,
              "#7201a8"
             ],
             [
              0.3333333333333333,
              "#9c179e"
             ],
             [
              0.4444444444444444,
              "#bd3786"
             ],
             [
              0.5555555555555556,
              "#d8576b"
             ],
             [
              0.6666666666666666,
              "#ed7953"
             ],
             [
              0.7777777777777778,
              "#fb9f3a"
             ],
             [
              0.8888888888888888,
              "#fdca26"
             ],
             [
              1,
              "#f0f921"
             ]
            ],
            "type": "histogram2dcontour"
           }
          ],
          "mesh3d": [
           {
            "colorbar": {
             "outlinewidth": 0,
             "ticks": ""
            },
            "type": "mesh3d"
           }
          ],
          "parcoords": [
           {
            "line": {
             "colorbar": {
              "outlinewidth": 0,
              "ticks": ""
             }
            },
            "type": "parcoords"
           }
          ],
          "pie": [
           {
            "automargin": true,
            "type": "pie"
           }
          ],
          "scatter": [
           {
            "fillpattern": {
             "fillmode": "overlay",
             "size": 10,
             "solidity": 0.2
            },
            "type": "scatter"
           }
          ],
          "scatter3d": [
           {
            "line": {
             "colorbar": {
              "outlinewidth": 0,
              "ticks": ""
             }
            },
            "marker": {
             "colorbar": {
              "outlinewidth": 0,
              "ticks": ""
             }
            },
            "type": "scatter3d"
           }
          ],
          "scattercarpet": [
           {
            "marker": {
             "colorbar": {
              "outlinewidth": 0,
              "ticks": ""
             }
            },
            "type": "scattercarpet"
           }
          ],
          "scattergeo": [
           {
            "marker": {
             "colorbar": {
              "outlinewidth": 0,
              "ticks": ""
             }
            },
            "type": "scattergeo"
           }
          ],
          "scattergl": [
           {
            "marker": {
             "colorbar": {
              "outlinewidth": 0,
              "ticks": ""
             }
            },
            "type": "scattergl"
           }
          ],
          "scattermapbox": [
           {
            "marker": {
             "colorbar": {
              "outlinewidth": 0,
              "ticks": ""
             }
            },
            "type": "scattermapbox"
           }
          ],
          "scatterpolar": [
           {
            "marker": {
             "colorbar": {
              "outlinewidth": 0,
              "ticks": ""
             }
            },
            "type": "scatterpolar"
           }
          ],
          "scatterpolargl": [
           {
            "marker": {
             "colorbar": {
              "outlinewidth": 0,
              "ticks": ""
             }
            },
            "type": "scatterpolargl"
           }
          ],
          "scatterternary": [
           {
            "marker": {
             "colorbar": {
              "outlinewidth": 0,
              "ticks": ""
             }
            },
            "type": "scatterternary"
           }
          ],
          "surface": [
           {
            "colorbar": {
             "outlinewidth": 0,
             "ticks": ""
            },
            "colorscale": [
             [
              0,
              "#0d0887"
             ],
             [
              0.1111111111111111,
              "#46039f"
             ],
             [
              0.2222222222222222,
              "#7201a8"
             ],
             [
              0.3333333333333333,
              "#9c179e"
             ],
             [
              0.4444444444444444,
              "#bd3786"
             ],
             [
              0.5555555555555556,
              "#d8576b"
             ],
             [
              0.6666666666666666,
              "#ed7953"
             ],
             [
              0.7777777777777778,
              "#fb9f3a"
             ],
             [
              0.8888888888888888,
              "#fdca26"
             ],
             [
              1,
              "#f0f921"
             ]
            ],
            "type": "surface"
           }
          ],
          "table": [
           {
            "cells": {
             "fill": {
              "color": "#EBF0F8"
             },
             "line": {
              "color": "white"
             }
            },
            "header": {
             "fill": {
              "color": "#C8D4E3"
             },
             "line": {
              "color": "white"
             }
            },
            "type": "table"
           }
          ]
         },
         "layout": {
          "annotationdefaults": {
           "arrowcolor": "#2a3f5f",
           "arrowhead": 0,
           "arrowwidth": 1
          },
          "autotypenumbers": "strict",
          "coloraxis": {
           "colorbar": {
            "outlinewidth": 0,
            "ticks": ""
           }
          },
          "colorscale": {
           "diverging": [
            [
             0,
             "#8e0152"
            ],
            [
             0.1,
             "#c51b7d"
            ],
            [
             0.2,
             "#de77ae"
            ],
            [
             0.3,
             "#f1b6da"
            ],
            [
             0.4,
             "#fde0ef"
            ],
            [
             0.5,
             "#f7f7f7"
            ],
            [
             0.6,
             "#e6f5d0"
            ],
            [
             0.7,
             "#b8e186"
            ],
            [
             0.8,
             "#7fbc41"
            ],
            [
             0.9,
             "#4d9221"
            ],
            [
             1,
             "#276419"
            ]
           ],
           "sequential": [
            [
             0,
             "#0d0887"
            ],
            [
             0.1111111111111111,
             "#46039f"
            ],
            [
             0.2222222222222222,
             "#7201a8"
            ],
            [
             0.3333333333333333,
             "#9c179e"
            ],
            [
             0.4444444444444444,
             "#bd3786"
            ],
            [
             0.5555555555555556,
             "#d8576b"
            ],
            [
             0.6666666666666666,
             "#ed7953"
            ],
            [
             0.7777777777777778,
             "#fb9f3a"
            ],
            [
             0.8888888888888888,
             "#fdca26"
            ],
            [
             1,
             "#f0f921"
            ]
           ],
           "sequentialminus": [
            [
             0,
             "#0d0887"
            ],
            [
             0.1111111111111111,
             "#46039f"
            ],
            [
             0.2222222222222222,
             "#7201a8"
            ],
            [
             0.3333333333333333,
             "#9c179e"
            ],
            [
             0.4444444444444444,
             "#bd3786"
            ],
            [
             0.5555555555555556,
             "#d8576b"
            ],
            [
             0.6666666666666666,
             "#ed7953"
            ],
            [
             0.7777777777777778,
             "#fb9f3a"
            ],
            [
             0.8888888888888888,
             "#fdca26"
            ],
            [
             1,
             "#f0f921"
            ]
           ]
          },
          "colorway": [
           "#636efa",
           "#EF553B",
           "#00cc96",
           "#ab63fa",
           "#FFA15A",
           "#19d3f3",
           "#FF6692",
           "#B6E880",
           "#FF97FF",
           "#FECB52"
          ],
          "font": {
           "color": "#2a3f5f"
          },
          "geo": {
           "bgcolor": "white",
           "lakecolor": "white",
           "landcolor": "#E5ECF6",
           "showlakes": true,
           "showland": true,
           "subunitcolor": "white"
          },
          "hoverlabel": {
           "align": "left"
          },
          "hovermode": "closest",
          "mapbox": {
           "style": "light"
          },
          "paper_bgcolor": "white",
          "plot_bgcolor": "#E5ECF6",
          "polar": {
           "angularaxis": {
            "gridcolor": "white",
            "linecolor": "white",
            "ticks": ""
           },
           "bgcolor": "#E5ECF6",
           "radialaxis": {
            "gridcolor": "white",
            "linecolor": "white",
            "ticks": ""
           }
          },
          "scene": {
           "xaxis": {
            "backgroundcolor": "#E5ECF6",
            "gridcolor": "white",
            "gridwidth": 2,
            "linecolor": "white",
            "showbackground": true,
            "ticks": "",
            "zerolinecolor": "white"
           },
           "yaxis": {
            "backgroundcolor": "#E5ECF6",
            "gridcolor": "white",
            "gridwidth": 2,
            "linecolor": "white",
            "showbackground": true,
            "ticks": "",
            "zerolinecolor": "white"
           },
           "zaxis": {
            "backgroundcolor": "#E5ECF6",
            "gridcolor": "white",
            "gridwidth": 2,
            "linecolor": "white",
            "showbackground": true,
            "ticks": "",
            "zerolinecolor": "white"
           }
          },
          "shapedefaults": {
           "line": {
            "color": "#2a3f5f"
           }
          },
          "ternary": {
           "aaxis": {
            "gridcolor": "white",
            "linecolor": "white",
            "ticks": ""
           },
           "baxis": {
            "gridcolor": "white",
            "linecolor": "white",
            "ticks": ""
           },
           "bgcolor": "#E5ECF6",
           "caxis": {
            "gridcolor": "white",
            "linecolor": "white",
            "ticks": ""
           }
          },
          "title": {
           "x": 0.05
          },
          "xaxis": {
           "automargin": true,
           "gridcolor": "white",
           "linecolor": "white",
           "ticks": "",
           "title": {
            "standoff": 15
           },
           "zerolinecolor": "white",
           "zerolinewidth": 2
          },
          "yaxis": {
           "automargin": true,
           "gridcolor": "white",
           "linecolor": "white",
           "ticks": "",
           "title": {
            "standoff": 15
           },
           "zerolinecolor": "white",
           "zerolinewidth": 2
          }
         }
        }
       }
      },
      "image/png": "[encoded data removed]",
      "text/html": [
       "<div>                            <div id=\"2107d762-ebac-4073-b858-c043b17f4686\" class=\"plotly-graph-div\" style=\"height:1200px; width:100%;\"></div>            <script type=\"text/javascript\">                require([\"plotly\"], function(Plotly) {                    window.PLOTLYENV=window.PLOTLYENV || {};                                    if (document.getElementById(\"2107d762-ebac-4073-b858-c043b17f4686\")) {                    Plotly.newPlot(                        \"2107d762-ebac-4073-b858-c043b17f4686\",                        [{\"link\":{\"source\":[0,32,32,32,32,32,32,32,32,32,32,32,26,23,27,13,3,3,1,21,21,21,21,21,21,21,21,21,21,21,21,21,21,21,19,19,19,19,19,19,19,19,19,34,34],\"target\":[32,0,9,15,23,2,28,24,21,34,11,22,34,32,19,21,32,26,32,12,17,30,16,20,33,8,23,4,27,10,25,7,24,6,29,23,18,27,14,31,10,5,24,32,26],\"value\":[5344.99,4307.6,1597.1499999999999,125.0,4887.0,11552.7,720.0,4250.05,2315.13,9600.0,32866.9,33507.17,1000.0,337.5,76.5,40.45,3.92,68.95,92390.59,8.43,127.5,481.5,56.18,12.99,142.54,101.65,453.69,278.0,38.96,1.5,77.92,114.83,175.12,62.41,31.94,226.64999999999998,237.35000000000002,68.39,132.46,542.78,146.57999999999998,55.97,107.05,3000.0,1200.0]},\"node\":{\"label\":[\"\",\"Income:Notre Dame:Regular\",\"Expenses:Home:Mortgage\",\"Income:Interest\",\"Expenses:Home:Cleaning\",\"Expenses:Subscriptions\",\"Liabilities:Apple:Installments\",\"Expenses:Subscription\",\"Expenses:Gear\",\"Expenses:Auto:Insurance\",\"Expenses:Restaurants\",\"Transfer:Apple:Credit Card\",\"Expenses:Auto:Gas\",\"Income:Apple Cash\",\"Expenses:Medical:Therapy\",\"Expenses:Gifts\",\"Expenses:Entertainment\",\"Expenses:Auto:Tolls\",\"Expenses:Home\",\"Liabilities:NDFCU:Credit Card\",\"Expenses:Entertainment:Reading\",\"Liabilities:Apple:Credit Card\",\"Transfer:NDFCU:Credit Card\",\"Expenses:Groceries\",\"Expenses:Utilities\",\"Expenses:Study\",\"Assets:Ally:Savings\",\"Expenses:Medical:Body\",\"Expenses:Pet:Care\",\"Expenses:Auto:Fuel\",\"Expenses:Clothing\",\"Expenses:Pet\",\"Assets:1st Source:Checking\",\"Expenses:Entertainment:Self\",\"Transfer:Ally:Savings\"],\"line\":{\"color\":\"black\",\"width\":0.5},\"pad\":15,\"thickness\":5},\"type\":\"sankey\"}],                        {\"template\":{\"data\":{\"histogram2dcontour\":[{\"type\":\"histogram2dcontour\",\"colorbar\":{\"outlinewidth\":0,\"ticks\":\"\"},\"colorscale\":[[0.0,\"#0d0887\"],[0.1111111111111111,\"#46039f\"],[0.2222222222222222,\"#7201a8\"],[0.3333333333333333,\"#9c179e\"],[0.4444444444444444,\"#bd3786\"],[0.5555555555555556,\"#d8576b\"],[0.6666666666666666,\"#ed7953\"],[0.7777777777777778,\"#fb9f3a\"],[0.8888888888888888,\"#fdca26\"],[1.0,\"#f0f921\"]]}],\"choropleth\":[{\"type\":\"choropleth\",\"colorbar\":{\"outlinewidth\":0,\"ticks\":\"\"}}],\"histogram2d\":[{\"type\":\"histogram2d\",\"colorbar\":{\"outlinewidth\":0,\"ticks\":\"\"},\"colorscale\":[[0.0,\"#0d0887\"],[0.1111111111111111,\"#46039f\"],[0.2222222222222222,\"#7201a8\"],[0.3333333333333333,\"#9c179e\"],[0.4444444444444444,\"#bd3786\"],[0.5555555555555556,\"#d8576b\"],[0.6666666666666666,\"#ed7953\"],[0.7777777777777778,\"#fb9f3a\"],[0.8888888888888888,\"#fdca26\"],[1.0,\"#f0f921\"]]}],\"heatmap\":[{\"type\":\"heatmap\",\"colorbar\":{\"outlinewidth\":0,\"ticks\":\"\"},\"colorscale\":[[0.0,\"#0d0887\"],[0.1111111111111111,\"#46039f\"],[0.2222222222222222,\"#7201a8\"],[0.3333333333333333,\"#9c179e\"],[0.4444444444444444,\"#bd3786\"],[0.5555555555555556,\"#d8576b\"],[0.6666666666666666,\"#ed7953\"],[0.7777777777777778,\"#fb9f3a\"],[0.8888888888888888,\"#fdca26\"],[1.0,\"#f0f921\"]]}],\"heatmapgl\":[{\"type\":\"heatmapgl\",\"colorbar\":{\"outlinewidth\":0,\"ticks\":\"\"},\"colorscale\":[[0.0,\"#0d0887\"],[0.1111111111111111,\"#46039f\"],[0.2222222222222222,\"#7201a8\"],[0.3333333333333333,\"#9c179e\"],[0.4444444444444444,\"#bd3786\"],[0.5555555555555556,\"#d8576b\"],[0.6666666666666666,\"#ed7953\"],[0.7777777777777778,\"#fb9f3a\"],[0.8888888888888888,\"#fdca26\"],[1.0,\"#f0f921\"]]}],\"contourcarpet\":[{\"type\":\"contourcarpet\",\"colorbar\":{\"outlinewidth\":0,\"ticks\":\"\"}}],\"contour\":[{\"type\":\"contour\",\"colorbar\":{\"outlinewidth\":0,\"ticks\":\"\"},\"colorscale\":[[0.0,\"#0d0887\"],[0.1111111111111111,\"#46039f\"],[0.2222222222222222,\"#7201a8\"],[0.3333333333333333,\"#9c179e\"],[0.4444444444444444,\"#bd3786\"],[0.5555555555555556,\"#d8576b\"],[0.6666666666666666,\"#ed7953\"],[0.7777777777777778,\"#fb9f3a\"],[0.8888888888888888,\"#fdca26\"],[1.0,\"#f0f921\"]]}],\"surface\":[{\"type\":\"surface\",\"colorbar\":{\"outlinewidth\":0,\"ticks\":\"\"},\"colorscale\":[[0.0,\"#0d0887\"],[0.1111111111111111,\"#46039f\"],[0.2222222222222222,\"#7201a8\"],[0.3333333333333333,\"#9c179e\"],[0.4444444444444444,\"#bd3786\"],[0.5555555555555556,\"#d8576b\"],[0.6666666666666666,\"#ed7953\"],[0.7777777777777778,\"#fb9f3a\"],[0.8888888888888888,\"#fdca26\"],[1.0,\"#f0f921\"]]}],\"mesh3d\":[{\"type\":\"mesh3d\",\"colorbar\":{\"outlinewidth\":0,\"ticks\":\"\"}}],\"scatter\":[{\"fillpattern\":{\"fillmode\":\"overlay\",\"size\":10,\"solidity\":0.2},\"type\":\"scatter\"}],\"parcoords\":[{\"type\":\"parcoords\",\"line\":{\"colorbar\":{\"outlinewidth\":0,\"ticks\":\"\"}}}],\"scatterpolargl\":[{\"type\":\"scatterpolargl\",\"marker\":{\"colorbar\":{\"outlinewidth\":0,\"ticks\":\"\"}}}],\"bar\":[{\"error_x\":{\"color\":\"#2a3f5f\"},\"error_y\":{\"color\":\"#2a3f5f\"},\"marker\":{\"line\":{\"color\":\"#E5ECF6\",\"width\":0.5},\"pattern\":{\"fillmode\":\"overlay\",\"size\":10,\"solidity\":0.2}},\"type\":\"bar\"}],\"scattergeo\":[{\"type\":\"scattergeo\",\"marker\":{\"colorbar\":{\"outlinewidth\":0,\"ticks\":\"\"}}}],\"scatterpolar\":[{\"type\":\"scatterpolar\",\"marker\":{\"colorbar\":{\"outlinewidth\":0,\"ticks\":\"\"}}}],\"histogram\":[{\"marker\":{\"pattern\":{\"fillmode\":\"overlay\",\"size\":10,\"solidity\":0.2}},\"type\":\"histogram\"}],\"scattergl\":[{\"type\":\"scattergl\",\"marker\":{\"colorbar\":{\"outlinewidth\":0,\"ticks\":\"\"}}}],\"scatter3d\":[{\"type\":\"scatter3d\",\"line\":{\"colorbar\":{\"outlinewidth\":0,\"ticks\":\"\"}},\"marker\":{\"colorbar\":{\"outlinewidth\":0,\"ticks\":\"\"}}}],\"scattermapbox\":[{\"type\":\"scattermapbox\",\"marker\":{\"colorbar\":{\"outlinewidth\":0,\"ticks\":\"\"}}}],\"scatterternary\":[{\"type\":\"scatterternary\",\"marker\":{\"colorbar\":{\"outlinewidth\":0,\"ticks\":\"\"}}}],\"scattercarpet\":[{\"type\":\"scattercarpet\",\"marker\":{\"colorbar\":{\"outlinewidth\":0,\"ticks\":\"\"}}}],\"carpet\":[{\"aaxis\":{\"endlinecolor\":\"#2a3f5f\",\"gridcolor\":\"white\",\"linecolor\":\"white\",\"minorgridcolor\":\"white\",\"startlinecolor\":\"#2a3f5f\"},\"baxis\":{\"endlinecolor\":\"#2a3f5f\",\"gridcolor\":\"white\",\"linecolor\":\"white\",\"minorgridcolor\":\"white\",\"startlinecolor\":\"#2a3f5f\"},\"type\":\"carpet\"}],\"table\":[{\"cells\":{\"fill\":{\"color\":\"#EBF0F8\"},\"line\":{\"color\":\"white\"}},\"header\":{\"fill\":{\"color\":\"#C8D4E3\"},\"line\":{\"color\":\"white\"}},\"type\":\"table\"}],\"barpolar\":[{\"marker\":{\"line\":{\"color\":\"#E5ECF6\",\"width\":0.5},\"pattern\":{\"fillmode\":\"overlay\",\"size\":10,\"solidity\":0.2}},\"type\":\"barpolar\"}],\"pie\":[{\"automargin\":true,\"type\":\"pie\"}]},\"layout\":{\"autotypenumbers\":\"strict\",\"colorway\":[\"#636efa\",\"#EF553B\",\"#00cc96\",\"#ab63fa\",\"#FFA15A\",\"#19d3f3\",\"#FF6692\",\"#B6E880\",\"#FF97FF\",\"#FECB52\"],\"font\":{\"color\":\"#2a3f5f\"},\"hovermode\":\"closest\",\"hoverlabel\":{\"align\":\"left\"},\"paper_bgcolor\":\"white\",\"plot_bgcolor\":\"#E5ECF6\",\"polar\":{\"bgcolor\":\"#E5ECF6\",\"angularaxis\":{\"gridcolor\":\"white\",\"linecolor\":\"white\",\"ticks\":\"\"},\"radialaxis\":{\"gridcolor\":\"white\",\"linecolor\":\"white\",\"ticks\":\"\"}},\"ternary\":{\"bgcolor\":\"#E5ECF6\",\"aaxis\":{\"gridcolor\":\"white\",\"linecolor\":\"white\",\"ticks\":\"\"},\"baxis\":{\"gridcolor\":\"white\",\"linecolor\":\"white\",\"ticks\":\"\"},\"caxis\":{\"gridcolor\":\"white\",\"linecolor\":\"white\",\"ticks\":\"\"}},\"coloraxis\":{\"colorbar\":{\"outlinewidth\":0,\"ticks\":\"\"}},\"colorscale\":{\"sequential\":[[0.0,\"#0d0887\"],[0.1111111111111111,\"#46039f\"],[0.2222222222222222,\"#7201a8\"],[0.3333333333333333,\"#9c179e\"],[0.4444444444444444,\"#bd3786\"],[0.5555555555555556,\"#d8576b\"],[0.6666666666666666,\"#ed7953\"],[0.7777777777777778,\"#fb9f3a\"],[0.8888888888888888,\"#fdca26\"],[1.0,\"#f0f921\"]],\"sequentialminus\":[[0.0,\"#0d0887\"],[0.1111111111111111,\"#46039f\"],[0.2222222222222222,\"#7201a8\"],[0.3333333333333333,\"#9c179e\"],[0.4444444444444444,\"#bd3786\"],[0.5555555555555556,\"#d8576b\"],[0.6666666666666666,\"#ed7953\"],[0.7777777777777778,\"#fb9f3a\"],[0.8888888888888888,\"#fdca26\"],[1.0,\"#f0f921\"]],\"diverging\":[[0,\"#8e0152\"],[0.1,\"#c51b7d\"],[0.2,\"#de77ae\"],[0.3,\"#f1b6da\"],[0.4,\"#fde0ef\"],[0.5,\"#f7f7f7\"],[0.6,\"#e6f5d0\"],[0.7,\"#b8e186\"],[0.8,\"#7fbc41\"],[0.9,\"#4d9221\"],[1,\"#276419\"]]},\"xaxis\":{\"gridcolor\":\"white\",\"linecolor\":\"white\",\"ticks\":\"\",\"title\":{\"standoff\":15},\"zerolinecolor\":\"white\",\"automargin\":true,\"zerolinewidth\":2},\"yaxis\":{\"gridcolor\":\"white\",\"linecolor\":\"white\",\"ticks\":\"\",\"title\":{\"standoff\":15},\"zerolinecolor\":\"white\",\"automargin\":true,\"zerolinewidth\":2},\"scene\":{\"xaxis\":{\"backgroundcolor\":\"#E5ECF6\",\"gridcolor\":\"white\",\"linecolor\":\"white\",\"showbackground\":true,\"ticks\":\"\",\"zerolinecolor\":\"white\",\"gridwidth\":2},\"yaxis\":{\"backgroundcolor\":\"#E5ECF6\",\"gridcolor\":\"white\",\"linecolor\":\"white\",\"showbackground\":true,\"ticks\":\"\",\"zerolinecolor\":\"white\",\"gridwidth\":2},\"zaxis\":{\"backgroundcolor\":\"#E5ECF6\",\"gridcolor\":\"white\",\"linecolor\":\"white\",\"showbackground\":true,\"ticks\":\"\",\"zerolinecolor\":\"white\",\"gridwidth\":2}},\"shapedefaults\":{\"line\":{\"color\":\"#2a3f5f\"}},\"annotationdefaults\":{\"arrowcolor\":\"#2a3f5f\",\"arrowhead\":0,\"arrowwidth\":1},\"geo\":{\"bgcolor\":\"white\",\"landcolor\":\"#E5ECF6\",\"subunitcolor\":\"white\",\"showland\":true,\"showlakes\":true,\"lakecolor\":\"white\"},\"title\":{\"x\":0.05},\"mapbox\":{\"style\":\"light\"}}},\"height\":1200},                        {\"responsive\": true}                    ).then(function(){\n",
       "                            \n",
       "var gd = document.getElementById('2107d762-ebac-4073-b858-c043b17f4686');\n",
       "var x = new MutationObserver(function (mutations, observer) {{\n",
       "        var display = window.getComputedStyle(gd).display;\n",
       "        if (!display || display === 'none') {{\n",
       "            console.log([gd, 'removed!']);\n",
       "            Plotly.purge(gd);\n",
       "            observer.disconnect();\n",
       "        }}\n",
       "}});\n",
       "\n",
       "// Listen for the removal of the full notebook cells\n",
       "var notebookContainer = gd.closest('#notebook-container');\n",
       "if (notebookContainer) {{\n",
       "    x.observe(notebookContainer, {childList: true});\n",
       "}}\n",
       "\n",
       "// Listen for the clearing of the current output cell\n",
       "var outputEl = gd.closest('.output');\n",
       "if (outputEl) {{\n",
       "    x.observe(outputEl, {childList: true});\n",
       "}}\n",
       "\n",
       "                        })                };                });            </script>        </div>"
      ]
     },
     "metadata": {},
     "output_type": "display_data"
    }
   ],
   "source": [
    "f.update_layout(height=1200)\n",
    "f.show()"
   ]
  },
  {
   "cell_type": "code",
   "execution_count": 39,
   "id": "68aceb50-535c-480a-94ee-5dacd7d58149",
   "metadata": {},
   "outputs": [
    {
     "data": {
      "text/html": [
       "<pre style=\"white-space:pre;overflow-x:auto;line-height:normal;font-family:Menlo,'DejaVu Sans Mono',consolas,'Courier New',monospace\"><span style=\"font-weight: bold\">[</span>\n",
       "    <span style=\"font-weight: bold\">(</span><span style=\"color: #008080; text-decoration-color: #008080; font-weight: bold\">0</span>, <span style=\"color: #008080; text-decoration-color: #008080; font-weight: bold\">32</span><span style=\"font-weight: bold\">)</span>,\n",
       "    <span style=\"font-weight: bold\">(</span><span style=\"color: #008080; text-decoration-color: #008080; font-weight: bold\">32</span>, <span style=\"color: #008080; text-decoration-color: #008080; font-weight: bold\">0</span><span style=\"font-weight: bold\">)</span>,\n",
       "    <span style=\"font-weight: bold\">(</span><span style=\"color: #008080; text-decoration-color: #008080; font-weight: bold\">32</span>, <span style=\"color: #008080; text-decoration-color: #008080; font-weight: bold\">9</span><span style=\"font-weight: bold\">)</span>,\n",
       "    <span style=\"font-weight: bold\">(</span><span style=\"color: #008080; text-decoration-color: #008080; font-weight: bold\">32</span>, <span style=\"color: #008080; text-decoration-color: #008080; font-weight: bold\">15</span><span style=\"font-weight: bold\">)</span>,\n",
       "    <span style=\"font-weight: bold\">(</span><span style=\"color: #008080; text-decoration-color: #008080; font-weight: bold\">32</span>, <span style=\"color: #008080; text-decoration-color: #008080; font-weight: bold\">23</span><span style=\"font-weight: bold\">)</span>,\n",
       "    <span style=\"font-weight: bold\">(</span><span style=\"color: #008080; text-decoration-color: #008080; font-weight: bold\">32</span>, <span style=\"color: #008080; text-decoration-color: #008080; font-weight: bold\">2</span><span style=\"font-weight: bold\">)</span>,\n",
       "    <span style=\"font-weight: bold\">(</span><span style=\"color: #008080; text-decoration-color: #008080; font-weight: bold\">32</span>, <span style=\"color: #008080; text-decoration-color: #008080; font-weight: bold\">28</span><span style=\"font-weight: bold\">)</span>,\n",
       "    <span style=\"font-weight: bold\">(</span><span style=\"color: #008080; text-decoration-color: #008080; font-weight: bold\">32</span>, <span style=\"color: #008080; text-decoration-color: #008080; font-weight: bold\">24</span><span style=\"font-weight: bold\">)</span>,\n",
       "    <span style=\"font-weight: bold\">(</span><span style=\"color: #008080; text-decoration-color: #008080; font-weight: bold\">32</span>, <span style=\"color: #008080; text-decoration-color: #008080; font-weight: bold\">21</span><span style=\"font-weight: bold\">)</span>,\n",
       "    <span style=\"font-weight: bold\">(</span><span style=\"color: #008080; text-decoration-color: #008080; font-weight: bold\">32</span>, <span style=\"color: #008080; text-decoration-color: #008080; font-weight: bold\">34</span><span style=\"font-weight: bold\">)</span>,\n",
       "    <span style=\"font-weight: bold\">(</span><span style=\"color: #008080; text-decoration-color: #008080; font-weight: bold\">32</span>, <span style=\"color: #008080; text-decoration-color: #008080; font-weight: bold\">11</span><span style=\"font-weight: bold\">)</span>,\n",
       "    <span style=\"font-weight: bold\">(</span><span style=\"color: #008080; text-decoration-color: #008080; font-weight: bold\">32</span>, <span style=\"color: #008080; text-decoration-color: #008080; font-weight: bold\">22</span><span style=\"font-weight: bold\">)</span>,\n",
       "    <span style=\"font-weight: bold\">(</span><span style=\"color: #008080; text-decoration-color: #008080; font-weight: bold\">26</span>, <span style=\"color: #008080; text-decoration-color: #008080; font-weight: bold\">34</span><span style=\"font-weight: bold\">)</span>,\n",
       "    <span style=\"font-weight: bold\">(</span><span style=\"color: #008080; text-decoration-color: #008080; font-weight: bold\">23</span>, <span style=\"color: #008080; text-decoration-color: #008080; font-weight: bold\">32</span><span style=\"font-weight: bold\">)</span>,\n",
       "    <span style=\"font-weight: bold\">(</span><span style=\"color: #008080; text-decoration-color: #008080; font-weight: bold\">27</span>, <span style=\"color: #008080; text-decoration-color: #008080; font-weight: bold\">19</span><span style=\"font-weight: bold\">)</span>,\n",
       "    <span style=\"font-weight: bold\">(</span><span style=\"color: #008080; text-decoration-color: #008080; font-weight: bold\">13</span>, <span style=\"color: #008080; text-decoration-color: #008080; font-weight: bold\">21</span><span style=\"font-weight: bold\">)</span>,\n",
       "    <span style=\"font-weight: bold\">(</span><span style=\"color: #008080; text-decoration-color: #008080; font-weight: bold\">3</span>, <span style=\"color: #008080; text-decoration-color: #008080; font-weight: bold\">32</span><span style=\"font-weight: bold\">)</span>,\n",
       "    <span style=\"font-weight: bold\">(</span><span style=\"color: #008080; text-decoration-color: #008080; font-weight: bold\">3</span>, <span style=\"color: #008080; text-decoration-color: #008080; font-weight: bold\">26</span><span style=\"font-weight: bold\">)</span>,\n",
       "    <span style=\"font-weight: bold\">(</span><span style=\"color: #008080; text-decoration-color: #008080; font-weight: bold\">1</span>, <span style=\"color: #008080; text-decoration-color: #008080; font-weight: bold\">32</span><span style=\"font-weight: bold\">)</span>,\n",
       "    <span style=\"font-weight: bold\">(</span><span style=\"color: #008080; text-decoration-color: #008080; font-weight: bold\">21</span>, <span style=\"color: #008080; text-decoration-color: #008080; font-weight: bold\">12</span><span style=\"font-weight: bold\">)</span>,\n",
       "    <span style=\"font-weight: bold\">(</span><span style=\"color: #008080; text-decoration-color: #008080; font-weight: bold\">21</span>, <span style=\"color: #008080; text-decoration-color: #008080; font-weight: bold\">17</span><span style=\"font-weight: bold\">)</span>,\n",
       "    <span style=\"font-weight: bold\">(</span><span style=\"color: #008080; text-decoration-color: #008080; font-weight: bold\">21</span>, <span style=\"color: #008080; text-decoration-color: #008080; font-weight: bold\">30</span><span style=\"font-weight: bold\">)</span>,\n",
       "    <span style=\"font-weight: bold\">(</span><span style=\"color: #008080; text-decoration-color: #008080; font-weight: bold\">21</span>, <span style=\"color: #008080; text-decoration-color: #008080; font-weight: bold\">16</span><span style=\"font-weight: bold\">)</span>,\n",
       "    <span style=\"font-weight: bold\">(</span><span style=\"color: #008080; text-decoration-color: #008080; font-weight: bold\">21</span>, <span style=\"color: #008080; text-decoration-color: #008080; font-weight: bold\">20</span><span style=\"font-weight: bold\">)</span>,\n",
       "    <span style=\"font-weight: bold\">(</span><span style=\"color: #008080; text-decoration-color: #008080; font-weight: bold\">21</span>, <span style=\"color: #008080; text-decoration-color: #008080; font-weight: bold\">33</span><span style=\"font-weight: bold\">)</span>,\n",
       "    <span style=\"font-weight: bold\">(</span><span style=\"color: #008080; text-decoration-color: #008080; font-weight: bold\">21</span>, <span style=\"color: #008080; text-decoration-color: #008080; font-weight: bold\">8</span><span style=\"font-weight: bold\">)</span>,\n",
       "    <span style=\"font-weight: bold\">(</span><span style=\"color: #008080; text-decoration-color: #008080; font-weight: bold\">21</span>, <span style=\"color: #008080; text-decoration-color: #008080; font-weight: bold\">23</span><span style=\"font-weight: bold\">)</span>,\n",
       "    <span style=\"font-weight: bold\">(</span><span style=\"color: #008080; text-decoration-color: #008080; font-weight: bold\">21</span>, <span style=\"color: #008080; text-decoration-color: #008080; font-weight: bold\">4</span><span style=\"font-weight: bold\">)</span>,\n",
       "    <span style=\"font-weight: bold\">(</span><span style=\"color: #008080; text-decoration-color: #008080; font-weight: bold\">21</span>, <span style=\"color: #008080; text-decoration-color: #008080; font-weight: bold\">27</span><span style=\"font-weight: bold\">)</span>,\n",
       "    <span style=\"font-weight: bold\">(</span><span style=\"color: #008080; text-decoration-color: #008080; font-weight: bold\">21</span>, <span style=\"color: #008080; text-decoration-color: #008080; font-weight: bold\">10</span><span style=\"font-weight: bold\">)</span>,\n",
       "    <span style=\"font-weight: bold\">(</span><span style=\"color: #008080; text-decoration-color: #008080; font-weight: bold\">21</span>, <span style=\"color: #008080; text-decoration-color: #008080; font-weight: bold\">25</span><span style=\"font-weight: bold\">)</span>,\n",
       "    <span style=\"font-weight: bold\">(</span><span style=\"color: #008080; text-decoration-color: #008080; font-weight: bold\">21</span>, <span style=\"color: #008080; text-decoration-color: #008080; font-weight: bold\">7</span><span style=\"font-weight: bold\">)</span>,\n",
       "    <span style=\"font-weight: bold\">(</span><span style=\"color: #008080; text-decoration-color: #008080; font-weight: bold\">21</span>, <span style=\"color: #008080; text-decoration-color: #008080; font-weight: bold\">24</span><span style=\"font-weight: bold\">)</span>,\n",
       "    <span style=\"font-weight: bold\">(</span><span style=\"color: #008080; text-decoration-color: #008080; font-weight: bold\">21</span>, <span style=\"color: #008080; text-decoration-color: #008080; font-weight: bold\">6</span><span style=\"font-weight: bold\">)</span>,\n",
       "    <span style=\"font-weight: bold\">(</span><span style=\"color: #008080; text-decoration-color: #008080; font-weight: bold\">19</span>, <span style=\"color: #008080; text-decoration-color: #008080; font-weight: bold\">29</span><span style=\"font-weight: bold\">)</span>,\n",
       "    <span style=\"font-weight: bold\">(</span><span style=\"color: #008080; text-decoration-color: #008080; font-weight: bold\">19</span>, <span style=\"color: #008080; text-decoration-color: #008080; font-weight: bold\">23</span><span style=\"font-weight: bold\">)</span>,\n",
       "    <span style=\"font-weight: bold\">(</span><span style=\"color: #008080; text-decoration-color: #008080; font-weight: bold\">19</span>, <span style=\"color: #008080; text-decoration-color: #008080; font-weight: bold\">18</span><span style=\"font-weight: bold\">)</span>,\n",
       "    <span style=\"font-weight: bold\">(</span><span style=\"color: #008080; text-decoration-color: #008080; font-weight: bold\">19</span>, <span style=\"color: #008080; text-decoration-color: #008080; font-weight: bold\">27</span><span style=\"font-weight: bold\">)</span>,\n",
       "    <span style=\"font-weight: bold\">(</span><span style=\"color: #008080; text-decoration-color: #008080; font-weight: bold\">19</span>, <span style=\"color: #008080; text-decoration-color: #008080; font-weight: bold\">14</span><span style=\"font-weight: bold\">)</span>,\n",
       "    <span style=\"font-weight: bold\">(</span><span style=\"color: #008080; text-decoration-color: #008080; font-weight: bold\">19</span>, <span style=\"color: #008080; text-decoration-color: #008080; font-weight: bold\">31</span><span style=\"font-weight: bold\">)</span>,\n",
       "    <span style=\"font-weight: bold\">(</span><span style=\"color: #008080; text-decoration-color: #008080; font-weight: bold\">19</span>, <span style=\"color: #008080; text-decoration-color: #008080; font-weight: bold\">10</span><span style=\"font-weight: bold\">)</span>,\n",
       "    <span style=\"font-weight: bold\">(</span><span style=\"color: #008080; text-decoration-color: #008080; font-weight: bold\">19</span>, <span style=\"color: #008080; text-decoration-color: #008080; font-weight: bold\">5</span><span style=\"font-weight: bold\">)</span>,\n",
       "    <span style=\"font-weight: bold\">(</span><span style=\"color: #008080; text-decoration-color: #008080; font-weight: bold\">19</span>, <span style=\"color: #008080; text-decoration-color: #008080; font-weight: bold\">24</span><span style=\"font-weight: bold\">)</span>,\n",
       "    <span style=\"font-weight: bold\">(</span><span style=\"color: #008080; text-decoration-color: #008080; font-weight: bold\">34</span>, <span style=\"color: #008080; text-decoration-color: #008080; font-weight: bold\">32</span><span style=\"font-weight: bold\">)</span>,\n",
       "    <span style=\"font-weight: bold\">(</span><span style=\"color: #008080; text-decoration-color: #008080; font-weight: bold\">34</span>, <span style=\"color: #008080; text-decoration-color: #008080; font-weight: bold\">26</span><span style=\"font-weight: bold\">)</span>\n",
       "<span style=\"font-weight: bold\">]</span>\n",
       "</pre>\n"
      ],
      "text/plain": [
       "\u001b[1m[\u001b[0m\n",
       "    \u001b[1m(\u001b[0m\u001b[1;36m0\u001b[0m, \u001b[1;36m32\u001b[0m\u001b[1m)\u001b[0m,\n",
       "    \u001b[1m(\u001b[0m\u001b[1;36m32\u001b[0m, \u001b[1;36m0\u001b[0m\u001b[1m)\u001b[0m,\n",
       "    \u001b[1m(\u001b[0m\u001b[1;36m32\u001b[0m, \u001b[1;36m9\u001b[0m\u001b[1m)\u001b[0m,\n",
       "    \u001b[1m(\u001b[0m\u001b[1;36m32\u001b[0m, \u001b[1;36m15\u001b[0m\u001b[1m)\u001b[0m,\n",
       "    \u001b[1m(\u001b[0m\u001b[1;36m32\u001b[0m, \u001b[1;36m23\u001b[0m\u001b[1m)\u001b[0m,\n",
       "    \u001b[1m(\u001b[0m\u001b[1;36m32\u001b[0m, \u001b[1;36m2\u001b[0m\u001b[1m)\u001b[0m,\n",
       "    \u001b[1m(\u001b[0m\u001b[1;36m32\u001b[0m, \u001b[1;36m28\u001b[0m\u001b[1m)\u001b[0m,\n",
       "    \u001b[1m(\u001b[0m\u001b[1;36m32\u001b[0m, \u001b[1;36m24\u001b[0m\u001b[1m)\u001b[0m,\n",
       "    \u001b[1m(\u001b[0m\u001b[1;36m32\u001b[0m, \u001b[1;36m21\u001b[0m\u001b[1m)\u001b[0m,\n",
       "    \u001b[1m(\u001b[0m\u001b[1;36m32\u001b[0m, \u001b[1;36m34\u001b[0m\u001b[1m)\u001b[0m,\n",
       "    \u001b[1m(\u001b[0m\u001b[1;36m32\u001b[0m, \u001b[1;36m11\u001b[0m\u001b[1m)\u001b[0m,\n",
       "    \u001b[1m(\u001b[0m\u001b[1;36m32\u001b[0m, \u001b[1;36m22\u001b[0m\u001b[1m)\u001b[0m,\n",
       "    \u001b[1m(\u001b[0m\u001b[1;36m26\u001b[0m, \u001b[1;36m34\u001b[0m\u001b[1m)\u001b[0m,\n",
       "    \u001b[1m(\u001b[0m\u001b[1;36m23\u001b[0m, \u001b[1;36m32\u001b[0m\u001b[1m)\u001b[0m,\n",
       "    \u001b[1m(\u001b[0m\u001b[1;36m27\u001b[0m, \u001b[1;36m19\u001b[0m\u001b[1m)\u001b[0m,\n",
       "    \u001b[1m(\u001b[0m\u001b[1;36m13\u001b[0m, \u001b[1;36m21\u001b[0m\u001b[1m)\u001b[0m,\n",
       "    \u001b[1m(\u001b[0m\u001b[1;36m3\u001b[0m, \u001b[1;36m32\u001b[0m\u001b[1m)\u001b[0m,\n",
       "    \u001b[1m(\u001b[0m\u001b[1;36m3\u001b[0m, \u001b[1;36m26\u001b[0m\u001b[1m)\u001b[0m,\n",
       "    \u001b[1m(\u001b[0m\u001b[1;36m1\u001b[0m, \u001b[1;36m32\u001b[0m\u001b[1m)\u001b[0m,\n",
       "    \u001b[1m(\u001b[0m\u001b[1;36m21\u001b[0m, \u001b[1;36m12\u001b[0m\u001b[1m)\u001b[0m,\n",
       "    \u001b[1m(\u001b[0m\u001b[1;36m21\u001b[0m, \u001b[1;36m17\u001b[0m\u001b[1m)\u001b[0m,\n",
       "    \u001b[1m(\u001b[0m\u001b[1;36m21\u001b[0m, \u001b[1;36m30\u001b[0m\u001b[1m)\u001b[0m,\n",
       "    \u001b[1m(\u001b[0m\u001b[1;36m21\u001b[0m, \u001b[1;36m16\u001b[0m\u001b[1m)\u001b[0m,\n",
       "    \u001b[1m(\u001b[0m\u001b[1;36m21\u001b[0m, \u001b[1;36m20\u001b[0m\u001b[1m)\u001b[0m,\n",
       "    \u001b[1m(\u001b[0m\u001b[1;36m21\u001b[0m, \u001b[1;36m33\u001b[0m\u001b[1m)\u001b[0m,\n",
       "    \u001b[1m(\u001b[0m\u001b[1;36m21\u001b[0m, \u001b[1;36m8\u001b[0m\u001b[1m)\u001b[0m,\n",
       "    \u001b[1m(\u001b[0m\u001b[1;36m21\u001b[0m, \u001b[1;36m23\u001b[0m\u001b[1m)\u001b[0m,\n",
       "    \u001b[1m(\u001b[0m\u001b[1;36m21\u001b[0m, \u001b[1;36m4\u001b[0m\u001b[1m)\u001b[0m,\n",
       "    \u001b[1m(\u001b[0m\u001b[1;36m21\u001b[0m, \u001b[1;36m27\u001b[0m\u001b[1m)\u001b[0m,\n",
       "    \u001b[1m(\u001b[0m\u001b[1;36m21\u001b[0m, \u001b[1;36m10\u001b[0m\u001b[1m)\u001b[0m,\n",
       "    \u001b[1m(\u001b[0m\u001b[1;36m21\u001b[0m, \u001b[1;36m25\u001b[0m\u001b[1m)\u001b[0m,\n",
       "    \u001b[1m(\u001b[0m\u001b[1;36m21\u001b[0m, \u001b[1;36m7\u001b[0m\u001b[1m)\u001b[0m,\n",
       "    \u001b[1m(\u001b[0m\u001b[1;36m21\u001b[0m, \u001b[1;36m24\u001b[0m\u001b[1m)\u001b[0m,\n",
       "    \u001b[1m(\u001b[0m\u001b[1;36m21\u001b[0m, \u001b[1;36m6\u001b[0m\u001b[1m)\u001b[0m,\n",
       "    \u001b[1m(\u001b[0m\u001b[1;36m19\u001b[0m, \u001b[1;36m29\u001b[0m\u001b[1m)\u001b[0m,\n",
       "    \u001b[1m(\u001b[0m\u001b[1;36m19\u001b[0m, \u001b[1;36m23\u001b[0m\u001b[1m)\u001b[0m,\n",
       "    \u001b[1m(\u001b[0m\u001b[1;36m19\u001b[0m, \u001b[1;36m18\u001b[0m\u001b[1m)\u001b[0m,\n",
       "    \u001b[1m(\u001b[0m\u001b[1;36m19\u001b[0m, \u001b[1;36m27\u001b[0m\u001b[1m)\u001b[0m,\n",
       "    \u001b[1m(\u001b[0m\u001b[1;36m19\u001b[0m, \u001b[1;36m14\u001b[0m\u001b[1m)\u001b[0m,\n",
       "    \u001b[1m(\u001b[0m\u001b[1;36m19\u001b[0m, \u001b[1;36m31\u001b[0m\u001b[1m)\u001b[0m,\n",
       "    \u001b[1m(\u001b[0m\u001b[1;36m19\u001b[0m, \u001b[1;36m10\u001b[0m\u001b[1m)\u001b[0m,\n",
       "    \u001b[1m(\u001b[0m\u001b[1;36m19\u001b[0m, \u001b[1;36m5\u001b[0m\u001b[1m)\u001b[0m,\n",
       "    \u001b[1m(\u001b[0m\u001b[1;36m19\u001b[0m, \u001b[1;36m24\u001b[0m\u001b[1m)\u001b[0m,\n",
       "    \u001b[1m(\u001b[0m\u001b[1;36m34\u001b[0m, \u001b[1;36m32\u001b[0m\u001b[1m)\u001b[0m,\n",
       "    \u001b[1m(\u001b[0m\u001b[1;36m34\u001b[0m, \u001b[1;36m26\u001b[0m\u001b[1m)\u001b[0m\n",
       "\u001b[1m]\u001b[0m\n"
      ]
     },
     "metadata": {},
     "output_type": "display_data"
    },
    {
     "data": {
      "text/html": [
       "<pre style=\"white-space:pre;overflow-x:auto;line-height:normal;font-family:Menlo,'DejaVu Sans Mono',consolas,'Courier New',monospace\"><span style=\"font-weight: bold\">[</span>\n",
       "    <span style=\"font-weight: bold\">(</span><span style=\"color: #008000; text-decoration-color: #008000\">''</span>, <span style=\"color: #008000; text-decoration-color: #008000\">'Assets:1st Source:Checking'</span><span style=\"font-weight: bold\">)</span>,\n",
       "    <span style=\"font-weight: bold\">(</span><span style=\"color: #008000; text-decoration-color: #008000\">'Assets:1st Source:Checking'</span>, <span style=\"color: #008000; text-decoration-color: #008000\">''</span><span style=\"font-weight: bold\">)</span>,\n",
       "    <span style=\"font-weight: bold\">(</span><span style=\"color: #008000; text-decoration-color: #008000\">'Assets:1st Source:Checking'</span>, <span style=\"color: #008000; text-decoration-color: #008000\">'Expenses:Auto:Insurance'</span><span style=\"font-weight: bold\">)</span>,\n",
       "    <span style=\"font-weight: bold\">(</span><span style=\"color: #008000; text-decoration-color: #008000\">'Assets:1st Source:Checking'</span>, <span style=\"color: #008000; text-decoration-color: #008000\">'Expenses:Gifts'</span><span style=\"font-weight: bold\">)</span>,\n",
       "    <span style=\"font-weight: bold\">(</span><span style=\"color: #008000; text-decoration-color: #008000\">'Assets:1st Source:Checking'</span>, <span style=\"color: #008000; text-decoration-color: #008000\">'Expenses:Groceries'</span><span style=\"font-weight: bold\">)</span>,\n",
       "    <span style=\"font-weight: bold\">(</span><span style=\"color: #008000; text-decoration-color: #008000\">'Assets:1st Source:Checking'</span>, <span style=\"color: #008000; text-decoration-color: #008000\">'Expenses:Home:Mortgage'</span><span style=\"font-weight: bold\">)</span>,\n",
       "    <span style=\"font-weight: bold\">(</span><span style=\"color: #008000; text-decoration-color: #008000\">'Assets:1st Source:Checking'</span>, <span style=\"color: #008000; text-decoration-color: #008000\">'Expenses:Pet:Care'</span><span style=\"font-weight: bold\">)</span>,\n",
       "    <span style=\"font-weight: bold\">(</span><span style=\"color: #008000; text-decoration-color: #008000\">'Assets:1st Source:Checking'</span>, <span style=\"color: #008000; text-decoration-color: #008000\">'Expenses:Utilities'</span><span style=\"font-weight: bold\">)</span>,\n",
       "    <span style=\"font-weight: bold\">(</span><span style=\"color: #008000; text-decoration-color: #008000\">'Assets:1st Source:Checking'</span>, <span style=\"color: #008000; text-decoration-color: #008000\">'Liabilities:Apple:Credit Card'</span><span style=\"font-weight: bold\">)</span>,\n",
       "    <span style=\"font-weight: bold\">(</span><span style=\"color: #008000; text-decoration-color: #008000\">'Assets:1st Source:Checking'</span>, <span style=\"color: #008000; text-decoration-color: #008000\">'Transfer:Ally:Savings'</span><span style=\"font-weight: bold\">)</span>,\n",
       "    <span style=\"font-weight: bold\">(</span><span style=\"color: #008000; text-decoration-color: #008000\">'Assets:1st Source:Checking'</span>, <span style=\"color: #008000; text-decoration-color: #008000\">'Transfer:Apple:Credit Card'</span><span style=\"font-weight: bold\">)</span>,\n",
       "    <span style=\"font-weight: bold\">(</span><span style=\"color: #008000; text-decoration-color: #008000\">'Assets:1st Source:Checking'</span>, <span style=\"color: #008000; text-decoration-color: #008000\">'Transfer:NDFCU:Credit Card'</span><span style=\"font-weight: bold\">)</span>,\n",
       "    <span style=\"font-weight: bold\">(</span><span style=\"color: #008000; text-decoration-color: #008000\">'Assets:Ally:Savings'</span>, <span style=\"color: #008000; text-decoration-color: #008000\">'Transfer:Ally:Savings'</span><span style=\"font-weight: bold\">)</span>,\n",
       "    <span style=\"font-weight: bold\">(</span><span style=\"color: #008000; text-decoration-color: #008000\">'Expenses:Groceries'</span>, <span style=\"color: #008000; text-decoration-color: #008000\">'Assets:1st Source:Checking'</span><span style=\"font-weight: bold\">)</span>,\n",
       "    <span style=\"font-weight: bold\">(</span><span style=\"color: #008000; text-decoration-color: #008000\">'Expenses:Medical:Body'</span>, <span style=\"color: #008000; text-decoration-color: #008000\">'Liabilities:NDFCU:Credit Card'</span><span style=\"font-weight: bold\">)</span>,\n",
       "    <span style=\"font-weight: bold\">(</span><span style=\"color: #008000; text-decoration-color: #008000\">'Income:Apple Cash'</span>, <span style=\"color: #008000; text-decoration-color: #008000\">'Liabilities:Apple:Credit Card'</span><span style=\"font-weight: bold\">)</span>,\n",
       "    <span style=\"font-weight: bold\">(</span><span style=\"color: #008000; text-decoration-color: #008000\">'Income:Interest'</span>, <span style=\"color: #008000; text-decoration-color: #008000\">'Assets:1st Source:Checking'</span><span style=\"font-weight: bold\">)</span>,\n",
       "    <span style=\"font-weight: bold\">(</span><span style=\"color: #008000; text-decoration-color: #008000\">'Income:Interest'</span>, <span style=\"color: #008000; text-decoration-color: #008000\">'Assets:Ally:Savings'</span><span style=\"font-weight: bold\">)</span>,\n",
       "    <span style=\"font-weight: bold\">(</span><span style=\"color: #008000; text-decoration-color: #008000\">'Income:Notre Dame:Regular'</span>, <span style=\"color: #008000; text-decoration-color: #008000\">'Assets:1st Source:Checking'</span><span style=\"font-weight: bold\">)</span>,\n",
       "    <span style=\"font-weight: bold\">(</span><span style=\"color: #008000; text-decoration-color: #008000\">'Liabilities:Apple:Credit Card'</span>, <span style=\"color: #008000; text-decoration-color: #008000\">'Expenses:Auto:Gas'</span><span style=\"font-weight: bold\">)</span>,\n",
       "    <span style=\"font-weight: bold\">(</span><span style=\"color: #008000; text-decoration-color: #008000\">'Liabilities:Apple:Credit Card'</span>, <span style=\"color: #008000; text-decoration-color: #008000\">'Expenses:Auto:Tolls'</span><span style=\"font-weight: bold\">)</span>,\n",
       "    <span style=\"font-weight: bold\">(</span><span style=\"color: #008000; text-decoration-color: #008000\">'Liabilities:Apple:Credit Card'</span>, <span style=\"color: #008000; text-decoration-color: #008000\">'Expenses:Clothing'</span><span style=\"font-weight: bold\">)</span>,\n",
       "    <span style=\"font-weight: bold\">(</span><span style=\"color: #008000; text-decoration-color: #008000\">'Liabilities:Apple:Credit Card'</span>, <span style=\"color: #008000; text-decoration-color: #008000\">'Expenses:Entertainment'</span><span style=\"font-weight: bold\">)</span>,\n",
       "    <span style=\"font-weight: bold\">(</span><span style=\"color: #008000; text-decoration-color: #008000\">'Liabilities:Apple:Credit Card'</span>, <span style=\"color: #008000; text-decoration-color: #008000\">'Expenses:Entertainment:Reading'</span><span style=\"font-weight: bold\">)</span>,\n",
       "    <span style=\"font-weight: bold\">(</span><span style=\"color: #008000; text-decoration-color: #008000\">'Liabilities:Apple:Credit Card'</span>, <span style=\"color: #008000; text-decoration-color: #008000\">'Expenses:Entertainment:Self'</span><span style=\"font-weight: bold\">)</span>,\n",
       "    <span style=\"font-weight: bold\">(</span><span style=\"color: #008000; text-decoration-color: #008000\">'Liabilities:Apple:Credit Card'</span>, <span style=\"color: #008000; text-decoration-color: #008000\">'Expenses:Gear'</span><span style=\"font-weight: bold\">)</span>,\n",
       "    <span style=\"font-weight: bold\">(</span><span style=\"color: #008000; text-decoration-color: #008000\">'Liabilities:Apple:Credit Card'</span>, <span style=\"color: #008000; text-decoration-color: #008000\">'Expenses:Groceries'</span><span style=\"font-weight: bold\">)</span>,\n",
       "    <span style=\"font-weight: bold\">(</span><span style=\"color: #008000; text-decoration-color: #008000\">'Liabilities:Apple:Credit Card'</span>, <span style=\"color: #008000; text-decoration-color: #008000\">'Expenses:Home:Cleaning'</span><span style=\"font-weight: bold\">)</span>,\n",
       "    <span style=\"font-weight: bold\">(</span><span style=\"color: #008000; text-decoration-color: #008000\">'Liabilities:Apple:Credit Card'</span>, <span style=\"color: #008000; text-decoration-color: #008000\">'Expenses:Medical:Body'</span><span style=\"font-weight: bold\">)</span>,\n",
       "    <span style=\"font-weight: bold\">(</span><span style=\"color: #008000; text-decoration-color: #008000\">'Liabilities:Apple:Credit Card'</span>, <span style=\"color: #008000; text-decoration-color: #008000\">'Expenses:Restaurants'</span><span style=\"font-weight: bold\">)</span>,\n",
       "    <span style=\"font-weight: bold\">(</span><span style=\"color: #008000; text-decoration-color: #008000\">'Liabilities:Apple:Credit Card'</span>, <span style=\"color: #008000; text-decoration-color: #008000\">'Expenses:Study'</span><span style=\"font-weight: bold\">)</span>,\n",
       "    <span style=\"font-weight: bold\">(</span><span style=\"color: #008000; text-decoration-color: #008000\">'Liabilities:Apple:Credit Card'</span>, <span style=\"color: #008000; text-decoration-color: #008000\">'Expenses:Subscription'</span><span style=\"font-weight: bold\">)</span>,\n",
       "    <span style=\"font-weight: bold\">(</span><span style=\"color: #008000; text-decoration-color: #008000\">'Liabilities:Apple:Credit Card'</span>, <span style=\"color: #008000; text-decoration-color: #008000\">'Expenses:Utilities'</span><span style=\"font-weight: bold\">)</span>,\n",
       "    <span style=\"font-weight: bold\">(</span><span style=\"color: #008000; text-decoration-color: #008000\">'Liabilities:Apple:Credit Card'</span>, <span style=\"color: #008000; text-decoration-color: #008000\">'Liabilities:Apple:Installments'</span><span style=\"font-weight: bold\">)</span>,\n",
       "    <span style=\"font-weight: bold\">(</span><span style=\"color: #008000; text-decoration-color: #008000\">'Liabilities:NDFCU:Credit Card'</span>, <span style=\"color: #008000; text-decoration-color: #008000\">'Expenses:Auto:Fuel'</span><span style=\"font-weight: bold\">)</span>,\n",
       "    <span style=\"font-weight: bold\">(</span><span style=\"color: #008000; text-decoration-color: #008000\">'Liabilities:NDFCU:Credit Card'</span>, <span style=\"color: #008000; text-decoration-color: #008000\">'Expenses:Groceries'</span><span style=\"font-weight: bold\">)</span>,\n",
       "    <span style=\"font-weight: bold\">(</span><span style=\"color: #008000; text-decoration-color: #008000\">'Liabilities:NDFCU:Credit Card'</span>, <span style=\"color: #008000; text-decoration-color: #008000\">'Expenses:Home'</span><span style=\"font-weight: bold\">)</span>,\n",
       "    <span style=\"font-weight: bold\">(</span><span style=\"color: #008000; text-decoration-color: #008000\">'Liabilities:NDFCU:Credit Card'</span>, <span style=\"color: #008000; text-decoration-color: #008000\">'Expenses:Medical:Body'</span><span style=\"font-weight: bold\">)</span>,\n",
       "    <span style=\"font-weight: bold\">(</span><span style=\"color: #008000; text-decoration-color: #008000\">'Liabilities:NDFCU:Credit Card'</span>, <span style=\"color: #008000; text-decoration-color: #008000\">'Expenses:Medical:Therapy'</span><span style=\"font-weight: bold\">)</span>,\n",
       "    <span style=\"font-weight: bold\">(</span><span style=\"color: #008000; text-decoration-color: #008000\">'Liabilities:NDFCU:Credit Card'</span>, <span style=\"color: #008000; text-decoration-color: #008000\">'Expenses:Pet'</span><span style=\"font-weight: bold\">)</span>,\n",
       "    <span style=\"font-weight: bold\">(</span><span style=\"color: #008000; text-decoration-color: #008000\">'Liabilities:NDFCU:Credit Card'</span>, <span style=\"color: #008000; text-decoration-color: #008000\">'Expenses:Restaurants'</span><span style=\"font-weight: bold\">)</span>,\n",
       "    <span style=\"font-weight: bold\">(</span><span style=\"color: #008000; text-decoration-color: #008000\">'Liabilities:NDFCU:Credit Card'</span>, <span style=\"color: #008000; text-decoration-color: #008000\">'Expenses:Subscriptions'</span><span style=\"font-weight: bold\">)</span>,\n",
       "    <span style=\"font-weight: bold\">(</span><span style=\"color: #008000; text-decoration-color: #008000\">'Liabilities:NDFCU:Credit Card'</span>, <span style=\"color: #008000; text-decoration-color: #008000\">'Expenses:Utilities'</span><span style=\"font-weight: bold\">)</span>,\n",
       "    <span style=\"font-weight: bold\">(</span><span style=\"color: #008000; text-decoration-color: #008000\">'Transfer:Ally:Savings'</span>, <span style=\"color: #008000; text-decoration-color: #008000\">'Assets:1st Source:Checking'</span><span style=\"font-weight: bold\">)</span>,\n",
       "    <span style=\"font-weight: bold\">(</span><span style=\"color: #008000; text-decoration-color: #008000\">'Transfer:Ally:Savings'</span>, <span style=\"color: #008000; text-decoration-color: #008000\">'Assets:Ally:Savings'</span><span style=\"font-weight: bold\">)</span>\n",
       "<span style=\"font-weight: bold\">]</span>\n",
       "</pre>\n"
      ],
      "text/plain": [
       "\u001b[1m[\u001b[0m\n",
       "    \u001b[1m(\u001b[0m\u001b[32m''\u001b[0m, \u001b[32m'Assets:1st Source:Checking'\u001b[0m\u001b[1m)\u001b[0m,\n",
       "    \u001b[1m(\u001b[0m\u001b[32m'Assets:1st Source:Checking'\u001b[0m, \u001b[32m''\u001b[0m\u001b[1m)\u001b[0m,\n",
       "    \u001b[1m(\u001b[0m\u001b[32m'Assets:1st Source:Checking'\u001b[0m, \u001b[32m'Expenses:Auto:Insurance'\u001b[0m\u001b[1m)\u001b[0m,\n",
       "    \u001b[1m(\u001b[0m\u001b[32m'Assets:1st Source:Checking'\u001b[0m, \u001b[32m'Expenses:Gifts'\u001b[0m\u001b[1m)\u001b[0m,\n",
       "    \u001b[1m(\u001b[0m\u001b[32m'Assets:1st Source:Checking'\u001b[0m, \u001b[32m'Expenses:Groceries'\u001b[0m\u001b[1m)\u001b[0m,\n",
       "    \u001b[1m(\u001b[0m\u001b[32m'Assets:1st Source:Checking'\u001b[0m, \u001b[32m'Expenses:Home:Mortgage'\u001b[0m\u001b[1m)\u001b[0m,\n",
       "    \u001b[1m(\u001b[0m\u001b[32m'Assets:1st Source:Checking'\u001b[0m, \u001b[32m'Expenses:Pet:Care'\u001b[0m\u001b[1m)\u001b[0m,\n",
       "    \u001b[1m(\u001b[0m\u001b[32m'Assets:1st Source:Checking'\u001b[0m, \u001b[32m'Expenses:Utilities'\u001b[0m\u001b[1m)\u001b[0m,\n",
       "    \u001b[1m(\u001b[0m\u001b[32m'Assets:1st Source:Checking'\u001b[0m, \u001b[32m'Liabilities:Apple:Credit Card'\u001b[0m\u001b[1m)\u001b[0m,\n",
       "    \u001b[1m(\u001b[0m\u001b[32m'Assets:1st Source:Checking'\u001b[0m, \u001b[32m'Transfer:Ally:Savings'\u001b[0m\u001b[1m)\u001b[0m,\n",
       "    \u001b[1m(\u001b[0m\u001b[32m'Assets:1st Source:Checking'\u001b[0m, \u001b[32m'Transfer:Apple:Credit Card'\u001b[0m\u001b[1m)\u001b[0m,\n",
       "    \u001b[1m(\u001b[0m\u001b[32m'Assets:1st Source:Checking'\u001b[0m, \u001b[32m'Transfer:NDFCU:Credit Card'\u001b[0m\u001b[1m)\u001b[0m,\n",
       "    \u001b[1m(\u001b[0m\u001b[32m'Assets:Ally:Savings'\u001b[0m, \u001b[32m'Transfer:Ally:Savings'\u001b[0m\u001b[1m)\u001b[0m,\n",
       "    \u001b[1m(\u001b[0m\u001b[32m'Expenses:Groceries'\u001b[0m, \u001b[32m'Assets:1st Source:Checking'\u001b[0m\u001b[1m)\u001b[0m,\n",
       "    \u001b[1m(\u001b[0m\u001b[32m'Expenses:Medical:Body'\u001b[0m, \u001b[32m'Liabilities:NDFCU:Credit Card'\u001b[0m\u001b[1m)\u001b[0m,\n",
       "    \u001b[1m(\u001b[0m\u001b[32m'Income:Apple Cash'\u001b[0m, \u001b[32m'Liabilities:Apple:Credit Card'\u001b[0m\u001b[1m)\u001b[0m,\n",
       "    \u001b[1m(\u001b[0m\u001b[32m'Income:Interest'\u001b[0m, \u001b[32m'Assets:1st Source:Checking'\u001b[0m\u001b[1m)\u001b[0m,\n",
       "    \u001b[1m(\u001b[0m\u001b[32m'Income:Interest'\u001b[0m, \u001b[32m'Assets:Ally:Savings'\u001b[0m\u001b[1m)\u001b[0m,\n",
       "    \u001b[1m(\u001b[0m\u001b[32m'Income:Notre Dame:Regular'\u001b[0m, \u001b[32m'Assets:1st Source:Checking'\u001b[0m\u001b[1m)\u001b[0m,\n",
       "    \u001b[1m(\u001b[0m\u001b[32m'Liabilities:Apple:Credit Card'\u001b[0m, \u001b[32m'Expenses:Auto:Gas'\u001b[0m\u001b[1m)\u001b[0m,\n",
       "    \u001b[1m(\u001b[0m\u001b[32m'Liabilities:Apple:Credit Card'\u001b[0m, \u001b[32m'Expenses:Auto:Tolls'\u001b[0m\u001b[1m)\u001b[0m,\n",
       "    \u001b[1m(\u001b[0m\u001b[32m'Liabilities:Apple:Credit Card'\u001b[0m, \u001b[32m'Expenses:Clothing'\u001b[0m\u001b[1m)\u001b[0m,\n",
       "    \u001b[1m(\u001b[0m\u001b[32m'Liabilities:Apple:Credit Card'\u001b[0m, \u001b[32m'Expenses:Entertainment'\u001b[0m\u001b[1m)\u001b[0m,\n",
       "    \u001b[1m(\u001b[0m\u001b[32m'Liabilities:Apple:Credit Card'\u001b[0m, \u001b[32m'Expenses:Entertainment:Reading'\u001b[0m\u001b[1m)\u001b[0m,\n",
       "    \u001b[1m(\u001b[0m\u001b[32m'Liabilities:Apple:Credit Card'\u001b[0m, \u001b[32m'Expenses:Entertainment:Self'\u001b[0m\u001b[1m)\u001b[0m,\n",
       "    \u001b[1m(\u001b[0m\u001b[32m'Liabilities:Apple:Credit Card'\u001b[0m, \u001b[32m'Expenses:Gear'\u001b[0m\u001b[1m)\u001b[0m,\n",
       "    \u001b[1m(\u001b[0m\u001b[32m'Liabilities:Apple:Credit Card'\u001b[0m, \u001b[32m'Expenses:Groceries'\u001b[0m\u001b[1m)\u001b[0m,\n",
       "    \u001b[1m(\u001b[0m\u001b[32m'Liabilities:Apple:Credit Card'\u001b[0m, \u001b[32m'Expenses:Home:Cleaning'\u001b[0m\u001b[1m)\u001b[0m,\n",
       "    \u001b[1m(\u001b[0m\u001b[32m'Liabilities:Apple:Credit Card'\u001b[0m, \u001b[32m'Expenses:Medical:Body'\u001b[0m\u001b[1m)\u001b[0m,\n",
       "    \u001b[1m(\u001b[0m\u001b[32m'Liabilities:Apple:Credit Card'\u001b[0m, \u001b[32m'Expenses:Restaurants'\u001b[0m\u001b[1m)\u001b[0m,\n",
       "    \u001b[1m(\u001b[0m\u001b[32m'Liabilities:Apple:Credit Card'\u001b[0m, \u001b[32m'Expenses:Study'\u001b[0m\u001b[1m)\u001b[0m,\n",
       "    \u001b[1m(\u001b[0m\u001b[32m'Liabilities:Apple:Credit Card'\u001b[0m, \u001b[32m'Expenses:Subscription'\u001b[0m\u001b[1m)\u001b[0m,\n",
       "    \u001b[1m(\u001b[0m\u001b[32m'Liabilities:Apple:Credit Card'\u001b[0m, \u001b[32m'Expenses:Utilities'\u001b[0m\u001b[1m)\u001b[0m,\n",
       "    \u001b[1m(\u001b[0m\u001b[32m'Liabilities:Apple:Credit Card'\u001b[0m, \u001b[32m'Liabilities:Apple:Installments'\u001b[0m\u001b[1m)\u001b[0m,\n",
       "    \u001b[1m(\u001b[0m\u001b[32m'Liabilities:NDFCU:Credit Card'\u001b[0m, \u001b[32m'Expenses:Auto:Fuel'\u001b[0m\u001b[1m)\u001b[0m,\n",
       "    \u001b[1m(\u001b[0m\u001b[32m'Liabilities:NDFCU:Credit Card'\u001b[0m, \u001b[32m'Expenses:Groceries'\u001b[0m\u001b[1m)\u001b[0m,\n",
       "    \u001b[1m(\u001b[0m\u001b[32m'Liabilities:NDFCU:Credit Card'\u001b[0m, \u001b[32m'Expenses:Home'\u001b[0m\u001b[1m)\u001b[0m,\n",
       "    \u001b[1m(\u001b[0m\u001b[32m'Liabilities:NDFCU:Credit Card'\u001b[0m, \u001b[32m'Expenses:Medical:Body'\u001b[0m\u001b[1m)\u001b[0m,\n",
       "    \u001b[1m(\u001b[0m\u001b[32m'Liabilities:NDFCU:Credit Card'\u001b[0m, \u001b[32m'Expenses:Medical:Therapy'\u001b[0m\u001b[1m)\u001b[0m,\n",
       "    \u001b[1m(\u001b[0m\u001b[32m'Liabilities:NDFCU:Credit Card'\u001b[0m, \u001b[32m'Expenses:Pet'\u001b[0m\u001b[1m)\u001b[0m,\n",
       "    \u001b[1m(\u001b[0m\u001b[32m'Liabilities:NDFCU:Credit Card'\u001b[0m, \u001b[32m'Expenses:Restaurants'\u001b[0m\u001b[1m)\u001b[0m,\n",
       "    \u001b[1m(\u001b[0m\u001b[32m'Liabilities:NDFCU:Credit Card'\u001b[0m, \u001b[32m'Expenses:Subscriptions'\u001b[0m\u001b[1m)\u001b[0m,\n",
       "    \u001b[1m(\u001b[0m\u001b[32m'Liabilities:NDFCU:Credit Card'\u001b[0m, \u001b[32m'Expenses:Utilities'\u001b[0m\u001b[1m)\u001b[0m,\n",
       "    \u001b[1m(\u001b[0m\u001b[32m'Transfer:Ally:Savings'\u001b[0m, \u001b[32m'Assets:1st Source:Checking'\u001b[0m\u001b[1m)\u001b[0m,\n",
       "    \u001b[1m(\u001b[0m\u001b[32m'Transfer:Ally:Savings'\u001b[0m, \u001b[32m'Assets:Ally:Savings'\u001b[0m\u001b[1m)\u001b[0m\n",
       "\u001b[1m]\u001b[0m\n"
      ]
     },
     "metadata": {},
     "output_type": "display_data"
    }
   ],
   "source": [
    "print(list(zip(sources, targets)))\n",
    "print(list(zip([accts[s] for s in sources], [accts[t] for t in targets])))"
   ]
  },
  {
   "cell_type": "code",
   "execution_count": 40,
   "id": "c1180055-514e-4255-9175-6fa99aa18422",
   "metadata": {},
   "outputs": [
    {
     "data": {
      "text/plain": [
       "['',\n",
       " 'Income:Notre Dame:Regular',\n",
       " 'Expenses:Home:Mortgage',\n",
       " 'Income:Interest',\n",
       " 'Expenses:Home:Cleaning',\n",
       " 'Expenses:Subscriptions',\n",
       " 'Liabilities:Apple:Installments',\n",
       " 'Expenses:Subscription',\n",
       " 'Expenses:Gear',\n",
       " 'Expenses:Auto:Insurance',\n",
       " 'Expenses:Restaurants',\n",
       " 'Transfer:Apple:Credit Card',\n",
       " 'Expenses:Auto:Gas',\n",
       " 'Income:Apple Cash',\n",
       " 'Expenses:Medical:Therapy',\n",
       " 'Expenses:Gifts',\n",
       " 'Expenses:Entertainment',\n",
       " 'Expenses:Auto:Tolls',\n",
       " 'Expenses:Home',\n",
       " 'Liabilities:NDFCU:Credit Card',\n",
       " 'Expenses:Entertainment:Reading',\n",
       " 'Liabilities:Apple:Credit Card',\n",
       " 'Transfer:NDFCU:Credit Card',\n",
       " 'Expenses:Groceries',\n",
       " 'Expenses:Utilities',\n",
       " 'Expenses:Study',\n",
       " 'Assets:Ally:Savings',\n",
       " 'Expenses:Medical:Body',\n",
       " 'Expenses:Pet:Care',\n",
       " 'Expenses:Auto:Fuel',\n",
       " 'Expenses:Clothing',\n",
       " 'Expenses:Pet',\n",
       " 'Assets:1st Source:Checking',\n",
       " 'Expenses:Entertainment:Self',\n",
       " 'Transfer:Ally:Savings']"
      ]
     },
     "execution_count": 40,
     "metadata": {},
     "output_type": "execute_result"
    }
   ],
   "source": [
    "accts"
   ]
  },
  {
   "cell_type": "code",
   "execution_count": 41,
   "id": "66cb46aa-1193-42b8-adc5-0a5b48a9348e",
   "metadata": {},
   "outputs": [
    {
     "data": {
      "text/html": [
       "<div>\n",
       "<style scoped>\n",
       "    .dataframe tbody tr th:only-of-type {\n",
       "        vertical-align: middle;\n",
       "    }\n",
       "\n",
       "    .dataframe tbody tr th {\n",
       "        vertical-align: top;\n",
       "    }\n",
       "\n",
       "    .dataframe thead th {\n",
       "        text-align: right;\n",
       "    }\n",
       "</style>\n",
       "<table border=\"1\" class=\"dataframe\">\n",
       "  <thead>\n",
       "    <tr style=\"text-align: right;\">\n",
       "      <th></th>\n",
       "      <th>Date</th>\n",
       "      <th>Description</th>\n",
       "      <th>Amount</th>\n",
       "      <th>From</th>\n",
       "      <th>To</th>\n",
       "    </tr>\n",
       "  </thead>\n",
       "  <tbody>\n",
       "    <tr>\n",
       "      <th>299</th>\n",
       "      <td>2024-01-31</td>\n",
       "      <td>ACH DEPOSIT INTERNET TRANSFER FROM ACCOUNT END...</td>\n",
       "      <td>2315.13</td>\n",
       "      <td>Assets:1st Source:Checking</td>\n",
       "      <td>Liabilities:Apple:Credit Card</td>\n",
       "    </tr>\n",
       "  </tbody>\n",
       "</table>\n",
       "</div>"
      ],
      "text/plain": [
       "          Date                                        Description   Amount  \\\n",
       "299 2024-01-31  ACH DEPOSIT INTERNET TRANSFER FROM ACCOUNT END...  2315.13   \n",
       "\n",
       "                           From                             To  \n",
       "299  Assets:1st Source:Checking  Liabilities:Apple:Credit Card  "
      ]
     },
     "execution_count": 41,
     "metadata": {},
     "output_type": "execute_result"
    }
   ],
   "source": [
    "trans[trans[\"From\"] == \"Assets:1st Source:Checking\"]"
   ]
  },
  {
   "cell_type": "code",
   "execution_count": 42,
   "id": "01c60f77-2d75-4ead-8f4b-954f3e0fec52",
   "metadata": {},
   "outputs": [
    {
     "data": {
      "text/html": [
       "<div>\n",
       "<style scoped>\n",
       "    .dataframe tbody tr th:only-of-type {\n",
       "        vertical-align: middle;\n",
       "    }\n",
       "\n",
       "    .dataframe tbody tr th {\n",
       "        vertical-align: top;\n",
       "    }\n",
       "\n",
       "    .dataframe thead th {\n",
       "        text-align: right;\n",
       "    }\n",
       "</style>\n",
       "<table border=\"1\" class=\"dataframe\">\n",
       "  <thead>\n",
       "    <tr style=\"text-align: right;\">\n",
       "      <th></th>\n",
       "      <th>Date</th>\n",
       "      <th>Description</th>\n",
       "      <th>Amount</th>\n",
       "      <th>From</th>\n",
       "      <th>To</th>\n",
       "    </tr>\n",
       "  </thead>\n",
       "  <tbody>\n",
       "    <tr>\n",
       "      <th>20</th>\n",
       "      <td>2022-10-25</td>\n",
       "      <td>VENMO PAYMENT</td>\n",
       "      <td>-180.0</td>\n",
       "      <td>Expenses:Pet:Care</td>\n",
       "      <td>Assets:1st Source:Checking</td>\n",
       "    </tr>\n",
       "    <tr>\n",
       "      <th>53</th>\n",
       "      <td>2022-12-22</td>\n",
       "      <td>VENMO PAYMENT</td>\n",
       "      <td>-60.0</td>\n",
       "      <td>Expenses:Pet:Care</td>\n",
       "      <td>Assets:1st Source:Checking</td>\n",
       "    </tr>\n",
       "    <tr>\n",
       "      <th>136</th>\n",
       "      <td>2023-06-13</td>\n",
       "      <td>VENMO PAYMENT</td>\n",
       "      <td>-30.0</td>\n",
       "      <td>Expenses:Pet:Care</td>\n",
       "      <td>Assets:1st Source:Checking</td>\n",
       "    </tr>\n",
       "    <tr>\n",
       "      <th>143</th>\n",
       "      <td>2023-06-28</td>\n",
       "      <td>VENMO PAYMENT</td>\n",
       "      <td>-180.0</td>\n",
       "      <td>Expenses:Pet:Care</td>\n",
       "      <td>Assets:1st Source:Checking</td>\n",
       "    </tr>\n",
       "    <tr>\n",
       "      <th>173</th>\n",
       "      <td>2023-09-07</td>\n",
       "      <td>VENMO PAYMENT</td>\n",
       "      <td>-16.0</td>\n",
       "      <td>Expenses:Groceries</td>\n",
       "      <td>Assets:1st Source:Checking</td>\n",
       "    </tr>\n",
       "    <tr>\n",
       "      <th>204</th>\n",
       "      <td>2023-11-29</td>\n",
       "      <td>VENMO PAYMENT</td>\n",
       "      <td>-165.0</td>\n",
       "      <td>Expenses:Pet:Care</td>\n",
       "      <td>Assets:1st Source:Checking</td>\n",
       "    </tr>\n",
       "    <tr>\n",
       "      <th>215</th>\n",
       "      <td>2023-12-19</td>\n",
       "      <td>VENMO PAYMENT</td>\n",
       "      <td>-105.0</td>\n",
       "      <td>Expenses:Pet:Care</td>\n",
       "      <td>Assets:1st Source:Checking</td>\n",
       "    </tr>\n",
       "    <tr>\n",
       "      <th>239</th>\n",
       "      <td>2024-01-03</td>\n",
       "      <td>VENMO PAYMENT</td>\n",
       "      <td>-125.0</td>\n",
       "      <td>Expenses:Gifts</td>\n",
       "      <td>Assets:1st Source:Checking</td>\n",
       "    </tr>\n",
       "  </tbody>\n",
       "</table>\n",
       "</div>"
      ],
      "text/plain": [
       "          Date    Description  Amount                From  \\\n",
       "20  2022-10-25  VENMO PAYMENT  -180.0   Expenses:Pet:Care   \n",
       "53  2022-12-22  VENMO PAYMENT   -60.0   Expenses:Pet:Care   \n",
       "136 2023-06-13  VENMO PAYMENT   -30.0   Expenses:Pet:Care   \n",
       "143 2023-06-28  VENMO PAYMENT  -180.0   Expenses:Pet:Care   \n",
       "173 2023-09-07  VENMO PAYMENT   -16.0  Expenses:Groceries   \n",
       "204 2023-11-29  VENMO PAYMENT  -165.0   Expenses:Pet:Care   \n",
       "215 2023-12-19  VENMO PAYMENT  -105.0   Expenses:Pet:Care   \n",
       "239 2024-01-03  VENMO PAYMENT  -125.0      Expenses:Gifts   \n",
       "\n",
       "                             To  \n",
       "20   Assets:1st Source:Checking  \n",
       "53   Assets:1st Source:Checking  \n",
       "136  Assets:1st Source:Checking  \n",
       "143  Assets:1st Source:Checking  \n",
       "173  Assets:1st Source:Checking  \n",
       "204  Assets:1st Source:Checking  \n",
       "215  Assets:1st Source:Checking  \n",
       "239  Assets:1st Source:Checking  "
      ]
     },
     "execution_count": 42,
     "metadata": {},
     "output_type": "execute_result"
    }
   ],
   "source": [
    "trans[trans[\"Description\"].str.contains(\"VENMO\")]"
   ]
  }
 ],
 "metadata": {
  "kernelspec": {
   "display_name": "Python 3 (ipykernel)",
   "language": "python",
   "name": "python3"
  },
  "language_info": {
   "codemirror_mode": {
    "name": "ipython",
    "version": 3
   },
   "file_extension": ".py",
   "mimetype": "text/x-python",
   "name": "python",
   "nbconvert_exporter": "python",
   "pygments_lexer": "ipython3",
   "version": "3.12.2"
  }
 },
 "nbformat": 4,
 "nbformat_minor": 5
}
