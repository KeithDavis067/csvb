{
 "cells": [
  {
   "cell_type": "code",
   "execution_count": 1,
   "id": "8c76a724-45c3-4814-89ce-b7549b5674e0",
   "metadata": {},
   "outputs": [],
   "source": [
    "s = '<built-in function ne>'"
   ]
  },
  {
   "cell_type": "code",
   "execution_count": 4,
   "id": "6a2e6bf9-183f-4bdb-b966-426109c28464",
   "metadata": {},
   "outputs": [
    {
     "data": {
      "text/plain": [
       "True"
      ]
     },
     "execution_count": 4,
     "metadata": {},
     "output_type": "execute_result"
    }
   ],
   "source": [
    "s.startswith(\"<built-in function \")"
   ]
  },
  {
   "cell_type": "code",
   "execution_count": 5,
   "id": "d9bd65a2-3ae9-4cd6-9d47-f8c3e9ff39e8",
   "metadata": {},
   "outputs": [
    {
     "data": {
      "text/plain": [
       "22"
      ]
     },
     "execution_count": 5,
     "metadata": {},
     "output_type": "execute_result"
    }
   ],
   "source": [
    "len(s)"
   ]
  },
  {
   "cell_type": "code",
   "execution_count": 7,
   "id": "ea025a95-6b82-4f4a-a6b4-ba6d228f20a0",
   "metadata": {},
   "outputs": [
    {
     "data": {
      "text/plain": [
       "'ne'"
      ]
     },
     "execution_count": 7,
     "metadata": {},
     "output_type": "execute_result"
    }
   ],
   "source": [
    "s[19:-1]"
   ]
  },
  {
   "cell_type": "code",
   "execution_count": null,
   "id": "deb119a9-6313-4447-aa54-31ea99350047",
   "metadata": {},
   "outputs": [],
   "source": []
  }
 ],
 "metadata": {
  "kernelspec": {
   "display_name": "Python 3 (ipykernel)",
   "language": "python",
   "name": "python3"
  },
  "language_info": {
   "codemirror_mode": {
    "name": "ipython",
    "version": 3
   },
   "file_extension": ".py",
   "mimetype": "text/x-python",
   "name": "python",
   "nbconvert_exporter": "python",
   "pygments_lexer": "ipython3",
   "version": "3.12.2"
  }
 },
 "nbformat": 4,
 "nbformat_minor": 5
}
