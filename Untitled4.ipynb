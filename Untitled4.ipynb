{
 "cells": [
  {
   "cell_type": "code",
   "execution_count": 4,
   "id": "dbddad2a-6435-417c-ba16-03145b1f4092",
   "metadata": {},
   "outputs": [],
   "source": [
    "import operator as op"
   ]
  },
  {
   "cell_type": "code",
   "execution_count": 5,
   "id": "32681eb2-7d73-4824-83c9-45b13a0028f4",
   "metadata": {},
   "outputs": [
    {
     "data": {
      "text/plain": [
       "<function _operator.neg(a, /)>"
      ]
     },
     "execution_count": 5,
     "metadata": {},
     "output_type": "execute_result"
    }
   ],
   "source": [
    "op.neg"
   ]
  },
  {
   "cell_type": "code",
   "execution_count": 8,
   "id": "bc000f79-8dcd-4a98-8c18-388961e1adeb",
   "metadata": {},
   "outputs": [
    {
     "data": {
      "text/plain": [
       "<function _operator.neg(a, /)>"
      ]
     },
     "execution_count": 8,
     "metadata": {},
     "output_type": "execute_result"
    }
   ],
   "source": [
    "getattr(op, \"neg\")"
   ]
  },
  {
   "cell_type": "code",
   "execution_count": 9,
   "id": "90e9bf3e-fb2f-4040-baa0-62f9750a7637",
   "metadata": {},
   "outputs": [],
   "source": [
    "import numpy as np"
   ]
  },
  {
   "cell_type": "code",
   "execution_count": 11,
   "id": "1d91fbb3-5109-4d8a-b19b-24f13bf30ac7",
   "metadata": {},
   "outputs": [],
   "source": [
    "s = getattr(np, \"nansum\")"
   ]
  },
  {
   "cell_type": "code",
   "execution_count": 17,
   "id": "c146ca83-c7b9-434e-9127-f51e4ace9768",
   "metadata": {},
   "outputs": [
    {
     "data": {
      "text/plain": [
       "['<function', 'nansum', 'at', '0x106d4efc0>']"
      ]
     },
     "execution_count": 17,
     "metadata": {},
     "output_type": "execute_result"
    }
   ],
   "source": [
    "str(s).split(\" \")"
   ]
  },
  {
   "cell_type": "code",
   "execution_count": null,
   "id": "82dcccfc-bf40-42ea-b84b-085bf043c6ed",
   "metadata": {},
   "outputs": [],
   "source": [
    "pandas"
   ]
  }
 ],
 "metadata": {
  "kernelspec": {
   "display_name": "Python 3 (ipykernel)",
   "language": "python",
   "name": "python3"
  },
  "language_info": {
   "codemirror_mode": {
    "name": "ipython",
    "version": 3
   },
   "file_extension": ".py",
   "mimetype": "text/x-python",
   "name": "python",
   "nbconvert_exporter": "python",
   "pygments_lexer": "ipython3",
   "version": "3.12.2"
  }
 },
 "nbformat": 4,
 "nbformat_minor": 5
}
