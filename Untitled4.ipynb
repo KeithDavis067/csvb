{
 "cells": [
  {
   "cell_type": "code",
   "execution_count": 1,
   "id": "4d05bfe4-2d40-4883-a7a7-4fa2021e5499",
   "metadata": {},
   "outputs": [],
   "source": [
    "from csvb.ingest import apply_rule, sel_factory, ApplyOp, SelectOp, AOP, SOP, Rule, to_transactions, strip_currency\n",
    "import csvb.ingest as csi\n",
    "import json\n"
   ]
  },
  {
   "cell_type": "code",
   "execution_count": 2,
   "id": "c1e9daf2-13cc-4e6d-a634-deb8de4efec0",
   "metadata": {},
   "outputs": [],
   "source": [
    "apldicts= [dict(select=dict(op=\"contains\", column=\"Merchant\", b=\"Banana Republic\"),        apply=dict(op=\"assign\", column=\"From\", b=\"Expenses:Clothing\")),\n",
    "          dict(select=dict(op=\"contains\", column=\"Merchant\", b=\"Apple Services\"),         apply=dict(op=\"assign\", column=\"From\", b=\"Expenses:Subscription\")),\n",
    "          dict(select=dict(op=\"contains\", column=\"Merchant\", b=\"Phillips 66\"),            apply=dict(op=\"assign\", column=\"From\", b=\"Expenses:Auto:Gas\")),\n",
    "          dict(select=dict(op=\"contains\", column=\"Merchant\", b=\"Ridge Wallet\"),           apply=dict(op=\"assign\", column=\"From\", b=\"Expenses:Gear\")),\n",
    "          dict(select=dict(op=\"contains\", column=\"Merchant\", b=\"Martin's Supermarket\"),   apply=dict(op=\"assign\", column=\"From\", b=\"Expenses:Groceries\")),\n",
    "          dict(select=dict(op=\"contains\", column=\"Merchant\", b=\"Apple Cash Payment\"),     apply=dict(op=\"assign\", column=\"From\", b=\"Income:Apple Cash\")),\n",
    "          dict(select=dict(op=\"contains\", column=\"Merchant\", b=\"Hulu\"),                   apply=dict(op=\"assign\", column=\"From\", b=\"Expenses:Entertainment\")),\n",
    "          dict(select=dict(op=\"contains\", column=\"Merchant\", b=\"Trade Coffee CO\"),        apply=dict(op=\"assign\", column=\"From\", b=\"Expenses:Groceries\")),\n",
    "          dict(select=dict(op=\"contains\", column=\"Merchant\", b=\"Beacon Med\"),             apply=dict(op=\"assign\", column=\"From\", b=\"Expenses:Medical:Body\")),\n",
    "          dict(select=dict(op=\"contains\", column=\"Merchant\", b=\"South Bend Clinic\"),      apply=dict(op=\"assign\", column=\"From\", b=\"Expenses:Medical:Body\")),\n",
    "          dict(select=dict(op=\"contains\", column=\"Merchant\", b=\"WMMH\"),                   apply=dict(op=\"assign\", column=\"From\", b=\"Expenses:Entertainment:Self\")),\n",
    "          dict(select=dict(op=\"contains\", column=\"Merchant\", b=\"Account Ending In 8785\"), apply=dict(op=\"assign\", column=\"From\", b=\"Assets:1st Source:Checking\")),\n",
    "          dict(select=dict(op=\"contains\", column=\"Merchant\", b=\"bookshop.org\"),           apply=dict(op=\"assign\", column=\"From\", b=\"Expenses:Study\")),\n",
    "          dict(select=dict(op=\"contains\", column=\"Merchant\", b=\"Patreon\"),                apply=dict(op=\"assign\", column=\"From\", b=\"Expenses:Entertainment\")),\n",
    "          dict(select=dict(op=\"contains\", column=\"Merchant\", b=\"Monthly Installments\"),   apply=dict(op=\"assign\", column=\"From\", b=\"Liabilities:Apple:Installments\")),\n",
    "          dict(select=dict(op=\"contains\", column=\"Category\", b=\"Tolls\"),                  apply=dict(op=\"assign\", column=\"From\", b=\"Expenses:Auto:Tolls\")),\n",
    "          dict(select=dict(op=\"contains\", column=\"Merchant\", b=\"Kobo\"),                   apply=dict(op=\"assign\", column=\"From\", b=\"Expenses:Entertainment:Reading\")),\n",
    "          dict(select=dict(op=\"contains\", column=\"Merchant\", b=\"Vtsup.com\"),              apply=dict(op=\"assign\", column=\"From\", b=\"Expenses:Entertainment:Self\")),\n",
    "          dict(select=dict(op=\"contains\", column=\"Merchant\", b=\"City Of South Bend\"),     apply=dict(op=\"assign\", column=\"From\", b=\"Expenses:Utilities\")),\n",
    "          dict(select=dict(op=\"contains\", column=\"Merchant\", b=\"Andrasi\"),                apply=dict(op=\"assign\", column=\"From\", b=\"Expenses:Home:Cleaning\")),\n",
    "          dict(select=dict(op=\"contains\", column=\"Merchant\", b=\"Parlevel Texas\"),         apply=dict(op=\"assign\", column=\"From\", b=\"Expenses:Restaurants\")),\n",
    "          dict(select=dict(op=\"contains\", column=\"Merchant\", b=\"Gannett Newsprpr\"),       apply=dict(op=\"assign\", column=\"From\", b=\"Expenses:Utilities\")),\n",
    "          dict(select=dict(op=\"contains\", column=\"Description\", b=\"ABEBOOKS\"),            apply=dict(op=\"assign\", column=\"From\", b=\"Expenses:Study\"))]\n",
    "\n",
    "rules = []\n",
    "for d in apldicts:\n",
    "    rules.append(Rule(**d))"
   ]
  },
  {
   "cell_type": "code",
   "execution_count": 3,
   "id": "3b6439f0-a51b-4a4f-a46f-9ca49c72e266",
   "metadata": {},
   "outputs": [],
   "source": [
    "with open(\"aplrules.json\",'w') as f:\n",
    "    json.dump(rules, f, cls=csi.RuleEncoder)"
   ]
  },
  {
   "cell_type": "code",
   "execution_count": 4,
   "id": "a7e3423d-128f-4a6a-b37e-6d2bae9bfc76",
   "metadata": {},
   "outputs": [],
   "source": [
    "with open(\"aplrules.json\", 'r') as f:\n",
    "    read_rules = json.load(f, object_hook=csi.decode_hook)\n"
   ]
  },
  {
   "cell_type": "code",
   "execution_count": 10,
   "id": "cb7266e9-6a8e-4aae-81b3-1d635a15c4d9",
   "metadata": {},
   "outputs": [
    {
     "data": {
      "text/plain": [
       "csvb.ingest.ApplyOp"
      ]
     },
     "execution_count": 10,
     "metadata": {},
     "output_type": "execute_result"
    }
   ],
   "source": [
    "type(read_rules[0].apply[0])"
   ]
  },
  {
   "cell_type": "code",
   "execution_count": null,
   "id": "ec673234-20f2-4ceb-bb42-e7cc284016fd",
   "metadata": {},
   "outputs": [],
   "source": []
  }
 ],
 "metadata": {
  "kernelspec": {
   "display_name": "Python 3 (ipykernel)",
   "language": "python",
   "name": "python3"
  },
  "language_info": {
   "codemirror_mode": {
    "name": "ipython",
    "version": 3
   },
   "file_extension": ".py",
   "mimetype": "text/x-python",
   "name": "python",
   "nbconvert_exporter": "python",
   "pygments_lexer": "ipython3",
   "version": "3.12.1"
  }
 },
 "nbformat": 4,
 "nbformat_minor": 5
}
