{
 "cells": [
  {
   "cell_type": "code",
   "execution_count": 22,
   "id": "f50fe44c-1fb2-4658-895c-deee42029468",
   "metadata": {},
   "outputs": [],
   "source": [
    "class MyClass:\n",
    "    @property\n",
    "    def name(self):\n",
    "        return self._name\n",
    "\n",
    "    @name.setter\n",
    "    def name(self, value):\n",
    "        if not isinstance(value, str):\n",
    "            raise TypeError(\"Names must be stringtype.\")\n",
    "        self._name = value\n",
    "\n",
    "    @name.deleter\n",
    "    def name(self):\n",
    "        self._name = \"\"\n",
    "    \n",
    "    def __init__(self, name = \"\"):\n",
    "        self.name = name\n",
    "\n",
    "c = MyClass()"
   ]
  },
  {
   "cell_type": "code",
   "execution_count": 23,
   "id": "4540606e-b1af-49f4-bb7b-bbaa9e76d064",
   "metadata": {},
   "outputs": [
    {
     "data": {
      "text/plain": [
       "''"
      ]
     },
     "execution_count": 23,
     "metadata": {},
     "output_type": "execute_result"
    }
   ],
   "source": [
    "c.name"
   ]
  },
  {
   "cell_type": "code",
   "execution_count": 24,
   "id": "c5f57ad0-d6b7-400a-a395-03048fdd9621",
   "metadata": {},
   "outputs": [],
   "source": [
    "c.name = \"Test\""
   ]
  },
  {
   "cell_type": "code",
   "execution_count": 25,
   "id": "f423e7e6-c092-4cf3-bfec-6451e3eecb91",
   "metadata": {},
   "outputs": [
    {
     "data": {
      "text/plain": [
       "'Test'"
      ]
     },
     "execution_count": 25,
     "metadata": {},
     "output_type": "execute_result"
    }
   ],
   "source": [
    "c.name"
   ]
  },
  {
   "cell_type": "code",
   "execution_count": 26,
   "id": "780068b6-c7cc-4d33-b988-3e681fd58822",
   "metadata": {},
   "outputs": [
    {
     "ename": "TypeError",
     "evalue": "Names must be stringtype.",
     "output_type": "error",
     "traceback": [
      "\u001b[0;31m---------------------------------------------------------------------------\u001b[0m",
      "\u001b[0;31mTypeError\u001b[0m                                 Traceback (most recent call last)",
      "Cell \u001b[0;32mIn[26], line 1\u001b[0m\n\u001b[0;32m----> 1\u001b[0m \u001b[43mc\u001b[49m\u001b[38;5;241;43m.\u001b[39;49m\u001b[43mname\u001b[49m \u001b[38;5;241m=\u001b[39m \u001b[38;5;28;01mNone\u001b[39;00m\n",
      "Cell \u001b[0;32mIn[22], line 9\u001b[0m, in \u001b[0;36mMyClass.name\u001b[0;34m(self, value)\u001b[0m\n\u001b[1;32m      6\u001b[0m \u001b[38;5;129m@name\u001b[39m\u001b[38;5;241m.\u001b[39msetter\n\u001b[1;32m      7\u001b[0m \u001b[38;5;28;01mdef\u001b[39;00m \u001b[38;5;21mname\u001b[39m(\u001b[38;5;28mself\u001b[39m, value):\n\u001b[1;32m      8\u001b[0m     \u001b[38;5;28;01mif\u001b[39;00m \u001b[38;5;129;01mnot\u001b[39;00m \u001b[38;5;28misinstance\u001b[39m(value, \u001b[38;5;28mstr\u001b[39m):\n\u001b[0;32m----> 9\u001b[0m         \u001b[38;5;28;01mraise\u001b[39;00m \u001b[38;5;167;01mTypeError\u001b[39;00m(\u001b[38;5;124m\"\u001b[39m\u001b[38;5;124mNames must be stringtype.\u001b[39m\u001b[38;5;124m\"\u001b[39m)\n\u001b[1;32m     10\u001b[0m     \u001b[38;5;28mself\u001b[39m\u001b[38;5;241m.\u001b[39m_name \u001b[38;5;241m=\u001b[39m value\n",
      "\u001b[0;31mTypeError\u001b[0m: Names must be stringtype."
     ]
    }
   ],
   "source": [
    "c.name = None"
   ]
  },
  {
   "cell_type": "code",
   "execution_count": 27,
   "id": "68d4764b-e36e-4430-a596-79868a4c30f9",
   "metadata": {},
   "outputs": [
    {
     "data": {
      "text/plain": [
       "'Test'"
      ]
     },
     "execution_count": 27,
     "metadata": {},
     "output_type": "execute_result"
    }
   ],
   "source": [
    "c.name"
   ]
  },
  {
   "cell_type": "code",
   "execution_count": 28,
   "id": "f3ccd94b-25eb-48cd-a72b-3593be6c46a8",
   "metadata": {},
   "outputs": [],
   "source": [
    "del c.name"
   ]
  },
  {
   "cell_type": "code",
   "execution_count": 29,
   "id": "0cc9bfcb-6c4f-45fe-82f1-951e8a4c0246",
   "metadata": {},
   "outputs": [
    {
     "data": {
      "text/plain": [
       "''"
      ]
     },
     "execution_count": 29,
     "metadata": {},
     "output_type": "execute_result"
    }
   ],
   "source": [
    "c.name"
   ]
  },
  {
   "cell_type": "code",
   "execution_count": 9,
   "id": "2549e1f8-9b5b-4ae2-a574-3706c535e5f8",
   "metadata": {},
   "outputs": [],
   "source": [
    "c.name = None\n",
    "c.name = object"
   ]
  },
  {
   "cell_type": "code",
   "execution_count": 10,
   "id": "98b3a78d-f572-49a9-bec2-374d681ec3b5",
   "metadata": {},
   "outputs": [
    {
     "data": {
      "text/plain": [
       "object"
      ]
     },
     "execution_count": 10,
     "metadata": {},
     "output_type": "execute_result"
    }
   ],
   "source": [
    "c.name"
   ]
  },
  {
   "cell_type": "code",
   "execution_count": null,
   "id": "84ef8b0e-ea86-4a8d-9cc8-d8d91ca8a413",
   "metadata": {},
   "outputs": [],
   "source": []
  }
 ],
 "metadata": {
  "kernelspec": {
   "display_name": "Python 3 (ipykernel)",
   "language": "python",
   "name": "python3"
  },
  "language_info": {
   "codemirror_mode": {
    "name": "ipython",
    "version": 3
   },
   "file_extension": ".py",
   "mimetype": "text/x-python",
   "name": "python",
   "nbconvert_exporter": "python",
   "pygments_lexer": "ipython3",
   "version": "3.12.2"
  }
 },
 "nbformat": 4,
 "nbformat_minor": 5
}
