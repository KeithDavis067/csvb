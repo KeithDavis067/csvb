{
 "cells": [
  {
   "cell_type": "code",
   "execution_count": 1,
   "id": "fd0ecc0c-3472-47cb-bb01-f11f1bf6bf90",
   "metadata": {},
   "outputs": [],
   "source": [
    "import pandas as pd\n",
    "import numpy as np\n",
    "import pathlib\n",
    "import datetime\n",
    "from rich import print\n",
    "import xarray as xr"
   ]
  },
  {
   "cell_type": "code",
   "execution_count": 2,
   "id": "75cafd0a-1ecc-4b6f-9011-78884c7cd77c",
   "metadata": {},
   "outputs": [],
   "source": [
    "pth = pathlib.Path.home() / pathlib.Path(\"als/cvsbdata\", follow_links=True)"
   ]
  },
  {
   "cell_type": "code",
   "execution_count": 3,
   "id": "3d73d31f-b2f7-4ebf-9d58-d1242cde2450",
   "metadata": {},
   "outputs": [
    {
     "data": {
      "text/plain": [
       "PosixPath('/Users/kdavis10/als/cvsbdata')"
      ]
     },
     "execution_count": 3,
     "metadata": {},
     "output_type": "execute_result"
    }
   ],
   "source": [
    "pth.resolve()"
   ]
  },
  {
   "cell_type": "code",
   "execution_count": 4,
   "id": "2c8f945d-6eb5-4fda-9882-e59e05f3b858",
   "metadata": {},
   "outputs": [],
   "source": [
    "try:\n",
    "    del cl\n",
    "except NameError:\n",
    "    pass\n",
    "\n",
    "cl = pd.read_csv(\"/Users/kdavis10/iCloud_Documents/Documents/Personal/Records/csvb/data/Combined Ledger.csv\",\n",
    "                    header=3, parse_dates=[\"Date\"])"
   ]
  },
  {
   "cell_type": "code",
   "execution_count": 5,
   "id": "8594a5c9-7d72-46cb-b5b8-cb72851e7cdc",
   "metadata": {},
   "outputs": [],
   "source": [
    "cl[\"Amount\"] = cl[\"Amount\"].astype(float)"
   ]
  },
  {
   "cell_type": "code",
   "execution_count": 6,
   "id": "77266252-3942-43d0-aa32-d7e38d6c551f",
   "metadata": {
    "scrolled": true
   },
   "outputs": [],
   "source": [
    "xcl = cl.set_index(\"LedgerID\").to_xarray()\n",
    "# Add a dummmy dimension, will make transposing easier later.\n",
    "xcl = xcl.expand_dims(\"dummy\")"
   ]
  },
  {
   "cell_type": "code",
   "execution_count": 7,
   "id": "4b628142-fd82-49a2-a389-e81455164ea0",
   "metadata": {},
   "outputs": [
    {
     "data": {
      "text/plain": [
       "(1, 1540)"
      ]
     },
     "execution_count": 7,
     "metadata": {},
     "output_type": "execute_result"
    }
   ],
   "source": [
    "xcl.Amount.data.shape"
   ]
  },
  {
   "cell_type": "code",
   "execution_count": 100,
   "id": "415e440e-5386-4fdf-a41e-222823a39073",
   "metadata": {},
   "outputs": [],
   "source": [
    "# Reshape so that transpose works.\n",
    "#amountdata = np.expand_dims(xcl.Amount.data, 0)\n",
    "\n",
    "# Transfers from one account to another would have opposite signs on the amount.\n",
    "amount_matches = xcl.Amount.data == -1 * xcl.Amount.data.T\n",
    "\n",
    "# Dates should be within 5 days.\n",
    "date_matches = np.abs(xcl.Date.data - xcl.Date.data.T).astype('timedelta64[D]')  < np.timedelta64(5, \"D\")\n",
    "\n",
    "# Apply both for list.\n",
    "matchix = np.where(np.logical_and(amount_matches, date_matches))\n",
    "\n",
    "# Zip to tuples.\n",
    "pairs = zip(matchix[0], matchix[1])\n",
    "\n",
    "# Since (i, j) = (j, i) sort all pairs so that they can be compared, drop items that matched themselves, and use a set to drop duplicates.\n",
    "pairs = list(set([tuple(np.sort(pair)) for pair in pairs if pair[0] != pair[1]]))\n",
    "\n",
    "# Get LedgerIDs\n",
    "#xfer_LIDs = (xcl.isel(LedgerID=xfer_matches[0])[\"LedgerID\"], \n",
    "#                 xcl.isel(LedgerID=xfer_matches[1])[\"LedgerID\"])\n",
    "\n",
    "\n",
    "matcharray = np.array(pairs)"
   ]
  },
  {
   "cell_type": "code",
   "execution_count": 102,
   "id": "b486c8a1-12cd-409d-90de-fbcb07e9f21e",
   "metadata": {},
   "outputs": [],
   "source": [
    "left = xcl.isel(LedgerID=matcharray[:,0])\n",
    "right = xcl.isel(LedgerID=matcharray[:,1])\n",
    "#left = left.where(left.Amount!=0)\n",
    "#right = xcl.isel(LedgerID=pairarray[:,1]).sel(Amount=0, drop=True)\n",
    "#matches = (left, right)"
   ]
  },
  {
   "cell_type": "code",
   "execution_count": 132,
   "id": "2f60fa22-5fb5-4db6-948d-d9ea13495cee",
   "metadata": {},
   "outputs": [],
   "source": [
    "lpandas = left.squeeze().to_dataframe().reset_index()\n",
    "rpandas = right.squeeze().to_dataframe().reset_index()"
   ]
  },
  {
   "cell_type": "code",
   "execution_count": 148,
   "id": "04f5293c-c6f8-4572-8e17-4b5fbe31afe9",
   "metadata": {},
   "outputs": [],
   "source": [
    "possible_match_table = pd.merge(lpandas, rpandas, suffixes=[\"_left\", \"_right\"], left_index=True, right_index=True)"
   ]
  },
  {
   "cell_type": "code",
   "execution_count": 151,
   "id": "40517f89-2dfc-4159-9d51-0e1c473b3e83",
   "metadata": {},
   "outputs": [
    {
     "data": {
      "text/html": [
       "<div>\n",
       "<style scoped>\n",
       "    .dataframe tbody tr th:only-of-type {\n",
       "        vertical-align: middle;\n",
       "    }\n",
       "\n",
       "    .dataframe tbody tr th {\n",
       "        vertical-align: top;\n",
       "    }\n",
       "\n",
       "    .dataframe thead th {\n",
       "        text-align: right;\n",
       "    }\n",
       "</style>\n",
       "<table border=\"1\" class=\"dataframe\">\n",
       "  <thead>\n",
       "    <tr style=\"text-align: right;\">\n",
       "      <th></th>\n",
       "      <th>LedgerID_left</th>\n",
       "      <th>Ledger_left</th>\n",
       "      <th>Date_left</th>\n",
       "      <th>Description_left</th>\n",
       "      <th>Amount_left</th>\n",
       "      <th>Account_left</th>\n",
       "      <th>LedgerID_right</th>\n",
       "      <th>Ledger_right</th>\n",
       "      <th>Date_right</th>\n",
       "      <th>Description_right</th>\n",
       "      <th>Amount_right</th>\n",
       "      <th>Account_right</th>\n",
       "    </tr>\n",
       "  </thead>\n",
       "  <tbody>\n",
       "    <tr>\n",
       "      <th>0</th>\n",
       "      <td>E5013702</td>\n",
       "      <td>NDFCU:Credit Card</td>\n",
       "      <td>2022-12-02</td>\n",
       "      <td>ASCENDANTCARMICHAEL . SOUTH BEND  . IN 0000</td>\n",
       "      <td>-35.00</td>\n",
       "      <td>Medical</td>\n",
       "      <td>43E3E5B7</td>\n",
       "      <td>NDFCU:Credit Card</td>\n",
       "      <td>2022-12-04</td>\n",
       "      <td>FEATHERGILL AND ASSOCIA  . MISHAWAKA    . IN 0000</td>\n",
       "      <td>35.00</td>\n",
       "      <td>Medical</td>\n",
       "    </tr>\n",
       "    <tr>\n",
       "      <th>1</th>\n",
       "      <td>372AD13E</td>\n",
       "      <td>NDFCU:Credit Card</td>\n",
       "      <td>2022-04-27</td>\n",
       "      <td>FEATHERGILL AND ASSOCIA  . 574-2821090  . IN 0000</td>\n",
       "      <td>25.00</td>\n",
       "      <td>Medical</td>\n",
       "      <td>13C921A2</td>\n",
       "      <td>NDFCU:Credit Card</td>\n",
       "      <td>2022-04-27</td>\n",
       "      <td>FEATHERGILL AND ASSOCIA  . 574-2821090  . IN 0000</td>\n",
       "      <td>-25.00</td>\n",
       "      <td>Medical</td>\n",
       "    </tr>\n",
       "    <tr>\n",
       "      <th>2</th>\n",
       "      <td>D4450D58</td>\n",
       "      <td>1st Source:Checking</td>\n",
       "      <td>2023-05-02</td>\n",
       "      <td>Notre Dame FCU - TRANSFER</td>\n",
       "      <td>-3875.48</td>\n",
       "      <td>NDFCU:Credit Card</td>\n",
       "      <td>0ABEADD5</td>\n",
       "      <td>NDFCU:Credit Card</td>\n",
       "      <td>2023-05-02</td>\n",
       "      <td>TRANSFER</td>\n",
       "      <td>3875.48</td>\n",
       "      <td>1st Source:Checking</td>\n",
       "    </tr>\n",
       "    <tr>\n",
       "      <th>3</th>\n",
       "      <td>1F29C60A</td>\n",
       "      <td>1st Source:Checking</td>\n",
       "      <td>2022-01-14</td>\n",
       "      <td>Notre Dame FCU - TRANSFER</td>\n",
       "      <td>-1929.62</td>\n",
       "      <td>NDFCU:Credit Card</td>\n",
       "      <td>5513A43F</td>\n",
       "      <td>NDFCU:Credit Card</td>\n",
       "      <td>2022-01-14</td>\n",
       "      <td>TRANSFER</td>\n",
       "      <td>1929.62</td>\n",
       "      <td>1st Source:Checking</td>\n",
       "    </tr>\n",
       "    <tr>\n",
       "      <th>4</th>\n",
       "      <td>592523C9</td>\n",
       "      <td>1st Source:Checking</td>\n",
       "      <td>2022-04-08</td>\n",
       "      <td>Notre Dame FCU - TRANSFER</td>\n",
       "      <td>-2146.80</td>\n",
       "      <td>NDFCU:Credit Card</td>\n",
       "      <td>740EC81F</td>\n",
       "      <td>NDFCU:Credit Card</td>\n",
       "      <td>2022-04-08</td>\n",
       "      <td>TRANSFER</td>\n",
       "      <td>2146.80</td>\n",
       "      <td>1st Source:Checking</td>\n",
       "    </tr>\n",
       "    <tr>\n",
       "      <th>...</th>\n",
       "      <td>...</td>\n",
       "      <td>...</td>\n",
       "      <td>...</td>\n",
       "      <td>...</td>\n",
       "      <td>...</td>\n",
       "      <td>...</td>\n",
       "      <td>...</td>\n",
       "      <td>...</td>\n",
       "      <td>...</td>\n",
       "      <td>...</td>\n",
       "      <td>...</td>\n",
       "      <td>...</td>\n",
       "    </tr>\n",
       "    <tr>\n",
       "      <th>61</th>\n",
       "      <td>4C46682E</td>\n",
       "      <td>1st Source:Checking</td>\n",
       "      <td>2022-05-31</td>\n",
       "      <td>APPLECARD GSBANK PAYMENT</td>\n",
       "      <td>-414.12</td>\n",
       "      <td>Apple:Installments</td>\n",
       "      <td>BC191DC6</td>\n",
       "      <td>Apple:Credit Card</td>\n",
       "      <td>2022-05-30</td>\n",
       "      <td>ACH DEPOSIT INTERNET TRANSFER FROM ACCOUNT END...</td>\n",
       "      <td>414.12</td>\n",
       "      <td>Electronics</td>\n",
       "    </tr>\n",
       "    <tr>\n",
       "      <th>62</th>\n",
       "      <td>B0636345</td>\n",
       "      <td>1st Source:Checking</td>\n",
       "      <td>2023-03-08</td>\n",
       "      <td>ALLY BANK $TRANSFER</td>\n",
       "      <td>-600.00</td>\n",
       "      <td>Ally:Savings</td>\n",
       "      <td>3999FBA2</td>\n",
       "      <td>Ally:Savings</td>\n",
       "      <td>2023-03-10</td>\n",
       "      <td>Requested transfer from KEITH W DAVIS Ally Ban...</td>\n",
       "      <td>600.00</td>\n",
       "      <td>1st Source:Checking</td>\n",
       "    </tr>\n",
       "    <tr>\n",
       "      <th>63</th>\n",
       "      <td>1435ECD2</td>\n",
       "      <td>1st Source:Checking</td>\n",
       "      <td>2022-06-28</td>\n",
       "      <td>KEITH W DAVIS P2P</td>\n",
       "      <td>1000.00</td>\n",
       "      <td>Ally:Savings</td>\n",
       "      <td>38931352</td>\n",
       "      <td>Ally:Savings</td>\n",
       "      <td>2022-06-27</td>\n",
       "      <td>Requested transfer to Keith W Davis (1ST SOURC...</td>\n",
       "      <td>-1000.00</td>\n",
       "      <td>1st Source:Checking</td>\n",
       "    </tr>\n",
       "    <tr>\n",
       "      <th>64</th>\n",
       "      <td>6798E598</td>\n",
       "      <td>1st Source:Checking</td>\n",
       "      <td>2022-07-06</td>\n",
       "      <td>Notre Dame FCU - TRANSFER</td>\n",
       "      <td>-1986.92</td>\n",
       "      <td>NDFCU:Credit Card</td>\n",
       "      <td>5C3B7381</td>\n",
       "      <td>NDFCU:Credit Card</td>\n",
       "      <td>2022-07-06</td>\n",
       "      <td>TRANSFER</td>\n",
       "      <td>1986.92</td>\n",
       "      <td>1st Source:Checking</td>\n",
       "    </tr>\n",
       "    <tr>\n",
       "      <th>65</th>\n",
       "      <td>3309A25B</td>\n",
       "      <td>1st Source:Checking</td>\n",
       "      <td>2022-08-01</td>\n",
       "      <td>Notre Dame FCU - TRANSFER</td>\n",
       "      <td>-2152.84</td>\n",
       "      <td>NDFCU:Credit Card</td>\n",
       "      <td>3EE2D058</td>\n",
       "      <td>NDFCU:Credit Card</td>\n",
       "      <td>2022-08-01</td>\n",
       "      <td>TRANSFER</td>\n",
       "      <td>2152.84</td>\n",
       "      <td>1st Source:Checking</td>\n",
       "    </tr>\n",
       "  </tbody>\n",
       "</table>\n",
       "<p>66 rows × 12 columns</p>\n",
       "</div>"
      ],
      "text/plain": [
       "   LedgerID_left          Ledger_left  Date_left  \\\n",
       "0       E5013702    NDFCU:Credit Card 2022-12-02   \n",
       "1       372AD13E    NDFCU:Credit Card 2022-04-27   \n",
       "2       D4450D58  1st Source:Checking 2023-05-02   \n",
       "3       1F29C60A  1st Source:Checking 2022-01-14   \n",
       "4       592523C9  1st Source:Checking 2022-04-08   \n",
       "..           ...                  ...        ...   \n",
       "61      4C46682E  1st Source:Checking 2022-05-31   \n",
       "62      B0636345  1st Source:Checking 2023-03-08   \n",
       "63      1435ECD2  1st Source:Checking 2022-06-28   \n",
       "64      6798E598  1st Source:Checking 2022-07-06   \n",
       "65      3309A25B  1st Source:Checking 2022-08-01   \n",
       "\n",
       "                                     Description_left  Amount_left  \\\n",
       "0         ASCENDANTCARMICHAEL . SOUTH BEND  . IN 0000       -35.00   \n",
       "1   FEATHERGILL AND ASSOCIA  . 574-2821090  . IN 0000        25.00   \n",
       "2                           Notre Dame FCU - TRANSFER     -3875.48   \n",
       "3                           Notre Dame FCU - TRANSFER     -1929.62   \n",
       "4                           Notre Dame FCU - TRANSFER     -2146.80   \n",
       "..                                                ...          ...   \n",
       "61                           APPLECARD GSBANK PAYMENT      -414.12   \n",
       "62                                ALLY BANK $TRANSFER      -600.00   \n",
       "63                                  KEITH W DAVIS P2P      1000.00   \n",
       "64                          Notre Dame FCU - TRANSFER     -1986.92   \n",
       "65                          Notre Dame FCU - TRANSFER     -2152.84   \n",
       "\n",
       "          Account_left LedgerID_right       Ledger_right Date_right  \\\n",
       "0              Medical       43E3E5B7  NDFCU:Credit Card 2022-12-04   \n",
       "1              Medical       13C921A2  NDFCU:Credit Card 2022-04-27   \n",
       "2    NDFCU:Credit Card       0ABEADD5  NDFCU:Credit Card 2023-05-02   \n",
       "3    NDFCU:Credit Card       5513A43F  NDFCU:Credit Card 2022-01-14   \n",
       "4    NDFCU:Credit Card       740EC81F  NDFCU:Credit Card 2022-04-08   \n",
       "..                 ...            ...                ...        ...   \n",
       "61  Apple:Installments       BC191DC6  Apple:Credit Card 2022-05-30   \n",
       "62        Ally:Savings       3999FBA2       Ally:Savings 2023-03-10   \n",
       "63        Ally:Savings       38931352       Ally:Savings 2022-06-27   \n",
       "64   NDFCU:Credit Card       5C3B7381  NDFCU:Credit Card 2022-07-06   \n",
       "65   NDFCU:Credit Card       3EE2D058  NDFCU:Credit Card 2022-08-01   \n",
       "\n",
       "                                    Description_right  Amount_right  \\\n",
       "0   FEATHERGILL AND ASSOCIA  . MISHAWAKA    . IN 0000         35.00   \n",
       "1   FEATHERGILL AND ASSOCIA  . 574-2821090  . IN 0000        -25.00   \n",
       "2                                            TRANSFER       3875.48   \n",
       "3                                            TRANSFER       1929.62   \n",
       "4                                            TRANSFER       2146.80   \n",
       "..                                                ...           ...   \n",
       "61  ACH DEPOSIT INTERNET TRANSFER FROM ACCOUNT END...        414.12   \n",
       "62  Requested transfer from KEITH W DAVIS Ally Ban...        600.00   \n",
       "63  Requested transfer to Keith W Davis (1ST SOURC...      -1000.00   \n",
       "64                                           TRANSFER       1986.92   \n",
       "65                                           TRANSFER       2152.84   \n",
       "\n",
       "          Account_right  \n",
       "0               Medical  \n",
       "1               Medical  \n",
       "2   1st Source:Checking  \n",
       "3   1st Source:Checking  \n",
       "4   1st Source:Checking  \n",
       "..                  ...  \n",
       "61          Electronics  \n",
       "62  1st Source:Checking  \n",
       "63  1st Source:Checking  \n",
       "64  1st Source:Checking  \n",
       "65  1st Source:Checking  \n",
       "\n",
       "[66 rows x 12 columns]"
      ]
     },
     "execution_count": 151,
     "metadata": {},
     "output_type": "execute_result"
    }
   ],
   "source": [
    "possible_match_table"
   ]
  },
  {
   "cell_type": "code",
   "execution_count": 163,
   "id": "690ae070-b6db-49cc-9c84-7f740a824723",
   "metadata": {},
   "outputs": [],
   "source": [
    "lc = [c for c in possible_match_table.columns if c.endswith(\"_left\")]\n",
    "rc = [c for c in possible_match_table.columns if c.endswith(\"_right\")]\n",
    "c = list(possible_match_table.columns)"
   ]
  },
  {
   "cell_type": "code",
   "execution_count": 164,
   "id": "67b366be-a380-43dc-9b68-30b1a78018bb",
   "metadata": {},
   "outputs": [
    {
     "data": {
      "text/plain": [
       "['Account_left',\n",
       " 'Account_right',\n",
       " 'Amount_left',\n",
       " 'Amount_right',\n",
       " 'Date_left',\n",
       " 'Date_right',\n",
       " 'Description_left',\n",
       " 'Description_right',\n",
       " 'LedgerID_left',\n",
       " 'LedgerID_right',\n",
       " 'Ledger_left',\n",
       " 'Ledger_right']"
      ]
     },
     "execution_count": 164,
     "metadata": {},
     "output_type": "execute_result"
    }
   ],
   "source": [
    "c.sort()\n",
    "c"
   ]
  },
  {
   "cell_type": "code",
   "execution_count": null,
   "id": "d2d2a84f-3303-4330-8922-f2f0bfc9cd3d",
   "metadata": {},
   "outputs": [
    {
     "data": {
      "text/html": [
       "<pre style=\"white-space:pre;overflow-x:auto;line-height:normal;font-family:Menlo,'DejaVu Sans Mono',consolas,'Courier New',monospace\"><span style=\"font-weight: bold\">[</span>\n",
       "    <span style=\"color: #008000; text-decoration-color: #008000\">'LedgerID: E5013702, 43E3E5B7'</span>,\n",
       "    <span style=\"color: #008000; text-decoration-color: #008000\">'Ledger: NDFCU:Credit Card, NDFCU:Credit Card'</span>,\n",
       "    <span style=\"color: #008000; text-decoration-color: #008000\">'Date: 2022-12-02 00:00:00, 2022-12-04 00:00:00'</span>,\n",
       "    <span style=\"color: #008000; text-decoration-color: #008000\">'Description: ASCENDANTCARMICHAEL . SOUTH BEND  . IN 0000, FEATHERGILL AND ASSOCIA  . MISHAWAKA    . IN 0000'</span>,\n",
       "    <span style=\"color: #008000; text-decoration-color: #008000\">'Amount: -35.0, 35.0'</span>,\n",
       "    <span style=\"color: #008000; text-decoration-color: #008000\">'Account: Medical, Medical'</span>\n",
       "<span style=\"font-weight: bold\">]</span>\n",
       "</pre>\n"
      ],
      "text/plain": [
       "\u001b[1m[\u001b[0m\n",
       "    \u001b[32m'LedgerID: E5013702, 43E3E5B7'\u001b[0m,\n",
       "    \u001b[32m'Ledger: NDFCU:Credit Card, NDFCU:Credit Card'\u001b[0m,\n",
       "    \u001b[32m'Date: 2022-12-02 00:00:00, 2022-12-04 00:00:00'\u001b[0m,\n",
       "    \u001b[32m'Description: ASCENDANTCARMICHAEL . SOUTH BEND  . IN 0000, FEATHERGILL AND ASSOCIA  . MISHAWAKA    . IN 0000'\u001b[0m,\n",
       "    \u001b[32m'Amount: -35.0, 35.0'\u001b[0m,\n",
       "    \u001b[32m'Account: Medical, Medical'\u001b[0m\n",
       "\u001b[1m]\u001b[0m\n"
      ]
     },
     "metadata": {},
     "output_type": "display_data"
    },
    {
     "name": "stdin",
     "output_type": "stream",
     "text": [
      " n\n"
     ]
    },
    {
     "data": {
      "text/html": [
       "<pre style=\"white-space:pre;overflow-x:auto;line-height:normal;font-family:Menlo,'DejaVu Sans Mono',consolas,'Courier New',monospace\"><span style=\"font-weight: bold\">[</span>\n",
       "    <span style=\"color: #008000; text-decoration-color: #008000\">'LedgerID: 372AD13E, 13C921A2'</span>,\n",
       "    <span style=\"color: #008000; text-decoration-color: #008000\">'Ledger: NDFCU:Credit Card, NDFCU:Credit Card'</span>,\n",
       "    <span style=\"color: #008000; text-decoration-color: #008000\">'Date: 2022-04-27 00:00:00, 2022-04-27 00:00:00'</span>,\n",
       "    <span style=\"color: #008000; text-decoration-color: #008000\">'Description: FEATHERGILL AND ASSOCIA  . 574-2821090  . IN 0000, FEATHERGILL AND ASSOCIA  . 574-2821090  . IN </span>\n",
       "<span style=\"color: #008000; text-decoration-color: #008000\">0000'</span>,\n",
       "    <span style=\"color: #008000; text-decoration-color: #008000\">'Amount: 25.0, -25.0'</span>,\n",
       "    <span style=\"color: #008000; text-decoration-color: #008000\">'Account: Medical, Medical'</span>\n",
       "<span style=\"font-weight: bold\">]</span>\n",
       "</pre>\n"
      ],
      "text/plain": [
       "\u001b[1m[\u001b[0m\n",
       "    \u001b[32m'LedgerID: 372AD13E, 13C921A2'\u001b[0m,\n",
       "    \u001b[32m'Ledger: NDFCU:Credit Card, NDFCU:Credit Card'\u001b[0m,\n",
       "    \u001b[32m'Date: 2022-04-27 00:00:00, 2022-04-27 00:00:00'\u001b[0m,\n",
       "    \u001b[32m'Description: FEATHERGILL AND ASSOCIA  . 574-2821090  . IN 0000, FEATHERGILL AND ASSOCIA  . 574-2821090  . IN \u001b[0m\n",
       "\u001b[32m0000'\u001b[0m,\n",
       "    \u001b[32m'Amount: 25.0, -25.0'\u001b[0m,\n",
       "    \u001b[32m'Account: Medical, Medical'\u001b[0m\n",
       "\u001b[1m]\u001b[0m\n"
      ]
     },
     "metadata": {},
     "output_type": "display_data"
    },
    {
     "name": "stdin",
     "output_type": "stream",
     "text": [
      " n\n"
     ]
    },
    {
     "data": {
      "text/html": [
       "<pre style=\"white-space:pre;overflow-x:auto;line-height:normal;font-family:Menlo,'DejaVu Sans Mono',consolas,'Courier New',monospace\"><span style=\"font-weight: bold\">[</span>\n",
       "    <span style=\"color: #008000; text-decoration-color: #008000\">'LedgerID: D4450D58, 0ABEADD5'</span>,\n",
       "    <span style=\"color: #008000; text-decoration-color: #008000\">'Ledger: 1st Source:Checking, NDFCU:Credit Card'</span>,\n",
       "    <span style=\"color: #008000; text-decoration-color: #008000\">'Date: 2023-05-02 00:00:00, 2023-05-02 00:00:00'</span>,\n",
       "    <span style=\"color: #008000; text-decoration-color: #008000\">'Description: Notre Dame FCU - TRANSFER, TRANSFER'</span>,\n",
       "    <span style=\"color: #008000; text-decoration-color: #008000\">'Amount: -3875.48, 3875.48'</span>,\n",
       "    <span style=\"color: #008000; text-decoration-color: #008000\">'Account: NDFCU:Credit Card, 1st Source:Checking'</span>\n",
       "<span style=\"font-weight: bold\">]</span>\n",
       "</pre>\n"
      ],
      "text/plain": [
       "\u001b[1m[\u001b[0m\n",
       "    \u001b[32m'LedgerID: D4450D58, 0ABEADD5'\u001b[0m,\n",
       "    \u001b[32m'Ledger: 1st Source:Checking, NDFCU:Credit Card'\u001b[0m,\n",
       "    \u001b[32m'Date: 2023-05-02 00:00:00, 2023-05-02 00:00:00'\u001b[0m,\n",
       "    \u001b[32m'Description: Notre Dame FCU - TRANSFER, TRANSFER'\u001b[0m,\n",
       "    \u001b[32m'Amount: -3875.48, 3875.48'\u001b[0m,\n",
       "    \u001b[32m'Account: NDFCU:Credit Card, 1st Source:Checking'\u001b[0m\n",
       "\u001b[1m]\u001b[0m\n"
      ]
     },
     "metadata": {},
     "output_type": "display_data"
    },
    {
     "name": "stdin",
     "output_type": "stream",
     "text": [
      " y\n"
     ]
    },
    {
     "data": {
      "text/html": [
       "<pre style=\"white-space:pre;overflow-x:auto;line-height:normal;font-family:Menlo,'DejaVu Sans Mono',consolas,'Courier New',monospace\"><span style=\"font-weight: bold\">[</span>\n",
       "    <span style=\"color: #008000; text-decoration-color: #008000\">'LedgerID: 1F29C60A, 5513A43F'</span>,\n",
       "    <span style=\"color: #008000; text-decoration-color: #008000\">'Ledger: 1st Source:Checking, NDFCU:Credit Card'</span>,\n",
       "    <span style=\"color: #008000; text-decoration-color: #008000\">'Date: 2022-01-14 00:00:00, 2022-01-14 00:00:00'</span>,\n",
       "    <span style=\"color: #008000; text-decoration-color: #008000\">'Description: Notre Dame FCU - TRANSFER, TRANSFER'</span>,\n",
       "    <span style=\"color: #008000; text-decoration-color: #008000\">'Amount: -1929.62, 1929.62'</span>,\n",
       "    <span style=\"color: #008000; text-decoration-color: #008000\">'Account: NDFCU:Credit Card, 1st Source:Checking'</span>\n",
       "<span style=\"font-weight: bold\">]</span>\n",
       "</pre>\n"
      ],
      "text/plain": [
       "\u001b[1m[\u001b[0m\n",
       "    \u001b[32m'LedgerID: 1F29C60A, 5513A43F'\u001b[0m,\n",
       "    \u001b[32m'Ledger: 1st Source:Checking, NDFCU:Credit Card'\u001b[0m,\n",
       "    \u001b[32m'Date: 2022-01-14 00:00:00, 2022-01-14 00:00:00'\u001b[0m,\n",
       "    \u001b[32m'Description: Notre Dame FCU - TRANSFER, TRANSFER'\u001b[0m,\n",
       "    \u001b[32m'Amount: -1929.62, 1929.62'\u001b[0m,\n",
       "    \u001b[32m'Account: NDFCU:Credit Card, 1st Source:Checking'\u001b[0m\n",
       "\u001b[1m]\u001b[0m\n"
      ]
     },
     "metadata": {},
     "output_type": "display_data"
    },
    {
     "name": "stdin",
     "output_type": "stream",
     "text": [
      " y\n"
     ]
    },
    {
     "data": {
      "text/html": [
       "<pre style=\"white-space:pre;overflow-x:auto;line-height:normal;font-family:Menlo,'DejaVu Sans Mono',consolas,'Courier New',monospace\"><span style=\"font-weight: bold\">[</span>\n",
       "    <span style=\"color: #008000; text-decoration-color: #008000\">'LedgerID: 592523C9, 740EC81F'</span>,\n",
       "    <span style=\"color: #008000; text-decoration-color: #008000\">'Ledger: 1st Source:Checking, NDFCU:Credit Card'</span>,\n",
       "    <span style=\"color: #008000; text-decoration-color: #008000\">'Date: 2022-04-08 00:00:00, 2022-04-08 00:00:00'</span>,\n",
       "    <span style=\"color: #008000; text-decoration-color: #008000\">'Description: Notre Dame FCU - TRANSFER, TRANSFER'</span>,\n",
       "    <span style=\"color: #008000; text-decoration-color: #008000\">'Amount: -2146.8, 2146.8'</span>,\n",
       "    <span style=\"color: #008000; text-decoration-color: #008000\">'Account: NDFCU:Credit Card, 1st Source:Checking'</span>\n",
       "<span style=\"font-weight: bold\">]</span>\n",
       "</pre>\n"
      ],
      "text/plain": [
       "\u001b[1m[\u001b[0m\n",
       "    \u001b[32m'LedgerID: 592523C9, 740EC81F'\u001b[0m,\n",
       "    \u001b[32m'Ledger: 1st Source:Checking, NDFCU:Credit Card'\u001b[0m,\n",
       "    \u001b[32m'Date: 2022-04-08 00:00:00, 2022-04-08 00:00:00'\u001b[0m,\n",
       "    \u001b[32m'Description: Notre Dame FCU - TRANSFER, TRANSFER'\u001b[0m,\n",
       "    \u001b[32m'Amount: -2146.8, 2146.8'\u001b[0m,\n",
       "    \u001b[32m'Account: NDFCU:Credit Card, 1st Source:Checking'\u001b[0m\n",
       "\u001b[1m]\u001b[0m\n"
      ]
     },
     "metadata": {},
     "output_type": "display_data"
    }
   ],
   "source": [
    "confirmed = []\n",
    "for i, row in enumerate(possible_match_table.iloc):\n",
    "    s = [f\"{c.split('_')[0]}: {vl}, {vr}\" for c, vl, vr in zip(lc, row[lc], row[rc])]\n",
    "    print(s)\n",
    "    y = input()\n",
    "    if y.lower() in [\"y\", \"yes\"]:\n",
    "        confirmed.append(i)\n",
    "        "
   ]
  },
  {
   "cell_type": "code",
   "execution_count": 185,
   "id": "08981933-1353-4027-a2ee-37a7121737d5",
   "metadata": {},
   "outputs": [],
   "source": []
  },
  {
   "cell_type": "code",
   "execution_count": 186,
   "id": "9c4d30d4-4998-449d-90e6-5552af16a180",
   "metadata": {},
   "outputs": [
    {
     "data": {
      "text/html": [
       "<pre style=\"white-space:pre;overflow-x:auto;line-height:normal;font-family:Menlo,'DejaVu Sans Mono',consolas,'Courier New',monospace\">LedgerID:                3309A25B,               3EE2D058\n",
       "Ledger:          1st Sour<span style=\"color: #00ff00; text-decoration-color: #00ff00; font-weight: bold\">ce:C</span>hecking,            NDFCU:Credit Card\n",
       "Date:            <span style=\"color: #008080; text-decoration-color: #008080; font-weight: bold\">2022</span>-<span style=\"color: #008080; text-decoration-color: #008080; font-weight: bold\">08</span>-<span style=\"color: #008080; text-decoration-color: #008080; font-weight: bold\">01</span> <span style=\"color: #00ff00; text-decoration-color: #00ff00; font-weight: bold\">00:00:00</span>,            <span style=\"color: #008080; text-decoration-color: #008080; font-weight: bold\">2022</span>-<span style=\"color: #008080; text-decoration-color: #008080; font-weight: bold\">08</span>-<span style=\"color: #008080; text-decoration-color: #008080; font-weight: bold\">01</span> <span style=\"color: #00ff00; text-decoration-color: #00ff00; font-weight: bold\">00:00:00</span>\n",
       "Description:             Notre Dame FCU - TRANSFER,              TRANSFER\n",
       "Amount:          <span style=\"color: #008080; text-decoration-color: #008080; font-weight: bold\">-2152.84</span>,               <span style=\"color: #008080; text-decoration-color: #008080; font-weight: bold\">2152.84</span>\n",
       "Account:                 NDFCU:Credit Card,              1st Sour<span style=\"color: #00ff00; text-decoration-color: #00ff00; font-weight: bold\">ce:C</span>hecking\n",
       "</pre>\n"
      ],
      "text/plain": [
       "LedgerID:                3309A25B,               3EE2D058\n",
       "Ledger:          1st Sour\u001b[1;92mce:C\u001b[0mhecking,            NDFCU:Credit Card\n",
       "Date:            \u001b[1;36m2022\u001b[0m-\u001b[1;36m08\u001b[0m-\u001b[1;36m01\u001b[0m \u001b[1;92m00:00:00\u001b[0m,            \u001b[1;36m2022\u001b[0m-\u001b[1;36m08\u001b[0m-\u001b[1;36m01\u001b[0m \u001b[1;92m00:00:00\u001b[0m\n",
       "Description:             Notre Dame FCU - TRANSFER,              TRANSFER\n",
       "Amount:          \u001b[1;36m-2152.84\u001b[0m,               \u001b[1;36m2152.84\u001b[0m\n",
       "Account:                 NDFCU:Credit Card,              1st Sour\u001b[1;92mce:C\u001b[0mhecking\n"
      ]
     },
     "metadata": {},
     "output_type": "display_data"
    }
   ],
   "source": [
    "print(\"\\n\".join(s))"
   ]
  },
  {
   "cell_type": "code",
   "execution_count": null,
   "id": "2d3f8788-385c-4c70-985e-38d61a7c5b53",
   "metadata": {},
   "outputs": [],
   "source": []
  }
 ],
 "metadata": {
  "kernelspec": {
   "display_name": "Python 3 (ipykernel)",
   "language": "python",
   "name": "python3"
  },
  "language_info": {
   "codemirror_mode": {
    "name": "ipython",
    "version": 3
   },
   "file_extension": ".py",
   "mimetype": "text/x-python",
   "name": "python",
   "nbconvert_exporter": "python",
   "pygments_lexer": "ipython3",
   "version": "3.11.6"
  }
 },
 "nbformat": 4,
 "nbformat_minor": 5
}
