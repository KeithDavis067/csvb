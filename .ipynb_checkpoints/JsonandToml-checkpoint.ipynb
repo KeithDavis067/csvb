{
 "cells": [
  {
   "cell_type": "code",
   "execution_count": 1,
   "id": "4d05bfe4-2d40-4883-a7a7-4fa2021e5499",
   "metadata": {},
   "outputs": [],
   "source": [
    "from csvb.ingest import apply_rule, sel_factory, ApplyOp, SelectOp, AOP, SOP, Rule, to_transactions, strip_currency\n",
    "import csvb.ingest as csi\n",
    "import json\n",
    "import tomlkit as tml"
   ]
  },
  {
   "cell_type": "code",
   "execution_count": 2,
   "id": "c1e9daf2-13cc-4e6d-a634-deb8de4efec0",
   "metadata": {},
   "outputs": [],
   "source": [
    "apldicts= [dict(select=dict(op=\"contains\", column=\"Merchant\", b=\"Banana Republic\"),        apply=dict(op=\"assign\", column=\"From\", b=\"Expenses:Clothing\")),\n",
    "          dict(select=dict(op=\"contains\", column=\"Merchant\", b=\"Apple Services\"),         apply=dict(op=\"assign\", column=\"From\", b=\"Expenses:Subscription\")),\n",
    "          dict(select=dict(op=\"contains\", column=\"Merchant\", b=\"Phillips 66\"),            apply=dict(op=\"assign\", column=\"From\", b=\"Expenses:Auto:Gas\")),\n",
    "          dict(select=dict(op=\"contains\", column=\"Merchant\", b=\"Ridge Wallet\"),           apply=dict(op=\"assign\", column=\"From\", b=\"Expenses:Gear\")),\n",
    "          dict(select=dict(op=\"contains\", column=\"Merchant\", b=\"Martin's Supermarket\"),   apply=dict(op=\"assign\", column=\"From\", b=\"Expenses:Groceries\")),\n",
    "          dict(select=dict(op=\"contains\", column=\"Merchant\", b=\"Apple Cash Payment\"),     apply=dict(op=\"assign\", column=\"From\", b=\"Income:Apple Cash\")),\n",
    "          dict(select=dict(op=\"contains\", column=\"Merchant\", b=\"Hulu\"),                   apply=dict(op=\"assign\", column=\"From\", b=\"Expenses:Entertainment\")),\n",
    "          dict(select=dict(op=\"contains\", column=\"Merchant\", b=\"Trade Coffee CO\"),        apply=dict(op=\"assign\", column=\"From\", b=\"Expenses:Groceries\")),\n",
    "          dict(select=dict(op=\"contains\", column=\"Merchant\", b=\"Beacon Med\"),             apply=dict(op=\"assign\", column=\"From\", b=\"Expenses:Medical:Body\")),\n",
    "          dict(select=dict(op=\"contains\", column=\"Merchant\", b=\"South Bend Clinic\"),      apply=dict(op=\"assign\", column=\"From\", b=\"Expenses:Medical:Body\")),\n",
    "          dict(select=dict(op=\"contains\", column=\"Merchant\", b=\"WMMH\"),                   apply=dict(op=\"assign\", column=\"From\", b=\"Expenses:Entertainment:Self\")),\n",
    "          dict(select=dict(op=\"contains\", column=\"Merchant\", b=\"Account Ending In 8785\"), apply=dict(op=\"assign\", column=\"From\", b=\"Assets:1st Source:Checking\")),\n",
    "          dict(select=dict(op=\"contains\", column=\"Merchant\", b=\"bookshop.org\"),           apply=dict(op=\"assign\", column=\"From\", b=\"Expenses:Study\")),\n",
    "          dict(select=dict(op=\"contains\", column=\"Merchant\", b=\"Patreon\"),                apply=dict(op=\"assign\", column=\"From\", b=\"Expenses:Entertainment\")),\n",
    "          dict(select=dict(op=\"contains\", column=\"Merchant\", b=\"Monthly Installments\"),   apply=dict(op=\"assign\", column=\"From\", b=\"Liabilities:Apple:Installments\")),\n",
    "          dict(select=dict(op=\"contains\", column=\"Category\", b=\"Tolls\"),                  apply=dict(op=\"assign\", column=\"From\", b=\"Expenses:Auto:Tolls\")),\n",
    "          dict(select=dict(op=\"contains\", column=\"Merchant\", b=\"Kobo\"),                   apply=dict(op=\"assign\", column=\"From\", b=\"Expenses:Entertainment:Reading\")),\n",
    "          dict(select=dict(op=\"contains\", column=\"Merchant\", b=\"Vtsup.com\"),              apply=dict(op=\"assign\", column=\"From\", b=\"Expenses:Entertainment:Self\")),\n",
    "          dict(select=dict(op=\"contains\", column=\"Merchant\", b=\"City Of South Bend\"),     apply=dict(op=\"assign\", column=\"From\", b=\"Expenses:Utilities\")),\n",
    "          dict(select=dict(op=\"contains\", column=\"Merchant\", b=\"Andrasi\"),                apply=dict(op=\"assign\", column=\"From\", b=\"Expenses:Home:Cleaning\")),\n",
    "          dict(select=dict(op=\"contains\", column=\"Merchant\", b=\"Parlevel Texas\"),         apply=dict(op=\"assign\", column=\"From\", b=\"Expenses:Restaurants\")),\n",
    "          dict(select=dict(op=\"contains\", column=\"Merchant\", b=\"Gannett Newsprpr\"),       apply=dict(op=\"assign\", column=\"From\", b=\"Expenses:Utilities\")),\n",
    "          dict(select=dict(op=\"contains\", column=\"Description\", b=\"ABEBOOKS\"),            apply=dict(op=\"assign\", column=\"From\", b=\"Expenses:Study\"))]\n",
    "\n",
    "rules = []\n",
    "for d in apldicts:\n",
    "    rules.append(Rule(**d))"
   ]
  },
  {
   "cell_type": "code",
   "execution_count": 3,
   "id": "3b6439f0-a51b-4a4f-a46f-9ca49c72e266",
   "metadata": {},
   "outputs": [],
   "source": [
    "with open(\"aplrules.json\",'w') as f:\n",
    "    json.dump(rules, f, cls=csi.RuleEncoder)"
   ]
  },
  {
   "cell_type": "code",
   "execution_count": 4,
   "id": "a7e3423d-128f-4a6a-b37e-6d2bae9bfc76",
   "metadata": {},
   "outputs": [],
   "source": [
    "with open(\"aplrules.json\", 'r') as f:\n",
    "    read_rules = json.load(f, object_hook=csi.decode_hook)\n"
   ]
  },
  {
   "cell_type": "code",
   "execution_count": 5,
   "id": "63759a92-785f-4c82-bfb4-3c2f54312333",
   "metadata": {},
   "outputs": [],
   "source": [
    "apltml = tml.document()\n",
    "apltml.add(\"title\", \"A list of rules for processing Apple Transactions.\")\n",
    "tmlrules = tml.aot()\n",
    "for r in rules:\n",
    "    tmlrules.append(r.to_TOML())\n",
    "\n",
    "apltml.add(\"rules\", tmlrules)\n",
    "\n",
    "with open(\"aplrules.toml\", 'w') as f:\n",
    "    tml.dump(apltml, f)"
   ]
  },
  {
   "cell_type": "code",
   "execution_count": 6,
   "id": "5487b91a-4419-40bc-ad53-25c211db8672",
   "metadata": {},
   "outputs": [],
   "source": [
    "with open(\"aplrules.toml\", \"r\") as f:\n",
    "    aplloaded = tml.load(f)"
   ]
  },
  {
   "cell_type": "code",
   "execution_count": 15,
   "id": "926c9431-3b76-4904-9877-19df0c1baa30",
   "metadata": {},
   "outputs": [],
   "source": [
    "loadedrs = []\n",
    "for r in aplloaded[\"rules\"]:\n",
    "    loadedrs.append(Rule(**r.unwrap()))"
   ]
  },
  {
   "cell_type": "code",
   "execution_count": 16,
   "id": "c80514a8-0e1b-43fc-9b1e-d0bc067a619c",
   "metadata": {},
   "outputs": [
    {
     "data": {
      "text/plain": [
       "[Rule(select=[SelectOp(op='contains', column='Merchant', a='None', b='Banana Republic')], apply=[ApplyOp(op='assign', column='From', b='Expenses:Clothing')]),\n",
       " Rule(select=[SelectOp(op='contains', column='Merchant', a='None', b='Apple Services')], apply=[ApplyOp(op='assign', column='From', b='Expenses:Subscription')]),\n",
       " Rule(select=[SelectOp(op='contains', column='Merchant', a='None', b='Phillips 66')], apply=[ApplyOp(op='assign', column='From', b='Expenses:Auto:Gas')]),\n",
       " Rule(select=[SelectOp(op='contains', column='Merchant', a='None', b='Ridge Wallet')], apply=[ApplyOp(op='assign', column='From', b='Expenses:Gear')]),\n",
       " Rule(select=[SelectOp(op='contains', column='Merchant', a='None', b=\"Martin's Supermarket\")], apply=[ApplyOp(op='assign', column='From', b='Expenses:Groceries')]),\n",
       " Rule(select=[SelectOp(op='contains', column='Merchant', a='None', b='Apple Cash Payment')], apply=[ApplyOp(op='assign', column='From', b='Income:Apple Cash')]),\n",
       " Rule(select=[SelectOp(op='contains', column='Merchant', a='None', b='Hulu')], apply=[ApplyOp(op='assign', column='From', b='Expenses:Entertainment')]),\n",
       " Rule(select=[SelectOp(op='contains', column='Merchant', a='None', b='Trade Coffee CO')], apply=[ApplyOp(op='assign', column='From', b='Expenses:Groceries')]),\n",
       " Rule(select=[SelectOp(op='contains', column='Merchant', a='None', b='Beacon Med')], apply=[ApplyOp(op='assign', column='From', b='Expenses:Medical:Body')]),\n",
       " Rule(select=[SelectOp(op='contains', column='Merchant', a='None', b='South Bend Clinic')], apply=[ApplyOp(op='assign', column='From', b='Expenses:Medical:Body')]),\n",
       " Rule(select=[SelectOp(op='contains', column='Merchant', a='None', b='WMMH')], apply=[ApplyOp(op='assign', column='From', b='Expenses:Entertainment:Self')]),\n",
       " Rule(select=[SelectOp(op='contains', column='Merchant', a='None', b='Account Ending In 8785')], apply=[ApplyOp(op='assign', column='From', b='Assets:1st Source:Checking')]),\n",
       " Rule(select=[SelectOp(op='contains', column='Merchant', a='None', b='bookshop.org')], apply=[ApplyOp(op='assign', column='From', b='Expenses:Study')]),\n",
       " Rule(select=[SelectOp(op='contains', column='Merchant', a='None', b='Patreon')], apply=[ApplyOp(op='assign', column='From', b='Expenses:Entertainment')]),\n",
       " Rule(select=[SelectOp(op='contains', column='Merchant', a='None', b='Monthly Installments')], apply=[ApplyOp(op='assign', column='From', b='Liabilities:Apple:Installments')]),\n",
       " Rule(select=[SelectOp(op='contains', column='Category', a='None', b='Tolls')], apply=[ApplyOp(op='assign', column='From', b='Expenses:Auto:Tolls')]),\n",
       " Rule(select=[SelectOp(op='contains', column='Merchant', a='None', b='Kobo')], apply=[ApplyOp(op='assign', column='From', b='Expenses:Entertainment:Reading')]),\n",
       " Rule(select=[SelectOp(op='contains', column='Merchant', a='None', b='Vtsup.com')], apply=[ApplyOp(op='assign', column='From', b='Expenses:Entertainment:Self')]),\n",
       " Rule(select=[SelectOp(op='contains', column='Merchant', a='None', b='City Of South Bend')], apply=[ApplyOp(op='assign', column='From', b='Expenses:Utilities')]),\n",
       " Rule(select=[SelectOp(op='contains', column='Merchant', a='None', b='Andrasi')], apply=[ApplyOp(op='assign', column='From', b='Expenses:Home:Cleaning')]),\n",
       " Rule(select=[SelectOp(op='contains', column='Merchant', a='None', b='Parlevel Texas')], apply=[ApplyOp(op='assign', column='From', b='Expenses:Restaurants')]),\n",
       " Rule(select=[SelectOp(op='contains', column='Merchant', a='None', b='Gannett Newsprpr')], apply=[ApplyOp(op='assign', column='From', b='Expenses:Utilities')]),\n",
       " Rule(select=[SelectOp(op='contains', column='Description', a='None', b='ABEBOOKS')], apply=[ApplyOp(op='assign', column='From', b='Expenses:Study')])]"
      ]
     },
     "execution_count": 16,
     "metadata": {},
     "output_type": "execute_result"
    }
   ],
   "source": [
    "loadedrs"
   ]
  },
  {
   "cell_type": "code",
   "execution_count": null,
   "id": "8a174f52-c451-4df8-a8fe-3860272050d3",
   "metadata": {},
   "outputs": [],
   "source": []
  }
 ],
 "metadata": {
  "kernelspec": {
   "display_name": "Python 3 (ipykernel)",
   "language": "python",
   "name": "python3"
  },
  "language_info": {
   "codemirror_mode": {
    "name": "ipython",
    "version": 3
   },
   "file_extension": ".py",
   "mimetype": "text/x-python",
   "name": "python",
   "nbconvert_exporter": "python",
   "pygments_lexer": "ipython3",
   "version": "3.12.2"
  }
 },
 "nbformat": 4,
 "nbformat_minor": 5
}
