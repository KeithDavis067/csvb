{
 "cells": [
  {
   "cell_type": "code",
   "execution_count": 1,
   "id": "4d05bfe4-2d40-4883-a7a7-4fa2021e5499",
   "metadata": {},
   "outputs": [],
   "source": [
    "from csvb.ingest import apply_rule, sel_factory, ApplyOp, SelectOp, AOP, SOP, Rule, to_transactions, strip_currency\n",
    "import csvb.ingest as csi\n",
    "import json\n",
    "import pathlib\n",
    "import operator\n",
    "import tomlkit as tml\n",
    "from datetime import datetime"
   ]
  },
  {
   "cell_type": "code",
   "execution_count": 2,
   "id": "a9fc6584-dfa8-4fa4-90c6-17d27fdb5876",
   "metadata": {},
   "outputs": [
    {
     "name": "stdout",
     "output_type": "stream",
     "text": [
      "/Users/kdavis10/als/csvbdata/rules\n"
     ]
    }
   ],
   "source": [
    "cfgpth = pathlib.Path.home() / \".config\" / \"csvb\" / \"config.toml\"\n",
    "with open(cfgpth, 'rb') as f:\n",
    "    cfg = tml.load(f)\n",
    "\n",
    "rulespth = pathlib.Path().home() / pathlib.Path(cfg[\"paths\"][\"rules\"])\n",
    "print(rulespth)\n",
    "p = pathlib.Path(cfg[\"paths\"][\"rules\"])"
   ]
  },
  {
   "cell_type": "code",
   "execution_count": 4,
   "id": "c1e9daf2-13cc-4e6d-a634-deb8de4efec0",
   "metadata": {},
   "outputs": [],
   "source": [
    "dicts= [dict(select=dict(op=\"contains\", column=\"Merchant\", b=\"Banana Republic\"),        apply=dict(op=\"assign\", column=\"From\", b=\"Expenses:Clothing\")),\n",
    "          dict(select=dict(op=\"contains\", column=\"Merchant\", b=\"Apple Services\"),         apply=dict(op=\"assign\", column=\"From\", b=\"Expenses:Subscription\")),\n",
    "          dict(select=dict(op=\"contains\", column=\"Merchant\", b=\"Phillips 66\"),            apply=dict(op=\"assign\", column=\"From\", b=\"Expenses:Auto:Gas\")),\n",
    "          dict(select=dict(op=\"contains\", column=\"Merchant\", b=\"Ridge Wallet\"),           apply=dict(op=\"assign\", column=\"From\", b=\"Expenses:Gear\")),\n",
    "          dict(select=dict(op=\"contains\", column=\"Merchant\", b=\"Martin's Supermarket\"),   apply=dict(op=\"assign\", column=\"From\", b=\"Expenses:Groceries\")),\n",
    "          dict(select=dict(op=\"contains\", column=\"Merchant\", b=\"Apple Cash Payment\"),     apply=dict(op=\"assign\", column=\"From\", b=\"Income:Apple Cash\")),\n",
    "          dict(select=dict(op=\"contains\", column=\"Merchant\", b=\"Hulu\"),                   apply=dict(op=\"assign\", column=\"From\", b=\"Expenses:Entertainment\")),\n",
    "          dict(select=dict(op=\"contains\", column=\"Merchant\", b=\"Trade Coffee CO\"),        apply=dict(op=\"assign\", column=\"From\", b=\"Expenses:Groceries\")),\n",
    "          dict(select=dict(op=\"contains\", column=\"Merchant\", b=\"Beacon Med\"),             apply=dict(op=\"assign\", column=\"From\", b=\"Expenses:Medical:Body\")),\n",
    "          dict(select=dict(op=\"contains\", column=\"Merchant\", b=\"South Bend Clinic\"),      apply=dict(op=\"assign\", column=\"From\", b=\"Expenses:Medical:Body\")),\n",
    "          dict(select=dict(op=\"contains\", column=\"Merchant\", b=\"WMMH\"),                   apply=dict(op=\"assign\", column=\"From\", b=\"Expenses:Entertainment:Self\")),\n",
    "          dict(select=dict(op=\"contains\", column=\"Merchant\", b=\"Account Ending In 8785\"), apply=dict(op=\"assign\", column=\"From\", b=\"Assets:1st Source:Checking\")),\n",
    "          dict(select=dict(op=\"contains\", column=\"Merchant\", b=\"bookshop.org\"),           apply=dict(op=\"assign\", column=\"From\", b=\"Expenses:Study\")),\n",
    "          dict(select=dict(op=\"contains\", column=\"Merchant\", b=\"Patreon\"),                apply=dict(op=\"assign\", column=\"From\", b=\"Expenses:Entertainment\")),\n",
    "          dict(select=dict(op=\"contains\", column=\"Merchant\", b=\"Monthly Installments\"),   apply=dict(op=\"assign\", column=\"From\", b=\"Liabilities:Apple:Installments\")),\n",
    "          dict(select=dict(op=\"contains\", column=\"Category\", b=\"Tolls\"),                  apply=dict(op=\"assign\", column=\"From\", b=\"Expenses:Auto:Tolls\")),\n",
    "          dict(select=dict(op=\"contains\", column=\"Merchant\", b=\"Kobo\"),                   apply=dict(op=\"assign\", column=\"From\", b=\"Expenses:Entertainment:Reading\")),\n",
    "          dict(select=dict(op=\"contains\", column=\"Merchant\", b=\"Vtsup.com\"),              apply=dict(op=\"assign\", column=\"From\", b=\"Expenses:Entertainment:Self\")),\n",
    "          dict(select=dict(op=\"contains\", column=\"Merchant\", b=\"City Of South Bend\"),     apply=dict(op=\"assign\", column=\"From\", b=\"Expenses:Utilities\")),\n",
    "          dict(select=dict(op=\"contains\", column=\"Merchant\", b=\"Andrasi\"),                apply=dict(op=\"assign\", column=\"From\", b=\"Expenses:Home:Cleaning\")),\n",
    "          dict(select=dict(op=\"contains\", column=\"Merchant\", b=\"Parlevel Texas\"),         apply=dict(op=\"assign\", column=\"From\", b=\"Expenses:Restaurants\")),\n",
    "          dict(select=dict(op=\"contains\", column=\"Merchant\", b=\"Gannett Newsprpr\"),       apply=dict(op=\"assign\", column=\"From\", b=\"Expenses:Utilities\")),\n",
    "          dict(select=dict(op=\"contains\", column=\"Description\", b=\"ABEBOOKS\"),            apply=dict(op=\"assign\", column=\"From\", b=\"Expenses:Study\"))]\n",
    "\n",
    "rules = []\n",
    "for d in dicts:\n",
    "    rules.append(Rule(**d))\n",
    "\n",
    "doc = tml.document()\n",
    "doc.add(\"title\", \"A list of rules for processing Apple Credit Card Transactions.\")\n",
    "tmlrules = tml.aot()\n",
    "for r in rules:\n",
    "    tmlrules.append(r.to_TOML())\n",
    "\n",
    "doc.add(\"rules\", tmlrules)\n",
    "with open(rulespth / \"aplrules.toml\", 'w') as f:\n",
    "    tml.dump(doc, f)\n",
    "\n",
    "\n"
   ]
  },
  {
   "cell_type": "code",
   "execution_count": 5,
   "id": "98ff7978-b24f-4ac5-ab00-7d99003f5521",
   "metadata": {},
   "outputs": [
    {
     "name": "stderr",
     "output_type": "stream",
     "text": [
      "<>:9: SyntaxWarning: invalid escape sequence '\\$'\n",
      "<>:9: SyntaxWarning: invalid escape sequence '\\$'\n",
      "/var/folders/42/qqsltqsj6fl30wl4xm41gs4m0000gn/T/ipykernel_6665/2343504410.py:9: SyntaxWarning: invalid escape sequence '\\$'\n",
      "  dict(select=dict(op=\"contains\", column=\"Description\", b=\"ALLY BANK \\$TRANSFER\"), apply=dict(op=\"assign\", column=\"From\", b=\"Transfer:Ally:Savings\")),\n"
     ]
    }
   ],
   "source": [
    "dicts = [dict(select=[dict(op=\"contains\", column=\"Description\", b=\"crossfit south\"),\n",
    "                          dict(op=operator.ne,column=\"Amount\", b=-225.00)], apply=dict(op=\"assign\", column=\"From\", b=\"Expenses:Groceries\")),\n",
    "             dict(select=[dict(op=\"contains\", column=\"Description\", b=\"crossfit south\"),\n",
    "                          dict(op=operator.eq,column=\"Amount\", b=-225.00)], apply=dict(op=\"assign\", column=\"From\", b=\"Expenses:Groceries\")),\n",
    "             dict(select=dict(op=\"contains\", column=\"Description\", b=\"ND PAYROLL\"), apply=dict(op=\"assign\", column=\"From\", b=\"Income:Notre Dame:Regular\")),\n",
    "             dict(select=dict(op=\"contains\", column=\"Description\", b=\"INTEREST PAYMENT\"), apply=dict(op=\"assign\", column=\"From\", b=\"Income:Interest\")),\n",
    "             dict(select=dict(op=\"contains\", column=\"Description\", b=\"NIPSCO\"), apply=dict(op=\"assign\", column=\"From\", b=\"Expenses:Utilities\")),\n",
    "             dict(select=dict(op=\"contains\", column=\"Description\", b=\"AEP\"), apply=dict(op=\"assign\", column=\"From\", b=\"Expenses:Utilities\")),\n",
    "             dict(select=dict(op=\"contains\", column=\"Description\", b=\"ALLY BANK \\$TRANSFER\"), apply=dict(op=\"assign\", column=\"From\", b=\"Transfer:Ally:Savings\")),\n",
    "             dict(select=dict(op=\"contains\", column=\"Description\", b=\"VERIZON\"), apply=dict(op=\"assign\", column=\"From\", b=\"Expenses:Utilities\")),\n",
    "             dict(select=[dict(op=\"contains\", column=\"Description\", b=\"VENMO PAYMENT\"),\n",
    "                          dict(op=operator.eq, column=\"Date\", b=datetime(2024,1,3))], apply=dict(op=\"assign\", column=\"From\", b=\"Expenses:Gifts\")),\n",
    "             dict(select=dict(op=\"contains\", column=\"Description\", b=\"KEITH W DAVIS P2P\"), apply=dict(op=\"assign\", column=\"From\", b=\"Transfer:Ally:Savings\")),\n",
    "             dict(select=dict(op=\"contains\", column=\"Description\", b=\"DOVENMUEHLE MTG MORTG PYMT\"), apply=dict(op=\"assign\", column=\"From\", b=\"Expenses:Home:Mortgage\"))\n",
    "            ]\n",
    "\n",
    "rules = []\n",
    "for d in dicts:\n",
    "    rules.append(Rule(**d))\n",
    "\n",
    "doc = tml.document()\n",
    "doc.add(\"title\", \"A list of rules for processing First Source Checking Transactions.\")\n",
    "tmlrules = tml.aot()\n",
    "for r in rules:\n",
    "    tmlrules.append(r.to_TOML())\n",
    "\n",
    "doc.add(\"rules\", tmlrules)\n",
    "with open(rulespth / \"fstrules.toml\", 'w') as f:\n",
    "    tml.dump(doc, f)\n"
   ]
  },
  {
   "cell_type": "code",
   "execution_count": 6,
   "id": "7937eafc-6d83-4509-806d-10e9d07a4563",
   "metadata": {},
   "outputs": [],
   "source": [
    "allyrdicts = [dict(select=dict(op=\"contains\", column=\"Description\", b=\"transfer\"), apply=dict(op=\"assign\", column=\"From\", b=\"Transfer:Ally:Savings\")),\n",
    "             dict(select=dict(op=\"contains\", column=\"Description\", b=\"Interest Paid\"), apply=dict(op=\"assign\", column=\"From\", b=\"Income:Interest\"))]\n",
    "\n",
    "rules = []\n",
    "for d in dicts:\n",
    "    rules.append(Rule(**d))\n",
    "\n",
    "doc = tml.document()\n",
    "doc.add(\"title\", \"A list of rules for processing First Source Checking Transactions.\")\n",
    "tmlrules = tml.aot()\n",
    "for r in rules:\n",
    "    tmlrules.append(r.to_TOML())\n",
    "\n",
    "doc.add(\"rules\", tmlrules)\n",
    "with open(rulespth / \"allyrules.toml\", 'w') as f:\n",
    "    tml.dump(doc, f)\n"
   ]
  },
  {
   "cell_type": "code",
   "execution_count": 7,
   "id": "516c5ac5-4aa7-4901-b9c0-585e065f3e0a",
   "metadata": {},
   "outputs": [],
   "source": [
    "ndfcurdicts = [dict(select=dict(op=\"contains\", column=\"Description\", b=\"AMZN\"),        apply=dict(op=\"assign\", column=\"From\", b=\"Expenses:Home\")),\n",
    "               dict(select=dict(op=\"contains\", column=\"Description\", b=\"Netflix.com\"),        apply=dict(op=\"assign\", column=\"From\", b=\"Expenses:Subscriptions\")),\n",
    "               dict(select=dict(op=\"contains\", column=\"Description\", b=\"Amazon Prime\"),        apply=dict(op=\"assign\", column=\"From\", b=\"Expenses:Subscriptions\")),\n",
    "               dict(select=dict(op=\"contains\", column=\"Description\", b=\"CHEWY\"),        apply=dict(op=\"assign\", column=\"From\", b=\"Expenses:Pet\")),\n",
    "               dict(select=dict(op=\"contains\", column=\"Description\", b=\"CHIPOTLE\"),        apply=dict(op=\"assign\", column=\"From\", b=\"Expenses:Restaurants\")),\n",
    "               dict(select=dict(op=\"contains\", column=\"Description\", b=\"LA ESPERANZA\"),        apply=dict(op=\"assign\", column=\"From\", b=\"Expenses:Restaurants\")),\n",
    "               dict(select=dict(op=\"contains\", column=\"Description\", b=\"CHICORY\"),        apply=dict(op=\"assign\", column=\"From\", b=\"Expenses:Restaurants\")),\n",
    "               dict(select=dict(op=\"contains\", column=\"Description\", b=\"PREMISE\"),        apply=dict(op=\"assign\", column=\"From\", b=\"Expenses:Medical:Body\")),\n",
    "               dict(select=dict(op=\"contains\", column=\"Description\", b=\"WALGREENS\"),        apply=dict(op=\"assign\", column=\"From\", b=\"Expenses:Medical:Body\")),\n",
    "               dict(select=dict(op=\"contains\", column=\"Description\", b=\"NYTimes\"),        apply=dict(op=\"assign\", column=\"From\", b=\"Expenses:Subscriptions\")),\n",
    "               dict(select=dict(op=\"contains\", column=\"Description\", b=\"COMCAST\"),        apply=dict(op=\"assign\", column=\"From\", b=\"Expenses:Utilities\")),\n",
    "               dict(select=dict(op=\"contains\", column=\"Description\", b=\"MARTIN S\"),        apply=dict(op=\"assign\", column=\"From\", b=\"Expenses:Groceries\")),\n",
    "               dict(select=dict(op=\"contains\", column=\"Description\", b=\"FEATHERGILL\"),        apply=dict(op=\"assign\", column=\"From\", b=\"Expenses:Medical:Therapy\")),\n",
    "               dict(select=dict(op=\"contains\", column=\"Description\", b=\"PHILLIPS 66\"),        apply=dict(op=\"assign\", column=\"From\", b=\"Expenses:Auto:Fuel\")),\n",
    "               dict(select=dict(op=\"contains\", column=\"Description\", b=\"JESUS\"),        apply=dict(op=\"assign\", column=\"From\", b=\"Expenses:Restaurants\")),               \n",
    "         ]\n",
    "\n",
    "rules = []\n",
    "for d in dicts:\n",
    "    rules.append(Rule(**d))\n",
    "\n",
    "doc = tml.document()\n",
    "doc.add(\"title\", \"A list of rules for processing First Source Checking Transactions.\")\n",
    "tmlrules = tml.aot()\n",
    "for r in rules:\n",
    "    tmlrules.append(r.to_TOML())\n",
    "\n",
    "doc.add(\"rules\", tmlrules)\n",
    "with open(rulespth / \"ndfcurules.toml\", 'w') as f:\n",
    "    tml.dump(doc, f)\n",
    "\n",
    "    "
   ]
  },
  {
   "cell_type": "code",
   "execution_count": null,
   "id": "b40db1b8-1de6-4d52-8686-4c397e5554f0",
   "metadata": {},
   "outputs": [],
   "source": []
  }
 ],
 "metadata": {
  "kernelspec": {
   "display_name": "Python 3 (ipykernel)",
   "language": "python",
   "name": "python3"
  },
  "language_info": {
   "codemirror_mode": {
    "name": "ipython",
    "version": 3
   },
   "file_extension": ".py",
   "mimetype": "text/x-python",
   "name": "python",
   "nbconvert_exporter": "python",
   "pygments_lexer": "ipython3",
   "version": "3.12.2"
  }
 },
 "nbformat": 4,
 "nbformat_minor": 5
}
