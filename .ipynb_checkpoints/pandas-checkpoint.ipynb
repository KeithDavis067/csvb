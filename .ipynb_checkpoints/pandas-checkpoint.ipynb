{
 "cells": [
  {
   "cell_type": "code",
   "execution_count": 1,
   "id": "fd0ecc0c-3472-47cb-bb01-f11f1bf6bf90",
   "metadata": {},
   "outputs": [],
   "source": [
    "import pandas as pd\n",
    "import numpy as np\n",
    "import pathlib\n",
    "import datetime\n",
    "from datetime import datetime, timedelta, date\n",
    "from rich import print\n",
    "from collections import namedtuple\n",
    "from dataclasses import dataclass, asdict\n",
    "import operator\n",
    "import tomllib\n",
    "import tomlkit as tml\n",
    "import json\n",
    "import xarray as xr\n",
    "from csvb.ingest import apply_rule, sel_factory, ApplyOp, SelectOp, AOP, SOP, Rule, to_transactions, strip_currency\n",
    "import plotly.express as px\n",
    "import plotly.graph_objects as go\n",
    "#from decimal import Decimal, getcontext\n",
    "\n",
    "#getcontext().prec = 2\n",
    "pd.options.mode.copy_on_write = True"
   ]
  },
  {
   "cell_type": "code",
   "execution_count": 2,
   "id": "92fa11fa-43b3-44ec-8d9b-9117199c0494",
   "metadata": {},
   "outputs": [],
   "source": [
    "def accounts(trans):\n",
    "    return set(trans[\"From\"]).union(set(trans[\"To\"]))\n",
    "\n",
    "def read_and_apply(df, rulepth, debug=False):\n",
    "    with open(rulepth) as f:\n",
    "        for rule in tml.load(f)[\"rules\"]:\n",
    "            if debug:\n",
    "                print(rule)\n",
    "            apply_rule(Rule(**rule), df)\n",
    "    return df\n",
    "    "
   ]
  },
  {
   "cell_type": "code",
   "execution_count": 3,
   "id": "d841b9f8-b688-4ecb-9838-786d86523b1d",
   "metadata": {},
   "outputs": [
    {
     "data": {
      "text/plain": [
       "{'title': 'csvb config',\n",
       " 'paths': {'path': 'als/csvbdata/',\n",
       "  'bank': 'als/csvbdata/bank',\n",
       "  'products': 'als/csvbdata/products/',\n",
       "  'rules': 'als/csvbdata/rules/'}}"
      ]
     },
     "execution_count": 3,
     "metadata": {},
     "output_type": "execute_result"
    }
   ],
   "source": [
    "home = pathlib.Path.home()\n",
    "cfgpth = home / \".config\" / \"csvb\" / \"config.toml\"\n",
    "with open(cfgpth, 'rb') as f:\n",
    "    cfg = tomllib.load(f)\n",
    "cfg"
   ]
  },
  {
   "cell_type": "code",
   "execution_count": 4,
   "id": "2c8f945d-6eb5-4fda-9882-e59e05f3b858",
   "metadata": {},
   "outputs": [
    {
     "data": {
      "text/html": [
       "<div>\n",
       "<style scoped>\n",
       "    .dataframe tbody tr th:only-of-type {\n",
       "        vertical-align: middle;\n",
       "    }\n",
       "\n",
       "    .dataframe tbody tr th {\n",
       "        vertical-align: top;\n",
       "    }\n",
       "\n",
       "    .dataframe thead th {\n",
       "        text-align: right;\n",
       "    }\n",
       "</style>\n",
       "<table border=\"1\" class=\"dataframe\">\n",
       "  <thead>\n",
       "    <tr style=\"text-align: right;\">\n",
       "      <th></th>\n",
       "      <th>Transaction Date</th>\n",
       "      <th>Clearing Date</th>\n",
       "      <th>Description</th>\n",
       "      <th>Merchant</th>\n",
       "      <th>Category</th>\n",
       "      <th>Type</th>\n",
       "      <th>Amount</th>\n",
       "      <th>Purchased By</th>\n",
       "      <th>From</th>\n",
       "    </tr>\n",
       "  </thead>\n",
       "  <tbody>\n",
       "    <tr>\n",
       "      <th>15</th>\n",
       "      <td>2021-12-31</td>\n",
       "      <td>2022-01-03</td>\n",
       "      <td>APPLE.COM/BILL ONE APPLE PARK WAY 866-712-7753...</td>\n",
       "      <td>Apple Services</td>\n",
       "      <td>Other</td>\n",
       "      <td>Purchase</td>\n",
       "      <td>-14.99</td>\n",
       "      <td>Keith Davis</td>\n",
       "      <td>Expenses:Subscriptions</td>\n",
       "    </tr>\n",
       "    <tr>\n",
       "      <th>16</th>\n",
       "      <td>2021-12-31</td>\n",
       "      <td>2022-01-02</td>\n",
       "      <td>FANDANGO 12200 W. OLYMPIC BLVD., 8668575191 90...</td>\n",
       "      <td>Fandango</td>\n",
       "      <td>Entertainment</td>\n",
       "      <td>Purchase</td>\n",
       "      <td>-11.04</td>\n",
       "      <td>Keith Davis</td>\n",
       "      <td>Expenses:Entertainment</td>\n",
       "    </tr>\n",
       "    <tr>\n",
       "      <th>14</th>\n",
       "      <td>2022-01-01</td>\n",
       "      <td>2022-01-03</td>\n",
       "      <td>APPLE.COM/BILL ONE APPLE PARK WAY 866-712-7753...</td>\n",
       "      <td>Apple Services</td>\n",
       "      <td>Other</td>\n",
       "      <td>Purchase</td>\n",
       "      <td>-5.99</td>\n",
       "      <td>Keith Davis</td>\n",
       "      <td>Expenses:Subscriptions</td>\n",
       "    </tr>\n",
       "    <tr>\n",
       "      <th>13</th>\n",
       "      <td>2022-01-01</td>\n",
       "      <td>2022-01-03</td>\n",
       "      <td>CKO*PATREON* MEMBERSHI600 TOWNSEND 833-9728766...</td>\n",
       "      <td>Cko*Patreon* Membershi</td>\n",
       "      <td>Other</td>\n",
       "      <td>Purchase</td>\n",
       "      <td>-7.00</td>\n",
       "      <td>Keith Davis</td>\n",
       "      <td>Expenses:Entertainment</td>\n",
       "    </tr>\n",
       "    <tr>\n",
       "      <th>12</th>\n",
       "      <td>2022-01-01</td>\n",
       "      <td>2022-01-03</td>\n",
       "      <td>APPLE.COM/BILL ONE APPLE PARK 1111111111 95014...</td>\n",
       "      <td>Apple Services</td>\n",
       "      <td>Other</td>\n",
       "      <td>Purchase</td>\n",
       "      <td>-30.14</td>\n",
       "      <td>Keith Davis</td>\n",
       "      <td>Expenses:Subscriptions</td>\n",
       "    </tr>\n",
       "    <tr>\n",
       "      <th>...</th>\n",
       "      <td>...</td>\n",
       "      <td>...</td>\n",
       "      <td>...</td>\n",
       "      <td>...</td>\n",
       "      <td>...</td>\n",
       "      <td>...</td>\n",
       "      <td>...</td>\n",
       "      <td>...</td>\n",
       "      <td>...</td>\n",
       "    </tr>\n",
       "    <tr>\n",
       "      <th>1</th>\n",
       "      <td>2024-02-29</td>\n",
       "      <td>2024-02-29</td>\n",
       "      <td>ACH DEPOSIT INTERNET TRANSFER FROM ACCOUNT END...</td>\n",
       "      <td>Ach Deposit Internet Transfer From Account End...</td>\n",
       "      <td>Payment</td>\n",
       "      <td>Payment</td>\n",
       "      <td>2161.31</td>\n",
       "      <td>Keith Davis</td>\n",
       "      <td>Transfer</td>\n",
       "    </tr>\n",
       "    <tr>\n",
       "      <th>48</th>\n",
       "      <td>2024-02-29</td>\n",
       "      <td>2024-02-29</td>\n",
       "      <td>MONTHLY INSTALLMENTS (22 OF 24)</td>\n",
       "      <td>Monthly Installments (22 Of 24)</td>\n",
       "      <td>Installment</td>\n",
       "      <td>Installment</td>\n",
       "      <td>-8.29</td>\n",
       "      <td>Keith Davis</td>\n",
       "      <td>Liabilities:Apple:Installments</td>\n",
       "    </tr>\n",
       "    <tr>\n",
       "      <th>49</th>\n",
       "      <td>2024-02-29</td>\n",
       "      <td>2024-02-29</td>\n",
       "      <td>MONTHLY INSTALLMENTS (1 OF 12)</td>\n",
       "      <td>Monthly Installments (1 Of 12)</td>\n",
       "      <td>Installment</td>\n",
       "      <td>Installment</td>\n",
       "      <td>-114.08</td>\n",
       "      <td>Keith Davis</td>\n",
       "      <td>Liabilities:Apple:Installments</td>\n",
       "    </tr>\n",
       "    <tr>\n",
       "      <th>51</th>\n",
       "      <td>2024-02-29</td>\n",
       "      <td>2024-02-29</td>\n",
       "      <td>MONTHLY INSTALLMENTS (22 OF 24)</td>\n",
       "      <td>Monthly Installments (22 Of 24)</td>\n",
       "      <td>Installment</td>\n",
       "      <td>Installment</td>\n",
       "      <td>-54.12</td>\n",
       "      <td>Keith Davis</td>\n",
       "      <td>Liabilities:Apple:Installments</td>\n",
       "    </tr>\n",
       "    <tr>\n",
       "      <th>50</th>\n",
       "      <td>2024-02-29</td>\n",
       "      <td>2024-02-29</td>\n",
       "      <td>MONTHLY INSTALLMENTS (1 OF 12)</td>\n",
       "      <td>Monthly Installments (1 Of 12)</td>\n",
       "      <td>Installment</td>\n",
       "      <td>Installment</td>\n",
       "      <td>-23.25</td>\n",
       "      <td>Keith Davis</td>\n",
       "      <td>Liabilities:Apple:Installments</td>\n",
       "    </tr>\n",
       "  </tbody>\n",
       "</table>\n",
       "<p>919 rows × 9 columns</p>\n",
       "</div>"
      ],
      "text/plain": [
       "   Transaction Date Clearing Date  \\\n",
       "15       2021-12-31    2022-01-03   \n",
       "16       2021-12-31    2022-01-02   \n",
       "14       2022-01-01    2022-01-03   \n",
       "13       2022-01-01    2022-01-03   \n",
       "12       2022-01-01    2022-01-03   \n",
       "..              ...           ...   \n",
       "1        2024-02-29    2024-02-29   \n",
       "48       2024-02-29    2024-02-29   \n",
       "49       2024-02-29    2024-02-29   \n",
       "51       2024-02-29    2024-02-29   \n",
       "50       2024-02-29    2024-02-29   \n",
       "\n",
       "                                          Description  \\\n",
       "15  APPLE.COM/BILL ONE APPLE PARK WAY 866-712-7753...   \n",
       "16  FANDANGO 12200 W. OLYMPIC BLVD., 8668575191 90...   \n",
       "14  APPLE.COM/BILL ONE APPLE PARK WAY 866-712-7753...   \n",
       "13  CKO*PATREON* MEMBERSHI600 TOWNSEND 833-9728766...   \n",
       "12  APPLE.COM/BILL ONE APPLE PARK 1111111111 95014...   \n",
       "..                                                ...   \n",
       "1   ACH DEPOSIT INTERNET TRANSFER FROM ACCOUNT END...   \n",
       "48                    MONTHLY INSTALLMENTS (22 OF 24)   \n",
       "49                     MONTHLY INSTALLMENTS (1 OF 12)   \n",
       "51                    MONTHLY INSTALLMENTS (22 OF 24)   \n",
       "50                     MONTHLY INSTALLMENTS (1 OF 12)   \n",
       "\n",
       "                                             Merchant       Category  \\\n",
       "15                                     Apple Services          Other   \n",
       "16                                           Fandango  Entertainment   \n",
       "14                                     Apple Services          Other   \n",
       "13                             Cko*Patreon* Membershi          Other   \n",
       "12                                     Apple Services          Other   \n",
       "..                                                ...            ...   \n",
       "1   Ach Deposit Internet Transfer From Account End...        Payment   \n",
       "48                    Monthly Installments (22 Of 24)    Installment   \n",
       "49                     Monthly Installments (1 Of 12)    Installment   \n",
       "51                    Monthly Installments (22 Of 24)    Installment   \n",
       "50                     Monthly Installments (1 Of 12)    Installment   \n",
       "\n",
       "           Type   Amount Purchased By                            From  \n",
       "15     Purchase   -14.99  Keith Davis          Expenses:Subscriptions  \n",
       "16     Purchase   -11.04  Keith Davis          Expenses:Entertainment  \n",
       "14     Purchase    -5.99  Keith Davis          Expenses:Subscriptions  \n",
       "13     Purchase    -7.00  Keith Davis          Expenses:Entertainment  \n",
       "12     Purchase   -30.14  Keith Davis          Expenses:Subscriptions  \n",
       "..          ...      ...          ...                             ...  \n",
       "1       Payment  2161.31  Keith Davis                        Transfer  \n",
       "48  Installment    -8.29  Keith Davis  Liabilities:Apple:Installments  \n",
       "49  Installment  -114.08  Keith Davis  Liabilities:Apple:Installments  \n",
       "51  Installment   -54.12  Keith Davis  Liabilities:Apple:Installments  \n",
       "50  Installment   -23.25  Keith Davis  Liabilities:Apple:Installments  \n",
       "\n",
       "[919 rows x 9 columns]"
      ]
     },
     "execution_count": 4,
     "metadata": {},
     "output_type": "execute_result"
    }
   ],
   "source": [
    "try:\n",
    "    del apl\n",
    "except NameError:\n",
    "    pass\n",
    "dfs = []\n",
    "for fn in (home / pathlib.Path(cfg[\"paths\"][\"bank\"])).glob(\"Apple Card Transactions*.csv\"):\n",
    "    dfs.append(pd.read_csv(fn, header=0, parse_dates=[\"Transaction Date\", \"Clearing Date\"]))\n",
    "apl = pd.concat(dfs)\n",
    "apl = apl.rename(columns={\"Amount (USD)\": \"Amount\"})\n",
    "apl[\"Amount\"] = -1 * apl[\"Amount\"]\n",
    "apl[\"From\"] = \"\"\n",
    "\n",
    "apl = read_and_apply(apl, home / cfg[\"paths\"][\"rules\"] / \"aplrules.toml\")\n",
    "apl = apl.sort_values([\"Transaction Date\"])\n",
    "#apl[apl[\"From\"] == \"\"]\n",
    "apl"
   ]
  },
  {
   "cell_type": "code",
   "execution_count": 5,
   "id": "85e2e6e2-33d9-44e5-9330-0cc3fd7c488c",
   "metadata": {},
   "outputs": [
    {
     "data": {
      "text/html": [
       "<div>\n",
       "<style scoped>\n",
       "    .dataframe tbody tr th:only-of-type {\n",
       "        vertical-align: middle;\n",
       "    }\n",
       "\n",
       "    .dataframe tbody tr th {\n",
       "        vertical-align: top;\n",
       "    }\n",
       "\n",
       "    .dataframe thead th {\n",
       "        text-align: right;\n",
       "    }\n",
       "</style>\n",
       "<table border=\"1\" class=\"dataframe\">\n",
       "  <thead>\n",
       "    <tr style=\"text-align: right;\">\n",
       "      <th></th>\n",
       "      <th>Transaction Number</th>\n",
       "      <th>Date</th>\n",
       "      <th>Description</th>\n",
       "      <th>Memo</th>\n",
       "      <th>Amount Debit</th>\n",
       "      <th>Amount Credit</th>\n",
       "      <th>Balance</th>\n",
       "      <th>Check Number</th>\n",
       "      <th>Fees</th>\n",
       "      <th>Amount</th>\n",
       "      <th>From</th>\n",
       "    </tr>\n",
       "  </thead>\n",
       "  <tbody>\n",
       "  </tbody>\n",
       "</table>\n",
       "</div>"
      ],
      "text/plain": [
       "Empty DataFrame\n",
       "Columns: [Transaction Number, Date, Description, Memo, Amount Debit, Amount Credit, Balance, Check Number, Fees  , Amount, From]\n",
       "Index: []"
      ]
     },
     "execution_count": 5,
     "metadata": {},
     "output_type": "execute_result"
    }
   ],
   "source": [
    "try:\n",
    "    del fst\n",
    "except NameError:\n",
    "    pass\n",
    "\n",
    "fst = pd.read_csv(home / pathlib.Path(cfg[\"paths\"][\"bank\"]) / \"Jan-2024_1st.csv\",\n",
    "                    header=3, parse_dates=[\"Date\"])\n",
    "\n",
    "fst_old = pd.read_csv(home / pathlib.Path(cfg[\"paths\"][\"bank\"]) / \"Sep22-2023_1st_Source.csv\",\n",
    "                    header=3, parse_dates=[\"Date\"])\n",
    "\n",
    "fst_older = pd.read_csv(home / pathlib.Path(cfg[\"paths\"][\"bank\"]) / \"Jan22-Sep22_1st_Source.csv\",\n",
    "                    header=3, parse_dates=[\"Date\"])\n",
    "\n",
    "fst = pd.concat([fst, fst_old, fst_older])\n",
    "\n",
    "fst[\"Amount\"] = np.nansum([fst[\"Amount Credit\"],fst[\"Amount Debit\"]], axis=0)\n",
    "fst[\"From\"] = \"\"\n",
    "\n",
    "fst = read_and_apply(fst, home / cfg[\"paths\"][\"rules\"] / \"fstrules.toml\")\n",
    "fst[fst[\"From\"] == \"\"]"
   ]
  },
  {
   "cell_type": "code",
   "execution_count": 6,
   "id": "360545a8-66f7-43c5-a112-25fb1d421c5a",
   "metadata": {},
   "outputs": [],
   "source": [
    "try:\n",
    "    del ally\n",
    "except NameError:\n",
    "    pass\n",
    "\n",
    "ally = pd.read_csv(home / pathlib.Path(cfg[\"paths\"][\"bank\"]) / \"Jan-2024_Ally.csv\",\n",
    "                    header=0, parse_dates=[\"Date\"])\n",
    "\n",
    "ally[\"From\"] = \"\"\n",
    "ally = ally.rename(columns=dict(zip(ally.columns, [c.strip() for c in ally.columns])))\n",
    "\n",
    "ally = read_and_apply(ally, home / cfg[\"paths\"][\"rules\"] / \"allyrules.toml\")\n",
    "#ally"
   ]
  },
  {
   "cell_type": "code",
   "execution_count": 7,
   "id": "cd41b554-4193-4511-8330-29a92c0b6d00",
   "metadata": {},
   "outputs": [
    {
     "data": {
      "text/html": [
       "<pre style=\"white-space:pre;overflow-x:auto;line-height:normal;font-family:Menlo,'DejaVu Sans Mono',consolas,'Courier New',monospace\"><span style=\"color: #008080; text-decoration-color: #008080; font-weight: bold\">1009</span>\n",
       "</pre>\n"
      ],
      "text/plain": [
       "\u001b[1;36m1009\u001b[0m\n"
      ]
     },
     "metadata": {},
     "output_type": "display_data"
    },
    {
     "data": {
      "text/html": [
       "<div>\n",
       "<style scoped>\n",
       "    .dataframe tbody tr th:only-of-type {\n",
       "        vertical-align: middle;\n",
       "    }\n",
       "\n",
       "    .dataframe tbody tr th {\n",
       "        vertical-align: top;\n",
       "    }\n",
       "\n",
       "    .dataframe thead th {\n",
       "        text-align: right;\n",
       "    }\n",
       "</style>\n",
       "<table border=\"1\" class=\"dataframe\">\n",
       "  <thead>\n",
       "    <tr style=\"text-align: right;\">\n",
       "      <th></th>\n",
       "      <th>Date</th>\n",
       "      <th>Note</th>\n",
       "      <th>Description</th>\n",
       "      <th>Amount</th>\n",
       "      <th>Balance</th>\n",
       "      <th>From</th>\n",
       "    </tr>\n",
       "  </thead>\n",
       "  <tbody>\n",
       "  </tbody>\n",
       "</table>\n",
       "</div>"
      ],
      "text/plain": [
       "Empty DataFrame\n",
       "Columns: [Date, Note, Description, Amount, Balance, From]\n",
       "Index: []"
      ]
     },
     "execution_count": 7,
     "metadata": {},
     "output_type": "execute_result"
    }
   ],
   "source": [
    "try:\n",
    "    del ndfcu\n",
    "except NameError:\n",
    "    pass\n",
    "\n",
    "ndfcu = pd.read_csv(home / pathlib.Path(cfg[\"paths\"][\"bank\"]) / \"Jan2022-March-2024_NDFCU_CC.csv\",\n",
    "                    header=0, names=[\"Date\", \"Note\", \"Description\", \"Amount\", \"Balance\"],\n",
    "                    parse_dates=[\"Date\"])\n",
    "\n",
    "ndfcu[\"From\"] = \"\"\n",
    "ndfcu[\"Amount\"] = ndfcu[\"Amount\"].apply(strip_currency).astype(float)\n",
    "#ndfcu = ally.rename(columns=dict(zip(ally.columns, [c.strip() for c in ally.columns:\n",
    "ndfcu = read_and_apply(ndfcu, home / cfg[\"paths\"][\"rules\"] / \"ndfcurules.toml\")\n",
    "print(len(ndfcu))\n",
    "ndfcu[ndfcu[\"From\"] == \"\"]"
   ]
  },
  {
   "cell_type": "code",
   "execution_count": 8,
   "id": "acc38ffd-2633-426f-a8b6-90c5662555c1",
   "metadata": {},
   "outputs": [
    {
     "data": {
      "text/html": [
       "<div>\n",
       "<style scoped>\n",
       "    .dataframe tbody tr th:only-of-type {\n",
       "        vertical-align: middle;\n",
       "    }\n",
       "\n",
       "    .dataframe tbody tr th {\n",
       "        vertical-align: top;\n",
       "    }\n",
       "\n",
       "    .dataframe thead th {\n",
       "        text-align: right;\n",
       "    }\n",
       "</style>\n",
       "<table border=\"1\" class=\"dataframe\">\n",
       "  <thead>\n",
       "    <tr style=\"text-align: right;\">\n",
       "      <th></th>\n",
       "      <th>Date</th>\n",
       "      <th>Description</th>\n",
       "      <th>Amount</th>\n",
       "      <th>From</th>\n",
       "      <th>To</th>\n",
       "    </tr>\n",
       "  </thead>\n",
       "  <tbody>\n",
       "    <tr>\n",
       "      <th>0</th>\n",
       "      <td>2021-12-31</td>\n",
       "      <td>MARTIN S SUPERMARKE      . SOUTHBEND    . IN 0000</td>\n",
       "      <td>-86.95</td>\n",
       "      <td>Expenses:Groceries</td>\n",
       "      <td>Liabilities:NDFCU:Credit Card</td>\n",
       "    </tr>\n",
       "    <tr>\n",
       "      <th>1</th>\n",
       "      <td>2021-12-31</td>\n",
       "      <td>PHILLIPS 66 - 0082 FIR   . MISHAWAKA    . IN 0000</td>\n",
       "      <td>-26.93</td>\n",
       "      <td>Expenses:Auto:Fuel</td>\n",
       "      <td>Liabilities:NDFCU:Credit Card</td>\n",
       "    </tr>\n",
       "    <tr>\n",
       "      <th>2</th>\n",
       "      <td>2021-12-31</td>\n",
       "      <td>APPLE.COM/BILL ONE APPLE PARK WAY 866-712-7753...</td>\n",
       "      <td>-14.99</td>\n",
       "      <td>Expenses:Subscriptions</td>\n",
       "      <td>Liabilities:Apple:Credit Card</td>\n",
       "    </tr>\n",
       "    <tr>\n",
       "      <th>3</th>\n",
       "      <td>2021-12-31</td>\n",
       "      <td>FANDANGO 12200 W. OLYMPIC BLVD., 8668575191 90...</td>\n",
       "      <td>-11.04</td>\n",
       "      <td>Expenses:Entertainment</td>\n",
       "      <td>Liabilities:Apple:Credit Card</td>\n",
       "    </tr>\n",
       "    <tr>\n",
       "      <th>4</th>\n",
       "      <td>2022-01-01</td>\n",
       "      <td>CVS/PHARMACY #08642      . SOUTH BEND   . IN 0000</td>\n",
       "      <td>-24.70</td>\n",
       "      <td>Expenses:Medical:Body</td>\n",
       "      <td>Liabilities:NDFCU:Credit Card</td>\n",
       "    </tr>\n",
       "    <tr>\n",
       "      <th>...</th>\n",
       "      <td>...</td>\n",
       "      <td>...</td>\n",
       "      <td>...</td>\n",
       "      <td>...</td>\n",
       "      <td>...</td>\n",
       "    </tr>\n",
       "    <tr>\n",
       "      <th>2278</th>\n",
       "      <td>2024-02-29</td>\n",
       "      <td>MONTHLY INSTALLMENTS (1 OF 12)</td>\n",
       "      <td>-23.25</td>\n",
       "      <td>Liabilities:Apple:Installments</td>\n",
       "      <td>Liabilities:Apple:Credit Card</td>\n",
       "    </tr>\n",
       "    <tr>\n",
       "      <th>2277</th>\n",
       "      <td>2024-02-29</td>\n",
       "      <td>NaN</td>\n",
       "      <td>-19.33</td>\n",
       "      <td>Transfer</td>\n",
       "      <td>Liabilities:NDFCU:Credit Card</td>\n",
       "    </tr>\n",
       "    <tr>\n",
       "      <th>2276</th>\n",
       "      <td>2024-02-29</td>\n",
       "      <td>Netflix.com              . 408-5403700  . CA 0000</td>\n",
       "      <td>-15.49</td>\n",
       "      <td>Expenses:Subscriptions</td>\n",
       "      <td>Liabilities:NDFCU:Credit Card</td>\n",
       "    </tr>\n",
       "    <tr>\n",
       "      <th>2279</th>\n",
       "      <td>2024-02-29</td>\n",
       "      <td>MONTHLY INSTALLMENTS (22 OF 24)</td>\n",
       "      <td>-54.12</td>\n",
       "      <td>Liabilities:Apple:Installments</td>\n",
       "      <td>Liabilities:Apple:Credit Card</td>\n",
       "    </tr>\n",
       "    <tr>\n",
       "      <th>2284</th>\n",
       "      <td>2024-03-08</td>\n",
       "      <td>AMAZON.COM*RN3I3         . SEATTLE      . WA 0...</td>\n",
       "      <td>-110.06</td>\n",
       "      <td>Expenses:AMAZON</td>\n",
       "      <td>Liabilities:NDFCU:Credit Card</td>\n",
       "    </tr>\n",
       "  </tbody>\n",
       "</table>\n",
       "<p>2285 rows × 5 columns</p>\n",
       "</div>"
      ],
      "text/plain": [
       "           Date                                        Description  Amount  \\\n",
       "0    2021-12-31  MARTIN S SUPERMARKE      . SOUTHBEND    . IN 0000  -86.95   \n",
       "1    2021-12-31  PHILLIPS 66 - 0082 FIR   . MISHAWAKA    . IN 0000  -26.93   \n",
       "2    2021-12-31  APPLE.COM/BILL ONE APPLE PARK WAY 866-712-7753...  -14.99   \n",
       "3    2021-12-31  FANDANGO 12200 W. OLYMPIC BLVD., 8668575191 90...  -11.04   \n",
       "4    2022-01-01  CVS/PHARMACY #08642      . SOUTH BEND   . IN 0000  -24.70   \n",
       "...         ...                                                ...     ...   \n",
       "2278 2024-02-29                     MONTHLY INSTALLMENTS (1 OF 12)  -23.25   \n",
       "2277 2024-02-29                                                NaN  -19.33   \n",
       "2276 2024-02-29  Netflix.com              . 408-5403700  . CA 0000  -15.49   \n",
       "2279 2024-02-29                    MONTHLY INSTALLMENTS (22 OF 24)  -54.12   \n",
       "2284 2024-03-08  AMAZON.COM*RN3I3         . SEATTLE      . WA 0... -110.06   \n",
       "\n",
       "                                From                             To  \n",
       "0                 Expenses:Groceries  Liabilities:NDFCU:Credit Card  \n",
       "1                 Expenses:Auto:Fuel  Liabilities:NDFCU:Credit Card  \n",
       "2             Expenses:Subscriptions  Liabilities:Apple:Credit Card  \n",
       "3             Expenses:Entertainment  Liabilities:Apple:Credit Card  \n",
       "4              Expenses:Medical:Body  Liabilities:NDFCU:Credit Card  \n",
       "...                              ...                            ...  \n",
       "2278  Liabilities:Apple:Installments  Liabilities:Apple:Credit Card  \n",
       "2277                        Transfer  Liabilities:NDFCU:Credit Card  \n",
       "2276          Expenses:Subscriptions  Liabilities:NDFCU:Credit Card  \n",
       "2279  Liabilities:Apple:Installments  Liabilities:Apple:Credit Card  \n",
       "2284                 Expenses:AMAZON  Liabilities:NDFCU:Credit Card  \n",
       "\n",
       "[2285 rows x 5 columns]"
      ]
     },
     "execution_count": 8,
     "metadata": {},
     "output_type": "execute_result"
    }
   ],
   "source": [
    "bank_tables = {\"Assets:1st Source:Checking\": fst,\n",
    "               \"Liabilities:Apple:Credit Card\": apl.rename(columns={\"Transaction Date\": \"Date\"}),\n",
    "              \"Assets:Ally:Savings\": ally,\n",
    "              \"Liabilities:NDFCU:Credit Card\": ndfcu}\n",
    "\n",
    "\n",
    "trans = to_transactions(bank_tables)\n",
    "trans.sort_values(\"Date\")"
   ]
  },
  {
   "cell_type": "code",
   "execution_count": 9,
   "id": "c5829955-a10a-432a-9827-efd804ebbbc2",
   "metadata": {},
   "outputs": [
    {
     "data": {
      "text/html": [
       "<div>\n",
       "<style scoped>\n",
       "    .dataframe tbody tr th:only-of-type {\n",
       "        vertical-align: middle;\n",
       "    }\n",
       "\n",
       "    .dataframe tbody tr th {\n",
       "        vertical-align: top;\n",
       "    }\n",
       "\n",
       "    .dataframe thead th {\n",
       "        text-align: right;\n",
       "    }\n",
       "</style>\n",
       "<table border=\"1\" class=\"dataframe\">\n",
       "  <thead>\n",
       "    <tr style=\"text-align: right;\">\n",
       "      <th></th>\n",
       "      <th>Date</th>\n",
       "      <th>Account</th>\n",
       "      <th>Statement Balance</th>\n",
       "    </tr>\n",
       "  </thead>\n",
       "  <tbody>\n",
       "    <tr>\n",
       "      <th>0</th>\n",
       "      <td>2021-12-31</td>\n",
       "      <td>Liabilities:Apple:Credit Card</td>\n",
       "      <td>-2522.77</td>\n",
       "    </tr>\n",
       "    <tr>\n",
       "      <th>1</th>\n",
       "      <td>2021-12-31</td>\n",
       "      <td>Assets:1st Source:Checking</td>\n",
       "      <td>5067.54</td>\n",
       "    </tr>\n",
       "    <tr>\n",
       "      <th>2</th>\n",
       "      <td>2022-12-31</td>\n",
       "      <td>Liabilities:NDFCU:Credit Card</td>\n",
       "      <td>-76.69</td>\n",
       "    </tr>\n",
       "    <tr>\n",
       "      <th>3</th>\n",
       "      <td>2023-11-30</td>\n",
       "      <td>Liabilities:NDFCU:Credit Card</td>\n",
       "      <td>-2085.08</td>\n",
       "    </tr>\n",
       "    <tr>\n",
       "      <th>4</th>\n",
       "      <td>2023-10-31</td>\n",
       "      <td>Liabilities:NDFCU:Credit Card</td>\n",
       "      <td>-2492.89</td>\n",
       "    </tr>\n",
       "    <tr>\n",
       "      <th>5</th>\n",
       "      <td>2023-09-30</td>\n",
       "      <td>Liabilities:NDFCU:Credit Card</td>\n",
       "      <td>-1581.47</td>\n",
       "    </tr>\n",
       "    <tr>\n",
       "      <th>6</th>\n",
       "      <td>2023-08-31</td>\n",
       "      <td>Liabilities:NDFCU:Credit Card</td>\n",
       "      <td>-69.79</td>\n",
       "    </tr>\n",
       "    <tr>\n",
       "      <th>7</th>\n",
       "      <td>2023-07-31</td>\n",
       "      <td>Liabilities:NDFCU:Credit Card</td>\n",
       "      <td>-3172.26</td>\n",
       "    </tr>\n",
       "    <tr>\n",
       "      <th>8</th>\n",
       "      <td>2023-06-30</td>\n",
       "      <td>Liabilities:NDFCU:Credit Card</td>\n",
       "      <td>-1409.14</td>\n",
       "    </tr>\n",
       "    <tr>\n",
       "      <th>9</th>\n",
       "      <td>2023-05-31</td>\n",
       "      <td>Liabilities:NDFCU:Credit Card</td>\n",
       "      <td>-351.48</td>\n",
       "    </tr>\n",
       "    <tr>\n",
       "      <th>10</th>\n",
       "      <td>2023-04-30</td>\n",
       "      <td>Liabilities:NDFCU:Credit Card</td>\n",
       "      <td>-3924.01</td>\n",
       "    </tr>\n",
       "    <tr>\n",
       "      <th>11</th>\n",
       "      <td>2023-03-31</td>\n",
       "      <td>Liabilities:NDFCU:Credit Card</td>\n",
       "      <td>-2519.52</td>\n",
       "    </tr>\n",
       "    <tr>\n",
       "      <th>12</th>\n",
       "      <td>2023-02-28</td>\n",
       "      <td>Liabilities:NDFCU:Credit Card</td>\n",
       "      <td>-885.51</td>\n",
       "    </tr>\n",
       "    <tr>\n",
       "      <th>13</th>\n",
       "      <td>2023-01-31</td>\n",
       "      <td>Liabilities:NDFCU:Credit Card</td>\n",
       "      <td>-1376.20</td>\n",
       "    </tr>\n",
       "    <tr>\n",
       "      <th>14</th>\n",
       "      <td>2023-11-30</td>\n",
       "      <td>Liabilities:Apple:Credit Card</td>\n",
       "      <td>-201.50</td>\n",
       "    </tr>\n",
       "    <tr>\n",
       "      <th>15</th>\n",
       "      <td>2023-11-30</td>\n",
       "      <td>Liabilities:Apple:Installments</td>\n",
       "      <td>-374.62</td>\n",
       "    </tr>\n",
       "    <tr>\n",
       "      <th>16</th>\n",
       "      <td>2023-10-31</td>\n",
       "      <td>Liabilities:Apple:Credit Card</td>\n",
       "      <td>-151.48</td>\n",
       "    </tr>\n",
       "    <tr>\n",
       "      <th>17</th>\n",
       "      <td>2023-10-31</td>\n",
       "      <td>Liabilities:Apple:Installments</td>\n",
       "      <td>-437.03</td>\n",
       "    </tr>\n",
       "    <tr>\n",
       "      <th>18</th>\n",
       "      <td>2024-01-30</td>\n",
       "      <td>Assets:1st Source:Checking</td>\n",
       "      <td>1297.66</td>\n",
       "    </tr>\n",
       "    <tr>\n",
       "      <th>19</th>\n",
       "      <td>2024-02-18</td>\n",
       "      <td>Assets:Ally:Savings</td>\n",
       "      <td>10330.00</td>\n",
       "    </tr>\n",
       "    <tr>\n",
       "      <th>20</th>\n",
       "      <td>2023-10-18</td>\n",
       "      <td>Assets:Ally:Savings</td>\n",
       "      <td>8793.47</td>\n",
       "    </tr>\n",
       "    <tr>\n",
       "      <th>21</th>\n",
       "      <td>2023-11-18</td>\n",
       "      <td>Assets:Ally:Savings</td>\n",
       "      <td>9425.23</td>\n",
       "    </tr>\n",
       "    <tr>\n",
       "      <th>22</th>\n",
       "      <td>2024-01-31</td>\n",
       "      <td>Assets:Fidelity:HSA</td>\n",
       "      <td>3956.09</td>\n",
       "    </tr>\n",
       "    <tr>\n",
       "      <th>23</th>\n",
       "      <td>2024-01-31</td>\n",
       "      <td>Liabilities:NDFCU:Credit Card</td>\n",
       "      <td>-1565.79</td>\n",
       "    </tr>\n",
       "    <tr>\n",
       "      <th>24</th>\n",
       "      <td>2023-11-30</td>\n",
       "      <td>Liabilities:NDFCU:Credit Card</td>\n",
       "      <td>-2085.08</td>\n",
       "    </tr>\n",
       "    <tr>\n",
       "      <th>25</th>\n",
       "      <td>2023-12-31</td>\n",
       "      <td>Liabilities:NDFCU:Credit Card</td>\n",
       "      <td>-99.77</td>\n",
       "    </tr>\n",
       "    <tr>\n",
       "      <th>26</th>\n",
       "      <td>2023-12-18</td>\n",
       "      <td>Assets:Ally:Savings</td>\n",
       "      <td>10058.08</td>\n",
       "    </tr>\n",
       "    <tr>\n",
       "      <th>27</th>\n",
       "      <td>2023-12-31</td>\n",
       "      <td>Assets:1st Source:Checking</td>\n",
       "      <td>2320.59</td>\n",
       "    </tr>\n",
       "    <tr>\n",
       "      <th>28</th>\n",
       "      <td>2024-01-18</td>\n",
       "      <td>Assets:Ally:Savings</td>\n",
       "      <td>9694.18</td>\n",
       "    </tr>\n",
       "    <tr>\n",
       "      <th>29</th>\n",
       "      <td>2024-01-18</td>\n",
       "      <td>Assets:Ally:Savings</td>\n",
       "      <td>9694.18</td>\n",
       "    </tr>\n",
       "    <tr>\n",
       "      <th>30</th>\n",
       "      <td>2023-12-31</td>\n",
       "      <td>Assets:Fidelity:HSA</td>\n",
       "      <td>3939.33</td>\n",
       "    </tr>\n",
       "    <tr>\n",
       "      <th>31</th>\n",
       "      <td>2023-12-31</td>\n",
       "      <td>Liabilities:Apple:Credit Card</td>\n",
       "      <td>-284.77</td>\n",
       "    </tr>\n",
       "    <tr>\n",
       "      <th>32</th>\n",
       "      <td>2023-12-31</td>\n",
       "      <td>Liabilities:Apple:Installments</td>\n",
       "      <td>-312.21</td>\n",
       "    </tr>\n",
       "    <tr>\n",
       "      <th>33</th>\n",
       "      <td>2021-12-31</td>\n",
       "      <td>Liabilities:Apple:Installments</td>\n",
       "      <td>-738.94</td>\n",
       "    </tr>\n",
       "  </tbody>\n",
       "</table>\n",
       "</div>"
      ],
      "text/plain": [
       "         Date                         Account  Statement Balance\n",
       "0  2021-12-31   Liabilities:Apple:Credit Card           -2522.77\n",
       "1  2021-12-31      Assets:1st Source:Checking            5067.54\n",
       "2  2022-12-31   Liabilities:NDFCU:Credit Card             -76.69\n",
       "3  2023-11-30   Liabilities:NDFCU:Credit Card           -2085.08\n",
       "4  2023-10-31   Liabilities:NDFCU:Credit Card           -2492.89\n",
       "5  2023-09-30   Liabilities:NDFCU:Credit Card           -1581.47\n",
       "6  2023-08-31   Liabilities:NDFCU:Credit Card             -69.79\n",
       "7  2023-07-31   Liabilities:NDFCU:Credit Card           -3172.26\n",
       "8  2023-06-30   Liabilities:NDFCU:Credit Card           -1409.14\n",
       "9  2023-05-31   Liabilities:NDFCU:Credit Card            -351.48\n",
       "10 2023-04-30   Liabilities:NDFCU:Credit Card           -3924.01\n",
       "11 2023-03-31   Liabilities:NDFCU:Credit Card           -2519.52\n",
       "12 2023-02-28   Liabilities:NDFCU:Credit Card            -885.51\n",
       "13 2023-01-31   Liabilities:NDFCU:Credit Card           -1376.20\n",
       "14 2023-11-30   Liabilities:Apple:Credit Card            -201.50\n",
       "15 2023-11-30  Liabilities:Apple:Installments            -374.62\n",
       "16 2023-10-31   Liabilities:Apple:Credit Card            -151.48\n",
       "17 2023-10-31  Liabilities:Apple:Installments            -437.03\n",
       "18 2024-01-30      Assets:1st Source:Checking            1297.66\n",
       "19 2024-02-18             Assets:Ally:Savings           10330.00\n",
       "20 2023-10-18             Assets:Ally:Savings            8793.47\n",
       "21 2023-11-18             Assets:Ally:Savings            9425.23\n",
       "22 2024-01-31             Assets:Fidelity:HSA            3956.09\n",
       "23 2024-01-31   Liabilities:NDFCU:Credit Card           -1565.79\n",
       "24 2023-11-30   Liabilities:NDFCU:Credit Card           -2085.08\n",
       "25 2023-12-31   Liabilities:NDFCU:Credit Card             -99.77\n",
       "26 2023-12-18             Assets:Ally:Savings           10058.08\n",
       "27 2023-12-31      Assets:1st Source:Checking            2320.59\n",
       "28 2024-01-18             Assets:Ally:Savings            9694.18\n",
       "29 2024-01-18             Assets:Ally:Savings            9694.18\n",
       "30 2023-12-31             Assets:Fidelity:HSA            3939.33\n",
       "31 2023-12-31   Liabilities:Apple:Credit Card            -284.77\n",
       "32 2023-12-31  Liabilities:Apple:Installments            -312.21\n",
       "33 2021-12-31  Liabilities:Apple:Installments            -738.94"
      ]
     },
     "execution_count": 9,
     "metadata": {},
     "output_type": "execute_result"
    }
   ],
   "source": [
    "try:\n",
    "    del bal_decl\n",
    "except NameError:\n",
    "    pass\n",
    "\n",
    "bal_decl = pd.read_csv(home / pathlib.Path(cfg[\"paths\"][\"bank\"]) / \"balances.csv\",\n",
    "                  header=0,\n",
    "                  parse_dates=[\"Date\"])\n",
    "\n",
    "#bal_decl[\"From\"] = \"\"\n",
    "#bal[\"Amount\"] = bal[\"Amount\"].apply(strip_currency).astype(float)\n",
    "#ndfcu = ally.rename(columns=dict(zip(ally.columns, [c.strip() for c in ally.columns])))\n",
    "#bal_decl = bal_decl.sort_values(\"Date\")\n",
    "#bal_decl\n",
    "#jan_bal = bal_decl.loc[(bal_decl[\"Date\"] >= pd.Timestamp(2023, 12, 31)) &\n",
    "#                       (bal_decl[\"Date\"] <= pd.Timestamp(2024, 1, 1))\n",
    "#trans = pd.concat([trans, bal_decl])\n",
    "bal_decl"
   ]
  },
  {
   "cell_type": "code",
   "execution_count": 10,
   "id": "4b41fe1b-1737-4816-bd4c-3cfe4f6d48d5",
   "metadata": {},
   "outputs": [],
   "source": [
    "def create_ledgers(trans):\n",
    "    \"\"\" Create a ledger for each account of all from / to transactions and create balance / time column.\n",
    "    'Transaction Pair' is a terrible name, but it reminds that this is 1 half of a known transation for use\n",
    "    as a ledger of an account and running balance calculation.\n",
    "    All values appended from the \"From\" side of a transaction are reversed here, because a positive value\n",
    "    \"From\" this account subtracts from it's balance.\n",
    "    \n",
    "    \"\"\"\n",
    "    # TODO: Add an option of a start of / end of period dates. Automatically calculate balance at\n",
    "    # beginning of period.\n",
    "    # TODO: Add processing of balance assertions to allow checks and reconciliation.\n",
    "    \n",
    "    fl = trans.groupby(\"From\")\n",
    "    tl = trans.groupby(\"To\")\n",
    "    ledgers = {}\n",
    "    for acct in accounts(trans):\n",
    "        # From accounts, note the negative applied to Amount.\n",
    "        try:\n",
    "            df = pd.DataFrame(trans.loc[fl.groups[acct], [\"Date\", \"Description\", \"To\"]]).rename(columns={\"To\": \"Transaction Pair\"})\n",
    "            df[\"Incoming Amount\"] = -1 * trans.loc[fl.groups[acct], \"Amount\"]\n",
    "            ledgers[acct] = df\n",
    "        # If account is not in From group, skip.\n",
    "        except KeyError:\n",
    "            pass\n",
    "\n",
    "        # To accounts.\n",
    "\n",
    "        try:\n",
    "            df = pd.DataFrame(trans.loc[tl.groups[acct], [\"Date\", \"Description\", \"From\"]]).rename(columns={\"From\": \"Transaction Pair\"})\n",
    "            df[\"Incoming Amount\"] = trans.loc[tl.groups[acct], \"Amount\"]\n",
    "            try:\n",
    "                ledgers[acct] = pd.concat([ledgers[acct], df])\n",
    "            # If account was not also in From accounts list, don't concat.\n",
    "            except KeyError:\n",
    "                ledgers[acct] = df\n",
    "        # If account is not in list To accounts, skip.\n",
    "        except KeyError:\n",
    "            pass\n",
    "            \n",
    "        # Sort and apply cumulative sum.\n",
    "        ledgers[acct] = ledgers[acct].sort_values(\"Date\")\n",
    "        ledgers[acct][\"Balance\"] = ledgers[acct][\"Incoming Amount\"].cumsum()\n",
    "\n",
    "    return ledgers\n",
    "\n",
    "def trans_to_ledger(trans, acct, bal_decl = None, clean=False, leq=True):\n",
    "    \"\"\" Craete a single ledger. This is a step to using ledgers as a view on the transactions rather than\n",
    "    a precalcualted object.\n",
    "    \n",
    "    \"\"\"   \n",
    "    fl = trans.groupby(\"From\")\n",
    "    tl = trans.groupby(\"To\")\n",
    "    #ledgers = {}\n",
    "    #for acct in accounts(trans):\n",
    "    # From accounts, note the negative applied to Amount.\n",
    "    try:\n",
    "        df = pd.DataFrame(trans.loc[fl.groups[acct], [\"Date\", \"Description\", \"To\"]]).rename(columns={\"To\": \"Transaction Pair\"})\n",
    "        df[\"Incoming Amount\"] = -1 * trans.loc[fl.groups[acct], \"Amount\"]\n",
    "        ledger = df\n",
    "        # If account is not in From group, skip.\n",
    "    except KeyError:\n",
    "        pass\n",
    "\n",
    "    # To accounts.\n",
    "\n",
    "    try:\n",
    "        df = pd.DataFrame(trans.loc[tl.groups[acct], [\"Date\", \"Description\", \"From\"]]).rename(columns={\"From\": \"Transaction Pair\"})\n",
    "        df[\"Incoming Amount\"] = trans.loc[tl.groups[acct], \"Amount\"]\n",
    "        try:\n",
    "            ledger = pd.concat([ledger, df])\n",
    "        # If account was not also in From accounts list, don't concat.\n",
    "        except (NameError, UnboundLocalError):\n",
    "            ledger = df\n",
    "    # If account is not in list To accounts, skip.\n",
    "    except KeyError:\n",
    "        pass\n",
    "    if clean:\n",
    "        ledger = clean_ledger(ledger)        \n",
    "    # Sort and apply cumulative sum.\n",
    "    \n",
    "    if bal_decl is not None:\n",
    "        ledger = append_init_row(ledger, acct, bal_decl, leq=leq)\n",
    "    ledger = ledger.sort_values(\"Date\")\n",
    "    ledger[\"Balance\"] = ledger[\"Incoming Amount\"].cumsum()\n",
    "\n",
    "    return ledger\n",
    "\n",
    "def clean_ledger(ledger):\n",
    "    \"\"\"Remove transactions occurring before the last transaction with all accounts assigned.\n",
    "    Intended to catch incomplete data and return a useful ledger set on a per account basis.\n",
    "    \"\"\"\n",
    "    #clean = {}\n",
    "    #for acct in ledgers:\n",
    "    try:\n",
    "        clean = ledger.loc[[ledger[\"From\"] == \"\"]:,:]\n",
    "    except KeyError:\n",
    "        clean = ledger\n",
    "        \n",
    "    return clean\n",
    "\n",
    "def init_balance(bal_decl, acct, first_date, leq=False):\n",
    "    #first_date = min(ledger[\"Date\"])\n",
    "    if leq:\n",
    "        acct_balances = bal_decl.loc[(bal_decl[\"Account\"] == acct) & (bal_decl[\"Date\"] <= first_date)]\n",
    "    else:\n",
    "        acct_balances = bal_decl.loc[(bal_decl[\"Account\"] == acct) & (bal_decl[\"Date\"] < first_date)]\n",
    "    \n",
    "    # Catch indexerror if no balance found.\n",
    "    try:\n",
    "        return acct_balances.sort_values(\"Date\").iloc[-1]\n",
    "    except IndexError:\n",
    "        return None\n",
    "\n",
    "def append_init_row(ledger, acct, bal_decl, leq=False):\n",
    "    #print(acct)\n",
    "    #print(ledger)\n",
    "    # Find proper initial balance.\n",
    "    init = init_balance(bal_decl, acct, min(ledger[\"Date\"]), leq=leq)\n",
    "\n",
    "    # Skip if no appropriate balance was found.\n",
    "    if init is not None:\n",
    "        \n",
    "        # Create df of initial balance row.\n",
    "        decl_to_ledg_col = {\"Statement Balance\": \"Incoming Amount\", \"Account\": \"Transaction Pair\"}\n",
    "        init_df = pd.DataFrame(init).T.rename(columns=decl_to_ledg_col)\n",
    "        init_df[\"Description\"] = \"Initial Balance\"\n",
    "\n",
    "        # Add to first row, make sure we are sorted before recalculating balance column.\n",
    "        ledger = pd.concat([init_df, ledger]).sort_values(\"Date\")\n",
    "        ledger[\"Balance\"] = ledger[\"Incoming Amount\"].cumsum()\n",
    "    return ledger  \n",
    "        \n",
    "\n",
    "#ledgers = create_ledgers(trans)\n",
    "ledgers = {}\n",
    "for acct in accounts(trans):\n",
    "    ledgers[acct] = trans_to_ledger(trans, acct, bal_decl=bal_decl, clean=True)"
   ]
  },
  {
   "cell_type": "code",
   "execution_count": 116,
   "id": "f81b8ddf-6422-488e-beda-a0b56b85a64b",
   "metadata": {},
   "outputs": [
    {
     "data": {
      "text/html": [
       "<div>\n",
       "<style scoped>\n",
       "    .dataframe tbody tr th:only-of-type {\n",
       "        vertical-align: middle;\n",
       "    }\n",
       "\n",
       "    .dataframe tbody tr th {\n",
       "        vertical-align: top;\n",
       "    }\n",
       "\n",
       "    .dataframe thead th {\n",
       "        text-align: right;\n",
       "    }\n",
       "</style>\n",
       "<table border=\"1\" class=\"dataframe\">\n",
       "  <thead>\n",
       "    <tr style=\"text-align: right;\">\n",
       "      <th></th>\n",
       "      <th></th>\n",
       "      <th></th>\n",
       "      <th>Period Start</th>\n",
       "      <th>Initial Balance</th>\n",
       "      <th>Period End</th>\n",
       "      <th>Ending Balance</th>\n",
       "    </tr>\n",
       "    <tr>\n",
       "      <th>Type</th>\n",
       "      <th>Account</th>\n",
       "      <th>Subaccount</th>\n",
       "      <th></th>\n",
       "      <th></th>\n",
       "      <th></th>\n",
       "      <th></th>\n",
       "    </tr>\n",
       "  </thead>\n",
       "  <tbody>\n",
       "    <tr>\n",
       "      <th rowspan=\"8\" valign=\"top\">Expenses</th>\n",
       "      <th>Misc</th>\n",
       "      <th></th>\n",
       "      <td>2022-01-13</td>\n",
       "      <td>0.00</td>\n",
       "      <td>2023-11-27</td>\n",
       "      <td>136.12</td>\n",
       "    </tr>\n",
       "    <tr>\n",
       "      <th>Pet</th>\n",
       "      <th>Care</th>\n",
       "      <td>2022-02-11</td>\n",
       "      <td>0.00</td>\n",
       "      <td>2023-12-19</td>\n",
       "      <td>810.00</td>\n",
       "    </tr>\n",
       "    <tr>\n",
       "      <th>Reimbursible</th>\n",
       "      <th></th>\n",
       "      <td>2022-10-17</td>\n",
       "      <td>0.00</td>\n",
       "      <td>2024-02-21</td>\n",
       "      <td>2907.51</td>\n",
       "    </tr>\n",
       "    <tr>\n",
       "      <th rowspan=\"2\" valign=\"top\">Auto</th>\n",
       "      <th></th>\n",
       "      <td>2022-01-14</td>\n",
       "      <td>0.00</td>\n",
       "      <td>2022-01-14</td>\n",
       "      <td>9.62</td>\n",
       "    </tr>\n",
       "    <tr>\n",
       "      <th>Insurance</th>\n",
       "      <td>2022-06-10</td>\n",
       "      <td>0.00</td>\n",
       "      <td>2023-12-27</td>\n",
       "      <td>2042.05</td>\n",
       "    </tr>\n",
       "    <tr>\n",
       "      <th>...</th>\n",
       "      <th>...</th>\n",
       "      <td>...</td>\n",
       "      <td>...</td>\n",
       "      <td>...</td>\n",
       "      <td>...</td>\n",
       "    </tr>\n",
       "    <tr>\n",
       "      <th>Home</th>\n",
       "      <th>Maintenance</th>\n",
       "      <td>2022-04-05</td>\n",
       "      <td>0.00</td>\n",
       "      <td>2023-10-24</td>\n",
       "      <td>4592.36</td>\n",
       "    </tr>\n",
       "    <tr>\n",
       "      <th>Gifts</th>\n",
       "      <th></th>\n",
       "      <td>2022-09-28</td>\n",
       "      <td>0.00</td>\n",
       "      <td>2024-01-03</td>\n",
       "      <td>215.62</td>\n",
       "    </tr>\n",
       "    <tr>\n",
       "      <th>Liabilities</th>\n",
       "      <th>Apple</th>\n",
       "      <th>Credit Card</th>\n",
       "      <td>2021-12-31</td>\n",
       "      <td>-2522.77</td>\n",
       "      <td>2024-02-29</td>\n",
       "      <td>210.89</td>\n",
       "    </tr>\n",
       "    <tr>\n",
       "      <th rowspan=\"2\" valign=\"top\">Expenses</th>\n",
       "      <th>Personal</th>\n",
       "      <th></th>\n",
       "      <td>2022-01-06</td>\n",
       "      <td>0.00</td>\n",
       "      <td>2024-02-10</td>\n",
       "      <td>895.13</td>\n",
       "    </tr>\n",
       "    <tr>\n",
       "      <th>Utilities</th>\n",
       "      <th></th>\n",
       "      <td>2022-01-05</td>\n",
       "      <td>0.00</td>\n",
       "      <td>2024-02-19</td>\n",
       "      <td>12258.56</td>\n",
       "    </tr>\n",
       "  </tbody>\n",
       "</table>\n",
       "<p>61 rows × 4 columns</p>\n",
       "</div>"
      ],
      "text/plain": [
       "                                     Period Start  Initial Balance Period End  \\\n",
       "Type        Account      Subaccount                                             \n",
       "Expenses    Misc                       2022-01-13             0.00 2023-11-27   \n",
       "            Pet          Care          2022-02-11             0.00 2023-12-19   \n",
       "            Reimbursible               2022-10-17             0.00 2024-02-21   \n",
       "            Auto                       2022-01-14             0.00 2022-01-14   \n",
       "                         Insurance     2022-06-10             0.00 2023-12-27   \n",
       "...                                           ...              ...        ...   \n",
       "            Home         Maintenance   2022-04-05             0.00 2023-10-24   \n",
       "            Gifts                      2022-09-28             0.00 2024-01-03   \n",
       "Liabilities Apple        Credit Card   2021-12-31         -2522.77 2024-02-29   \n",
       "Expenses    Personal                   2022-01-06             0.00 2024-02-10   \n",
       "            Utilities                  2022-01-05             0.00 2024-02-19   \n",
       "\n",
       "                                      Ending Balance  \n",
       "Type        Account      Subaccount                   \n",
       "Expenses    Misc                              136.12  \n",
       "            Pet          Care                 810.00  \n",
       "            Reimbursible                     2907.51  \n",
       "            Auto                                9.62  \n",
       "                         Insurance           2042.05  \n",
       "...                                              ...  \n",
       "            Home         Maintenance         4592.36  \n",
       "            Gifts                             215.62  \n",
       "Liabilities Apple        Credit Card          210.89  \n",
       "Expenses    Personal                          895.13  \n",
       "            Utilities                       12258.56  \n",
       "\n",
       "[61 rows x 4 columns]"
      ]
     },
     "execution_count": 116,
     "metadata": {},
     "output_type": "execute_result"
    }
   ],
   "source": [
    "bals = []\n",
    "firstds = []\n",
    "lastds = []\n",
    "initbals = []\n",
    "\n",
    "for acct in ledgers:\n",
    "    bals.append(ledgers[acct][\"Incoming Amount\"].sum())\n",
    "    firstds.append(ledgers[acct][\"Date\"].iloc[0])\n",
    "    lastds.append(ledgers[acct][\"Date\"].iloc[-1])\n",
    "    initial = ledgers[acct].loc[ledgers[acct][\"Description\"] == \"Initial Balance\"]\n",
    "    if len(initial) != 0:\n",
    "        initbals.append(initial[\"Balance\"].iloc[0])\n",
    "    else:\n",
    "        initbals.append(0)\n",
    "    #initbals.append(ledgers[acct][\"Balance\"].iloc[0])\n",
    "    \n",
    "acct_bals = pd.DataFrame({\"Period Start\": firstds,\n",
    "                          \"Initial Balance\": initbals,\n",
    "                          \"Period End\": lastds,\n",
    "                          \"Ending Balance\": bals},\n",
    "                         index = ledgers.keys())\n",
    "acct_bals.index.name = \"Account String\"\n",
    "\n",
    "acct_tpls = []\n",
    "for ix in acct_bals.index.str.split(\":\"):\n",
    "    if len(ix) == 3:\n",
    "        acct_tpls.append(ix)\n",
    "    elif len(ix) == 2:\n",
    "        acct_tpls.append((ix[0], ix[1], \"\"))\n",
    "    elif len(ix) == 1:\n",
    "        acct_tpls.append((ix[0],\"\", \"\"))\n",
    "\n",
    "acct_bals.index = pd.MultiIndex.from_tuples(acct_tpls, names=[\"Type\", \"Account\", \"Subaccount\"])\n",
    "acct_bals"
   ]
  },
  {
   "cell_type": "code",
   "execution_count": 117,
   "id": "f055fb78-8f17-4297-9505-b6aa5c02c0a7",
   "metadata": {},
   "outputs": [],
   "source": [
    "acct_bals[\"Difference\"] = acct_bals[\"Ending Balance\"] - acct_bals[\"Initial Balance\"]"
   ]
  },
  {
   "cell_type": "code",
   "execution_count": 114,
   "id": "e511d26b-13ef-40d1-bf7a-0545723f4375",
   "metadata": {},
   "outputs": [
    {
     "data": {
      "application/vnd.plotly.v1+json": {
       "config": {
        "plotlyServerURL": "https://plot.ly"
       },
       "data": [
        {
         "branchvalues": "total",
         "domain": {
          "x": [
           0,
           1
          ],
          "y": [
           0,
           1
          ]
         },
         "hovertemplate": "labels=%{label}<br>count=%{value}<br>parent=%{parent}<br>id=%{id}<extra></extra>",
         "ids": [
          "Transfer//",
          "Expenses/AMAZON/",
          "Expenses/Amazon/",
          "Income/Apple Cash/",
          "Expenses/Auto/",
          "Expenses/Cash/",
          "Expenses/Charity/",
          "Expenses/Clothing/",
          "Expenses/Electronics/",
          "Expenses/Entertainment/",
          "Expenses/Fitness/",
          "Expenses/Gear/",
          "Expenses/Gifts/",
          "Expenses/Groceries/",
          "Expenses/Home/",
          "Expenses/Home Furnishings/",
          "Expenses/Interest/",
          "Income/Interest/",
          "Expenses/Misc/",
          "Expenses/Personal/",
          "Expenses/Pet/",
          "Expenses/Professional/",
          "Expenses/Projects/",
          "Expenses/Reimbursable/",
          "Expenses/Reimbursible/",
          "Expenses/Restaurants/",
          "Expenses/Study/",
          "Expenses/Subscriptions/",
          "Income/Taxes/",
          "Expenses/Travel/",
          "Expenses/Utilities/",
          "Expenses/Medical/Body",
          "Expenses/Pet/Care",
          "Assets/1st Source/Checking",
          "Expenses/Home/Cleaning",
          "Liabilities/Apple/Credit Card",
          "Liabilities/NDFCU/Credit Card",
          "Expenses/Medical/Dentist",
          "Expenses/Fitness/Equipment",
          "Expenses/Auto/Fuel",
          "Expenses/Home/Furnishings",
          "Expenses/Auto/Gas",
          "Expenses/Fitness/ID",
          "Liabilities/Apple/Installments",
          "Expenses/Auto/Insurance",
          "Transfer/Auto/Loan",
          "Expenses/Auto/Maintenance",
          "Expenses/Home/Maintenance",
          "Expenses/Home/Mortgage",
          "Expenses/Entertainment/Personal",
          "Expenses/Entertainment/Reading",
          "Expenses/Fitness/Recovery",
          "Expenses/Medical/Recovery",
          "Expenses/Auto/Registration",
          "Income/Notre Dame/Regular",
          "Expenses/Home/Repair",
          "Expenses/Home/Repairs",
          "Assets/Ally/Savings",
          "Expenses/Entertainment/Self",
          "Expenses/Medical/Therapy",
          "Expenses/Auto/Tolls",
          "Transfer/",
          "Assets/1st Source",
          "Expenses/AMAZON",
          "Assets/Ally",
          "Expenses/Amazon",
          "Liabilities/Apple",
          "Income/Apple Cash",
          "Expenses/Auto",
          "Transfer/Auto",
          "Expenses/Cash",
          "Expenses/Charity",
          "Expenses/Clothing",
          "Expenses/Electronics",
          "Expenses/Entertainment",
          "Expenses/Fitness",
          "Expenses/Gear",
          "Expenses/Gifts",
          "Expenses/Groceries",
          "Expenses/Home",
          "Expenses/Home Furnishings",
          "Expenses/Interest",
          "Income/Interest",
          "Expenses/Medical",
          "Expenses/Misc",
          "Liabilities/NDFCU",
          "Income/Notre Dame",
          "Expenses/Personal",
          "Expenses/Pet",
          "Expenses/Professional",
          "Expenses/Projects",
          "Expenses/Reimbursable",
          "Expenses/Reimbursible",
          "Expenses/Restaurants",
          "Expenses/Study",
          "Expenses/Subscriptions",
          "Income/Taxes",
          "Expenses/Travel",
          "Expenses/Utilities",
          "Assets",
          "Expenses",
          "Income",
          "Liabilities",
          "Transfer"
         ],
         "labels": [
          "",
          "",
          "",
          "",
          "",
          "",
          "",
          "",
          "",
          "",
          "",
          "",
          "",
          "",
          "",
          "",
          "",
          "",
          "",
          "",
          "",
          "",
          "",
          "",
          "",
          "",
          "",
          "",
          "",
          "",
          "",
          "Body",
          "Care",
          "Checking",
          "Cleaning",
          "Credit Card",
          "Credit Card",
          "Dentist",
          "Equipment",
          "Fuel",
          "Furnishings",
          "Gas",
          "ID",
          "Installments",
          "Insurance",
          "Loan",
          "Maintenance",
          "Maintenance",
          "Mortgage",
          "Personal",
          "Reading",
          "Recovery",
          "Recovery",
          "Registration",
          "Regular",
          "Repair",
          "Repairs",
          "Savings",
          "Self",
          "Therapy",
          "Tolls",
          "",
          "1st Source",
          "AMAZON",
          "Ally",
          "Amazon",
          "Apple",
          "Apple Cash",
          "Auto",
          "Auto",
          "Cash",
          "Charity",
          "Clothing",
          "Electronics",
          "Entertainment",
          "Fitness",
          "Gear",
          "Gifts",
          "Groceries",
          "Home",
          "Home Furnishings",
          "Interest",
          "Interest",
          "Medical",
          "Misc",
          "NDFCU",
          "Notre Dame",
          "Personal",
          "Pet",
          "Professional",
          "Projects",
          "Reimbursable",
          "Reimbursible",
          "Restaurants",
          "Study",
          "Subscriptions",
          "Taxes",
          "Travel",
          "Utilities",
          "Assets",
          "Expenses",
          "Income",
          "Liabilities",
          "Transfer"
         ],
         "name": "",
         "parents": [
          "Transfer",
          "Expenses/AMAZON",
          "Expenses/Amazon",
          "Income/Apple Cash",
          "Expenses/Auto",
          "Expenses/Cash",
          "Expenses/Charity",
          "Expenses/Clothing",
          "Expenses/Electronics",
          "Expenses/Entertainment",
          "Expenses/Fitness",
          "Expenses/Gear",
          "Expenses/Gifts",
          "Expenses/Groceries",
          "Expenses/Home",
          "Expenses/Home Furnishings",
          "Expenses/Interest",
          "Income/Interest",
          "Expenses/Misc",
          "Expenses/Personal",
          "Expenses/Pet",
          "Expenses/Professional",
          "Expenses/Projects",
          "Expenses/Reimbursable",
          "Expenses/Reimbursible",
          "Expenses/Restaurants",
          "Expenses/Study",
          "Expenses/Subscriptions",
          "Income/Taxes",
          "Expenses/Travel",
          "Expenses/Utilities",
          "Expenses/Medical",
          "Expenses/Pet",
          "Assets/1st Source",
          "Expenses/Home",
          "Liabilities/Apple",
          "Liabilities/NDFCU",
          "Expenses/Medical",
          "Expenses/Fitness",
          "Expenses/Auto",
          "Expenses/Home",
          "Expenses/Auto",
          "Expenses/Fitness",
          "Liabilities/Apple",
          "Expenses/Auto",
          "Transfer/Auto",
          "Expenses/Auto",
          "Expenses/Home",
          "Expenses/Home",
          "Expenses/Entertainment",
          "Expenses/Entertainment",
          "Expenses/Fitness",
          "Expenses/Medical",
          "Expenses/Auto",
          "Income/Notre Dame",
          "Expenses/Home",
          "Expenses/Home",
          "Assets/Ally",
          "Expenses/Entertainment",
          "Expenses/Medical",
          "Expenses/Auto",
          "Transfer",
          "Assets",
          "Expenses",
          "Assets",
          "Expenses",
          "Liabilities",
          "Income",
          "Expenses",
          "Transfer",
          "Expenses",
          "Expenses",
          "Expenses",
          "Expenses",
          "Expenses",
          "Expenses",
          "Expenses",
          "Expenses",
          "Expenses",
          "Expenses",
          "Expenses",
          "Expenses",
          "Income",
          "Expenses",
          "Expenses",
          "Liabilities",
          "Income",
          "Expenses",
          "Expenses",
          "Expenses",
          "Expenses",
          "Expenses",
          "Expenses",
          "Expenses",
          "Expenses",
          "Expenses",
          "Income",
          "Expenses",
          "Expenses",
          "",
          "",
          "",
          "",
          ""
         ],
         "type": "sunburst",
         "values": [
          1,
          1,
          1,
          1,
          1,
          1,
          1,
          1,
          1,
          1,
          1,
          1,
          1,
          1,
          1,
          1,
          1,
          1,
          1,
          1,
          1,
          1,
          1,
          1,
          1,
          1,
          1,
          1,
          1,
          1,
          1,
          1,
          1,
          1,
          1,
          1,
          1,
          1,
          1,
          1,
          1,
          1,
          1,
          1,
          1,
          1,
          1,
          1,
          1,
          1,
          1,
          1,
          1,
          1,
          1,
          1,
          1,
          1,
          1,
          1,
          1,
          1,
          1,
          1,
          1,
          1,
          2,
          1,
          7,
          1,
          1,
          1,
          1,
          1,
          4,
          4,
          1,
          1,
          1,
          7,
          1,
          1,
          1,
          4,
          1,
          1,
          1,
          1,
          2,
          1,
          1,
          1,
          1,
          1,
          1,
          1,
          1,
          1,
          1,
          2,
          50,
          4,
          3,
          2
         ]
        }
       ],
       "layout": {
        "autosize": true,
        "legend": {
         "tracegroupgap": 0
        },
        "margin": {
         "t": 60
        },
        "template": {
         "data": {
          "bar": [
           {
            "error_x": {
             "color": "#2a3f5f"
            },
            "error_y": {
             "color": "#2a3f5f"
            },
            "marker": {
             "line": {
              "color": "#E5ECF6",
              "width": 0.5
             },
             "pattern": {
              "fillmode": "overlay",
              "size": 10,
              "solidity": 0.2
             }
            },
            "type": "bar"
           }
          ],
          "barpolar": [
           {
            "marker": {
             "line": {
              "color": "#E5ECF6",
              "width": 0.5
             },
             "pattern": {
              "fillmode": "overlay",
              "size": 10,
              "solidity": 0.2
             }
            },
            "type": "barpolar"
           }
          ],
          "carpet": [
           {
            "aaxis": {
             "endlinecolor": "#2a3f5f",
             "gridcolor": "white",
             "linecolor": "white",
             "minorgridcolor": "white",
             "startlinecolor": "#2a3f5f"
            },
            "baxis": {
             "endlinecolor": "#2a3f5f",
             "gridcolor": "white",
             "linecolor": "white",
             "minorgridcolor": "white",
             "startlinecolor": "#2a3f5f"
            },
            "type": "carpet"
           }
          ],
          "choropleth": [
           {
            "colorbar": {
             "outlinewidth": 0,
             "ticks": ""
            },
            "type": "choropleth"
           }
          ],
          "contour": [
           {
            "colorbar": {
             "outlinewidth": 0,
             "ticks": ""
            },
            "colorscale": [
             [
              0,
              "#0d0887"
             ],
             [
              0.1111111111111111,
              "#46039f"
             ],
             [
              0.2222222222222222,
              "#7201a8"
             ],
             [
              0.3333333333333333,
              "#9c179e"
             ],
             [
              0.4444444444444444,
              "#bd3786"
             ],
             [
              0.5555555555555556,
              "#d8576b"
             ],
             [
              0.6666666666666666,
              "#ed7953"
             ],
             [
              0.7777777777777778,
              "#fb9f3a"
             ],
             [
              0.8888888888888888,
              "#fdca26"
             ],
             [
              1,
              "#f0f921"
             ]
            ],
            "type": "contour"
           }
          ],
          "contourcarpet": [
           {
            "colorbar": {
             "outlinewidth": 0,
             "ticks": ""
            },
            "type": "contourcarpet"
           }
          ],
          "heatmap": [
           {
            "colorbar": {
             "outlinewidth": 0,
             "ticks": ""
            },
            "colorscale": [
             [
              0,
              "#0d0887"
             ],
             [
              0.1111111111111111,
              "#46039f"
             ],
             [
              0.2222222222222222,
              "#7201a8"
             ],
             [
              0.3333333333333333,
              "#9c179e"
             ],
             [
              0.4444444444444444,
              "#bd3786"
             ],
             [
              0.5555555555555556,
              "#d8576b"
             ],
             [
              0.6666666666666666,
              "#ed7953"
             ],
             [
              0.7777777777777778,
              "#fb9f3a"
             ],
             [
              0.8888888888888888,
              "#fdca26"
             ],
             [
              1,
              "#f0f921"
             ]
            ],
            "type": "heatmap"
           }
          ],
          "heatmapgl": [
           {
            "colorbar": {
             "outlinewidth": 0,
             "ticks": ""
            },
            "colorscale": [
             [
              0,
              "#0d0887"
             ],
             [
              0.1111111111111111,
              "#46039f"
             ],
             [
              0.2222222222222222,
              "#7201a8"
             ],
             [
              0.3333333333333333,
              "#9c179e"
             ],
             [
              0.4444444444444444,
              "#bd3786"
             ],
             [
              0.5555555555555556,
              "#d8576b"
             ],
             [
              0.6666666666666666,
              "#ed7953"
             ],
             [
              0.7777777777777778,
              "#fb9f3a"
             ],
             [
              0.8888888888888888,
              "#fdca26"
             ],
             [
              1,
              "#f0f921"
             ]
            ],
            "type": "heatmapgl"
           }
          ],
          "histogram": [
           {
            "marker": {
             "pattern": {
              "fillmode": "overlay",
              "size": 10,
              "solidity": 0.2
             }
            },
            "type": "histogram"
           }
          ],
          "histogram2d": [
           {
            "colorbar": {
             "outlinewidth": 0,
             "ticks": ""
            },
            "colorscale": [
             [
              0,
              "#0d0887"
             ],
             [
              0.1111111111111111,
              "#46039f"
             ],
             [
              0.2222222222222222,
              "#7201a8"
             ],
             [
              0.3333333333333333,
              "#9c179e"
             ],
             [
              0.4444444444444444,
              "#bd3786"
             ],
             [
              0.5555555555555556,
              "#d8576b"
             ],
             [
              0.6666666666666666,
              "#ed7953"
             ],
             [
              0.7777777777777778,
              "#fb9f3a"
             ],
             [
              0.8888888888888888,
              "#fdca26"
             ],
             [
              1,
              "#f0f921"
             ]
            ],
            "type": "histogram2d"
           }
          ],
          "histogram2dcontour": [
           {
            "colorbar": {
             "outlinewidth": 0,
             "ticks": ""
            },
            "colorscale": [
             [
              0,
              "#0d0887"
             ],
             [
              0.1111111111111111,
              "#46039f"
             ],
             [
              0.2222222222222222,
              "#7201a8"
             ],
             [
              0.3333333333333333,
              "#9c179e"
             ],
             [
              0.4444444444444444,
              "#bd3786"
             ],
             [
              0.5555555555555556,
              "#d8576b"
             ],
             [
              0.6666666666666666,
              "#ed7953"
             ],
             [
              0.7777777777777778,
              "#fb9f3a"
             ],
             [
              0.8888888888888888,
              "#fdca26"
             ],
             [
              1,
              "#f0f921"
             ]
            ],
            "type": "histogram2dcontour"
           }
          ],
          "mesh3d": [
           {
            "colorbar": {
             "outlinewidth": 0,
             "ticks": ""
            },
            "type": "mesh3d"
           }
          ],
          "parcoords": [
           {
            "line": {
             "colorbar": {
              "outlinewidth": 0,
              "ticks": ""
             }
            },
            "type": "parcoords"
           }
          ],
          "pie": [
           {
            "automargin": true,
            "type": "pie"
           }
          ],
          "scatter": [
           {
            "fillpattern": {
             "fillmode": "overlay",
             "size": 10,
             "solidity": 0.2
            },
            "type": "scatter"
           }
          ],
          "scatter3d": [
           {
            "line": {
             "colorbar": {
              "outlinewidth": 0,
              "ticks": ""
             }
            },
            "marker": {
             "colorbar": {
              "outlinewidth": 0,
              "ticks": ""
             }
            },
            "type": "scatter3d"
           }
          ],
          "scattercarpet": [
           {
            "marker": {
             "colorbar": {
              "outlinewidth": 0,
              "ticks": ""
             }
            },
            "type": "scattercarpet"
           }
          ],
          "scattergeo": [
           {
            "marker": {
             "colorbar": {
              "outlinewidth": 0,
              "ticks": ""
             }
            },
            "type": "scattergeo"
           }
          ],
          "scattergl": [
           {
            "marker": {
             "colorbar": {
              "outlinewidth": 0,
              "ticks": ""
             }
            },
            "type": "scattergl"
           }
          ],
          "scattermapbox": [
           {
            "marker": {
             "colorbar": {
              "outlinewidth": 0,
              "ticks": ""
             }
            },
            "type": "scattermapbox"
           }
          ],
          "scatterpolar": [
           {
            "marker": {
             "colorbar": {
              "outlinewidth": 0,
              "ticks": ""
             }
            },
            "type": "scatterpolar"
           }
          ],
          "scatterpolargl": [
           {
            "marker": {
             "colorbar": {
              "outlinewidth": 0,
              "ticks": ""
             }
            },
            "type": "scatterpolargl"
           }
          ],
          "scatterternary": [
           {
            "marker": {
             "colorbar": {
              "outlinewidth": 0,
              "ticks": ""
             }
            },
            "type": "scatterternary"
           }
          ],
          "surface": [
           {
            "colorbar": {
             "outlinewidth": 0,
             "ticks": ""
            },
            "colorscale": [
             [
              0,
              "#0d0887"
             ],
             [
              0.1111111111111111,
              "#46039f"
             ],
             [
              0.2222222222222222,
              "#7201a8"
             ],
             [
              0.3333333333333333,
              "#9c179e"
             ],
             [
              0.4444444444444444,
              "#bd3786"
             ],
             [
              0.5555555555555556,
              "#d8576b"
             ],
             [
              0.6666666666666666,
              "#ed7953"
             ],
             [
              0.7777777777777778,
              "#fb9f3a"
             ],
             [
              0.8888888888888888,
              "#fdca26"
             ],
             [
              1,
              "#f0f921"
             ]
            ],
            "type": "surface"
           }
          ],
          "table": [
           {
            "cells": {
             "fill": {
              "color": "#EBF0F8"
             },
             "line": {
              "color": "white"
             }
            },
            "header": {
             "fill": {
              "color": "#C8D4E3"
             },
             "line": {
              "color": "white"
             }
            },
            "type": "table"
           }
          ]
         },
         "layout": {
          "annotationdefaults": {
           "arrowcolor": "#2a3f5f",
           "arrowhead": 0,
           "arrowwidth": 1
          },
          "autotypenumbers": "strict",
          "coloraxis": {
           "colorbar": {
            "outlinewidth": 0,
            "ticks": ""
           }
          },
          "colorscale": {
           "diverging": [
            [
             0,
             "#8e0152"
            ],
            [
             0.1,
             "#c51b7d"
            ],
            [
             0.2,
             "#de77ae"
            ],
            [
             0.3,
             "#f1b6da"
            ],
            [
             0.4,
             "#fde0ef"
            ],
            [
             0.5,
             "#f7f7f7"
            ],
            [
             0.6,
             "#e6f5d0"
            ],
            [
             0.7,
             "#b8e186"
            ],
            [
             0.8,
             "#7fbc41"
            ],
            [
             0.9,
             "#4d9221"
            ],
            [
             1,
             "#276419"
            ]
           ],
           "sequential": [
            [
             0,
             "#0d0887"
            ],
            [
             0.1111111111111111,
             "#46039f"
            ],
            [
             0.2222222222222222,
             "#7201a8"
            ],
            [
             0.3333333333333333,
             "#9c179e"
            ],
            [
             0.4444444444444444,
             "#bd3786"
            ],
            [
             0.5555555555555556,
             "#d8576b"
            ],
            [
             0.6666666666666666,
             "#ed7953"
            ],
            [
             0.7777777777777778,
             "#fb9f3a"
            ],
            [
             0.8888888888888888,
             "#fdca26"
            ],
            [
             1,
             "#f0f921"
            ]
           ],
           "sequentialminus": [
            [
             0,
             "#0d0887"
            ],
            [
             0.1111111111111111,
             "#46039f"
            ],
            [
             0.2222222222222222,
             "#7201a8"
            ],
            [
             0.3333333333333333,
             "#9c179e"
            ],
            [
             0.4444444444444444,
             "#bd3786"
            ],
            [
             0.5555555555555556,
             "#d8576b"
            ],
            [
             0.6666666666666666,
             "#ed7953"
            ],
            [
             0.7777777777777778,
             "#fb9f3a"
            ],
            [
             0.8888888888888888,
             "#fdca26"
            ],
            [
             1,
             "#f0f921"
            ]
           ]
          },
          "colorway": [
           "#636efa",
           "#EF553B",
           "#00cc96",
           "#ab63fa",
           "#FFA15A",
           "#19d3f3",
           "#FF6692",
           "#B6E880",
           "#FF97FF",
           "#FECB52"
          ],
          "font": {
           "color": "#2a3f5f"
          },
          "geo": {
           "bgcolor": "white",
           "lakecolor": "white",
           "landcolor": "#E5ECF6",
           "showlakes": true,
           "showland": true,
           "subunitcolor": "white"
          },
          "hoverlabel": {
           "align": "left"
          },
          "hovermode": "closest",
          "mapbox": {
           "style": "light"
          },
          "paper_bgcolor": "white",
          "plot_bgcolor": "#E5ECF6",
          "polar": {
           "angularaxis": {
            "gridcolor": "white",
            "linecolor": "white",
            "ticks": ""
           },
           "bgcolor": "#E5ECF6",
           "radialaxis": {
            "gridcolor": "white",
            "linecolor": "white",
            "ticks": ""
           }
          },
          "scene": {
           "xaxis": {
            "backgroundcolor": "#E5ECF6",
            "gridcolor": "white",
            "gridwidth": 2,
            "linecolor": "white",
            "showbackground": true,
            "ticks": "",
            "zerolinecolor": "white"
           },
           "yaxis": {
            "backgroundcolor": "#E5ECF6",
            "gridcolor": "white",
            "gridwidth": 2,
            "linecolor": "white",
            "showbackground": true,
            "ticks": "",
            "zerolinecolor": "white"
           },
           "zaxis": {
            "backgroundcolor": "#E5ECF6",
            "gridcolor": "white",
            "gridwidth": 2,
            "linecolor": "white",
            "showbackground": true,
            "ticks": "",
            "zerolinecolor": "white"
           }
          },
          "shapedefaults": {
           "line": {
            "color": "#2a3f5f"
           }
          },
          "ternary": {
           "aaxis": {
            "gridcolor": "white",
            "linecolor": "white",
            "ticks": ""
           },
           "baxis": {
            "gridcolor": "white",
            "linecolor": "white",
            "ticks": ""
           },
           "bgcolor": "#E5ECF6",
           "caxis": {
            "gridcolor": "white",
            "linecolor": "white",
            "ticks": ""
           }
          },
          "title": {
           "x": 0.05
          },
          "xaxis": {
           "automargin": true,
           "gridcolor": "white",
           "linecolor": "white",
           "ticks": "",
           "title": {
            "standoff": 15
           },
           "zerolinecolor": "white",
           "zerolinewidth": 2
          },
          "yaxis": {
           "automargin": true,
           "gridcolor": "white",
           "linecolor": "white",
           "ticks": "",
           "title": {
            "standoff": 15
           },
           "zerolinecolor": "white",
           "zerolinewidth": 2
          }
         }
        }
       }
      },
      "image/png": "[encoded data removed]",
      "text/html": [
       "<div>                            <div id=\"01f7e90d-33cf-4b30-9127-09a7f42f71da\" class=\"plotly-graph-div\" style=\"height:525px; width:100%;\"></div>            <script type=\"text/javascript\">                require([\"plotly\"], function(Plotly) {                    window.PLOTLYENV=window.PLOTLYENV || {};                                    if (document.getElementById(\"01f7e90d-33cf-4b30-9127-09a7f42f71da\")) {                    Plotly.newPlot(                        \"01f7e90d-33cf-4b30-9127-09a7f42f71da\",                        [{\"branchvalues\":\"total\",\"domain\":{\"x\":[0.0,1.0],\"y\":[0.0,1.0]},\"hovertemplate\":\"labels=%{label}\\u003cbr\\u003ecount=%{value}\\u003cbr\\u003eparent=%{parent}\\u003cbr\\u003eid=%{id}\\u003cextra\\u003e\\u003c\\u002fextra\\u003e\",\"ids\":[\"Transfer\\u002f\\u002f\",\"Expenses\\u002fAMAZON\\u002f\",\"Expenses\\u002fAmazon\\u002f\",\"Income\\u002fApple Cash\\u002f\",\"Expenses\\u002fAuto\\u002f\",\"Expenses\\u002fCash\\u002f\",\"Expenses\\u002fCharity\\u002f\",\"Expenses\\u002fClothing\\u002f\",\"Expenses\\u002fElectronics\\u002f\",\"Expenses\\u002fEntertainment\\u002f\",\"Expenses\\u002fFitness\\u002f\",\"Expenses\\u002fGear\\u002f\",\"Expenses\\u002fGifts\\u002f\",\"Expenses\\u002fGroceries\\u002f\",\"Expenses\\u002fHome\\u002f\",\"Expenses\\u002fHome Furnishings\\u002f\",\"Expenses\\u002fInterest\\u002f\",\"Income\\u002fInterest\\u002f\",\"Expenses\\u002fMisc\\u002f\",\"Expenses\\u002fPersonal\\u002f\",\"Expenses\\u002fPet\\u002f\",\"Expenses\\u002fProfessional\\u002f\",\"Expenses\\u002fProjects\\u002f\",\"Expenses\\u002fReimbursable\\u002f\",\"Expenses\\u002fReimbursible\\u002f\",\"Expenses\\u002fRestaurants\\u002f\",\"Expenses\\u002fStudy\\u002f\",\"Expenses\\u002fSubscriptions\\u002f\",\"Income\\u002fTaxes\\u002f\",\"Expenses\\u002fTravel\\u002f\",\"Expenses\\u002fUtilities\\u002f\",\"Expenses\\u002fMedical\\u002fBody\",\"Expenses\\u002fPet\\u002fCare\",\"Assets\\u002f1st Source\\u002fChecking\",\"Expenses\\u002fHome\\u002fCleaning\",\"Liabilities\\u002fApple\\u002fCredit Card\",\"Liabilities\\u002fNDFCU\\u002fCredit Card\",\"Expenses\\u002fMedical\\u002fDentist\",\"Expenses\\u002fFitness\\u002fEquipment\",\"Expenses\\u002fAuto\\u002fFuel\",\"Expenses\\u002fHome\\u002fFurnishings\",\"Expenses\\u002fAuto\\u002fGas\",\"Expenses\\u002fFitness\\u002fID\",\"Liabilities\\u002fApple\\u002fInstallments\",\"Expenses\\u002fAuto\\u002fInsurance\",\"Transfer\\u002fAuto\\u002fLoan\",\"Expenses\\u002fAuto\\u002fMaintenance\",\"Expenses\\u002fHome\\u002fMaintenance\",\"Expenses\\u002fHome\\u002fMortgage\",\"Expenses\\u002fEntertainment\\u002fPersonal\",\"Expenses\\u002fEntertainment\\u002fReading\",\"Expenses\\u002fFitness\\u002fRecovery\",\"Expenses\\u002fMedical\\u002fRecovery\",\"Expenses\\u002fAuto\\u002fRegistration\",\"Income\\u002fNotre Dame\\u002fRegular\",\"Expenses\\u002fHome\\u002fRepair\",\"Expenses\\u002fHome\\u002fRepairs\",\"Assets\\u002fAlly\\u002fSavings\",\"Expenses\\u002fEntertainment\\u002fSelf\",\"Expenses\\u002fMedical\\u002fTherapy\",\"Expenses\\u002fAuto\\u002fTolls\",\"Transfer\\u002f\",\"Assets\\u002f1st Source\",\"Expenses\\u002fAMAZON\",\"Assets\\u002fAlly\",\"Expenses\\u002fAmazon\",\"Liabilities\\u002fApple\",\"Income\\u002fApple Cash\",\"Expenses\\u002fAuto\",\"Transfer\\u002fAuto\",\"Expenses\\u002fCash\",\"Expenses\\u002fCharity\",\"Expenses\\u002fClothing\",\"Expenses\\u002fElectronics\",\"Expenses\\u002fEntertainment\",\"Expenses\\u002fFitness\",\"Expenses\\u002fGear\",\"Expenses\\u002fGifts\",\"Expenses\\u002fGroceries\",\"Expenses\\u002fHome\",\"Expenses\\u002fHome Furnishings\",\"Expenses\\u002fInterest\",\"Income\\u002fInterest\",\"Expenses\\u002fMedical\",\"Expenses\\u002fMisc\",\"Liabilities\\u002fNDFCU\",\"Income\\u002fNotre Dame\",\"Expenses\\u002fPersonal\",\"Expenses\\u002fPet\",\"Expenses\\u002fProfessional\",\"Expenses\\u002fProjects\",\"Expenses\\u002fReimbursable\",\"Expenses\\u002fReimbursible\",\"Expenses\\u002fRestaurants\",\"Expenses\\u002fStudy\",\"Expenses\\u002fSubscriptions\",\"Income\\u002fTaxes\",\"Expenses\\u002fTravel\",\"Expenses\\u002fUtilities\",\"Assets\",\"Expenses\",\"Income\",\"Liabilities\",\"Transfer\"],\"labels\":[\"\",\"\",\"\",\"\",\"\",\"\",\"\",\"\",\"\",\"\",\"\",\"\",\"\",\"\",\"\",\"\",\"\",\"\",\"\",\"\",\"\",\"\",\"\",\"\",\"\",\"\",\"\",\"\",\"\",\"\",\"\",\"Body\",\"Care\",\"Checking\",\"Cleaning\",\"Credit Card\",\"Credit Card\",\"Dentist\",\"Equipment\",\"Fuel\",\"Furnishings\",\"Gas\",\"ID\",\"Installments\",\"Insurance\",\"Loan\",\"Maintenance\",\"Maintenance\",\"Mortgage\",\"Personal\",\"Reading\",\"Recovery\",\"Recovery\",\"Registration\",\"Regular\",\"Repair\",\"Repairs\",\"Savings\",\"Self\",\"Therapy\",\"Tolls\",\"\",\"1st Source\",\"AMAZON\",\"Ally\",\"Amazon\",\"Apple\",\"Apple Cash\",\"Auto\",\"Auto\",\"Cash\",\"Charity\",\"Clothing\",\"Electronics\",\"Entertainment\",\"Fitness\",\"Gear\",\"Gifts\",\"Groceries\",\"Home\",\"Home Furnishings\",\"Interest\",\"Interest\",\"Medical\",\"Misc\",\"NDFCU\",\"Notre Dame\",\"Personal\",\"Pet\",\"Professional\",\"Projects\",\"Reimbursable\",\"Reimbursible\",\"Restaurants\",\"Study\",\"Subscriptions\",\"Taxes\",\"Travel\",\"Utilities\",\"Assets\",\"Expenses\",\"Income\",\"Liabilities\",\"Transfer\"],\"name\":\"\",\"parents\":[\"Transfer\",\"Expenses\\u002fAMAZON\",\"Expenses\\u002fAmazon\",\"Income\\u002fApple Cash\",\"Expenses\\u002fAuto\",\"Expenses\\u002fCash\",\"Expenses\\u002fCharity\",\"Expenses\\u002fClothing\",\"Expenses\\u002fElectronics\",\"Expenses\\u002fEntertainment\",\"Expenses\\u002fFitness\",\"Expenses\\u002fGear\",\"Expenses\\u002fGifts\",\"Expenses\\u002fGroceries\",\"Expenses\\u002fHome\",\"Expenses\\u002fHome Furnishings\",\"Expenses\\u002fInterest\",\"Income\\u002fInterest\",\"Expenses\\u002fMisc\",\"Expenses\\u002fPersonal\",\"Expenses\\u002fPet\",\"Expenses\\u002fProfessional\",\"Expenses\\u002fProjects\",\"Expenses\\u002fReimbursable\",\"Expenses\\u002fReimbursible\",\"Expenses\\u002fRestaurants\",\"Expenses\\u002fStudy\",\"Expenses\\u002fSubscriptions\",\"Income\\u002fTaxes\",\"Expenses\\u002fTravel\",\"Expenses\\u002fUtilities\",\"Expenses\\u002fMedical\",\"Expenses\\u002fPet\",\"Assets\\u002f1st Source\",\"Expenses\\u002fHome\",\"Liabilities\\u002fApple\",\"Liabilities\\u002fNDFCU\",\"Expenses\\u002fMedical\",\"Expenses\\u002fFitness\",\"Expenses\\u002fAuto\",\"Expenses\\u002fHome\",\"Expenses\\u002fAuto\",\"Expenses\\u002fFitness\",\"Liabilities\\u002fApple\",\"Expenses\\u002fAuto\",\"Transfer\\u002fAuto\",\"Expenses\\u002fAuto\",\"Expenses\\u002fHome\",\"Expenses\\u002fHome\",\"Expenses\\u002fEntertainment\",\"Expenses\\u002fEntertainment\",\"Expenses\\u002fFitness\",\"Expenses\\u002fMedical\",\"Expenses\\u002fAuto\",\"Income\\u002fNotre Dame\",\"Expenses\\u002fHome\",\"Expenses\\u002fHome\",\"Assets\\u002fAlly\",\"Expenses\\u002fEntertainment\",\"Expenses\\u002fMedical\",\"Expenses\\u002fAuto\",\"Transfer\",\"Assets\",\"Expenses\",\"Assets\",\"Expenses\",\"Liabilities\",\"Income\",\"Expenses\",\"Transfer\",\"Expenses\",\"Expenses\",\"Expenses\",\"Expenses\",\"Expenses\",\"Expenses\",\"Expenses\",\"Expenses\",\"Expenses\",\"Expenses\",\"Expenses\",\"Expenses\",\"Income\",\"Expenses\",\"Expenses\",\"Liabilities\",\"Income\",\"Expenses\",\"Expenses\",\"Expenses\",\"Expenses\",\"Expenses\",\"Expenses\",\"Expenses\",\"Expenses\",\"Expenses\",\"Income\",\"Expenses\",\"Expenses\",\"\",\"\",\"\",\"\",\"\"],\"values\":[1,1,1,1,1,1,1,1,1,1,1,1,1,1,1,1,1,1,1,1,1,1,1,1,1,1,1,1,1,1,1,1,1,1,1,1,1,1,1,1,1,1,1,1,1,1,1,1,1,1,1,1,1,1,1,1,1,1,1,1,1,1,1,1,1,1,2,1,7,1,1,1,1,1,4,4,1,1,1,7,1,1,1,4,1,1,1,1,2,1,1,1,1,1,1,1,1,1,1,2,50,4,3,2],\"type\":\"sunburst\"}],                        {\"template\":{\"data\":{\"histogram2dcontour\":[{\"type\":\"histogram2dcontour\",\"colorbar\":{\"outlinewidth\":0,\"ticks\":\"\"},\"colorscale\":[[0.0,\"#0d0887\"],[0.1111111111111111,\"#46039f\"],[0.2222222222222222,\"#7201a8\"],[0.3333333333333333,\"#9c179e\"],[0.4444444444444444,\"#bd3786\"],[0.5555555555555556,\"#d8576b\"],[0.6666666666666666,\"#ed7953\"],[0.7777777777777778,\"#fb9f3a\"],[0.8888888888888888,\"#fdca26\"],[1.0,\"#f0f921\"]]}],\"choropleth\":[{\"type\":\"choropleth\",\"colorbar\":{\"outlinewidth\":0,\"ticks\":\"\"}}],\"histogram2d\":[{\"type\":\"histogram2d\",\"colorbar\":{\"outlinewidth\":0,\"ticks\":\"\"},\"colorscale\":[[0.0,\"#0d0887\"],[0.1111111111111111,\"#46039f\"],[0.2222222222222222,\"#7201a8\"],[0.3333333333333333,\"#9c179e\"],[0.4444444444444444,\"#bd3786\"],[0.5555555555555556,\"#d8576b\"],[0.6666666666666666,\"#ed7953\"],[0.7777777777777778,\"#fb9f3a\"],[0.8888888888888888,\"#fdca26\"],[1.0,\"#f0f921\"]]}],\"heatmap\":[{\"type\":\"heatmap\",\"colorbar\":{\"outlinewidth\":0,\"ticks\":\"\"},\"colorscale\":[[0.0,\"#0d0887\"],[0.1111111111111111,\"#46039f\"],[0.2222222222222222,\"#7201a8\"],[0.3333333333333333,\"#9c179e\"],[0.4444444444444444,\"#bd3786\"],[0.5555555555555556,\"#d8576b\"],[0.6666666666666666,\"#ed7953\"],[0.7777777777777778,\"#fb9f3a\"],[0.8888888888888888,\"#fdca26\"],[1.0,\"#f0f921\"]]}],\"heatmapgl\":[{\"type\":\"heatmapgl\",\"colorbar\":{\"outlinewidth\":0,\"ticks\":\"\"},\"colorscale\":[[0.0,\"#0d0887\"],[0.1111111111111111,\"#46039f\"],[0.2222222222222222,\"#7201a8\"],[0.3333333333333333,\"#9c179e\"],[0.4444444444444444,\"#bd3786\"],[0.5555555555555556,\"#d8576b\"],[0.6666666666666666,\"#ed7953\"],[0.7777777777777778,\"#fb9f3a\"],[0.8888888888888888,\"#fdca26\"],[1.0,\"#f0f921\"]]}],\"contourcarpet\":[{\"type\":\"contourcarpet\",\"colorbar\":{\"outlinewidth\":0,\"ticks\":\"\"}}],\"contour\":[{\"type\":\"contour\",\"colorbar\":{\"outlinewidth\":0,\"ticks\":\"\"},\"colorscale\":[[0.0,\"#0d0887\"],[0.1111111111111111,\"#46039f\"],[0.2222222222222222,\"#7201a8\"],[0.3333333333333333,\"#9c179e\"],[0.4444444444444444,\"#bd3786\"],[0.5555555555555556,\"#d8576b\"],[0.6666666666666666,\"#ed7953\"],[0.7777777777777778,\"#fb9f3a\"],[0.8888888888888888,\"#fdca26\"],[1.0,\"#f0f921\"]]}],\"surface\":[{\"type\":\"surface\",\"colorbar\":{\"outlinewidth\":0,\"ticks\":\"\"},\"colorscale\":[[0.0,\"#0d0887\"],[0.1111111111111111,\"#46039f\"],[0.2222222222222222,\"#7201a8\"],[0.3333333333333333,\"#9c179e\"],[0.4444444444444444,\"#bd3786\"],[0.5555555555555556,\"#d8576b\"],[0.6666666666666666,\"#ed7953\"],[0.7777777777777778,\"#fb9f3a\"],[0.8888888888888888,\"#fdca26\"],[1.0,\"#f0f921\"]]}],\"mesh3d\":[{\"type\":\"mesh3d\",\"colorbar\":{\"outlinewidth\":0,\"ticks\":\"\"}}],\"scatter\":[{\"fillpattern\":{\"fillmode\":\"overlay\",\"size\":10,\"solidity\":0.2},\"type\":\"scatter\"}],\"parcoords\":[{\"type\":\"parcoords\",\"line\":{\"colorbar\":{\"outlinewidth\":0,\"ticks\":\"\"}}}],\"scatterpolargl\":[{\"type\":\"scatterpolargl\",\"marker\":{\"colorbar\":{\"outlinewidth\":0,\"ticks\":\"\"}}}],\"bar\":[{\"error_x\":{\"color\":\"#2a3f5f\"},\"error_y\":{\"color\":\"#2a3f5f\"},\"marker\":{\"line\":{\"color\":\"#E5ECF6\",\"width\":0.5},\"pattern\":{\"fillmode\":\"overlay\",\"size\":10,\"solidity\":0.2}},\"type\":\"bar\"}],\"scattergeo\":[{\"type\":\"scattergeo\",\"marker\":{\"colorbar\":{\"outlinewidth\":0,\"ticks\":\"\"}}}],\"scatterpolar\":[{\"type\":\"scatterpolar\",\"marker\":{\"colorbar\":{\"outlinewidth\":0,\"ticks\":\"\"}}}],\"histogram\":[{\"marker\":{\"pattern\":{\"fillmode\":\"overlay\",\"size\":10,\"solidity\":0.2}},\"type\":\"histogram\"}],\"scattergl\":[{\"type\":\"scattergl\",\"marker\":{\"colorbar\":{\"outlinewidth\":0,\"ticks\":\"\"}}}],\"scatter3d\":[{\"type\":\"scatter3d\",\"line\":{\"colorbar\":{\"outlinewidth\":0,\"ticks\":\"\"}},\"marker\":{\"colorbar\":{\"outlinewidth\":0,\"ticks\":\"\"}}}],\"scattermapbox\":[{\"type\":\"scattermapbox\",\"marker\":{\"colorbar\":{\"outlinewidth\":0,\"ticks\":\"\"}}}],\"scatterternary\":[{\"type\":\"scatterternary\",\"marker\":{\"colorbar\":{\"outlinewidth\":0,\"ticks\":\"\"}}}],\"scattercarpet\":[{\"type\":\"scattercarpet\",\"marker\":{\"colorbar\":{\"outlinewidth\":0,\"ticks\":\"\"}}}],\"carpet\":[{\"aaxis\":{\"endlinecolor\":\"#2a3f5f\",\"gridcolor\":\"white\",\"linecolor\":\"white\",\"minorgridcolor\":\"white\",\"startlinecolor\":\"#2a3f5f\"},\"baxis\":{\"endlinecolor\":\"#2a3f5f\",\"gridcolor\":\"white\",\"linecolor\":\"white\",\"minorgridcolor\":\"white\",\"startlinecolor\":\"#2a3f5f\"},\"type\":\"carpet\"}],\"table\":[{\"cells\":{\"fill\":{\"color\":\"#EBF0F8\"},\"line\":{\"color\":\"white\"}},\"header\":{\"fill\":{\"color\":\"#C8D4E3\"},\"line\":{\"color\":\"white\"}},\"type\":\"table\"}],\"barpolar\":[{\"marker\":{\"line\":{\"color\":\"#E5ECF6\",\"width\":0.5},\"pattern\":{\"fillmode\":\"overlay\",\"size\":10,\"solidity\":0.2}},\"type\":\"barpolar\"}],\"pie\":[{\"automargin\":true,\"type\":\"pie\"}]},\"layout\":{\"autotypenumbers\":\"strict\",\"colorway\":[\"#636efa\",\"#EF553B\",\"#00cc96\",\"#ab63fa\",\"#FFA15A\",\"#19d3f3\",\"#FF6692\",\"#B6E880\",\"#FF97FF\",\"#FECB52\"],\"font\":{\"color\":\"#2a3f5f\"},\"hovermode\":\"closest\",\"hoverlabel\":{\"align\":\"left\"},\"paper_bgcolor\":\"white\",\"plot_bgcolor\":\"#E5ECF6\",\"polar\":{\"bgcolor\":\"#E5ECF6\",\"angularaxis\":{\"gridcolor\":\"white\",\"linecolor\":\"white\",\"ticks\":\"\"},\"radialaxis\":{\"gridcolor\":\"white\",\"linecolor\":\"white\",\"ticks\":\"\"}},\"ternary\":{\"bgcolor\":\"#E5ECF6\",\"aaxis\":{\"gridcolor\":\"white\",\"linecolor\":\"white\",\"ticks\":\"\"},\"baxis\":{\"gridcolor\":\"white\",\"linecolor\":\"white\",\"ticks\":\"\"},\"caxis\":{\"gridcolor\":\"white\",\"linecolor\":\"white\",\"ticks\":\"\"}},\"coloraxis\":{\"colorbar\":{\"outlinewidth\":0,\"ticks\":\"\"}},\"colorscale\":{\"sequential\":[[0.0,\"#0d0887\"],[0.1111111111111111,\"#46039f\"],[0.2222222222222222,\"#7201a8\"],[0.3333333333333333,\"#9c179e\"],[0.4444444444444444,\"#bd3786\"],[0.5555555555555556,\"#d8576b\"],[0.6666666666666666,\"#ed7953\"],[0.7777777777777778,\"#fb9f3a\"],[0.8888888888888888,\"#fdca26\"],[1.0,\"#f0f921\"]],\"sequentialminus\":[[0.0,\"#0d0887\"],[0.1111111111111111,\"#46039f\"],[0.2222222222222222,\"#7201a8\"],[0.3333333333333333,\"#9c179e\"],[0.4444444444444444,\"#bd3786\"],[0.5555555555555556,\"#d8576b\"],[0.6666666666666666,\"#ed7953\"],[0.7777777777777778,\"#fb9f3a\"],[0.8888888888888888,\"#fdca26\"],[1.0,\"#f0f921\"]],\"diverging\":[[0,\"#8e0152\"],[0.1,\"#c51b7d\"],[0.2,\"#de77ae\"],[0.3,\"#f1b6da\"],[0.4,\"#fde0ef\"],[0.5,\"#f7f7f7\"],[0.6,\"#e6f5d0\"],[0.7,\"#b8e186\"],[0.8,\"#7fbc41\"],[0.9,\"#4d9221\"],[1,\"#276419\"]]},\"xaxis\":{\"gridcolor\":\"white\",\"linecolor\":\"white\",\"ticks\":\"\",\"title\":{\"standoff\":15},\"zerolinecolor\":\"white\",\"automargin\":true,\"zerolinewidth\":2},\"yaxis\":{\"gridcolor\":\"white\",\"linecolor\":\"white\",\"ticks\":\"\",\"title\":{\"standoff\":15},\"zerolinecolor\":\"white\",\"automargin\":true,\"zerolinewidth\":2},\"scene\":{\"xaxis\":{\"backgroundcolor\":\"#E5ECF6\",\"gridcolor\":\"white\",\"linecolor\":\"white\",\"showbackground\":true,\"ticks\":\"\",\"zerolinecolor\":\"white\",\"gridwidth\":2},\"yaxis\":{\"backgroundcolor\":\"#E5ECF6\",\"gridcolor\":\"white\",\"linecolor\":\"white\",\"showbackground\":true,\"ticks\":\"\",\"zerolinecolor\":\"white\",\"gridwidth\":2},\"zaxis\":{\"backgroundcolor\":\"#E5ECF6\",\"gridcolor\":\"white\",\"linecolor\":\"white\",\"showbackground\":true,\"ticks\":\"\",\"zerolinecolor\":\"white\",\"gridwidth\":2}},\"shapedefaults\":{\"line\":{\"color\":\"#2a3f5f\"}},\"annotationdefaults\":{\"arrowcolor\":\"#2a3f5f\",\"arrowhead\":0,\"arrowwidth\":1},\"geo\":{\"bgcolor\":\"white\",\"landcolor\":\"#E5ECF6\",\"subunitcolor\":\"white\",\"showland\":true,\"showlakes\":true,\"lakecolor\":\"white\"},\"title\":{\"x\":0.05},\"mapbox\":{\"style\":\"light\"}}},\"legend\":{\"tracegroupgap\":0},\"margin\":{\"t\":60}},                        {\"responsive\": true}                    ).then(function(){\n",
       "                            \n",
       "var gd = document.getElementById('01f7e90d-33cf-4b30-9127-09a7f42f71da');\n",
       "var x = new MutationObserver(function (mutations, observer) {{\n",
       "        var display = window.getComputedStyle(gd).display;\n",
       "        if (!display || display === 'none') {{\n",
       "            console.log([gd, 'removed!']);\n",
       "            Plotly.purge(gd);\n",
       "            observer.disconnect();\n",
       "        }}\n",
       "}});\n",
       "\n",
       "// Listen for the removal of the full notebook cells\n",
       "var notebookContainer = gd.closest('#notebook-container');\n",
       "if (notebookContainer) {{\n",
       "    x.observe(notebookContainer, {childList: true});\n",
       "}}\n",
       "\n",
       "// Listen for the clearing of the current output cell\n",
       "var outputEl = gd.closest('.output');\n",
       "if (outputEl) {{\n",
       "    x.observe(outputEl, {childList: true});\n",
       "}}\n",
       "\n",
       "                        })                };                });            </script>        </div>"
      ]
     },
     "metadata": {},
     "output_type": "display_data"
    }
   ],
   "source": [
    "balfig = go.Figure(go.Sunburst(labels=acct_bals"
   ]
  },
  {
   "cell_type": "code",
   "execution_count": 14,
   "id": "a48c5121-5eae-4aeb-822d-6e151839bd48",
   "metadata": {},
   "outputs": [],
   "source": [
    "#flow = trans.groupby([\"From\", \"To\"])\n",
    "pt = trans.copy()\n",
    "pt.loc[trans[\"Amount\"] < 0, \"To\"] = trans.loc[trans[\"Amount\"] < 0, \"From\"]\n",
    "pt.loc[trans[\"Amount\"] < 0, \"From\"] = trans.loc[trans[\"Amount\"] < 0, \"To\"]\n",
    "pt.loc[trans[\"Amount\"] < 0, \"Amount\"] = -1 * trans.loc[trans[\"Amount\"] < 0, \"Amount\"]\n",
    "flow = pt.groupby([\"From\", \"To\"])"
   ]
  },
  {
   "cell_type": "code",
   "execution_count": 15,
   "id": "5766ecbf-4826-4ab2-b119-f8a993ac6c5e",
   "metadata": {},
   "outputs": [
    {
     "data": {
      "text/html": [
       "<div>\n",
       "<style scoped>\n",
       "    .dataframe tbody tr th:only-of-type {\n",
       "        vertical-align: middle;\n",
       "    }\n",
       "\n",
       "    .dataframe tbody tr th {\n",
       "        vertical-align: top;\n",
       "    }\n",
       "\n",
       "    .dataframe thead th {\n",
       "        text-align: right;\n",
       "    }\n",
       "</style>\n",
       "<table border=\"1\" class=\"dataframe\">\n",
       "  <thead>\n",
       "    <tr style=\"text-align: right;\">\n",
       "      <th></th>\n",
       "      <th></th>\n",
       "      <th>Amount</th>\n",
       "    </tr>\n",
       "    <tr>\n",
       "      <th>From</th>\n",
       "      <th>To</th>\n",
       "      <th></th>\n",
       "    </tr>\n",
       "  </thead>\n",
       "  <tbody>\n",
       "    <tr>\n",
       "      <th rowspan=\"5\" valign=\"top\">Assets:1st Source:Checking</th>\n",
       "      <th>Expenses:Auto:Insurance</th>\n",
       "      <td>2042.05</td>\n",
       "    </tr>\n",
       "    <tr>\n",
       "      <th>Expenses:Auto:Registration</th>\n",
       "      <td>260.35</td>\n",
       "    </tr>\n",
       "    <tr>\n",
       "      <th>Expenses:Cash</th>\n",
       "      <td>1313.25</td>\n",
       "    </tr>\n",
       "    <tr>\n",
       "      <th>Expenses:Fitness:Equipment</th>\n",
       "      <td>100.00</td>\n",
       "    </tr>\n",
       "    <tr>\n",
       "      <th>Expenses:Fitness:ID</th>\n",
       "      <td>4725.00</td>\n",
       "    </tr>\n",
       "    <tr>\n",
       "      <th>...</th>\n",
       "      <th>...</th>\n",
       "      <td>...</td>\n",
       "    </tr>\n",
       "    <tr>\n",
       "      <th>Liabilities:NDFCU:Credit Card</th>\n",
       "      <th>Transfer</th>\n",
       "      <td>141.81</td>\n",
       "    </tr>\n",
       "    <tr>\n",
       "      <th rowspan=\"4\" valign=\"top\">Transfer</th>\n",
       "      <th>Assets:1st Source:Checking</th>\n",
       "      <td>9981.50</td>\n",
       "    </tr>\n",
       "    <tr>\n",
       "      <th>Assets:Ally:Savings</th>\n",
       "      <td>1200.00</td>\n",
       "    </tr>\n",
       "    <tr>\n",
       "      <th>Liabilities:Apple:Credit Card</th>\n",
       "      <td>52571.68</td>\n",
       "    </tr>\n",
       "    <tr>\n",
       "      <th>Liabilities:NDFCU:Credit Card</th>\n",
       "      <td>54210.82</td>\n",
       "    </tr>\n",
       "  </tbody>\n",
       "</table>\n",
       "<p>101 rows × 1 columns</p>\n",
       "</div>"
      ],
      "text/plain": [
       "                                                               Amount\n",
       "From                          To                                     \n",
       "Assets:1st Source:Checking    Expenses:Auto:Insurance         2042.05\n",
       "                              Expenses:Auto:Registration       260.35\n",
       "                              Expenses:Cash                   1313.25\n",
       "                              Expenses:Fitness:Equipment       100.00\n",
       "                              Expenses:Fitness:ID             4725.00\n",
       "...                                                               ...\n",
       "Liabilities:NDFCU:Credit Card Transfer                         141.81\n",
       "Transfer                      Assets:1st Source:Checking      9981.50\n",
       "                              Assets:Ally:Savings             1200.00\n",
       "                              Liabilities:Apple:Credit Card  52571.68\n",
       "                              Liabilities:NDFCU:Credit Card  54210.82\n",
       "\n",
       "[101 rows x 1 columns]"
      ]
     },
     "execution_count": 15,
     "metadata": {},
     "output_type": "execute_result"
    }
   ],
   "source": [
    "flow_df = pd.DataFrame(flow.Amount.aggregate(\"sum\"))\n",
    "flow_df"
   ]
  },
  {
   "cell_type": "code",
   "execution_count": 16,
   "id": "c496c154-c196-468d-ae60-bb43395e68b4",
   "metadata": {
    "scrolled": true
   },
   "outputs": [
    {
     "data": {
      "text/plain": [
       "['Expenses:Auto:Insurance',\n",
       " 'Expenses:Auto',\n",
       " 'Expenses:Auto:Registration',\n",
       " 'Income:Apple Cash',\n",
       " 'Expenses:Groceries',\n",
       " 'Expenses:Reimbursable',\n",
       " 'Liabilities:NDFCU:Credit Card',\n",
       " 'Expenses:Projects',\n",
       " 'Expenses:Home:Mortgage',\n",
       " 'Expenses:Clothing',\n",
       " 'Expenses:Entertainment',\n",
       " 'Expenses:AMAZON',\n",
       " 'Expenses:Subscriptions',\n",
       " 'Expenses:Restaurants',\n",
       " 'Liabilities:Apple:Installments',\n",
       " 'Income:Taxes',\n",
       " 'Income:Interest',\n",
       " 'Expenses:Cash',\n",
       " 'Transfer:Auto:Loan',\n",
       " 'Expenses:Home:Repair',\n",
       " 'Expenses:Interest',\n",
       " 'Expenses:Fitness:Recovery',\n",
       " 'Expenses:Home Furnishings',\n",
       " 'Transfer',\n",
       " 'Expenses:Entertainment:Reading',\n",
       " 'Expenses:Gifts',\n",
       " 'Expenses:Misc',\n",
       " 'Assets:Ally:Savings',\n",
       " 'Expenses:Pet:Care',\n",
       " 'Expenses:Reimbursible',\n",
       " 'Expenses:Entertainment:Personal',\n",
       " 'Expenses:Auto:Tolls',\n",
       " 'Expenses:Fitness:Equipment',\n",
       " 'Income:Notre Dame:Regular',\n",
       " 'Expenses:Home:Repairs',\n",
       " 'Expenses:Medical:Therapy',\n",
       " 'Expenses:Auto:Maintenance',\n",
       " 'Expenses:Electronics',\n",
       " 'Expenses:Medical:Dentist',\n",
       " 'Expenses:Charity',\n",
       " 'Expenses:Gear',\n",
       " 'Expenses:Fitness:ID',\n",
       " 'Assets:1st Source:Checking',\n",
       " 'Expenses:Auto:Fuel',\n",
       " 'Expenses:Travel',\n",
       " 'Expenses:Entertainment:Self',\n",
       " 'Expenses:Home:Cleaning',\n",
       " 'Expenses:Auto:Gas',\n",
       " 'Expenses:Medical:Body',\n",
       " 'Expenses:Medical:Recovery',\n",
       " 'Expenses:Home:Furnishings',\n",
       " 'Expenses:Home',\n",
       " 'Expenses:Pet',\n",
       " 'Expenses:Professional',\n",
       " 'Expenses:Study',\n",
       " 'Liabilities:Apple:Credit Card',\n",
       " 'Expenses:Home:Maintenance',\n",
       " 'Expenses:Amazon',\n",
       " 'Expenses:Fitness',\n",
       " 'Expenses:Personal',\n",
       " 'Expenses:Utilities']"
      ]
     },
     "execution_count": 16,
     "metadata": {},
     "output_type": "execute_result"
    }
   ],
   "source": [
    "accts = list(accounts(flow_df.index.to_frame()))\n",
    "\n",
    "labels = accts\n",
    "sources = [accts.index(a) for a in flow_df.index.to_frame()[\"From\"].values]\n",
    "targets = [accts.index(a) for a in flow_df.index.to_frame()[\"To\"].values]\n",
    "values = flow_df[\"Amount\"]\n",
    "\n",
    "f = go.Figure(data=[go.Sankey(\n",
    "    node = dict(\n",
    "        pad=15,\n",
    "        thickness = 5,\n",
    "        line=dict(color = \"black\", width = 0.5),\n",
    "        label = labels\n",
    "    ),\n",
    "    link = dict(\n",
    "        source = sources,\n",
    "        target = targets,\n",
    "        value = values.values,\n",
    "    )\n",
    ")\n",
    "                   ]\n",
    "             )\n",
    "\n",
    "labels"
   ]
  },
  {
   "cell_type": "code",
   "execution_count": 17,
   "id": "52583531-ba4f-4158-861d-afe71b91bb3e",
   "metadata": {},
   "outputs": [
    {
     "data": {
      "application/vnd.plotly.v1+json": {
       "config": {
        "plotlyServerURL": "https://plot.ly"
       },
       "data": [
        {
         "link": {
          "source": [
           42,
           42,
           42,
           42,
           42,
           42,
           42,
           42,
           42,
           42,
           42,
           42,
           42,
           42,
           27,
           17,
           9,
           10,
           4,
           4,
           51,
           50,
           48,
           35,
           7,
           5,
           3,
           16,
           16,
           33,
           15,
           55,
           55,
           55,
           55,
           55,
           55,
           55,
           55,
           55,
           55,
           55,
           55,
           55,
           55,
           55,
           55,
           55,
           55,
           55,
           55,
           55,
           55,
           55,
           55,
           55,
           55,
           55,
           55,
           55,
           55,
           55,
           55,
           6,
           6,
           6,
           6,
           6,
           6,
           6,
           6,
           6,
           6,
           6,
           6,
           6,
           6,
           6,
           6,
           6,
           6,
           6,
           6,
           6,
           6,
           6,
           6,
           6,
           6,
           6,
           6,
           6,
           6,
           6,
           6,
           6,
           6,
           23,
           23,
           23,
           23
          ],
          "target": [
           0,
           2,
           17,
           32,
           41,
           25,
           4,
           56,
           8,
           34,
           28,
           60,
           23,
           18,
           23,
           42,
           6,
           55,
           42,
           6,
           6,
           55,
           6,
           6,
           6,
           42,
           55,
           42,
           27,
           42,
           42,
           43,
           47,
           36,
           31,
           39,
           9,
           37,
           10,
           30,
           24,
           45,
           40,
           4,
           51,
           22,
           46,
           50,
           48,
           49,
           59,
           52,
           53,
           7,
           29,
           13,
           54,
           12,
           44,
           60,
           3,
           15,
           14,
           11,
           57,
           1,
           43,
           36,
           2,
           17,
           9,
           37,
           10,
           58,
           21,
           40,
           25,
           4,
           51,
           50,
           56,
           19,
           20,
           48,
           38,
           35,
           26,
           59,
           52,
           7,
           29,
           13,
           54,
           12,
           44,
           60,
           23,
           42,
           27,
           55,
           6
          ],
          "value": [
           2042.0499999999997,
           260.35,
           1313.25,
           100,
           4725,
           125,
           1259.5,
           4490,
           17707.620000000003,
           5600,
           810,
           6916.9,
           112106.06,
           4216.71,
           1000,
           6,
           30.4,
           211.94,
           337.5,
           0,
           90.09,
           11.87,
           328,
           156.44,
           29.99,
           3690.9900000000002,
           868.28,
           4.17,
           68.95,
           145962,
           3176,
           9.31,
           23.939999999999998,
           276.14,
           162.44,
           159.2,
           3372.99,
           2204.15,
           2353.2200000000003,
           768.23,
           440.59,
           1305.77,
           3389.43,
           5875.88,
           384.13,
           1916.29,
           4209,
           3660.95,
           1645.6499999999999,
           80.03,
           173.09,
           4154.92,
           475.88,
           989,
           2788.7,
           861.3,
           790.39,
           2882.59,
           1838.36,
           1861.87,
           2.3600000000000003,
           226,
           1648.31,
           1186.61,
           966.01,
           9.62,
           1815.25,
           600.5,
           541.92,
           1.25,
           989.23,
           37.44,
           1348.98,
           998,
           440,
           2248.37,
           90.62,
           13099.41,
           3220.8,
           916.88,
           102.36,
           416.58000000000004,
           125,
           1760.13,
           114,
           3816.14,
           136.12,
           722.04,
           8329.7,
           1498.61,
           118.81,
           4189.39,
           38.5,
           1104.71,
           501.95000000000005,
           3479.79,
           141.81,
           9981.5,
           1200,
           52571.68,
           54210.82
          ]
         },
         "node": {
          "label": [
           "Expenses:Auto:Insurance",
           "Expenses:Auto",
           "Expenses:Auto:Registration",
           "Income:Apple Cash",
           "Expenses:Groceries",
           "Expenses:Reimbursable",
           "Liabilities:NDFCU:Credit Card",
           "Expenses:Projects",
           "Expenses:Home:Mortgage",
           "Expenses:Clothing",
           "Expenses:Entertainment",
           "Expenses:AMAZON",
           "Expenses:Subscriptions",
           "Expenses:Restaurants",
           "Liabilities:Apple:Installments",
           "Income:Taxes",
           "Income:Interest",
           "Expenses:Cash",
           "Transfer:Auto:Loan",
           "Expenses:Home:Repair",
           "Expenses:Interest",
           "Expenses:Fitness:Recovery",
           "Expenses:Home Furnishings",
           "Transfer",
           "Expenses:Entertainment:Reading",
           "Expenses:Gifts",
           "Expenses:Misc",
           "Assets:Ally:Savings",
           "Expenses:Pet:Care",
           "Expenses:Reimbursible",
           "Expenses:Entertainment:Personal",
           "Expenses:Auto:Tolls",
           "Expenses:Fitness:Equipment",
           "Income:Notre Dame:Regular",
           "Expenses:Home:Repairs",
           "Expenses:Medical:Therapy",
           "Expenses:Auto:Maintenance",
           "Expenses:Electronics",
           "Expenses:Medical:Dentist",
           "Expenses:Charity",
           "Expenses:Gear",
           "Expenses:Fitness:ID",
           "Assets:1st Source:Checking",
           "Expenses:Auto:Fuel",
           "Expenses:Travel",
           "Expenses:Entertainment:Self",
           "Expenses:Home:Cleaning",
           "Expenses:Auto:Gas",
           "Expenses:Medical:Body",
           "Expenses:Medical:Recovery",
           "Expenses:Home:Furnishings",
           "Expenses:Home",
           "Expenses:Pet",
           "Expenses:Professional",
           "Expenses:Study",
           "Liabilities:Apple:Credit Card",
           "Expenses:Home:Maintenance",
           "Expenses:Amazon",
           "Expenses:Fitness",
           "Expenses:Personal",
           "Expenses:Utilities"
          ],
          "line": {
           "color": "black",
           "width": 0.5
          },
          "pad": 15,
          "thickness": 5
         },
         "type": "sankey"
        }
       ],
       "layout": {
        "autosize": true,
        "template": {
         "data": {
          "bar": [
           {
            "error_x": {
             "color": "#2a3f5f"
            },
            "error_y": {
             "color": "#2a3f5f"
            },
            "marker": {
             "line": {
              "color": "#E5ECF6",
              "width": 0.5
             },
             "pattern": {
              "fillmode": "overlay",
              "size": 10,
              "solidity": 0.2
             }
            },
            "type": "bar"
           }
          ],
          "barpolar": [
           {
            "marker": {
             "line": {
              "color": "#E5ECF6",
              "width": 0.5
             },
             "pattern": {
              "fillmode": "overlay",
              "size": 10,
              "solidity": 0.2
             }
            },
            "type": "barpolar"
           }
          ],
          "carpet": [
           {
            "aaxis": {
             "endlinecolor": "#2a3f5f",
             "gridcolor": "white",
             "linecolor": "white",
             "minorgridcolor": "white",
             "startlinecolor": "#2a3f5f"
            },
            "baxis": {
             "endlinecolor": "#2a3f5f",
             "gridcolor": "white",
             "linecolor": "white",
             "minorgridcolor": "white",
             "startlinecolor": "#2a3f5f"
            },
            "type": "carpet"
           }
          ],
          "choropleth": [
           {
            "colorbar": {
             "outlinewidth": 0,
             "ticks": ""
            },
            "type": "choropleth"
           }
          ],
          "contour": [
           {
            "colorbar": {
             "outlinewidth": 0,
             "ticks": ""
            },
            "colorscale": [
             [
              0,
              "#0d0887"
             ],
             [
              0.1111111111111111,
              "#46039f"
             ],
             [
              0.2222222222222222,
              "#7201a8"
             ],
             [
              0.3333333333333333,
              "#9c179e"
             ],
             [
              0.4444444444444444,
              "#bd3786"
             ],
             [
              0.5555555555555556,
              "#d8576b"
             ],
             [
              0.6666666666666666,
              "#ed7953"
             ],
             [
              0.7777777777777778,
              "#fb9f3a"
             ],
             [
              0.8888888888888888,
              "#fdca26"
             ],
             [
              1,
              "#f0f921"
             ]
            ],
            "type": "contour"
           }
          ],
          "contourcarpet": [
           {
            "colorbar": {
             "outlinewidth": 0,
             "ticks": ""
            },
            "type": "contourcarpet"
           }
          ],
          "heatmap": [
           {
            "colorbar": {
             "outlinewidth": 0,
             "ticks": ""
            },
            "colorscale": [
             [
              0,
              "#0d0887"
             ],
             [
              0.1111111111111111,
              "#46039f"
             ],
             [
              0.2222222222222222,
              "#7201a8"
             ],
             [
              0.3333333333333333,
              "#9c179e"
             ],
             [
              0.4444444444444444,
              "#bd3786"
             ],
             [
              0.5555555555555556,
              "#d8576b"
             ],
             [
              0.6666666666666666,
              "#ed7953"
             ],
             [
              0.7777777777777778,
              "#fb9f3a"
             ],
             [
              0.8888888888888888,
              "#fdca26"
             ],
             [
              1,
              "#f0f921"
             ]
            ],
            "type": "heatmap"
           }
          ],
          "heatmapgl": [
           {
            "colorbar": {
             "outlinewidth": 0,
             "ticks": ""
            },
            "colorscale": [
             [
              0,
              "#0d0887"
             ],
             [
              0.1111111111111111,
              "#46039f"
             ],
             [
              0.2222222222222222,
              "#7201a8"
             ],
             [
              0.3333333333333333,
              "#9c179e"
             ],
             [
              0.4444444444444444,
              "#bd3786"
             ],
             [
              0.5555555555555556,
              "#d8576b"
             ],
             [
              0.6666666666666666,
              "#ed7953"
             ],
             [
              0.7777777777777778,
              "#fb9f3a"
             ],
             [
              0.8888888888888888,
              "#fdca26"
             ],
             [
              1,
              "#f0f921"
             ]
            ],
            "type": "heatmapgl"
           }
          ],
          "histogram": [
           {
            "marker": {
             "pattern": {
              "fillmode": "overlay",
              "size": 10,
              "solidity": 0.2
             }
            },
            "type": "histogram"
           }
          ],
          "histogram2d": [
           {
            "colorbar": {
             "outlinewidth": 0,
             "ticks": ""
            },
            "colorscale": [
             [
              0,
              "#0d0887"
             ],
             [
              0.1111111111111111,
              "#46039f"
             ],
             [
              0.2222222222222222,
              "#7201a8"
             ],
             [
              0.3333333333333333,
              "#9c179e"
             ],
             [
              0.4444444444444444,
              "#bd3786"
             ],
             [
              0.5555555555555556,
              "#d8576b"
             ],
             [
              0.6666666666666666,
              "#ed7953"
             ],
             [
              0.7777777777777778,
              "#fb9f3a"
             ],
             [
              0.8888888888888888,
              "#fdca26"
             ],
             [
              1,
              "#f0f921"
             ]
            ],
            "type": "histogram2d"
           }
          ],
          "histogram2dcontour": [
           {
            "colorbar": {
             "outlinewidth": 0,
             "ticks": ""
            },
            "colorscale": [
             [
              0,
              "#0d0887"
             ],
             [
              0.1111111111111111,
              "#46039f"
             ],
             [
              0.2222222222222222,
              "#7201a8"
             ],
             [
              0.3333333333333333,
              "#9c179e"
             ],
             [
              0.4444444444444444,
              "#bd3786"
             ],
             [
              0.5555555555555556,
              "#d8576b"
             ],
             [
              0.6666666666666666,
              "#ed7953"
             ],
             [
              0.7777777777777778,
              "#fb9f3a"
             ],
             [
              0.8888888888888888,
              "#fdca26"
             ],
             [
              1,
              "#f0f921"
             ]
            ],
            "type": "histogram2dcontour"
           }
          ],
          "mesh3d": [
           {
            "colorbar": {
             "outlinewidth": 0,
             "ticks": ""
            },
            "type": "mesh3d"
           }
          ],
          "parcoords": [
           {
            "line": {
             "colorbar": {
              "outlinewidth": 0,
              "ticks": ""
             }
            },
            "type": "parcoords"
           }
          ],
          "pie": [
           {
            "automargin": true,
            "type": "pie"
           }
          ],
          "scatter": [
           {
            "fillpattern": {
             "fillmode": "overlay",
             "size": 10,
             "solidity": 0.2
            },
            "type": "scatter"
           }
          ],
          "scatter3d": [
           {
            "line": {
             "colorbar": {
              "outlinewidth": 0,
              "ticks": ""
             }
            },
            "marker": {
             "colorbar": {
              "outlinewidth": 0,
              "ticks": ""
             }
            },
            "type": "scatter3d"
           }
          ],
          "scattercarpet": [
           {
            "marker": {
             "colorbar": {
              "outlinewidth": 0,
              "ticks": ""
             }
            },
            "type": "scattercarpet"
           }
          ],
          "scattergeo": [
           {
            "marker": {
             "colorbar": {
              "outlinewidth": 0,
              "ticks": ""
             }
            },
            "type": "scattergeo"
           }
          ],
          "scattergl": [
           {
            "marker": {
             "colorbar": {
              "outlinewidth": 0,
              "ticks": ""
             }
            },
            "type": "scattergl"
           }
          ],
          "scattermapbox": [
           {
            "marker": {
             "colorbar": {
              "outlinewidth": 0,
              "ticks": ""
             }
            },
            "type": "scattermapbox"
           }
          ],
          "scatterpolar": [
           {
            "marker": {
             "colorbar": {
              "outlinewidth": 0,
              "ticks": ""
             }
            },
            "type": "scatterpolar"
           }
          ],
          "scatterpolargl": [
           {
            "marker": {
             "colorbar": {
              "outlinewidth": 0,
              "ticks": ""
             }
            },
            "type": "scatterpolargl"
           }
          ],
          "scatterternary": [
           {
            "marker": {
             "colorbar": {
              "outlinewidth": 0,
              "ticks": ""
             }
            },
            "type": "scatterternary"
           }
          ],
          "surface": [
           {
            "colorbar": {
             "outlinewidth": 0,
             "ticks": ""
            },
            "colorscale": [
             [
              0,
              "#0d0887"
             ],
             [
              0.1111111111111111,
              "#46039f"
             ],
             [
              0.2222222222222222,
              "#7201a8"
             ],
             [
              0.3333333333333333,
              "#9c179e"
             ],
             [
              0.4444444444444444,
              "#bd3786"
             ],
             [
              0.5555555555555556,
              "#d8576b"
             ],
             [
              0.6666666666666666,
              "#ed7953"
             ],
             [
              0.7777777777777778,
              "#fb9f3a"
             ],
             [
              0.8888888888888888,
              "#fdca26"
             ],
             [
              1,
              "#f0f921"
             ]
            ],
            "type": "surface"
           }
          ],
          "table": [
           {
            "cells": {
             "fill": {
              "color": "#EBF0F8"
             },
             "line": {
              "color": "white"
             }
            },
            "header": {
             "fill": {
              "color": "#C8D4E3"
             },
             "line": {
              "color": "white"
             }
            },
            "type": "table"
           }
          ]
         },
         "layout": {
          "annotationdefaults": {
           "arrowcolor": "#2a3f5f",
           "arrowhead": 0,
           "arrowwidth": 1
          },
          "autotypenumbers": "strict",
          "coloraxis": {
           "colorbar": {
            "outlinewidth": 0,
            "ticks": ""
           }
          },
          "colorscale": {
           "diverging": [
            [
             0,
             "#8e0152"
            ],
            [
             0.1,
             "#c51b7d"
            ],
            [
             0.2,
             "#de77ae"
            ],
            [
             0.3,
             "#f1b6da"
            ],
            [
             0.4,
             "#fde0ef"
            ],
            [
             0.5,
             "#f7f7f7"
            ],
            [
             0.6,
             "#e6f5d0"
            ],
            [
             0.7,
             "#b8e186"
            ],
            [
             0.8,
             "#7fbc41"
            ],
            [
             0.9,
             "#4d9221"
            ],
            [
             1,
             "#276419"
            ]
           ],
           "sequential": [
            [
             0,
             "#0d0887"
            ],
            [
             0.1111111111111111,
             "#46039f"
            ],
            [
             0.2222222222222222,
             "#7201a8"
            ],
            [
             0.3333333333333333,
             "#9c179e"
            ],
            [
             0.4444444444444444,
             "#bd3786"
            ],
            [
             0.5555555555555556,
             "#d8576b"
            ],
            [
             0.6666666666666666,
             "#ed7953"
            ],
            [
             0.7777777777777778,
             "#fb9f3a"
            ],
            [
             0.8888888888888888,
             "#fdca26"
            ],
            [
             1,
             "#f0f921"
            ]
           ],
           "sequentialminus": [
            [
             0,
             "#0d0887"
            ],
            [
             0.1111111111111111,
             "#46039f"
            ],
            [
             0.2222222222222222,
             "#7201a8"
            ],
            [
             0.3333333333333333,
             "#9c179e"
            ],
            [
             0.4444444444444444,
             "#bd3786"
            ],
            [
             0.5555555555555556,
             "#d8576b"
            ],
            [
             0.6666666666666666,
             "#ed7953"
            ],
            [
             0.7777777777777778,
             "#fb9f3a"
            ],
            [
             0.8888888888888888,
             "#fdca26"
            ],
            [
             1,
             "#f0f921"
            ]
           ]
          },
          "colorway": [
           "#636efa",
           "#EF553B",
           "#00cc96",
           "#ab63fa",
           "#FFA15A",
           "#19d3f3",
           "#FF6692",
           "#B6E880",
           "#FF97FF",
           "#FECB52"
          ],
          "font": {
           "color": "#2a3f5f"
          },
          "geo": {
           "bgcolor": "white",
           "lakecolor": "white",
           "landcolor": "#E5ECF6",
           "showlakes": true,
           "showland": true,
           "subunitcolor": "white"
          },
          "hoverlabel": {
           "align": "left"
          },
          "hovermode": "closest",
          "mapbox": {
           "style": "light"
          },
          "paper_bgcolor": "white",
          "plot_bgcolor": "#E5ECF6",
          "polar": {
           "angularaxis": {
            "gridcolor": "white",
            "linecolor": "white",
            "ticks": ""
           },
           "bgcolor": "#E5ECF6",
           "radialaxis": {
            "gridcolor": "white",
            "linecolor": "white",
            "ticks": ""
           }
          },
          "scene": {
           "xaxis": {
            "backgroundcolor": "#E5ECF6",
            "gridcolor": "white",
            "gridwidth": 2,
            "linecolor": "white",
            "showbackground": true,
            "ticks": "",
            "zerolinecolor": "white"
           },
           "yaxis": {
            "backgroundcolor": "#E5ECF6",
            "gridcolor": "white",
            "gridwidth": 2,
            "linecolor": "white",
            "showbackground": true,
            "ticks": "",
            "zerolinecolor": "white"
           },
           "zaxis": {
            "backgroundcolor": "#E5ECF6",
            "gridcolor": "white",
            "gridwidth": 2,
            "linecolor": "white",
            "showbackground": true,
            "ticks": "",
            "zerolinecolor": "white"
           }
          },
          "shapedefaults": {
           "line": {
            "color": "#2a3f5f"
           }
          },
          "ternary": {
           "aaxis": {
            "gridcolor": "white",
            "linecolor": "white",
            "ticks": ""
           },
           "baxis": {
            "gridcolor": "white",
            "linecolor": "white",
            "ticks": ""
           },
           "bgcolor": "#E5ECF6",
           "caxis": {
            "gridcolor": "white",
            "linecolor": "white",
            "ticks": ""
           }
          },
          "title": {
           "x": 0.05
          },
          "xaxis": {
           "automargin": true,
           "gridcolor": "white",
           "linecolor": "white",
           "ticks": "",
           "title": {
            "standoff": 15
           },
           "zerolinecolor": "white",
           "zerolinewidth": 2
          },
          "yaxis": {
           "automargin": true,
           "gridcolor": "white",
           "linecolor": "white",
           "ticks": "",
           "title": {
            "standoff": 15
           },
           "zerolinecolor": "white",
           "zerolinewidth": 2
          }
         }
        }
       }
      },
      "image/png": "[encoded data removed]",
      "text/html": [
       "<div>                            <div id=\"87a5e406-4975-4b8c-b9aa-7432e303c771\" class=\"plotly-graph-div\" style=\"height:1200px; width:100%;\"></div>            <script type=\"text/javascript\">                require([\"plotly\"], function(Plotly) {                    window.PLOTLYENV=window.PLOTLYENV || {};                                    if (document.getElementById(\"87a5e406-4975-4b8c-b9aa-7432e303c771\")) {                    Plotly.newPlot(                        \"87a5e406-4975-4b8c-b9aa-7432e303c771\",                        [{\"link\":{\"source\":[42,42,42,42,42,42,42,42,42,42,42,42,42,42,27,17,9,10,4,4,51,50,48,35,7,5,3,16,16,33,15,55,55,55,55,55,55,55,55,55,55,55,55,55,55,55,55,55,55,55,55,55,55,55,55,55,55,55,55,55,55,55,55,6,6,6,6,6,6,6,6,6,6,6,6,6,6,6,6,6,6,6,6,6,6,6,6,6,6,6,6,6,6,6,6,6,6,23,23,23,23],\"target\":[0,2,17,32,41,25,4,56,8,34,28,60,23,18,23,42,6,55,42,6,6,55,6,6,6,42,55,42,27,42,42,43,47,36,31,39,9,37,10,30,24,45,40,4,51,22,46,50,48,49,59,52,53,7,29,13,54,12,44,60,3,15,14,11,57,1,43,36,2,17,9,37,10,58,21,40,25,4,51,50,56,19,20,48,38,35,26,59,52,7,29,13,54,12,44,60,23,42,27,55,6],\"value\":[2042.0499999999997,260.35,1313.25,100.0,4725.0,125.0,1259.5,4490.0,17707.620000000003,5600.0,810.0,6916.9,112106.06,4216.71,1000.0,6.0,30.4,211.94,337.5,0.0,90.09,11.87,328.0,156.44,29.99,3690.9900000000002,868.28,4.17,68.95,145962.0,3176.0,9.31,23.939999999999998,276.14,162.44,159.2,3372.99,2204.15,2353.2200000000003,768.23,440.59,1305.77,3389.43,5875.88,384.13,1916.29,4209.0,3660.95,1645.6499999999999,80.03,173.09,4154.92,475.88,989.0,2788.7,861.3,790.39,2882.59,1838.36,1861.87,2.3600000000000003,226.0,1648.31,1186.61,966.01,9.62,1815.25,600.5,541.92,1.25,989.23,37.44,1348.98,998.0,440.0,2248.37,90.62,13099.41,3220.8,916.88,102.36,416.58000000000004,125.0,1760.13,114.0,3816.14,136.12,722.04,8329.7,1498.61,118.81,4189.39,38.5,1104.71,501.95000000000005,3479.79,141.81,9981.5,1200.0,52571.68,54210.82]},\"node\":{\"label\":[\"Expenses:Auto:Insurance\",\"Expenses:Auto\",\"Expenses:Auto:Registration\",\"Income:Apple Cash\",\"Expenses:Groceries\",\"Expenses:Reimbursable\",\"Liabilities:NDFCU:Credit Card\",\"Expenses:Projects\",\"Expenses:Home:Mortgage\",\"Expenses:Clothing\",\"Expenses:Entertainment\",\"Expenses:AMAZON\",\"Expenses:Subscriptions\",\"Expenses:Restaurants\",\"Liabilities:Apple:Installments\",\"Income:Taxes\",\"Income:Interest\",\"Expenses:Cash\",\"Transfer:Auto:Loan\",\"Expenses:Home:Repair\",\"Expenses:Interest\",\"Expenses:Fitness:Recovery\",\"Expenses:Home Furnishings\",\"Transfer\",\"Expenses:Entertainment:Reading\",\"Expenses:Gifts\",\"Expenses:Misc\",\"Assets:Ally:Savings\",\"Expenses:Pet:Care\",\"Expenses:Reimbursible\",\"Expenses:Entertainment:Personal\",\"Expenses:Auto:Tolls\",\"Expenses:Fitness:Equipment\",\"Income:Notre Dame:Regular\",\"Expenses:Home:Repairs\",\"Expenses:Medical:Therapy\",\"Expenses:Auto:Maintenance\",\"Expenses:Electronics\",\"Expenses:Medical:Dentist\",\"Expenses:Charity\",\"Expenses:Gear\",\"Expenses:Fitness:ID\",\"Assets:1st Source:Checking\",\"Expenses:Auto:Fuel\",\"Expenses:Travel\",\"Expenses:Entertainment:Self\",\"Expenses:Home:Cleaning\",\"Expenses:Auto:Gas\",\"Expenses:Medical:Body\",\"Expenses:Medical:Recovery\",\"Expenses:Home:Furnishings\",\"Expenses:Home\",\"Expenses:Pet\",\"Expenses:Professional\",\"Expenses:Study\",\"Liabilities:Apple:Credit Card\",\"Expenses:Home:Maintenance\",\"Expenses:Amazon\",\"Expenses:Fitness\",\"Expenses:Personal\",\"Expenses:Utilities\"],\"line\":{\"color\":\"black\",\"width\":0.5},\"pad\":15,\"thickness\":5},\"type\":\"sankey\"}],                        {\"template\":{\"data\":{\"histogram2dcontour\":[{\"type\":\"histogram2dcontour\",\"colorbar\":{\"outlinewidth\":0,\"ticks\":\"\"},\"colorscale\":[[0.0,\"#0d0887\"],[0.1111111111111111,\"#46039f\"],[0.2222222222222222,\"#7201a8\"],[0.3333333333333333,\"#9c179e\"],[0.4444444444444444,\"#bd3786\"],[0.5555555555555556,\"#d8576b\"],[0.6666666666666666,\"#ed7953\"],[0.7777777777777778,\"#fb9f3a\"],[0.8888888888888888,\"#fdca26\"],[1.0,\"#f0f921\"]]}],\"choropleth\":[{\"type\":\"choropleth\",\"colorbar\":{\"outlinewidth\":0,\"ticks\":\"\"}}],\"histogram2d\":[{\"type\":\"histogram2d\",\"colorbar\":{\"outlinewidth\":0,\"ticks\":\"\"},\"colorscale\":[[0.0,\"#0d0887\"],[0.1111111111111111,\"#46039f\"],[0.2222222222222222,\"#7201a8\"],[0.3333333333333333,\"#9c179e\"],[0.4444444444444444,\"#bd3786\"],[0.5555555555555556,\"#d8576b\"],[0.6666666666666666,\"#ed7953\"],[0.7777777777777778,\"#fb9f3a\"],[0.8888888888888888,\"#fdca26\"],[1.0,\"#f0f921\"]]}],\"heatmap\":[{\"type\":\"heatmap\",\"colorbar\":{\"outlinewidth\":0,\"ticks\":\"\"},\"colorscale\":[[0.0,\"#0d0887\"],[0.1111111111111111,\"#46039f\"],[0.2222222222222222,\"#7201a8\"],[0.3333333333333333,\"#9c179e\"],[0.4444444444444444,\"#bd3786\"],[0.5555555555555556,\"#d8576b\"],[0.6666666666666666,\"#ed7953\"],[0.7777777777777778,\"#fb9f3a\"],[0.8888888888888888,\"#fdca26\"],[1.0,\"#f0f921\"]]}],\"heatmapgl\":[{\"type\":\"heatmapgl\",\"colorbar\":{\"outlinewidth\":0,\"ticks\":\"\"},\"colorscale\":[[0.0,\"#0d0887\"],[0.1111111111111111,\"#46039f\"],[0.2222222222222222,\"#7201a8\"],[0.3333333333333333,\"#9c179e\"],[0.4444444444444444,\"#bd3786\"],[0.5555555555555556,\"#d8576b\"],[0.6666666666666666,\"#ed7953\"],[0.7777777777777778,\"#fb9f3a\"],[0.8888888888888888,\"#fdca26\"],[1.0,\"#f0f921\"]]}],\"contourcarpet\":[{\"type\":\"contourcarpet\",\"colorbar\":{\"outlinewidth\":0,\"ticks\":\"\"}}],\"contour\":[{\"type\":\"contour\",\"colorbar\":{\"outlinewidth\":0,\"ticks\":\"\"},\"colorscale\":[[0.0,\"#0d0887\"],[0.1111111111111111,\"#46039f\"],[0.2222222222222222,\"#7201a8\"],[0.3333333333333333,\"#9c179e\"],[0.4444444444444444,\"#bd3786\"],[0.5555555555555556,\"#d8576b\"],[0.6666666666666666,\"#ed7953\"],[0.7777777777777778,\"#fb9f3a\"],[0.8888888888888888,\"#fdca26\"],[1.0,\"#f0f921\"]]}],\"surface\":[{\"type\":\"surface\",\"colorbar\":{\"outlinewidth\":0,\"ticks\":\"\"},\"colorscale\":[[0.0,\"#0d0887\"],[0.1111111111111111,\"#46039f\"],[0.2222222222222222,\"#7201a8\"],[0.3333333333333333,\"#9c179e\"],[0.4444444444444444,\"#bd3786\"],[0.5555555555555556,\"#d8576b\"],[0.6666666666666666,\"#ed7953\"],[0.7777777777777778,\"#fb9f3a\"],[0.8888888888888888,\"#fdca26\"],[1.0,\"#f0f921\"]]}],\"mesh3d\":[{\"type\":\"mesh3d\",\"colorbar\":{\"outlinewidth\":0,\"ticks\":\"\"}}],\"scatter\":[{\"fillpattern\":{\"fillmode\":\"overlay\",\"size\":10,\"solidity\":0.2},\"type\":\"scatter\"}],\"parcoords\":[{\"type\":\"parcoords\",\"line\":{\"colorbar\":{\"outlinewidth\":0,\"ticks\":\"\"}}}],\"scatterpolargl\":[{\"type\":\"scatterpolargl\",\"marker\":{\"colorbar\":{\"outlinewidth\":0,\"ticks\":\"\"}}}],\"bar\":[{\"error_x\":{\"color\":\"#2a3f5f\"},\"error_y\":{\"color\":\"#2a3f5f\"},\"marker\":{\"line\":{\"color\":\"#E5ECF6\",\"width\":0.5},\"pattern\":{\"fillmode\":\"overlay\",\"size\":10,\"solidity\":0.2}},\"type\":\"bar\"}],\"scattergeo\":[{\"type\":\"scattergeo\",\"marker\":{\"colorbar\":{\"outlinewidth\":0,\"ticks\":\"\"}}}],\"scatterpolar\":[{\"type\":\"scatterpolar\",\"marker\":{\"colorbar\":{\"outlinewidth\":0,\"ticks\":\"\"}}}],\"histogram\":[{\"marker\":{\"pattern\":{\"fillmode\":\"overlay\",\"size\":10,\"solidity\":0.2}},\"type\":\"histogram\"}],\"scattergl\":[{\"type\":\"scattergl\",\"marker\":{\"colorbar\":{\"outlinewidth\":0,\"ticks\":\"\"}}}],\"scatter3d\":[{\"type\":\"scatter3d\",\"line\":{\"colorbar\":{\"outlinewidth\":0,\"ticks\":\"\"}},\"marker\":{\"colorbar\":{\"outlinewidth\":0,\"ticks\":\"\"}}}],\"scattermapbox\":[{\"type\":\"scattermapbox\",\"marker\":{\"colorbar\":{\"outlinewidth\":0,\"ticks\":\"\"}}}],\"scatterternary\":[{\"type\":\"scatterternary\",\"marker\":{\"colorbar\":{\"outlinewidth\":0,\"ticks\":\"\"}}}],\"scattercarpet\":[{\"type\":\"scattercarpet\",\"marker\":{\"colorbar\":{\"outlinewidth\":0,\"ticks\":\"\"}}}],\"carpet\":[{\"aaxis\":{\"endlinecolor\":\"#2a3f5f\",\"gridcolor\":\"white\",\"linecolor\":\"white\",\"minorgridcolor\":\"white\",\"startlinecolor\":\"#2a3f5f\"},\"baxis\":{\"endlinecolor\":\"#2a3f5f\",\"gridcolor\":\"white\",\"linecolor\":\"white\",\"minorgridcolor\":\"white\",\"startlinecolor\":\"#2a3f5f\"},\"type\":\"carpet\"}],\"table\":[{\"cells\":{\"fill\":{\"color\":\"#EBF0F8\"},\"line\":{\"color\":\"white\"}},\"header\":{\"fill\":{\"color\":\"#C8D4E3\"},\"line\":{\"color\":\"white\"}},\"type\":\"table\"}],\"barpolar\":[{\"marker\":{\"line\":{\"color\":\"#E5ECF6\",\"width\":0.5},\"pattern\":{\"fillmode\":\"overlay\",\"size\":10,\"solidity\":0.2}},\"type\":\"barpolar\"}],\"pie\":[{\"automargin\":true,\"type\":\"pie\"}]},\"layout\":{\"autotypenumbers\":\"strict\",\"colorway\":[\"#636efa\",\"#EF553B\",\"#00cc96\",\"#ab63fa\",\"#FFA15A\",\"#19d3f3\",\"#FF6692\",\"#B6E880\",\"#FF97FF\",\"#FECB52\"],\"font\":{\"color\":\"#2a3f5f\"},\"hovermode\":\"closest\",\"hoverlabel\":{\"align\":\"left\"},\"paper_bgcolor\":\"white\",\"plot_bgcolor\":\"#E5ECF6\",\"polar\":{\"bgcolor\":\"#E5ECF6\",\"angularaxis\":{\"gridcolor\":\"white\",\"linecolor\":\"white\",\"ticks\":\"\"},\"radialaxis\":{\"gridcolor\":\"white\",\"linecolor\":\"white\",\"ticks\":\"\"}},\"ternary\":{\"bgcolor\":\"#E5ECF6\",\"aaxis\":{\"gridcolor\":\"white\",\"linecolor\":\"white\",\"ticks\":\"\"},\"baxis\":{\"gridcolor\":\"white\",\"linecolor\":\"white\",\"ticks\":\"\"},\"caxis\":{\"gridcolor\":\"white\",\"linecolor\":\"white\",\"ticks\":\"\"}},\"coloraxis\":{\"colorbar\":{\"outlinewidth\":0,\"ticks\":\"\"}},\"colorscale\":{\"sequential\":[[0.0,\"#0d0887\"],[0.1111111111111111,\"#46039f\"],[0.2222222222222222,\"#7201a8\"],[0.3333333333333333,\"#9c179e\"],[0.4444444444444444,\"#bd3786\"],[0.5555555555555556,\"#d8576b\"],[0.6666666666666666,\"#ed7953\"],[0.7777777777777778,\"#fb9f3a\"],[0.8888888888888888,\"#fdca26\"],[1.0,\"#f0f921\"]],\"sequentialminus\":[[0.0,\"#0d0887\"],[0.1111111111111111,\"#46039f\"],[0.2222222222222222,\"#7201a8\"],[0.3333333333333333,\"#9c179e\"],[0.4444444444444444,\"#bd3786\"],[0.5555555555555556,\"#d8576b\"],[0.6666666666666666,\"#ed7953\"],[0.7777777777777778,\"#fb9f3a\"],[0.8888888888888888,\"#fdca26\"],[1.0,\"#f0f921\"]],\"diverging\":[[0,\"#8e0152\"],[0.1,\"#c51b7d\"],[0.2,\"#de77ae\"],[0.3,\"#f1b6da\"],[0.4,\"#fde0ef\"],[0.5,\"#f7f7f7\"],[0.6,\"#e6f5d0\"],[0.7,\"#b8e186\"],[0.8,\"#7fbc41\"],[0.9,\"#4d9221\"],[1,\"#276419\"]]},\"xaxis\":{\"gridcolor\":\"white\",\"linecolor\":\"white\",\"ticks\":\"\",\"title\":{\"standoff\":15},\"zerolinecolor\":\"white\",\"automargin\":true,\"zerolinewidth\":2},\"yaxis\":{\"gridcolor\":\"white\",\"linecolor\":\"white\",\"ticks\":\"\",\"title\":{\"standoff\":15},\"zerolinecolor\":\"white\",\"automargin\":true,\"zerolinewidth\":2},\"scene\":{\"xaxis\":{\"backgroundcolor\":\"#E5ECF6\",\"gridcolor\":\"white\",\"linecolor\":\"white\",\"showbackground\":true,\"ticks\":\"\",\"zerolinecolor\":\"white\",\"gridwidth\":2},\"yaxis\":{\"backgroundcolor\":\"#E5ECF6\",\"gridcolor\":\"white\",\"linecolor\":\"white\",\"showbackground\":true,\"ticks\":\"\",\"zerolinecolor\":\"white\",\"gridwidth\":2},\"zaxis\":{\"backgroundcolor\":\"#E5ECF6\",\"gridcolor\":\"white\",\"linecolor\":\"white\",\"showbackground\":true,\"ticks\":\"\",\"zerolinecolor\":\"white\",\"gridwidth\":2}},\"shapedefaults\":{\"line\":{\"color\":\"#2a3f5f\"}},\"annotationdefaults\":{\"arrowcolor\":\"#2a3f5f\",\"arrowhead\":0,\"arrowwidth\":1},\"geo\":{\"bgcolor\":\"white\",\"landcolor\":\"#E5ECF6\",\"subunitcolor\":\"white\",\"showland\":true,\"showlakes\":true,\"lakecolor\":\"white\"},\"title\":{\"x\":0.05},\"mapbox\":{\"style\":\"light\"}}},\"height\":1200},                        {\"responsive\": true}                    ).then(function(){\n",
       "                            \n",
       "var gd = document.getElementById('87a5e406-4975-4b8c-b9aa-7432e303c771');\n",
       "var x = new MutationObserver(function (mutations, observer) {{\n",
       "        var display = window.getComputedStyle(gd).display;\n",
       "        if (!display || display === 'none') {{\n",
       "            console.log([gd, 'removed!']);\n",
       "            Plotly.purge(gd);\n",
       "            observer.disconnect();\n",
       "        }}\n",
       "}});\n",
       "\n",
       "// Listen for the removal of the full notebook cells\n",
       "var notebookContainer = gd.closest('#notebook-container');\n",
       "if (notebookContainer) {{\n",
       "    x.observe(notebookContainer, {childList: true});\n",
       "}}\n",
       "\n",
       "// Listen for the clearing of the current output cell\n",
       "var outputEl = gd.closest('.output');\n",
       "if (outputEl) {{\n",
       "    x.observe(outputEl, {childList: true});\n",
       "}}\n",
       "\n",
       "                        })                };                });            </script>        </div>"
      ]
     },
     "metadata": {},
     "output_type": "display_data"
    }
   ],
   "source": [
    "f.update_layout(height=1200)\n",
    "f.show()"
   ]
  },
  {
   "cell_type": "code",
   "execution_count": 62,
   "id": "66cb46aa-1193-42b8-adc5-0a5b48a9348e",
   "metadata": {},
   "outputs": [
    {
     "data": {
      "text/html": [
       "<div>\n",
       "<style scoped>\n",
       "    .dataframe tbody tr th:only-of-type {\n",
       "        vertical-align: middle;\n",
       "    }\n",
       "\n",
       "    .dataframe tbody tr th {\n",
       "        vertical-align: top;\n",
       "    }\n",
       "\n",
       "    .dataframe thead th {\n",
       "        text-align: right;\n",
       "    }\n",
       "</style>\n",
       "<table border=\"1\" class=\"dataframe\">\n",
       "  <thead>\n",
       "    <tr style=\"text-align: right;\">\n",
       "      <th></th>\n",
       "      <th>Period Start</th>\n",
       "      <th>Initial Balance</th>\n",
       "      <th>Period End</th>\n",
       "      <th>Ending Balance</th>\n",
       "      <th>Difference</th>\n",
       "      <th>Account</th>\n",
       "    </tr>\n",
       "    <tr>\n",
       "      <th>Account</th>\n",
       "      <th></th>\n",
       "      <th></th>\n",
       "      <th></th>\n",
       "      <th></th>\n",
       "      <th></th>\n",
       "      <th></th>\n",
       "    </tr>\n",
       "  </thead>\n",
       "  <tbody>\n",
       "    <tr>\n",
       "      <th>Expenses:Misc</th>\n",
       "      <td>2022-01-13</td>\n",
       "      <td>0.00</td>\n",
       "      <td>2023-11-27</td>\n",
       "      <td>136.12</td>\n",
       "      <td>136.12</td>\n",
       "      <td>Expenses</td>\n",
       "    </tr>\n",
       "    <tr>\n",
       "      <th>Expenses:Pet:Care</th>\n",
       "      <td>2022-02-11</td>\n",
       "      <td>0.00</td>\n",
       "      <td>2023-12-19</td>\n",
       "      <td>810.00</td>\n",
       "      <td>810.00</td>\n",
       "      <td>Expenses</td>\n",
       "    </tr>\n",
       "    <tr>\n",
       "      <th>Expenses:Reimbursible</th>\n",
       "      <td>2022-10-17</td>\n",
       "      <td>0.00</td>\n",
       "      <td>2024-02-21</td>\n",
       "      <td>2907.51</td>\n",
       "      <td>2907.51</td>\n",
       "      <td>Expenses</td>\n",
       "    </tr>\n",
       "    <tr>\n",
       "      <th>Expenses:Auto</th>\n",
       "      <td>2022-01-14</td>\n",
       "      <td>0.00</td>\n",
       "      <td>2022-01-14</td>\n",
       "      <td>9.62</td>\n",
       "      <td>9.62</td>\n",
       "      <td>Expenses</td>\n",
       "    </tr>\n",
       "    <tr>\n",
       "      <th>Expenses:Auto:Insurance</th>\n",
       "      <td>2022-06-10</td>\n",
       "      <td>0.00</td>\n",
       "      <td>2023-12-27</td>\n",
       "      <td>2042.05</td>\n",
       "      <td>2042.05</td>\n",
       "      <td>Expenses</td>\n",
       "    </tr>\n",
       "    <tr>\n",
       "      <th>...</th>\n",
       "      <td>...</td>\n",
       "      <td>...</td>\n",
       "      <td>...</td>\n",
       "      <td>...</td>\n",
       "      <td>...</td>\n",
       "      <td>...</td>\n",
       "    </tr>\n",
       "    <tr>\n",
       "      <th>Expenses:Home:Maintenance</th>\n",
       "      <td>2022-04-05</td>\n",
       "      <td>0.00</td>\n",
       "      <td>2023-10-24</td>\n",
       "      <td>4592.36</td>\n",
       "      <td>4592.36</td>\n",
       "      <td>Expenses</td>\n",
       "    </tr>\n",
       "    <tr>\n",
       "      <th>Expenses:Gifts</th>\n",
       "      <td>2022-09-28</td>\n",
       "      <td>0.00</td>\n",
       "      <td>2024-01-03</td>\n",
       "      <td>215.62</td>\n",
       "      <td>215.62</td>\n",
       "      <td>Expenses</td>\n",
       "    </tr>\n",
       "    <tr>\n",
       "      <th>Liabilities:Apple:Credit Card</th>\n",
       "      <td>2021-12-31</td>\n",
       "      <td>-2522.77</td>\n",
       "      <td>2024-02-29</td>\n",
       "      <td>210.89</td>\n",
       "      <td>2733.66</td>\n",
       "      <td>Liabilities</td>\n",
       "    </tr>\n",
       "    <tr>\n",
       "      <th>Expenses:Personal</th>\n",
       "      <td>2022-01-06</td>\n",
       "      <td>0.00</td>\n",
       "      <td>2024-02-10</td>\n",
       "      <td>895.13</td>\n",
       "      <td>895.13</td>\n",
       "      <td>Expenses</td>\n",
       "    </tr>\n",
       "    <tr>\n",
       "      <th>Expenses:Utilities</th>\n",
       "      <td>2022-01-05</td>\n",
       "      <td>0.00</td>\n",
       "      <td>2024-02-19</td>\n",
       "      <td>12258.56</td>\n",
       "      <td>12258.56</td>\n",
       "      <td>Expenses</td>\n",
       "    </tr>\n",
       "  </tbody>\n",
       "</table>\n",
       "<p>61 rows × 6 columns</p>\n",
       "</div>"
      ],
      "text/plain": [
       "                              Period Start  Initial Balance Period End  \\\n",
       "Account                                                                  \n",
       "Expenses:Misc                   2022-01-13             0.00 2023-11-27   \n",
       "Expenses:Pet:Care               2022-02-11             0.00 2023-12-19   \n",
       "Expenses:Reimbursible           2022-10-17             0.00 2024-02-21   \n",
       "Expenses:Auto                   2022-01-14             0.00 2022-01-14   \n",
       "Expenses:Auto:Insurance         2022-06-10             0.00 2023-12-27   \n",
       "...                                    ...              ...        ...   \n",
       "Expenses:Home:Maintenance       2022-04-05             0.00 2023-10-24   \n",
       "Expenses:Gifts                  2022-09-28             0.00 2024-01-03   \n",
       "Liabilities:Apple:Credit Card   2021-12-31         -2522.77 2024-02-29   \n",
       "Expenses:Personal               2022-01-06             0.00 2024-02-10   \n",
       "Expenses:Utilities              2022-01-05             0.00 2024-02-19   \n",
       "\n",
       "                               Ending Balance  Difference      Account  \n",
       "Account                                                                 \n",
       "Expenses:Misc                          136.12      136.12     Expenses  \n",
       "Expenses:Pet:Care                      810.00      810.00     Expenses  \n",
       "Expenses:Reimbursible                 2907.51     2907.51     Expenses  \n",
       "Expenses:Auto                            9.62        9.62     Expenses  \n",
       "Expenses:Auto:Insurance               2042.05     2042.05     Expenses  \n",
       "...                                       ...         ...          ...  \n",
       "Expenses:Home:Maintenance             4592.36     4592.36     Expenses  \n",
       "Expenses:Gifts                         215.62      215.62     Expenses  \n",
       "Liabilities:Apple:Credit Card          210.89     2733.66  Liabilities  \n",
       "Expenses:Personal                      895.13      895.13     Expenses  \n",
       "Expenses:Utilities                   12258.56    12258.56     Expenses  \n",
       "\n",
       "[61 rows x 6 columns]"
      ]
     },
     "execution_count": 62,
     "metadata": {},
     "output_type": "execute_result"
    }
   ],
   "source": []
  },
  {
   "cell_type": "code",
   "execution_count": 51,
   "id": "0f92d5f4-2043-407b-acaa-9919742883b4",
   "metadata": {},
   "outputs": [],
   "source": [
    "expenses = mi_bal.loc[\"Expenses\"]"
   ]
  },
  {
   "cell_type": "code",
   "execution_count": 55,
   "id": "301aa0e5-26e7-40ab-8c37-3f10f7eb4360",
   "metadata": {},
   "outputs": [
    {
     "ename": "IndexError",
     "evalue": "too many indices for array: array is 1-dimensional, but 2 were indexed",
     "output_type": "error",
     "traceback": [
      "\u001b[0;31m---------------------------------------------------------------------------\u001b[0m",
      "\u001b[0;31mIndexError\u001b[0m                                Traceback (most recent call last)",
      "Cell \u001b[0;32mIn[55], line 1\u001b[0m\n\u001b[0;32m----> 1\u001b[0m \u001b[43mexpenses\u001b[49m\u001b[38;5;241;43m.\u001b[39;49m\u001b[43mindex\u001b[49m\u001b[43m[\u001b[49m\u001b[43m:\u001b[49m\u001b[43m,\u001b[49m\u001b[38;5;241;43m0\u001b[39;49m\u001b[43m]\u001b[49m\n",
      "File \u001b[0;32m~/Library/Caches/pypoetry/virtualenvs/csvb-Ko1fBjPz-py3.12/lib/python3.12/site-packages/pandas/core/indexes/multi.py:2207\u001b[0m, in \u001b[0;36mMultiIndex.__getitem__\u001b[0;34m(self, key)\u001b[0m\n\u001b[1;32m   2204\u001b[0m \u001b[38;5;28;01melif\u001b[39;00m \u001b[38;5;28misinstance\u001b[39m(key, Index):\n\u001b[1;32m   2205\u001b[0m     key \u001b[38;5;241m=\u001b[39m np\u001b[38;5;241m.\u001b[39masarray(key)\n\u001b[0;32m-> 2207\u001b[0m new_codes \u001b[38;5;241m=\u001b[39m [\u001b[43mlevel_codes\u001b[49m\u001b[43m[\u001b[49m\u001b[43mkey\u001b[49m\u001b[43m]\u001b[49m \u001b[38;5;28;01mfor\u001b[39;00m level_codes \u001b[38;5;129;01min\u001b[39;00m \u001b[38;5;28mself\u001b[39m\u001b[38;5;241m.\u001b[39mcodes]\n\u001b[1;32m   2209\u001b[0m \u001b[38;5;28;01mreturn\u001b[39;00m MultiIndex(\n\u001b[1;32m   2210\u001b[0m     levels\u001b[38;5;241m=\u001b[39m\u001b[38;5;28mself\u001b[39m\u001b[38;5;241m.\u001b[39mlevels,\n\u001b[1;32m   2211\u001b[0m     codes\u001b[38;5;241m=\u001b[39mnew_codes,\n\u001b[0;32m   (...)\u001b[0m\n\u001b[1;32m   2214\u001b[0m     verify_integrity\u001b[38;5;241m=\u001b[39m\u001b[38;5;28;01mFalse\u001b[39;00m,\n\u001b[1;32m   2215\u001b[0m )\n",
      "\u001b[0;31mIndexError\u001b[0m: too many indices for array: array is 1-dimensional, but 2 were indexed"
     ]
    }
   ],
   "source": []
  },
  {
   "cell_type": "code",
   "execution_count": 57,
   "id": "abaf8617-3bb8-4aa9-9f9f-761a4e7b44cf",
   "metadata": {},
   "outputs": [],
   "source": [
    "df = px.data.tips()"
   ]
  },
  {
   "cell_type": "code",
   "execution_count": 58,
   "id": "7b5db0e2-3d43-423b-8383-bf33c66bb1f3",
   "metadata": {},
   "outputs": [
    {
     "data": {
      "text/html": [
       "<div>\n",
       "<style scoped>\n",
       "    .dataframe tbody tr th:only-of-type {\n",
       "        vertical-align: middle;\n",
       "    }\n",
       "\n",
       "    .dataframe tbody tr th {\n",
       "        vertical-align: top;\n",
       "    }\n",
       "\n",
       "    .dataframe thead th {\n",
       "        text-align: right;\n",
       "    }\n",
       "</style>\n",
       "<table border=\"1\" class=\"dataframe\">\n",
       "  <thead>\n",
       "    <tr style=\"text-align: right;\">\n",
       "      <th></th>\n",
       "      <th>total_bill</th>\n",
       "      <th>tip</th>\n",
       "      <th>sex</th>\n",
       "      <th>smoker</th>\n",
       "      <th>day</th>\n",
       "      <th>time</th>\n",
       "      <th>size</th>\n",
       "    </tr>\n",
       "  </thead>\n",
       "  <tbody>\n",
       "    <tr>\n",
       "      <th>0</th>\n",
       "      <td>16.99</td>\n",
       "      <td>1.01</td>\n",
       "      <td>Female</td>\n",
       "      <td>No</td>\n",
       "      <td>Sun</td>\n",
       "      <td>Dinner</td>\n",
       "      <td>2</td>\n",
       "    </tr>\n",
       "    <tr>\n",
       "      <th>1</th>\n",
       "      <td>10.34</td>\n",
       "      <td>1.66</td>\n",
       "      <td>Male</td>\n",
       "      <td>No</td>\n",
       "      <td>Sun</td>\n",
       "      <td>Dinner</td>\n",
       "      <td>3</td>\n",
       "    </tr>\n",
       "    <tr>\n",
       "      <th>2</th>\n",
       "      <td>21.01</td>\n",
       "      <td>3.50</td>\n",
       "      <td>Male</td>\n",
       "      <td>No</td>\n",
       "      <td>Sun</td>\n",
       "      <td>Dinner</td>\n",
       "      <td>3</td>\n",
       "    </tr>\n",
       "    <tr>\n",
       "      <th>3</th>\n",
       "      <td>23.68</td>\n",
       "      <td>3.31</td>\n",
       "      <td>Male</td>\n",
       "      <td>No</td>\n",
       "      <td>Sun</td>\n",
       "      <td>Dinner</td>\n",
       "      <td>2</td>\n",
       "    </tr>\n",
       "    <tr>\n",
       "      <th>4</th>\n",
       "      <td>24.59</td>\n",
       "      <td>3.61</td>\n",
       "      <td>Female</td>\n",
       "      <td>No</td>\n",
       "      <td>Sun</td>\n",
       "      <td>Dinner</td>\n",
       "      <td>4</td>\n",
       "    </tr>\n",
       "    <tr>\n",
       "      <th>...</th>\n",
       "      <td>...</td>\n",
       "      <td>...</td>\n",
       "      <td>...</td>\n",
       "      <td>...</td>\n",
       "      <td>...</td>\n",
       "      <td>...</td>\n",
       "      <td>...</td>\n",
       "    </tr>\n",
       "    <tr>\n",
       "      <th>239</th>\n",
       "      <td>29.03</td>\n",
       "      <td>5.92</td>\n",
       "      <td>Male</td>\n",
       "      <td>No</td>\n",
       "      <td>Sat</td>\n",
       "      <td>Dinner</td>\n",
       "      <td>3</td>\n",
       "    </tr>\n",
       "    <tr>\n",
       "      <th>240</th>\n",
       "      <td>27.18</td>\n",
       "      <td>2.00</td>\n",
       "      <td>Female</td>\n",
       "      <td>Yes</td>\n",
       "      <td>Sat</td>\n",
       "      <td>Dinner</td>\n",
       "      <td>2</td>\n",
       "    </tr>\n",
       "    <tr>\n",
       "      <th>241</th>\n",
       "      <td>22.67</td>\n",
       "      <td>2.00</td>\n",
       "      <td>Male</td>\n",
       "      <td>Yes</td>\n",
       "      <td>Sat</td>\n",
       "      <td>Dinner</td>\n",
       "      <td>2</td>\n",
       "    </tr>\n",
       "    <tr>\n",
       "      <th>242</th>\n",
       "      <td>17.82</td>\n",
       "      <td>1.75</td>\n",
       "      <td>Male</td>\n",
       "      <td>No</td>\n",
       "      <td>Sat</td>\n",
       "      <td>Dinner</td>\n",
       "      <td>2</td>\n",
       "    </tr>\n",
       "    <tr>\n",
       "      <th>243</th>\n",
       "      <td>18.78</td>\n",
       "      <td>3.00</td>\n",
       "      <td>Female</td>\n",
       "      <td>No</td>\n",
       "      <td>Thur</td>\n",
       "      <td>Dinner</td>\n",
       "      <td>2</td>\n",
       "    </tr>\n",
       "  </tbody>\n",
       "</table>\n",
       "<p>244 rows × 7 columns</p>\n",
       "</div>"
      ],
      "text/plain": [
       "     total_bill   tip     sex smoker   day    time  size\n",
       "0         16.99  1.01  Female     No   Sun  Dinner     2\n",
       "1         10.34  1.66    Male     No   Sun  Dinner     3\n",
       "2         21.01  3.50    Male     No   Sun  Dinner     3\n",
       "3         23.68  3.31    Male     No   Sun  Dinner     2\n",
       "4         24.59  3.61  Female     No   Sun  Dinner     4\n",
       "..          ...   ...     ...    ...   ...     ...   ...\n",
       "239       29.03  5.92    Male     No   Sat  Dinner     3\n",
       "240       27.18  2.00  Female    Yes   Sat  Dinner     2\n",
       "241       22.67  2.00    Male    Yes   Sat  Dinner     2\n",
       "242       17.82  1.75    Male     No   Sat  Dinner     2\n",
       "243       18.78  3.00  Female     No  Thur  Dinner     2\n",
       "\n",
       "[244 rows x 7 columns]"
      ]
     },
     "execution_count": 58,
     "metadata": {},
     "output_type": "execute_result"
    }
   ],
   "source": [
    "df"
   ]
  },
  {
   "cell_type": "code",
   "execution_count": null,
   "id": "1053ede0-3c7b-401b-8c92-7f049de105e9",
   "metadata": {},
   "outputs": [],
   "source": []
  }
 ],
 "metadata": {
  "kernelspec": {
   "display_name": "Python 3 (ipykernel)",
   "language": "python",
   "name": "python3"
  },
  "language_info": {
   "codemirror_mode": {
    "name": "ipython",
    "version": 3
   },
   "file_extension": ".py",
   "mimetype": "text/x-python",
   "name": "python",
   "nbconvert_exporter": "python",
   "pygments_lexer": "ipython3",
   "version": "3.12.2"
  }
 },
 "nbformat": 4,
 "nbformat_minor": 5
}
