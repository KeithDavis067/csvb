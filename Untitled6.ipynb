{
 "cells": [
  {
   "cell_type": "code",
   "execution_count": 1,
   "id": "db901712-2474-4a61-bddb-6f7521d725e2",
   "metadata": {},
   "outputs": [],
   "source": [
    "import tomlkit as tk\n",
    "from datetime import tzinfo\n",
    "from datetime import datetime\n"
   ]
  },
  {
   "cell_type": "code",
   "execution_count": 2,
   "id": "9a6b4c43-73df-4aaf-84f2-4de9db72395c",
   "metadata": {},
   "outputs": [],
   "source": [
    "doc = tk.document()"
   ]
  },
  {
   "cell_type": "code",
   "execution_count": 3,
   "id": "c63e4313-ca2c-4963-bf25-a0823f9b7453",
   "metadata": {},
   "outputs": [
    {
     "name": "stdout",
     "output_type": "stream",
     "text": [
      "{}\n"
     ]
    }
   ],
   "source": [
    "print(doc)"
   ]
  },
  {
   "cell_type": "code",
   "execution_count": 4,
   "id": "6e2625e4-27b5-4570-95d2-ca2959a0782a",
   "metadata": {},
   "outputs": [
    {
     "data": {
      "text/plain": [
       "{'title': 'TOML Example'}"
      ]
     },
     "execution_count": 4,
     "metadata": {},
     "output_type": "execute_result"
    }
   ],
   "source": [
    "doc.add(tk.comment(\"THis is a TOML document.\"))\n",
    "doc.add(tk.nl())\n",
    "doc.add(\"title\", \"TOML Example\")"
   ]
  },
  {
   "cell_type": "code",
   "execution_count": 5,
   "id": "77fcb4e7-cb79-4a41-a850-1691747da60c",
   "metadata": {},
   "outputs": [
    {
     "data": {
      "text/plain": [
       "DateTime(1979, 5, 27, 8, 32)"
      ]
     },
     "execution_count": 5,
     "metadata": {},
     "output_type": "execute_result"
    }
   ],
   "source": [
    "owner = tk.table()\n",
    "owner.add(\"name\", \"Tom Preston_Werver\")\n",
    "owner.add(\"organization\", \"GitHub\")\n",
    "owner.add(\"bio\", \"GitHub Cof\\nOdd character note.\")\n",
    "owner.add(\"dob\", datetime(1979, 5, 27 , 8, 32))\n",
    "owner[\"dob\"].comment(\"First class dayes? Why not?\")"
   ]
  },
  {
   "cell_type": "code",
   "execution_count": 6,
   "id": "c782d84e-92fc-4e9b-8464-c137d8b6b7c6",
   "metadata": {},
   "outputs": [
    {
     "data": {
      "text/plain": [
       "{'title': 'TOML Example', 'owner': {'name': 'Tom Preston_Werver', 'organization': 'GitHub', 'bio': 'GitHub Cof\\nOdd character note.', 'dob': DateTime(1979, 5, 27, 8, 32)}}"
      ]
     },
     "execution_count": 6,
     "metadata": {},
     "output_type": "execute_result"
    }
   ],
   "source": [
    "doc.add(\"owner\", owner)"
   ]
  },
  {
   "cell_type": "code",
   "execution_count": 7,
   "id": "a2200941-1da7-4bca-9064-d00352a9acdc",
   "metadata": {},
   "outputs": [
    {
     "name": "stdout",
     "output_type": "stream",
     "text": [
      "{'title': 'TOML Example', 'owner': {'name': 'Tom Preston_Werver', 'organization': 'GitHub', 'bio': 'GitHub Cof\\nOdd character note.', 'dob': DateTime(1979, 5, 27, 8, 32)}}\n"
     ]
    }
   ],
   "source": [
    "print(doc)"
   ]
  },
  {
   "cell_type": "code",
   "execution_count": 10,
   "id": "18be44f3-a319-4268-b830-0c98330c6795",
   "metadata": {},
   "outputs": [
    {
     "name": "stdout",
     "output_type": "stream",
     "text": [
      "# THis is a TOML document.\n",
      "\n",
      "title = \"TOML Example\"\n",
      "\n",
      "[owner]\n",
      "name = \"Tom Preston_Werver\"\n",
      "organization = \"GitHub\"\n",
      "bio = \"GitHub Cof\\nOdd character note.\"\n",
      "dob = 1979-05-27T08:32:00 # First class dayes? Why not?\n",
      "\n"
     ]
    }
   ],
   "source": [
    "print(tk.dumps(doc))"
   ]
  },
  {
   "cell_type": "code",
   "execution_count": 11,
   "id": "803c132c-f916-4863-a90b-5ccca29e251a",
   "metadata": {},
   "outputs": [
    {
     "name": "stdout",
     "output_type": "stream",
     "text": [
      "Help on function load in module tomlkit.api:\n",
      "\n",
      "load(fp: 'IO[str] | IO[bytes]') -> 'TOMLDocument'\n",
      "    Load toml document from a file-like object.\n",
      "\n"
     ]
    }
   ],
   "source": [
    "help(tk.load)"
   ]
  },
  {
   "cell_type": "code",
   "execution_count": 12,
   "id": "c7d7438f-6e9d-457c-95c3-e44253765838",
   "metadata": {},
   "outputs": [
    {
     "data": {
      "text/plain": [
       "'# THis is a TOML document.\\n\\ntitle = \"TOML Example\"\\n\\n[owner]\\nname = \"Tom Preston_Werver\"\\norganization = \"GitHub\"\\nbio = \"GitHub Cof\\\\nOdd character note.\"\\ndob = 1979-05-27T08:32:00 # First class dayes? Why not?\\n'"
      ]
     },
     "execution_count": 12,
     "metadata": {},
     "output_type": "execute_result"
    }
   ],
   "source": [
    "doc.as_string()"
   ]
  },
  {
   "cell_type": "code",
   "execution_count": null,
   "id": "d0e7684d-aab6-4cf5-baad-7abfd8039508",
   "metadata": {},
   "outputs": [],
   "source": []
  }
 ],
 "metadata": {
  "kernelspec": {
   "display_name": "Python 3 (ipykernel)",
   "language": "python",
   "name": "python3"
  },
  "language_info": {
   "codemirror_mode": {
    "name": "ipython",
    "version": 3
   },
   "file_extension": ".py",
   "mimetype": "text/x-python",
   "name": "python",
   "nbconvert_exporter": "python",
   "pygments_lexer": "ipython3",
   "version": "3.12.2"
  }
 },
 "nbformat": 4,
 "nbformat_minor": 5
}
